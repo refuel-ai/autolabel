{
 "cells": [
  {
   "cell_type": "markdown",
   "id": "4541ab47-e2f8-4fbd-852c-a868beedef36",
   "metadata": {},
   "source": [
    "# Example Usage"
   ]
  },
  {
   "cell_type": "markdown",
   "id": "b6b9fa2d-a668-4b2b-aee0-a8dccbbf7bdb",
   "metadata": {},
   "source": [
    "This notebook will help you set up all datasets and run a specific task on a specific dataset. We will also run the benchmark at the end so that you can test out our benchmarking script"
   ]
  },
  {
   "cell_type": "markdown",
   "id": "d00d5f9c-3543-41a1-82b3-dce81a611e5d",
   "metadata": {},
   "source": [
    "### Get the data"
   ]
  },
  {
   "cell_type": "code",
   "execution_count": null,
   "id": "29068969-a246-49f0-ab34-2bb6fd10891e",
   "metadata": {},
   "outputs": [],
   "source": [
    "# Removing any old csv's if they already exist\n",
    "!rm -rf data/*.csv\n",
    "# Get the datasets\n",
    "!python data/get_data.py"
   ]
  },
  {
   "cell_type": "markdown",
   "id": "b0064595-d4df-44b1-a41d-5ef1d56924c1",
   "metadata": {
    "tags": []
   },
   "source": [
    "### Run Classification on the LEDGAR dataset"
   ]
  },
  {
   "cell_type": "code",
   "execution_count": null,
   "id": "ec300bb1-cb48-46b0-a207-c60480e0fa84",
   "metadata": {},
   "outputs": [],
   "source": [
    "%env OPENAI_API_KEY=\"YOUR_API_KEY_HERE\"\n",
    "%env ANTHROPIC_API_KEY=\"YOUR_API_KEY_HERE\"\n",
    "from autolabel import LabelingAgent\n",
    "l = LabelingAgent('examples/configs/task_configs/ledgar_classification.json', 'examples/configs/llm_configs/anthropic.json')\n",
    "l.plan('data/ledgar_test.csv', 'examples/configs/dataset_configs/ledgar.json')\n",
    "labels, df, metrics_list = l.run('data/ledgar_test.csv', 'examples/configs/dataset_configs/ledgar.json', max_items = 100)"
   ]
  },
  {
   "cell_type": "markdown",
   "id": "cf3cfe90-45a8-4c0a-b12f-d55f29296a8b",
   "metadata": {},
   "source": [
    "### Run Classification on the Civil Comments dataset"
   ]
  },
  {
   "cell_type": "code",
   "execution_count": null,
   "id": "f4328de6-3db1-47b4-9e45-5760043381d9",
   "metadata": {},
   "outputs": [],
   "source": [
    "l = LabelingAgent('examples/configs/task_configs/civil_comments_classification.json', 'examples/configs/llm_configs/anthropic.json')\n",
    "l.plan('data/ledgar_test.csv', 'examples/configs/dataset_configs/civil_comments.json')\n",
    "labels, df, metrics_list = l.run('data/civil_comments_test.csv', 'examples/configs/dataset_configs/civil_comments.json', max_items = 100)"
   ]
  },
  {
   "cell_type": "markdown",
   "id": "274cbdbf-33a1-4294-8a1f-6f29995c5b79",
   "metadata": {},
   "source": [
    "### Run Classification on the Banking dataset"
   ]
  },
  {
   "cell_type": "code",
   "execution_count": null,
   "id": "e70ac801-3343-49a9-886a-f75e137f01b2",
   "metadata": {},
   "outputs": [],
   "source": [
    "o = LabelingAgent('examples/configs/task_configs/banking_classification.json',\n",
    "                  'examples/configs/llm_configs/anthropic.json')\n",
    "o.plan('data/banking_test.csv', 'examples/configs/dataset_configs/banking.json')\n",
    "labels, df, metrics_list = o.run('data/banking_test.csv', 'examples/configs/dataset_configs/banking.json', max_items = 100)"
   ]
  },
  {
   "cell_type": "markdown",
   "id": "e070ce80-652a-4309-a119-fc4969b166f3",
   "metadata": {},
   "source": [
    "### Run Classification on the Emotion dataset"
   ]
  },
  {
   "cell_type": "code",
   "execution_count": null,
   "id": "d58ab83f-2b4d-496b-902c-8a8ee9ada363",
   "metadata": {},
   "outputs": [],
   "source": [
    "o = LabelingAgent('examples/configs/task_configs/emotion_classification.json',\n",
    "                  'examples/configs/llm_configs/anthropic.json')\n",
    "o.plan('data/emotion_test.csv', 'examples/configs/dataset_configs/emotion.json')\n",
    "labels, df, metrics_list = o.run('data/emotion_test.csv', 'examples/configs/dataset_configs/emotion.json', max_items = 100)"
   ]
  },
  {
   "cell_type": "markdown",
   "id": "4f373cc5-ab78-4a8a-a578-911d6d20d79a",
   "metadata": {},
   "source": [
    "### Run QA on the Sciq dataset"
   ]
  },
  {
   "cell_type": "code",
   "execution_count": null,
   "id": "dbf4af63-3c80-42c4-92df-e9841136b977",
   "metadata": {},
   "outputs": [],
   "source": [
    "o = LabelingAgent('examples/configs/task_configs/sciq_qa.json',\n",
    "            'examples/configs/llm_configs/anthropic.json')\n",
    "o.plan('data/sciq_test.csv', 'examples/configs/dataset_configs/sciq.json')\n",
    "labels, df, metrics_list = o.run('data/sciq_test.csv', 'examples/configs/dataset_configs/sciq.json', max_items = 100)"
   ]
  },
  {
   "cell_type": "markdown",
   "id": "ae0b829f-88cf-4c56-b675-158585ea6ad8",
   "metadata": {},
   "source": [
    "### Run QA on the MedQA dataset"
   ]
  },
  {
   "cell_type": "code",
   "execution_count": null,
   "id": "a5ab213d-466c-4b64-ba39-4e69e8eb509d",
   "metadata": {},
   "outputs": [],
   "source": [
    "o = LabelingAgent('examples/configs/task_configs/medqa_qa.json',\n",
    "            'examples/configs/llm_configs/anthropic.json')\n",
    "o.plan('data/medqa_test.csv', 'examples/configs/dataset_configs/medqa.json')\n",
    "labels, df, metrics_list = o.run('data/medqa_test.csv', 'examples/configs/dataset_configs/medqa.json', max_items = 100)"
   ]
  },
  {
   "cell_type": "markdown",
   "id": "2ecb4254-377d-4bdb-852f-72483db0e7f9",
   "metadata": {},
   "source": [
    "### Run QA on the PubmedQA dataset"
   ]
  },
  {
   "cell_type": "code",
   "execution_count": null,
   "id": "2e25337b-577b-48ad-9b7d-4690a5d65691",
   "metadata": {},
   "outputs": [],
   "source": [
    "o = LabelingAgent('examples/configs/task_configs/pubmed_qa_qa.json',\n",
    "            'examples/configs/llm_configs/anthropic.json')\n",
    "o.plan('data/pubmed_qa_test.csv', 'examples/configs/dataset_configs/pubmed_qa.json')\n",
    "labels, df, metrics_list = o.run('data/pubmed_qa_test.csv', 'examples/configs/dataset_configs/pubmed_qa.json', max_items = 100)"
   ]
  },
  {
   "cell_type": "markdown",
   "id": "5993db50-31e4-44b8-9468-501fb793e2fa",
   "metadata": {},
   "source": [
    "### Run QA on the Squad_V2 dataset"
   ]
  },
  {
   "cell_type": "code",
   "execution_count": null,
   "id": "d03f7640-1c20-4df7-95bf-b811dbaa2d54",
   "metadata": {},
   "outputs": [],
   "source": [
    "o = LabelingAgent('examples/configs/task_configs/squad_v2_qa.json',\n",
    "            'examples/configs/llm_configs/anthropic.json')\n",
    "o.plan('data/squad_v2_test.csv', 'examples/configs/dataset_configs/squad_v2.json')\n",
    "labels, df, metrics_list = o.run('data/squad_v2_test.csv', 'examples/configs/dataset_configs/squad_v2.json', max_items = 100)"
   ]
  },
  {
   "cell_type": "markdown",
   "id": "00d9d962-92d7-46b0-a1af-798a5fc7181f",
   "metadata": {},
   "source": [
    "### Run Entity Matching on Walmart-Amazon"
   ]
  },
  {
   "cell_type": "code",
   "execution_count": null,
   "id": "2094a3e5-63f7-4c66-962b-e0bcfd561e97",
   "metadata": {},
   "outputs": [],
   "source": [
    "o = LabelingAgent('examples/configs/task_configs/walmart_amazon_matching.json',\n",
    "            'examples/configs/llm_configs/anthropic.json')\n",
    "o.plan('data/walmart_amazon_test.csv', 'examples/configs/dataset_configs/walmart_amazon.json')\n",
    "labels, df, metrics_list = o.run('data/walmart_amazon_test.csv', 'examples/configs/dataset_configs/walmart_amazon.json', max_items = 100)"
   ]
  },
  {
   "cell_type": "markdown",
   "id": "a6615b80-2ba5-4183-aefc-a75e77c65820",
   "metadata": {},
   "source": [
    "### Run Entity Matching on Company"
   ]
  },
  {
   "cell_type": "code",
   "execution_count": null,
   "id": "710d279d-7f76-4c21-a1e5-ffa24da61a5e",
   "metadata": {},
   "outputs": [],
   "source": [
    "o = LabelingAgent('examples/configs/task_configs/company_matching.json',\n",
    "            'examples/configs/llm_configs/anthropic.json')\n",
    "o.plan('data/company_test.csv', 'examples/configs/dataset_configs/company.json')\n",
    "labels, df, metrics_list = o.run('data/company_test.csv', 'examples/configs/dataset_configs/company.json', max_items = 100)"
   ]
  },
  {
   "cell_type": "markdown",
   "id": "43c982a3-0dfb-4fd6-b137-fe1a1cb16290",
   "metadata": {},
   "source": [
    "### Run NER on WikiANN"
   ]
  },
  {
   "cell_type": "code",
   "execution_count": null,
   "id": "d0b69696-9c39-404c-b5b6-a59301c74ae7",
   "metadata": {},
   "outputs": [],
   "source": [
    "o = LabelingAgent('examples/configs/task_configs/wikiann_ner.json',\n",
    "            'examples/configs/llm_configs/anthropic.json')\n",
    "o.plan('data/wikiann_test.csv', 'examples/configs/dataset_configs/wikiann.json')\n",
    "labels, df, metrics_list = o.run('data/wikiann_test.csv', 'examples/configs/dataset_configs/wikiann.json', max_items = 100)"
   ]
  },
  {
   "cell_type": "markdown",
   "id": "e03adc8d-fb19-404d-ace3-d39cc3b807ea",
   "metadata": {},
   "source": [
    "## Run the Benchmark"
   ]
  },
  {
   "cell_type": "code",
   "execution_count": null,
   "id": "59543485-e8fa-424a-b394-bcc8456e818c",
   "metadata": {},
   "outputs": [],
   "source": [
    "from benchmark import Benchmark\n",
    "# The list of datasets\n",
    "# datasets = []\n",
    "# model_config_path = \"examples/configs/llm_configs/gpt_3.5_turbo.json\"\n",
    "max_items = 10\n",
    "benchmark = Benchmark()\n",
    "benchmark.run(max_items = max_items)"
   ]
  }
 ],
 "metadata": {
  "kernelspec": {
   "display_name": "Python 3 (ipykernel)",
   "language": "python",
   "name": "python3"
  },
  "language_info": {
   "codemirror_mode": {
    "name": "ipython",
    "version": 3
   },
   "file_extension": ".py",
   "mimetype": "text/x-python",
   "name": "python",
   "nbconvert_exporter": "python",
   "pygments_lexer": "ipython3",
   "version": "3.9.6"
  }
 },
 "nbformat": 4,
 "nbformat_minor": 5
}
