{
 "cells": [
  {
   "cell_type": "markdown",
   "id": "7d3b19ce",
   "metadata": {},
   "source": [
    "## Running Async Transformations in Jupyter"
   ]
  },
  {
   "cell_type": "code",
   "execution_count": null,
   "id": "1f17f05a",
   "metadata": {},
   "outputs": [],
   "source": [
    "!pip install refuel-autolabel"
   ]
  },
  {
   "cell_type": "code",
   "execution_count": 1,
   "id": "2fd4290a",
   "metadata": {},
   "outputs": [],
   "source": [
    "import nest_asyncio\n",
    "nest_asyncio.apply()"
   ]
  },
  {
   "cell_type": "markdown",
   "id": "aea97f23",
   "metadata": {},
   "source": [
    "## Finding the State of National Park using Autolabel\n",
    "\n",
    "We will use Autolabel to find the state of the national park given a url to the national park nps website. First, we will use a transform to extract the content of the website. Then, using the content, we will structure this as a question_answering task to extract the state of the park from this webpage."
   ]
  },
  {
   "cell_type": "markdown",
   "id": "2eab19b6",
   "metadata": {},
   "source": [
    "Notice the \"transforms\" part of the config. Here we use the url column to extract the text on the webpage. This content of the webpage is sent to the column called \"content\" in the \"output_columns\" part of the transform. Next, in the \"example_template\" we use this \"content\" column in order to send the website text and ask the question about the state of the national park."
   ]
  },
  {
   "cell_type": "code",
   "execution_count": 22,
   "id": "50e7446e",
   "metadata": {},
   "outputs": [],
   "source": [
    "config = {\n",
    "    \"task_name\": \"NationalPark\",\n",
    "    \"task_type\": \"question_answering\",\n",
    "    \"dataset\": {\n",
    "    },\n",
    "    \"model\": {\n",
    "        \"provider\": \"openai\",\n",
    "        \"name\": \"gpt-3.5-turbo\"\n",
    "    },\n",
    "    \"transforms\": [{\n",
    "        \"name\": \"webpage_transform\",\n",
    "        \"params\": {\n",
    "            \"url_column\": \"url\"\n",
    "        },\n",
    "        \"output_columns\": {\n",
    "            \"content_column\": \"content\"\n",
    "        }\n",
    "    }],\n",
    "    \"prompt\": {\n",
    "        \"task_guidelines\": \"You are an expert at understanding websites of national parks. You will be given a webpage about a national park. Answer with the US State that the national park is located in.\",\n",
    "        \"output_guidelines\": \"Answer in one word the state that the national park is located in.\",\n",
    "        \"example_template\": \"Content of wikipedia page: {content}\\State:\",\n",
    "    }\n",
    "}"
   ]
  },
  {
   "cell_type": "code",
   "execution_count": 23,
   "id": "fc6be6ac",
   "metadata": {},
   "outputs": [],
   "source": [
    "from autolabel import LabelingAgent, AutolabelDataset, AutolabelConfig\n",
    "agent = LabelingAgent(config)"
   ]
  },
  {
   "cell_type": "markdown",
   "id": "060a41a1",
   "metadata": {},
   "source": [
    "A small manually collected dataset of national parks and their websites containing information about them. We intend to use the LLM to find out the state which may be buried at different parts in the website."
   ]
  },
  {
   "cell_type": "code",
   "execution_count": 34,
   "id": "5b79df29",
   "metadata": {},
   "outputs": [],
   "source": [
    "import pandas as pd\n",
    "df = pd.DataFrame([\n",
    "    {\n",
    "        \"url\": \"https://www.visitmt.com/places-to-go/glacier-national-park\",\n",
    "        \"name\": \"Glacier National Park\"\n",
    "    },\n",
    "    {\n",
    "        \"url\": \"https://www.nps.gov/dena/index.htm\",\n",
    "        \"name\": \"Denali National Park\"\n",
    "    },\n",
    "    {\n",
    "        \"url\": \"https://www.nps.gov/lavo/index.htm\",\n",
    "        \"name\": \"Lassen Volcanic National Park\"\n",
    "    },\n",
    "    {\n",
    "        \"url\": \"https://www.nps.gov/olym/index.htm\",\n",
    "        \"name\": \"Olympic National Park\"\n",
    "    },\n",
    "    {\n",
    "        \"url\": \"https://www.nps.gov/pinn/index.htm\",\n",
    "        \"name\": \"Pinnacles National Park\"\n",
    "    }\n",
    "])"
   ]
  },
  {
   "cell_type": "code",
   "execution_count": 25,
   "id": "1d3476bd",
   "metadata": {},
   "outputs": [],
   "source": [
    "ds = AutolabelDataset(df, config = AutolabelConfig(config))"
   ]
  },
  {
   "cell_type": "markdown",
   "id": "15695b36",
   "metadata": {},
   "source": [
    "## Running the transform\n",
    "First, we run transform in order to run the Webpage transformation and populate the content column of the dataset."
   ]
  },
  {
   "cell_type": "code",
   "execution_count": 26,
   "id": "55bda1eb",
   "metadata": {},
   "outputs": [
    {
     "data": {
      "application/vnd.jupyter.widget-view+json": {
       "model_id": "9eb970ac8267464988b63df5275f2aaf",
       "version_major": 2,
       "version_minor": 0
      },
      "text/plain": [
       "Output()"
      ]
     },
     "metadata": {},
     "output_type": "display_data"
    },
    {
     "data": {
      "text/html": [
       "<pre style=\"white-space:pre;overflow-x:auto;line-height:normal;font-family:Menlo,'DejaVu Sans Mono',consolas,'Courier New',monospace\"></pre>\n"
      ],
      "text/plain": []
     },
     "metadata": {},
     "output_type": "display_data"
    },
    {
     "data": {
      "text/html": [
       "<pre style=\"white-space:pre;overflow-x:auto;line-height:normal;font-family:Menlo,'DejaVu Sans Mono',consolas,'Courier New',monospace\">\n",
       "</pre>\n"
      ],
      "text/plain": [
       "\n"
      ]
     },
     "metadata": {},
     "output_type": "display_data"
    }
   ],
   "source": [
    "ds = agent.transform(ds)"
   ]
  },
  {
   "cell_type": "markdown",
   "id": "1dce5e1d",
   "metadata": {},
   "source": [
    "## Running the labeling function\n",
    "Now, we use the send the content of the website along with the question in order to return the state of the national park."
   ]
  },
  {
   "cell_type": "code",
   "execution_count": 27,
   "id": "f513a335",
   "metadata": {},
   "outputs": [
    {
     "data": {
      "application/vnd.jupyter.widget-view+json": {
       "model_id": "e1e56a33bc314c5ab26c72b1d989914e",
       "version_major": 2,
       "version_minor": 0
      },
      "text/plain": [
       "Output()"
      ]
     },
     "metadata": {},
     "output_type": "display_data"
    },
    {
     "data": {
      "text/html": [
       "<pre style=\"white-space:pre;overflow-x:auto;line-height:normal;font-family:Menlo,'DejaVu Sans Mono',consolas,'Courier New',monospace\"></pre>\n"
      ],
      "text/plain": []
     },
     "metadata": {},
     "output_type": "display_data"
    }
   ],
   "source": [
    "ds = agent.run(ds)"
   ]
  },
  {
   "cell_type": "code",
   "execution_count": 33,
   "id": "a9eafc65",
   "metadata": {},
   "outputs": [
    {
     "data": {
      "text/html": [
       "<div>\n",
       "<style scoped>\n",
       "    .dataframe tbody tr th:only-of-type {\n",
       "        vertical-align: middle;\n",
       "    }\n",
       "\n",
       "    .dataframe tbody tr th {\n",
       "        vertical-align: top;\n",
       "    }\n",
       "\n",
       "    .dataframe thead th {\n",
       "        text-align: right;\n",
       "    }\n",
       "</style>\n",
       "<table border=\"1\" class=\"dataframe\">\n",
       "  <thead>\n",
       "    <tr style=\"text-align: right;\">\n",
       "      <th></th>\n",
       "      <th>url</th>\n",
       "      <th>name</th>\n",
       "      <th>content</th>\n",
       "      <th>metadata_column</th>\n",
       "      <th>NationalPark_label</th>\n",
       "      <th>NationalPark_error</th>\n",
       "      <th>NationalPark_successfully_labeled</th>\n",
       "      <th>NationalPark_annotation</th>\n",
       "    </tr>\n",
       "  </thead>\n",
       "  <tbody>\n",
       "    <tr>\n",
       "      <th>0</th>\n",
       "      <td>https://www.visitmt.com/places-to-go/glacier-n...</td>\n",
       "      <td>Glacier National Park</td>\n",
       "      <td>\\n\\n\\n\\n\\n\\n\\nGlacier National Park\\n\\n\\n\\n\\n\\...</td>\n",
       "      <td>{'url': 'https://www.visitmt.com/places-to-go/...</td>\n",
       "      <td>Montana</td>\n",
       "      <td>None</td>\n",
       "      <td>True</td>\n",
       "      <td>{\"successfully_labeled\": true, \"label\": \"Monta...</td>\n",
       "    </tr>\n",
       "    <tr>\n",
       "      <th>1</th>\n",
       "      <td>https://www.nps.gov/dena/index.htm</td>\n",
       "      <td>Denali National Park</td>\n",
       "      <td>\\n   Denali National Park &amp; Preserve (U.S. N...</td>\n",
       "      <td>{'url': 'https://www.nps.gov/dena/index.htm', ...</td>\n",
       "      <td>Alaska</td>\n",
       "      <td>None</td>\n",
       "      <td>True</td>\n",
       "      <td>{\"successfully_labeled\": true, \"label\": \"Alask...</td>\n",
       "    </tr>\n",
       "    <tr>\n",
       "      <th>2</th>\n",
       "      <td>https://www.nps.gov/lavo/index.htm</td>\n",
       "      <td>Lassen Volcanic National Park</td>\n",
       "      <td>\\n   Lassen Volcanic National Park (U.S. Nat...</td>\n",
       "      <td>{'url': 'https://www.nps.gov/lavo/index.htm', ...</td>\n",
       "      <td>California</td>\n",
       "      <td>None</td>\n",
       "      <td>True</td>\n",
       "      <td>{\"successfully_labeled\": true, \"label\": \"Calif...</td>\n",
       "    </tr>\n",
       "    <tr>\n",
       "      <th>3</th>\n",
       "      <td>https://www.nps.gov/olym/index.htm</td>\n",
       "      <td>Olympic National Park</td>\n",
       "      <td>\\n   Olympic National Park (U.S. National Pa...</td>\n",
       "      <td>{'url': 'https://www.nps.gov/olym/index.htm', ...</td>\n",
       "      <td>Washington</td>\n",
       "      <td>None</td>\n",
       "      <td>True</td>\n",
       "      <td>{\"successfully_labeled\": true, \"label\": \"Washi...</td>\n",
       "    </tr>\n",
       "    <tr>\n",
       "      <th>4</th>\n",
       "      <td>https://www.nps.gov/pinn/index.htm</td>\n",
       "      <td>Pinnacles National Park</td>\n",
       "      <td>\\n   Pinnacles National Park (U.S. National ...</td>\n",
       "      <td>{'url': 'https://www.nps.gov/pinn/index.htm', ...</td>\n",
       "      <td>California</td>\n",
       "      <td>None</td>\n",
       "      <td>True</td>\n",
       "      <td>{\"successfully_labeled\": true, \"label\": \"Calif...</td>\n",
       "    </tr>\n",
       "  </tbody>\n",
       "</table>\n",
       "</div>"
      ],
      "text/plain": [
       "                                                 url   \n",
       "0  https://www.visitmt.com/places-to-go/glacier-n...  \\\n",
       "1                 https://www.nps.gov/dena/index.htm   \n",
       "2                 https://www.nps.gov/lavo/index.htm   \n",
       "3                 https://www.nps.gov/olym/index.htm   \n",
       "4                 https://www.nps.gov/pinn/index.htm   \n",
       "\n",
       "                            name   \n",
       "0          Glacier National Park  \\\n",
       "1           Denali National Park   \n",
       "2  Lassen Volcanic National Park   \n",
       "3          Olympic National Park   \n",
       "4        Pinnacles National Park   \n",
       "\n",
       "                                             content   \n",
       "0  \\n\\n\\n\\n\\n\\n\\nGlacier National Park\\n\\n\\n\\n\\n\\...  \\\n",
       "1    \\n   Denali National Park & Preserve (U.S. N...   \n",
       "2    \\n   Lassen Volcanic National Park (U.S. Nat...   \n",
       "3    \\n   Olympic National Park (U.S. National Pa...   \n",
       "4    \\n   Pinnacles National Park (U.S. National ...   \n",
       "\n",
       "                                     metadata_column NationalPark_label   \n",
       "0  {'url': 'https://www.visitmt.com/places-to-go/...            Montana  \\\n",
       "1  {'url': 'https://www.nps.gov/dena/index.htm', ...             Alaska   \n",
       "2  {'url': 'https://www.nps.gov/lavo/index.htm', ...         California   \n",
       "3  {'url': 'https://www.nps.gov/olym/index.htm', ...         Washington   \n",
       "4  {'url': 'https://www.nps.gov/pinn/index.htm', ...         California   \n",
       "\n",
       "  NationalPark_error  NationalPark_successfully_labeled   \n",
       "0               None                               True  \\\n",
       "1               None                               True   \n",
       "2               None                               True   \n",
       "3               None                               True   \n",
       "4               None                               True   \n",
       "\n",
       "                             NationalPark_annotation  \n",
       "0  {\"successfully_labeled\": true, \"label\": \"Monta...  \n",
       "1  {\"successfully_labeled\": true, \"label\": \"Alask...  \n",
       "2  {\"successfully_labeled\": true, \"label\": \"Calif...  \n",
       "3  {\"successfully_labeled\": true, \"label\": \"Washi...  \n",
       "4  {\"successfully_labeled\": true, \"label\": \"Calif...  "
      ]
     },
     "execution_count": 33,
     "metadata": {},
     "output_type": "execute_result"
    }
   ],
   "source": [
    "ds.df"
   ]
  },
  {
   "cell_type": "code",
   "execution_count": null,
   "id": "a9992fa4",
   "metadata": {},
   "outputs": [],
   "source": []
  }
 ],
 "metadata": {
  "kernelspec": {
   "display_name": "Python 3 (ipykernel)",
   "language": "python",
   "name": "python3"
  },
  "language_info": {
   "codemirror_mode": {
    "name": "ipython",
    "version": 3
   },
   "file_extension": ".py",
   "mimetype": "text/x-python",
   "name": "python",
   "nbconvert_exporter": "python",
   "pygments_lexer": "ipython3",
   "version": "3.10.10"
  }
 },
 "nbformat": 4,
 "nbformat_minor": 5
}
