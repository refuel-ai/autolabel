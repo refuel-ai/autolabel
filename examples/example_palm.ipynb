{
 "cells": [
  {
   "cell_type": "code",
   "execution_count": 1,
   "metadata": {},
   "outputs": [],
   "source": [
    "from autolabel import LabelingAgent"
   ]
  },
  {
   "cell_type": "code",
   "execution_count": 2,
   "metadata": {},
   "outputs": [],
   "source": [
    "MAX_ITEMS = 512"
   ]
  },
  {
   "attachments": {},
   "cell_type": "markdown",
   "metadata": {},
   "source": [
    "## Civil Comments\n",
    "Does not work for most (~98%) of prompts most likely due to some content moderation built into the model."
   ]
  },
  {
   "cell_type": "code",
   "execution_count": 3,
   "metadata": {},
   "outputs": [],
   "source": [
    "civil_comments_config = {\n",
    "    \"task_name\": \"ToxicCommentClassification\",\n",
    "    \"task_type\": \"classification\",\n",
    "    \"dataset\": {\"label_column\": \"label\", \"delimiter\": \",\"},\n",
    "    \"model\": {\"provider\": \"google\", \"name\": \"text-bison@001\"},\n",
    "    \"prompt\": {\n",
    "        \"task_guidelines\": \"You are an expert at identifying toxic comments and understanding if a comment is sexually explicit, obscene, toxic, insults a person, demographic or race.\\nYour job is to correctly label the provided input example into one of the following categories:\\n{labels}\",\n",
    "        \"labels\": [\"toxic\", \"not toxic\"],\n",
    "        \"few_shot_examples\": \"../data/civil_comments_seed.csv\",\n",
    "        \"few_shot_selection\": \"semantic_similarity\",\n",
    "        \"few_shot_num\": 3,\n",
    "        \"example_template\": \"Input: {example}\\nOutput: {label}\",\n",
    "    },\n",
    "}"
   ]
  },
  {
   "cell_type": "code",
   "execution_count": 4,
   "metadata": {},
   "outputs": [],
   "source": [
    "# l = LabelingAgent(config=civil_comments_config, cache=False)\n",
    "# l.plan(\"../data/civil_comments_test.csv\", max_items=8)"
   ]
  },
  {
   "cell_type": "code",
   "execution_count": 5,
   "metadata": {},
   "outputs": [],
   "source": [
    "# labels, df, metric_list = l.run(\"../data/civil_comments_test.csv\", max_items=8)"
   ]
  },
  {
   "cell_type": "code",
   "execution_count": 6,
   "metadata": {},
   "outputs": [],
   "source": [
    "# df[df[\"ToxicCommentClassification_llm_labeled_successfully\"] != \"yes\"][[\"example\"]]"
   ]
  },
  {
   "cell_type": "code",
   "execution_count": 3,
   "metadata": {},
   "outputs": [],
   "source": [
    "banking_config = {\n",
    "    \"task_name\": \"BankingComplaintsClassification\",\n",
    "    \"task_type\": \"classification\",\n",
    "    \"dataset\": {\"label_column\": \"label\", \"delimiter\": \",\"},\n",
    "    \"model\": {\"provider\": \"google\", \"name\": \"text-bison@001\", \"compute_confidence\": \"True\"},\n",
    "    \"prompt\": {\n",
    "        \"task_guidelines\": \"You are an expert at understanding twitter complaints.\\nYour job is to correctly label the provided input example into one of the following categories.\\nCategories:\\n{labels}\",\n",
    "        \"labels\": [\n",
    "            \"activate_my_card\",\n",
    "            \"age_limit\",\n",
    "            \"apple_pay_or_google_pay\",\n",
    "            \"atm_support\",\n",
    "            \"automatic_top_up\",\n",
    "            \"balance_not_updated_after_bank_transfer\",\n",
    "            \"balance_not_updated_after_cheque_or_cash_deposit\",\n",
    "            \"beneficiary_not_allowed\",\n",
    "            \"cancel_transfer\",\n",
    "            \"card_about_to_expire\",\n",
    "            \"card_acceptance\",\n",
    "            \"card_arrival\",\n",
    "            \"card_delivery_estimate\",\n",
    "            \"card_linking\",\n",
    "            \"card_not_working\",\n",
    "            \"card_payment_fee_charged\",\n",
    "            \"card_payment_not_recognised\",\n",
    "            \"card_payment_wrong_exchange_rate\",\n",
    "            \"card_swallowed\",\n",
    "            \"cash_withdrawal_charge\",\n",
    "            \"cash_withdrawal_not_recognised\",\n",
    "            \"change_pin\",\n",
    "            \"compromised_card\",\n",
    "            \"contactless_not_working\",\n",
    "            \"country_support\",\n",
    "            \"declined_card_payment\",\n",
    "            \"declined_cash_withdrawal\",\n",
    "            \"declined_transfer\",\n",
    "            \"direct_debit_payment_not_recognised\",\n",
    "            \"disposable_card_limits\",\n",
    "            \"edit_personal_details\",\n",
    "            \"exchange_charge\",\n",
    "            \"exchange_rate\",\n",
    "            \"exchange_via_app\",\n",
    "            \"extra_charge_on_statement\",\n",
    "            \"failed_transfer\",\n",
    "            \"fiat_currency_support\",\n",
    "            \"get_disposable_virtual_card\",\n",
    "            \"get_physical_card\",\n",
    "            \"getting_spare_card\",\n",
    "            \"getting_virtual_card\",\n",
    "            \"lost_or_stolen_card\",\n",
    "            \"lost_or_stolen_phone\",\n",
    "            \"order_physical_card\",\n",
    "            \"passcode_forgotten\",\n",
    "            \"pending_card_payment\",\n",
    "            \"pending_cash_withdrawal\",\n",
    "            \"pending_top_up\",\n",
    "            \"pending_transfer\",\n",
    "            \"pin_blocked\",\n",
    "            \"receiving_money\",\n",
    "            \"Refund_not_showing_up\",\n",
    "            \"request_refund\",\n",
    "            \"reverted_card_payment?\",\n",
    "            \"supported_cards_and_currencies\",\n",
    "            \"terminate_account\",\n",
    "            \"top_up_by_bank_transfer_charge\",\n",
    "            \"top_up_by_card_charge\",\n",
    "            \"top_up_by_cash_or_cheque\",\n",
    "            \"top_up_failed\",\n",
    "            \"top_up_limits\",\n",
    "            \"top_up_reverted\",\n",
    "            \"topping_up_by_card\",\n",
    "            \"transaction_charged_twice\",\n",
    "            \"transfer_fee_charged\",\n",
    "            \"transfer_into_account\",\n",
    "            \"transfer_not_received_by_recipient\",\n",
    "            \"transfer_timing\",\n",
    "            \"unable_to_verify_identity\",\n",
    "            \"verify_my_identity\",\n",
    "            \"verify_source_of_funds\",\n",
    "            \"verify_top_up\",\n",
    "            \"virtual_card_not_working\",\n",
    "            \"visa_or_mastercard\",\n",
    "            \"why_verify_identity\",\n",
    "            \"wrong_amount_of_cash_received\",\n",
    "            \"wrong_exchange_rate_for_cash_withdrawal\",\n",
    "        ],\n",
    "        \"few_shot_examples\": \"../data/banking_seed.csv\",\n",
    "        \"few_shot_selection\": \"semantic_similarity\",\n",
    "        \"few_shot_num\": 5,\n",
    "        \"example_template\": \"Input: {example}\\nOutput: {label}\",\n",
    "        \"output_guidelines\": \"You will return the answer in a format that contains just the label and nothing else.\",\n",
    "    },\n",
    "}"
   ]
  },
  {
   "cell_type": "code",
   "execution_count": 4,
   "metadata": {},
   "outputs": [
    {
     "name": "stdout",
     "output_type": "stream",
     "text": [
      "PaLM model name: text-bison@001\n"
     ]
    },
    {
     "data": {
      "application/vnd.jupyter.widget-view+json": {
       "model_id": "98101e0ab2f94cb68ef74da9577410f2",
       "version_major": 2,
       "version_minor": 0
      },
      "text/plain": [
       "Output()"
      ]
     },
     "metadata": {},
     "output_type": "display_data"
    },
    {
     "data": {
      "text/html": [
       "<pre style=\"white-space:pre;overflow-x:auto;line-height:normal;font-family:Menlo,'DejaVu Sans Mono',consolas,'Courier New',monospace\"></pre>\n"
      ],
      "text/plain": []
     },
     "metadata": {},
     "output_type": "display_data"
    },
    {
     "data": {
      "text/html": [
       "<pre style=\"white-space:pre;overflow-x:auto;line-height:normal;font-family:Menlo,'DejaVu Sans Mono',consolas,'Courier New',monospace\">\n",
       "</pre>\n"
      ],
      "text/plain": [
       "\n"
      ]
     },
     "metadata": {},
     "output_type": "display_data"
    },
    {
     "data": {
      "text/html": [
       "<pre style=\"white-space:pre;overflow-x:auto;line-height:normal;font-family:Menlo,'DejaVu Sans Mono',consolas,'Courier New',monospace\">┌──────────────────────────┬────────┐\n",
       "│<span style=\"color: #008000; text-decoration-color: #008000; font-weight: bold\"> Total Estimated Cost     </span>│<span style=\"color: #800080; text-decoration-color: #800080; font-weight: bold\"> $1.281 </span>│\n",
       "│<span style=\"color: #008000; text-decoration-color: #008000; font-weight: bold\"> Number of Examples       </span>│<span style=\"color: #800080; text-decoration-color: #800080; font-weight: bold\"> 512    </span>│\n",
       "│<span style=\"color: #008000; text-decoration-color: #008000; font-weight: bold\"> Average cost per example </span>│<span style=\"color: #800080; text-decoration-color: #800080; font-weight: bold\"> 0.0025 </span>│\n",
       "└──────────────────────────┴────────┘\n",
       "</pre>\n"
      ],
      "text/plain": [
       "┌──────────────────────────┬────────┐\n",
       "│\u001b[1;32m \u001b[0m\u001b[1;32mTotal Estimated Cost    \u001b[0m\u001b[1;32m \u001b[0m│\u001b[1;35m \u001b[0m\u001b[1;35m$1.281\u001b[0m\u001b[1;35m \u001b[0m│\n",
       "│\u001b[1;32m \u001b[0m\u001b[1;32mNumber of Examples      \u001b[0m\u001b[1;32m \u001b[0m│\u001b[1;35m \u001b[0m\u001b[1;35m512   \u001b[0m\u001b[1;35m \u001b[0m│\n",
       "│\u001b[1;32m \u001b[0m\u001b[1;32mAverage cost per example\u001b[0m\u001b[1;32m \u001b[0m│\u001b[1;35m \u001b[0m\u001b[1;35m0.0025\u001b[0m\u001b[1;35m \u001b[0m│\n",
       "└──────────────────────────┴────────┘\n"
      ]
     },
     "metadata": {},
     "output_type": "display_data"
    },
    {
     "data": {
      "text/html": [
       "<pre style=\"white-space:pre;overflow-x:auto;line-height:normal;font-family:Menlo,'DejaVu Sans Mono',consolas,'Courier New',monospace\"><span style=\"color: #00ff00; text-decoration-color: #00ff00\">───────────────────────────────────────────────── </span>Prompt Example<span style=\"color: #00ff00; text-decoration-color: #00ff00\"> ──────────────────────────────────────────────────</span>\n",
       "</pre>\n"
      ],
      "text/plain": [
       "\u001b[92m───────────────────────────────────────────────── \u001b[0mPrompt Example\u001b[92m ──────────────────────────────────────────────────\u001b[0m\n"
      ]
     },
     "metadata": {},
     "output_type": "display_data"
    },
    {
     "name": "stdout",
     "output_type": "stream",
     "text": [
      "You are an expert at understanding twitter complaints.\n",
      "Your job is to correctly label the provided input example into one of the following categories.\n",
      "Categories:\n",
      "activate_my_card\n",
      "age_limit\n",
      "apple_pay_or_google_pay\n",
      "atm_support\n",
      "automatic_top_up\n",
      "balance_not_updated_after_bank_transfer\n",
      "balance_not_updated_after_cheque_or_cash_deposit\n",
      "beneficiary_not_allowed\n",
      "cancel_transfer\n",
      "card_about_to_expire\n",
      "card_acceptance\n",
      "card_arrival\n",
      "card_delivery_estimate\n",
      "card_linking\n",
      "card_not_working\n",
      "card_payment_fee_charged\n",
      "card_payment_not_recognised\n",
      "card_payment_wrong_exchange_rate\n",
      "card_swallowed\n",
      "cash_withdrawal_charge\n",
      "cash_withdrawal_not_recognised\n",
      "change_pin\n",
      "compromised_card\n",
      "contactless_not_working\n",
      "country_support\n",
      "declined_card_payment\n",
      "declined_cash_withdrawal\n",
      "declined_transfer\n",
      "direct_debit_payment_not_recognised\n",
      "disposable_card_limits\n",
      "edit_personal_details\n",
      "exchange_charge\n",
      "exchange_rate\n",
      "exchange_via_app\n",
      "extra_charge_on_statement\n",
      "failed_transfer\n",
      "fiat_currency_support\n",
      "get_disposable_virtual_card\n",
      "get_physical_card\n",
      "getting_spare_card\n",
      "getting_virtual_card\n",
      "lost_or_stolen_card\n",
      "lost_or_stolen_phone\n",
      "order_physical_card\n",
      "passcode_forgotten\n",
      "pending_card_payment\n",
      "pending_cash_withdrawal\n",
      "pending_top_up\n",
      "pending_transfer\n",
      "pin_blocked\n",
      "receiving_money\n",
      "Refund_not_showing_up\n",
      "request_refund\n",
      "reverted_card_payment?\n",
      "supported_cards_and_currencies\n",
      "terminate_account\n",
      "top_up_by_bank_transfer_charge\n",
      "top_up_by_card_charge\n",
      "top_up_by_cash_or_cheque\n",
      "top_up_failed\n",
      "top_up_limits\n",
      "top_up_reverted\n",
      "topping_up_by_card\n",
      "transaction_charged_twice\n",
      "transfer_fee_charged\n",
      "transfer_into_account\n",
      "transfer_not_received_by_recipient\n",
      "transfer_timing\n",
      "unable_to_verify_identity\n",
      "verify_my_identity\n",
      "verify_source_of_funds\n",
      "verify_top_up\n",
      "virtual_card_not_working\n",
      "visa_or_mastercard\n",
      "why_verify_identity\n",
      "wrong_amount_of_cash_received\n",
      "wrong_exchange_rate_for_cash_withdrawal\n",
      "\n",
      "You will return the answer in a format that contains just the label and nothing else.\n",
      "\n",
      "Some examples with their output answers are provided below:\n",
      "\n",
      "Input: I would like to delete my account please.\n",
      "Output: terminate_account\n",
      "\n",
      "Input: Can you help me get rid of my account?\n",
      "Output: terminate_account\n",
      "\n",
      "Input: Help me cancel my transaction\n",
      "Output: cancel_transfer\n",
      "\n",
      "Input: I need to cancel a purchase I made.\n",
      "Output: request_refund\n",
      "\n",
      "Input: I want to change my personal details.\n",
      "Output: edit_personal_details\n",
      "\n",
      "Now I want you to label the following example:\n",
      "Input: I want to close my account\n",
      "Output: \n"
     ]
    },
    {
     "data": {
      "text/html": [
       "<pre style=\"white-space:pre;overflow-x:auto;line-height:normal;font-family:Menlo,'DejaVu Sans Mono',consolas,'Courier New',monospace\"><span style=\"color: #00ff00; text-decoration-color: #00ff00\">───────────────────────────────────────────────────────────────────────────────────────────────────────────────────</span>\n",
       "</pre>\n"
      ],
      "text/plain": [
       "\u001b[92m───────────────────────────────────────────────────────────────────────────────────────────────────────────────────\u001b[0m\n"
      ]
     },
     "metadata": {},
     "output_type": "display_data"
    }
   ],
   "source": [
    "l = LabelingAgent(config=banking_config, cache=False)\n",
    "l.plan(\"../data/banking_test.csv\", max_items=MAX_ITEMS)"
   ]
  },
  {
   "cell_type": "code",
   "execution_count": 5,
   "metadata": {},
   "outputs": [
    {
     "name": "stdout",
     "output_type": "stream",
     "text": [
      "\u001b[32m2023-06-05 14:38:26.090\u001b[0m | \u001b[1mINFO    \u001b[0m | \u001b[36mautolabel.labeler\u001b[0m:\u001b[36mrun\u001b[0m:\u001b[36m145\u001b[0m - \u001b[1mTask run already exists.\u001b[0m\n"
     ]
    },
    {
     "data": {
      "text/html": [
       "<pre style=\"white-space:pre;overflow-x:auto;line-height:normal;font-family:Menlo,'DejaVu Sans Mono',consolas,'Courier New',monospace\">There is an existing task with following details: <span style=\"color: #808000; text-decoration-color: #808000\">id</span>=<span style=\"color: #008000; text-decoration-color: #008000\">'3861833602'</span> <span style=\"color: #808000; text-decoration-color: #808000\">created_at</span>=<span style=\"color: #800080; text-decoration-color: #800080; font-weight: bold\">datetime</span><span style=\"color: #800080; text-decoration-color: #800080; font-weight: bold\">.datetime</span><span style=\"font-weight: bold\">(</span><span style=\"color: #008080; text-decoration-color: #008080; font-weight: bold\">2023</span>, <span style=\"color: #008080; text-decoration-color: #008080; font-weight: bold\">6</span>, <span style=\"color: #008080; text-decoration-color: #008080; font-weight: bold\">5</span>, <span style=\"color: #008080; text-decoration-color: #008080; font-weight: bold\">14</span>, <span style=\"color: #008080; text-decoration-color: #008080; font-weight: bold\">14</span>, \n",
       "<span style=\"color: #008080; text-decoration-color: #008080; font-weight: bold\">36</span>, <span style=\"color: #008080; text-decoration-color: #008080; font-weight: bold\">750230</span><span style=\"font-weight: bold\">)</span> <span style=\"color: #808000; text-decoration-color: #808000\">task_id</span>=<span style=\"color: #008000; text-decoration-color: #008000\">'dfdd57a9177908709091b01e69aa4a71'</span> <span style=\"color: #808000; text-decoration-color: #808000\">dataset_id</span>=<span style=\"color: #008000; text-decoration-color: #008000\">'405096e45901cf31abecdccbf6bfed11'</span> \n",
       "<span style=\"color: #808000; text-decoration-color: #808000\">current_index</span>=<span style=\"color: #008080; text-decoration-color: #008080; font-weight: bold\">512</span> <span style=\"color: #808000; text-decoration-color: #808000\">output_file</span>=<span style=\"color: #008000; text-decoration-color: #008000\">'../data/banking_test_labeled.csv'</span> <span style=\"color: #808000; text-decoration-color: #808000\">status</span>=<span style=\"font-weight: bold\">&lt;</span><span style=\"color: #ff00ff; text-decoration-color: #ff00ff; font-weight: bold\">TaskStatus.ACTIVE:</span><span style=\"color: #000000; text-decoration-color: #000000\"> </span><span style=\"color: #008000; text-decoration-color: #008000\">'active'</span><span style=\"font-weight: bold\">&gt;</span> <span style=\"color: #808000; text-decoration-color: #808000\">error</span>=<span style=\"color: #800080; text-decoration-color: #800080; font-style: italic\">None</span> \n",
       "<span style=\"color: #808000; text-decoration-color: #808000\">metrics</span>=<span style=\"color: #800080; text-decoration-color: #800080; font-style: italic\">None</span>\n",
       "</pre>\n"
      ],
      "text/plain": [
       "There is an existing task with following details: \u001b[33mid\u001b[0m=\u001b[32m'3861833602'\u001b[0m \u001b[33mcreated_at\u001b[0m=\u001b[1;35mdatetime\u001b[0m\u001b[1;35m.datetime\u001b[0m\u001b[1m(\u001b[0m\u001b[1;36m2023\u001b[0m, \u001b[1;36m6\u001b[0m, \u001b[1;36m5\u001b[0m, \u001b[1;36m14\u001b[0m, \u001b[1;36m14\u001b[0m, \n",
       "\u001b[1;36m36\u001b[0m, \u001b[1;36m750230\u001b[0m\u001b[1m)\u001b[0m \u001b[33mtask_id\u001b[0m=\u001b[32m'dfdd57a9177908709091b01e69aa4a71'\u001b[0m \u001b[33mdataset_id\u001b[0m=\u001b[32m'405096e45901cf31abecdccbf6bfed11'\u001b[0m \n",
       "\u001b[33mcurrent_index\u001b[0m=\u001b[1;36m512\u001b[0m \u001b[33moutput_file\u001b[0m=\u001b[32m'../data/banking_test_labeled.csv'\u001b[0m \u001b[33mstatus\u001b[0m=\u001b[1m<\u001b[0m\u001b[1;95mTaskStatus.ACTIVE:\u001b[0m\u001b[39m \u001b[0m\u001b[32m'active'\u001b[0m\u001b[1m>\u001b[0m \u001b[33merror\u001b[0m=\u001b[3;35mNone\u001b[0m \n",
       "\u001b[33mmetrics\u001b[0m=\u001b[3;35mNone\u001b[0m\n"
      ]
     },
     "metadata": {},
     "output_type": "display_data"
    },
    {
     "data": {
      "text/html": [
       "<pre style=\"white-space:pre;overflow-x:auto;line-height:normal;font-family:Menlo,'DejaVu Sans Mono',consolas,'Courier New',monospace\">Evaluating the existing task<span style=\"color: #808000; text-decoration-color: #808000\">...</span>\n",
       "</pre>\n"
      ],
      "text/plain": [
       "Evaluating the existing task\u001b[33m...\u001b[0m\n"
      ]
     },
     "metadata": {},
     "output_type": "display_data"
    },
    {
     "name": "stdout",
     "output_type": "stream",
     "text": [
      "Metric: auroc: 0.8687296129771666\n"
     ]
    },
    {
     "data": {
      "text/html": [
       "<pre style=\"white-space:pre;overflow-x:auto;line-height:normal;font-family:Menlo,'DejaVu Sans Mono',consolas,'Courier New',monospace\">┏━━━━━━━━━━━━━━━━━┳━━━━━━━━━━━━┓\n",
       "┃<span style=\"font-weight: bold\"> Metric          </span>┃<span style=\"font-weight: bold\">      Value </span>┃\n",
       "┡━━━━━━━━━━━━━━━━━╇━━━━━━━━━━━━┩\n",
       "│<span style=\"color: #008080; text-decoration-color: #008080; font-weight: bold\"> support         </span>│<span style=\"color: #800080; text-decoration-color: #800080; font-weight: bold\">        512 </span>│\n",
       "│<span style=\"color: #008080; text-decoration-color: #008080; font-weight: bold\"> threshold       </span>│<span style=\"color: #800080; text-decoration-color: #800080; font-weight: bold\">       -inf </span>│\n",
       "│<span style=\"color: #008080; text-decoration-color: #008080; font-weight: bold\"> accuracy        </span>│<span style=\"color: #800080; text-decoration-color: #800080; font-weight: bold\"> 0.77734375 </span>│\n",
       "│<span style=\"color: #008080; text-decoration-color: #008080; font-weight: bold\"> completion_rate </span>│<span style=\"color: #800080; text-decoration-color: #800080; font-weight: bold\">        1.0 </span>│\n",
       "└─────────────────┴────────────┘\n",
       "</pre>\n"
      ],
      "text/plain": [
       "┏━━━━━━━━━━━━━━━━━┳━━━━━━━━━━━━┓\n",
       "┃\u001b[1m \u001b[0m\u001b[1mMetric         \u001b[0m\u001b[1m \u001b[0m┃\u001b[1m \u001b[0m\u001b[1m     Value\u001b[0m\u001b[1m \u001b[0m┃\n",
       "┡━━━━━━━━━━━━━━━━━╇━━━━━━━━━━━━┩\n",
       "│\u001b[1;36m \u001b[0m\u001b[1;36msupport        \u001b[0m\u001b[1;36m \u001b[0m│\u001b[1;35m \u001b[0m\u001b[1;35m       512\u001b[0m\u001b[1;35m \u001b[0m│\n",
       "│\u001b[1;36m \u001b[0m\u001b[1;36mthreshold      \u001b[0m\u001b[1;36m \u001b[0m│\u001b[1;35m \u001b[0m\u001b[1;35m      -inf\u001b[0m\u001b[1;35m \u001b[0m│\n",
       "│\u001b[1;36m \u001b[0m\u001b[1;36maccuracy       \u001b[0m\u001b[1;36m \u001b[0m│\u001b[1;35m \u001b[0m\u001b[1;35m0.77734375\u001b[0m\u001b[1;35m \u001b[0m│\n",
       "│\u001b[1;36m \u001b[0m\u001b[1;36mcompletion_rate\u001b[0m\u001b[1;36m \u001b[0m│\u001b[1;35m \u001b[0m\u001b[1;35m       1.0\u001b[0m\u001b[1;35m \u001b[0m│\n",
       "└─────────────────┴────────────┘\n"
      ]
     },
     "metadata": {},
     "output_type": "display_data"
    },
    {
     "data": {
      "text/html": [
       "<pre style=\"white-space:pre;overflow-x:auto;line-height:normal;font-family:Menlo,'DejaVu Sans Mono',consolas,'Courier New',monospace\"><span style=\"color: #008080; text-decoration-color: #008080; font-weight: bold\">512</span> examples have been labeled so far.\n",
       "</pre>\n"
      ],
      "text/plain": [
       "\u001b[1;36m512\u001b[0m examples have been labeled so far.\n"
      ]
     },
     "metadata": {},
     "output_type": "display_data"
    },
    {
     "data": {
      "text/html": [
       "<pre style=\"white-space:pre;overflow-x:auto;line-height:normal;font-family:Menlo,'DejaVu Sans Mono',consolas,'Courier New',monospace\"><span style=\"color: #00ff00; text-decoration-color: #00ff00\">───────────────────────────────────────────── </span>Last Annotated Example<span style=\"color: #00ff00; text-decoration-color: #00ff00\"> ──────────────────────────────────────────────</span>\n",
       "</pre>\n"
      ],
      "text/plain": [
       "\u001b[92m───────────────────────────────────────────── \u001b[0mLast Annotated Example\u001b[92m ──────────────────────────────────────────────\u001b[0m\n"
      ]
     },
     "metadata": {},
     "output_type": "display_data"
    },
    {
     "data": {
      "text/html": [
       "<pre style=\"white-space:pre;overflow-x:auto;line-height:normal;font-family:Menlo,'DejaVu Sans Mono',consolas,'Courier New',monospace\"><span style=\"color: #000080; text-decoration-color: #000080; font-weight: bold\">Prompt</span>: </pre>\n"
      ],
      "text/plain": [
       "\u001b[1;34mPrompt\u001b[0m: "
      ]
     },
     "metadata": {},
     "output_type": "display_data"
    },
    {
     "name": "stdout",
     "output_type": "stream",
     "text": [
      "You are an expert at understanding twitter complaints.\n",
      "Your job is to correctly label the provided input example into one of the following categories.\n",
      "Categories:\n",
      "activate_my_card\n",
      "age_limit\n",
      "apple_pay_or_google_pay\n",
      "atm_support\n",
      "automatic_top_up\n",
      "balance_not_updated_after_bank_transfer\n",
      "balance_not_updated_after_cheque_or_cash_deposit\n",
      "beneficiary_not_allowed\n",
      "cancel_transfer\n",
      "card_about_to_expire\n",
      "card_acceptance\n",
      "card_arrival\n",
      "card_delivery_estimate\n",
      "card_linking\n",
      "card_not_working\n",
      "card_payment_fee_charged\n",
      "card_payment_not_recognised\n",
      "card_payment_wrong_exchange_rate\n",
      "card_swallowed\n",
      "cash_withdrawal_charge\n",
      "cash_withdrawal_not_recognised\n",
      "change_pin\n",
      "compromised_card\n",
      "contactless_not_working\n",
      "country_support\n",
      "declined_card_payment\n",
      "declined_cash_withdrawal\n",
      "declined_transfer\n",
      "direct_debit_payment_not_recognised\n",
      "disposable_card_limits\n",
      "edit_personal_details\n",
      "exchange_charge\n",
      "exchange_rate\n",
      "exchange_via_app\n",
      "extra_charge_on_statement\n",
      "failed_transfer\n",
      "fiat_currency_support\n",
      "get_disposable_virtual_card\n",
      "get_physical_card\n",
      "getting_spare_card\n",
      "getting_virtual_card\n",
      "lost_or_stolen_card\n",
      "lost_or_stolen_phone\n",
      "order_physical_card\n",
      "passcode_forgotten\n",
      "pending_card_payment\n",
      "pending_cash_withdrawal\n",
      "pending_top_up\n",
      "pending_transfer\n",
      "pin_blocked\n",
      "receiving_money\n",
      "Refund_not_showing_up\n",
      "request_refund\n",
      "reverted_card_payment?\n",
      "supported_cards_and_currencies\n",
      "terminate_account\n",
      "top_up_by_bank_transfer_charge\n",
      "top_up_by_card_charge\n",
      "top_up_by_cash_or_cheque\n",
      "top_up_failed\n",
      "top_up_limits\n",
      "top_up_reverted\n",
      "topping_up_by_card\n",
      "transaction_charged_twice\n",
      "transfer_fee_charged\n",
      "transfer_into_account\n",
      "transfer_not_received_by_recipient\n",
      "transfer_timing\n",
      "unable_to_verify_identity\n",
      "verify_my_identity\n",
      "verify_source_of_funds\n",
      "verify_top_up\n",
      "virtual_card_not_working\n",
      "visa_or_mastercard\n",
      "why_verify_identity\n",
      "wrong_amount_of_cash_received\n",
      "wrong_exchange_rate_for_cash_withdrawal\n",
      "\n",
      "You will return the answer in a format that contains just the label and nothing else.\n",
      "\n",
      "Some examples with their output answers are provided below:\n",
      "\n",
      "Input: I cannot seem to find my PIN. Where is it?\n",
      "Output: get_physical_card\n",
      "\n",
      "Input: My PIN is blocked, what do I do?\n",
      "Output: pin_blocked\n",
      "\n",
      "Input: I cannot locate the card PIN.\n",
      "Output: get_physical_card\n",
      "\n",
      "Input: How to change the PIN on my card?\n",
      "Output: change_pin\n",
      "\n",
      "Input: \n",
      "Where can I get my PIN unblocked?\n",
      "Output: pin_blocked\n",
      "\n",
      "Now I want you to label the following example:\n",
      "Input: I need a new PIN.\n",
      "Output: \n"
     ]
    },
    {
     "data": {
      "text/html": [
       "<pre style=\"white-space:pre;overflow-x:auto;line-height:normal;font-family:Menlo,'DejaVu Sans Mono',consolas,'Courier New',monospace\"><span style=\"color: #000080; text-decoration-color: #000080; font-weight: bold\">Annotation</span>: </pre>\n"
      ],
      "text/plain": [
       "\u001b[1;34mAnnotation\u001b[0m: "
      ]
     },
     "metadata": {},
     "output_type": "display_data"
    },
    {
     "name": "stdout",
     "output_type": "stream",
     "text": [
      "change_pin\n"
     ]
    },
    {
     "data": {
      "text/html": [
       "<pre style=\"white-space:pre;overflow-x:auto;line-height:normal;font-family:Menlo,'DejaVu Sans Mono',consolas,'Courier New',monospace\"><span style=\"color: #00ff00; text-decoration-color: #00ff00\">───────────────────────────────────────────────────────────────────────────────────────────────────────────────────</span>\n",
       "</pre>\n"
      ],
      "text/plain": [
       "\u001b[92m───────────────────────────────────────────────────────────────────────────────────────────────────────────────────\u001b[0m\n"
      ]
     },
     "metadata": {},
     "output_type": "display_data"
    },
    {
     "data": {
      "text/html": [
       "<pre style=\"white-space:pre;overflow-x:auto;line-height:normal;font-family:Menlo,'DejaVu Sans Mono',consolas,'Courier New',monospace\">Do you want to resume the task? <span style=\"color: #800080; text-decoration-color: #800080; font-weight: bold\">[y/n]</span>: </pre>\n"
      ],
      "text/plain": [
       "Do you want to resume the task? \u001b[1;35m[y/n]\u001b[0m: "
      ]
     },
     "metadata": {},
     "output_type": "display_data"
    },
    {
     "data": {
      "application/vnd.jupyter.widget-view+json": {
       "model_id": "31e5413047a841cc91e5c39b1e727eed",
       "version_major": 2,
       "version_minor": 0
      },
      "text/plain": [
       "Output()"
      ]
     },
     "metadata": {},
     "output_type": "display_data"
    },
    {
     "data": {
      "text/html": [
       "<pre style=\"white-space:pre;overflow-x:auto;line-height:normal;font-family:Menlo,'DejaVu Sans Mono',consolas,'Courier New',monospace\"></pre>\n"
      ],
      "text/plain": []
     },
     "metadata": {},
     "output_type": "display_data"
    },
    {
     "name": "stdout",
     "output_type": "stream",
     "text": [
      "Metric: auroc: 0.8687296129771666\n"
     ]
    },
    {
     "data": {
      "text/html": [
       "<pre style=\"white-space:pre;overflow-x:auto;line-height:normal;font-family:Menlo,'DejaVu Sans Mono',consolas,'Courier New',monospace\">┏━━━━━━━━━┳━━━━━━━━━━━━━━━━━━━━┳━━━━━━━━━━━━━━━━━━━━┳━━━━━━━━━━━━━━━━━┳━━━━━━━━━━━━━┓\n",
       "┃<span style=\"font-weight: bold\"> support </span>┃<span style=\"font-weight: bold\"> threshold          </span>┃<span style=\"font-weight: bold\"> accuracy           </span>┃<span style=\"font-weight: bold\"> completion_rate </span>┃<span style=\"font-weight: bold\"> Actual Cost </span>┃\n",
       "┡━━━━━━━━━╇━━━━━━━━━━━━━━━━━━━━╇━━━━━━━━━━━━━━━━━━━━╇━━━━━━━━━━━━━━━━━╇━━━━━━━━━━━━━┩\n",
       "│<span style=\"color: #008080; text-decoration-color: #008080; font-weight: bold\"> 512     </span>│<span style=\"color: #008080; text-decoration-color: #008080; font-weight: bold\"> -inf               </span>│<span style=\"color: #008080; text-decoration-color: #008080; font-weight: bold\"> 0.77734375         </span>│<span style=\"color: #008080; text-decoration-color: #008080; font-weight: bold\"> 1.0             </span>│<span style=\"color: #008080; text-decoration-color: #008080; font-weight: bold\"> 0.0         </span>│\n",
       "│<span style=\"color: #008080; text-decoration-color: #008080; font-weight: bold\"> 0       </span>│<span style=\"color: #008080; text-decoration-color: #008080; font-weight: bold\"> 3.7179562295851696 </span>│<span style=\"color: #008080; text-decoration-color: #008080; font-weight: bold\"> 0.0                </span>│<span style=\"color: #008080; text-decoration-color: #008080; font-weight: bold\"> 0.0             </span>│<span style=\"color: #008080; text-decoration-color: #008080; font-weight: bold\"> 0.0         </span>│\n",
       "│<span style=\"color: #008080; text-decoration-color: #008080; font-weight: bold\"> 1       </span>│<span style=\"color: #008080; text-decoration-color: #008080; font-weight: bold\"> 2.7179562295851696 </span>│<span style=\"color: #008080; text-decoration-color: #008080; font-weight: bold\"> 1.0                </span>│<span style=\"color: #008080; text-decoration-color: #008080; font-weight: bold\"> 0.001953125     </span>│<span style=\"color: #008080; text-decoration-color: #008080; font-weight: bold\"> 0.0         </span>│\n",
       "│<span style=\"color: #008080; text-decoration-color: #008080; font-weight: bold\"> 72      </span>│<span style=\"color: #008080; text-decoration-color: #008080; font-weight: bold\"> 2.715257423154796  </span>│<span style=\"color: #008080; text-decoration-color: #008080; font-weight: bold\"> 1.0                </span>│<span style=\"color: #008080; text-decoration-color: #008080; font-weight: bold\"> 0.140625        </span>│<span style=\"color: #008080; text-decoration-color: #008080; font-weight: bold\"> 0.0         </span>│\n",
       "│<span style=\"color: #008080; text-decoration-color: #008080; font-weight: bold\"> 73      </span>│<span style=\"color: #008080; text-decoration-color: #008080; font-weight: bold\"> 2.7152571714006566 </span>│<span style=\"color: #008080; text-decoration-color: #008080; font-weight: bold\"> 0.9863013698630136 </span>│<span style=\"color: #008080; text-decoration-color: #008080; font-weight: bold\"> 0.142578125     </span>│<span style=\"color: #008080; text-decoration-color: #008080; font-weight: bold\"> 0.0         </span>│\n",
       "│<span style=\"color: #008080; text-decoration-color: #008080; font-weight: bold\"> 89      </span>│<span style=\"color: #008080; text-decoration-color: #008080; font-weight: bold\"> 2.714168833498598  </span>│<span style=\"color: #008080; text-decoration-color: #008080; font-weight: bold\"> 0.9887640449438202 </span>│<span style=\"color: #008080; text-decoration-color: #008080; font-weight: bold\"> 0.173828125     </span>│<span style=\"color: #008080; text-decoration-color: #008080; font-weight: bold\"> 0.0         </span>│\n",
       "│<span style=\"color: #008080; text-decoration-color: #008080; font-weight: bold\"> 90      </span>│<span style=\"color: #008080; text-decoration-color: #008080; font-weight: bold\"> 2.714131883867508  </span>│<span style=\"color: #008080; text-decoration-color: #008080; font-weight: bold\"> 0.9777777777777777 </span>│<span style=\"color: #008080; text-decoration-color: #008080; font-weight: bold\"> 0.17578125      </span>│<span style=\"color: #008080; text-decoration-color: #008080; font-weight: bold\"> 0.0         </span>│\n",
       "│<span style=\"color: #008080; text-decoration-color: #008080; font-weight: bold\"> 145     </span>│<span style=\"color: #008080; text-decoration-color: #008080; font-weight: bold\"> 2.7089070008934955 </span>│<span style=\"color: #008080; text-decoration-color: #008080; font-weight: bold\"> 0.9862068965517241 </span>│<span style=\"color: #008080; text-decoration-color: #008080; font-weight: bold\"> 0.283203125     </span>│<span style=\"color: #008080; text-decoration-color: #008080; font-weight: bold\"> 0.0         </span>│\n",
       "│<span style=\"color: #008080; text-decoration-color: #008080; font-weight: bold\"> 146     </span>│<span style=\"color: #008080; text-decoration-color: #008080; font-weight: bold\"> 2.7089067990642035 </span>│<span style=\"color: #008080; text-decoration-color: #008080; font-weight: bold\"> 0.9794520547945206 </span>│<span style=\"color: #008080; text-decoration-color: #008080; font-weight: bold\"> 0.28515625      </span>│<span style=\"color: #008080; text-decoration-color: #008080; font-weight: bold\"> 0.0         </span>│\n",
       "│<span style=\"color: #008080; text-decoration-color: #008080; font-weight: bold\"> 149     </span>│<span style=\"color: #008080; text-decoration-color: #008080; font-weight: bold\"> 2.708777986027833  </span>│<span style=\"color: #008080; text-decoration-color: #008080; font-weight: bold\"> 0.9798657718120806 </span>│<span style=\"color: #008080; text-decoration-color: #008080; font-weight: bold\"> 0.291015625     </span>│<span style=\"color: #008080; text-decoration-color: #008080; font-weight: bold\"> 0.0         </span>│\n",
       "│<span style=\"color: #008080; text-decoration-color: #008080; font-weight: bold\"> 150     </span>│<span style=\"color: #008080; text-decoration-color: #008080; font-weight: bold\"> 2.7087553707847376 </span>│<span style=\"color: #008080; text-decoration-color: #008080; font-weight: bold\"> 0.9733333333333334 </span>│<span style=\"color: #008080; text-decoration-color: #008080; font-weight: bold\"> 0.29296875      </span>│<span style=\"color: #008080; text-decoration-color: #008080; font-weight: bold\"> 0.0         </span>│\n",
       "│<span style=\"color: #008080; text-decoration-color: #008080; font-weight: bold\"> 176     </span>│<span style=\"color: #008080; text-decoration-color: #008080; font-weight: bold\"> 2.704846772212883  </span>│<span style=\"color: #008080; text-decoration-color: #008080; font-weight: bold\"> 0.9772727272727273 </span>│<span style=\"color: #008080; text-decoration-color: #008080; font-weight: bold\"> 0.34375         </span>│<span style=\"color: #008080; text-decoration-color: #008080; font-weight: bold\"> 0.0         </span>│\n",
       "│<span style=\"color: #008080; text-decoration-color: #008080; font-weight: bold\"> 177     </span>│<span style=\"color: #008080; text-decoration-color: #008080; font-weight: bold\"> 2.7044363000103013 </span>│<span style=\"color: #008080; text-decoration-color: #008080; font-weight: bold\"> 0.9717514124293786 </span>│<span style=\"color: #008080; text-decoration-color: #008080; font-weight: bold\"> 0.345703125     </span>│<span style=\"color: #008080; text-decoration-color: #008080; font-weight: bold\"> 0.0         </span>│\n",
       "│<span style=\"color: #008080; text-decoration-color: #008080; font-weight: bold\"> 220     </span>│<span style=\"color: #008080; text-decoration-color: #008080; font-weight: bold\"> 2.698353179302333  </span>│<span style=\"color: #008080; text-decoration-color: #008080; font-weight: bold\"> 0.9772727272727273 </span>│<span style=\"color: #008080; text-decoration-color: #008080; font-weight: bold\"> 0.4296875       </span>│<span style=\"color: #008080; text-decoration-color: #008080; font-weight: bold\"> 0.0         </span>│\n",
       "│<span style=\"color: #008080; text-decoration-color: #008080; font-weight: bold\"> 221     </span>│<span style=\"color: #008080; text-decoration-color: #008080; font-weight: bold\"> 2.6980871281648895 </span>│<span style=\"color: #008080; text-decoration-color: #008080; font-weight: bold\"> 0.9728506787330317 </span>│<span style=\"color: #008080; text-decoration-color: #008080; font-weight: bold\"> 0.431640625     </span>│<span style=\"color: #008080; text-decoration-color: #008080; font-weight: bold\"> 0.0         </span>│\n",
       "│<span style=\"color: #008080; text-decoration-color: #008080; font-weight: bold\"> 223     </span>│<span style=\"color: #008080; text-decoration-color: #008080; font-weight: bold\"> 2.697646175065241  </span>│<span style=\"color: #008080; text-decoration-color: #008080; font-weight: bold\"> 0.9730941704035875 </span>│<span style=\"color: #008080; text-decoration-color: #008080; font-weight: bold\"> 0.435546875     </span>│<span style=\"color: #008080; text-decoration-color: #008080; font-weight: bold\"> 0.0         </span>│\n",
       "│<span style=\"color: #008080; text-decoration-color: #008080; font-weight: bold\"> 224     </span>│<span style=\"color: #008080; text-decoration-color: #008080; font-weight: bold\"> 2.697594052083686  </span>│<span style=\"color: #008080; text-decoration-color: #008080; font-weight: bold\"> 0.96875            </span>│<span style=\"color: #008080; text-decoration-color: #008080; font-weight: bold\"> 0.4375          </span>│<span style=\"color: #008080; text-decoration-color: #008080; font-weight: bold\"> 0.0         </span>│\n",
       "│<span style=\"color: #008080; text-decoration-color: #008080; font-weight: bold\"> 229     </span>│<span style=\"color: #008080; text-decoration-color: #008080; font-weight: bold\"> 2.69615160326664   </span>│<span style=\"color: #008080; text-decoration-color: #008080; font-weight: bold\"> 0.9694323144104804 </span>│<span style=\"color: #008080; text-decoration-color: #008080; font-weight: bold\"> 0.447265625     </span>│<span style=\"color: #008080; text-decoration-color: #008080; font-weight: bold\"> 0.0         </span>│\n",
       "│<span style=\"color: #008080; text-decoration-color: #008080; font-weight: bold\"> 230     </span>│<span style=\"color: #008080; text-decoration-color: #008080; font-weight: bold\"> 2.69605691728909   </span>│<span style=\"color: #008080; text-decoration-color: #008080; font-weight: bold\"> 0.9652173913043478 </span>│<span style=\"color: #008080; text-decoration-color: #008080; font-weight: bold\"> 0.44921875      </span>│<span style=\"color: #008080; text-decoration-color: #008080; font-weight: bold\"> 0.0         </span>│\n",
       "│<span style=\"color: #008080; text-decoration-color: #008080; font-weight: bold\"> 233     </span>│<span style=\"color: #008080; text-decoration-color: #008080; font-weight: bold\"> 2.695594024986975  </span>│<span style=\"color: #008080; text-decoration-color: #008080; font-weight: bold\"> 0.9656652360515021 </span>│<span style=\"color: #008080; text-decoration-color: #008080; font-weight: bold\"> 0.455078125     </span>│<span style=\"color: #008080; text-decoration-color: #008080; font-weight: bold\"> 0.0         </span>│\n",
       "│<span style=\"color: #008080; text-decoration-color: #008080; font-weight: bold\"> 234     </span>│<span style=\"color: #008080; text-decoration-color: #008080; font-weight: bold\"> 2.6955006291779755 </span>│<span style=\"color: #008080; text-decoration-color: #008080; font-weight: bold\"> 0.9615384615384616 </span>│<span style=\"color: #008080; text-decoration-color: #008080; font-weight: bold\"> 0.45703125      </span>│<span style=\"color: #008080; text-decoration-color: #008080; font-weight: bold\"> 0.0         </span>│\n",
       "│<span style=\"color: #008080; text-decoration-color: #008080; font-weight: bold\"> 245     </span>│<span style=\"color: #008080; text-decoration-color: #008080; font-weight: bold\"> 2.691928200574937  </span>│<span style=\"color: #008080; text-decoration-color: #008080; font-weight: bold\"> 0.963265306122449  </span>│<span style=\"color: #008080; text-decoration-color: #008080; font-weight: bold\"> 0.478515625     </span>│<span style=\"color: #008080; text-decoration-color: #008080; font-weight: bold\"> 0.0         </span>│\n",
       "│<span style=\"color: #008080; text-decoration-color: #008080; font-weight: bold\"> 247     </span>│<span style=\"color: #008080; text-decoration-color: #008080; font-weight: bold\"> 2.6910240482236496 </span>│<span style=\"color: #008080; text-decoration-color: #008080; font-weight: bold\"> 0.9554655870445344 </span>│<span style=\"color: #008080; text-decoration-color: #008080; font-weight: bold\"> 0.482421875     </span>│<span style=\"color: #008080; text-decoration-color: #008080; font-weight: bold\"> 0.0         </span>│\n",
       "│<span style=\"color: #008080; text-decoration-color: #008080; font-weight: bold\"> 262     </span>│<span style=\"color: #008080; text-decoration-color: #008080; font-weight: bold\"> 2.6852530148133096 </span>│<span style=\"color: #008080; text-decoration-color: #008080; font-weight: bold\"> 0.9580152671755725 </span>│<span style=\"color: #008080; text-decoration-color: #008080; font-weight: bold\"> 0.51171875      </span>│<span style=\"color: #008080; text-decoration-color: #008080; font-weight: bold\"> 0.0         </span>│\n",
       "│<span style=\"color: #008080; text-decoration-color: #008080; font-weight: bold\"> 263     </span>│<span style=\"color: #008080; text-decoration-color: #008080; font-weight: bold\"> 2.6850262925233226 </span>│<span style=\"color: #008080; text-decoration-color: #008080; font-weight: bold\"> 0.9543726235741445 </span>│<span style=\"color: #008080; text-decoration-color: #008080; font-weight: bold\"> 0.513671875     </span>│<span style=\"color: #008080; text-decoration-color: #008080; font-weight: bold\"> 0.0         </span>│\n",
       "│<span style=\"color: #008080; text-decoration-color: #008080; font-weight: bold\"> 267     </span>│<span style=\"color: #008080; text-decoration-color: #008080; font-weight: bold\"> 2.684633110941594  </span>│<span style=\"color: #008080; text-decoration-color: #008080; font-weight: bold\"> 0.9550561797752809 </span>│<span style=\"color: #008080; text-decoration-color: #008080; font-weight: bold\"> 0.521484375     </span>│<span style=\"color: #008080; text-decoration-color: #008080; font-weight: bold\"> 0.0         </span>│\n",
       "│<span style=\"color: #008080; text-decoration-color: #008080; font-weight: bold\"> 268     </span>│<span style=\"color: #008080; text-decoration-color: #008080; font-weight: bold\"> 2.6841734466003486 </span>│<span style=\"color: #008080; text-decoration-color: #008080; font-weight: bold\"> 0.9514925373134329 </span>│<span style=\"color: #008080; text-decoration-color: #008080; font-weight: bold\"> 0.5234375       </span>│<span style=\"color: #008080; text-decoration-color: #008080; font-weight: bold\"> 0.0         </span>│\n",
       "│<span style=\"color: #008080; text-decoration-color: #008080; font-weight: bold\"> 276     </span>│<span style=\"color: #008080; text-decoration-color: #008080; font-weight: bold\"> 2.6788667936109904 </span>│<span style=\"color: #008080; text-decoration-color: #008080; font-weight: bold\"> 0.9528985507246377 </span>│<span style=\"color: #008080; text-decoration-color: #008080; font-weight: bold\"> 0.5390625       </span>│<span style=\"color: #008080; text-decoration-color: #008080; font-weight: bold\"> 0.0         </span>│\n",
       "│<span style=\"color: #008080; text-decoration-color: #008080; font-weight: bold\"> 278     </span>│<span style=\"color: #008080; text-decoration-color: #008080; font-weight: bold\"> 2.6787663479317114 </span>│<span style=\"color: #008080; text-decoration-color: #008080; font-weight: bold\"> 0.9460431654676259 </span>│<span style=\"color: #008080; text-decoration-color: #008080; font-weight: bold\"> 0.54296875      </span>│<span style=\"color: #008080; text-decoration-color: #008080; font-weight: bold\"> 0.0         </span>│\n",
       "│<span style=\"color: #008080; text-decoration-color: #008080; font-weight: bold\"> 285     </span>│<span style=\"color: #008080; text-decoration-color: #008080; font-weight: bold\"> 2.675460682834307  </span>│<span style=\"color: #008080; text-decoration-color: #008080; font-weight: bold\"> 0.9473684210526315 </span>│<span style=\"color: #008080; text-decoration-color: #008080; font-weight: bold\"> 0.556640625     </span>│<span style=\"color: #008080; text-decoration-color: #008080; font-weight: bold\"> 0.0         </span>│\n",
       "│<span style=\"color: #008080; text-decoration-color: #008080; font-weight: bold\"> 286     </span>│<span style=\"color: #008080; text-decoration-color: #008080; font-weight: bold\"> 2.6748079924257806 </span>│<span style=\"color: #008080; text-decoration-color: #008080; font-weight: bold\"> 0.9440559440559441 </span>│<span style=\"color: #008080; text-decoration-color: #008080; font-weight: bold\"> 0.55859375      </span>│<span style=\"color: #008080; text-decoration-color: #008080; font-weight: bold\"> 0.0         </span>│\n",
       "│<span style=\"color: #008080; text-decoration-color: #008080; font-weight: bold\"> 287     </span>│<span style=\"color: #008080; text-decoration-color: #008080; font-weight: bold\"> 2.6743372341720466 </span>│<span style=\"color: #008080; text-decoration-color: #008080; font-weight: bold\"> 0.9442508710801394 </span>│<span style=\"color: #008080; text-decoration-color: #008080; font-weight: bold\"> 0.560546875     </span>│<span style=\"color: #008080; text-decoration-color: #008080; font-weight: bold\"> 0.0         </span>│\n",
       "│<span style=\"color: #008080; text-decoration-color: #008080; font-weight: bold\"> 288     </span>│<span style=\"color: #008080; text-decoration-color: #008080; font-weight: bold\"> 2.674271688494239  </span>│<span style=\"color: #008080; text-decoration-color: #008080; font-weight: bold\"> 0.9409722222222222 </span>│<span style=\"color: #008080; text-decoration-color: #008080; font-weight: bold\"> 0.5625          </span>│<span style=\"color: #008080; text-decoration-color: #008080; font-weight: bold\"> 0.0         </span>│\n",
       "│<span style=\"color: #008080; text-decoration-color: #008080; font-weight: bold\"> 305     </span>│<span style=\"color: #008080; text-decoration-color: #008080; font-weight: bold\"> 2.662900317399734  </span>│<span style=\"color: #008080; text-decoration-color: #008080; font-weight: bold\"> 0.9442622950819672 </span>│<span style=\"color: #008080; text-decoration-color: #008080; font-weight: bold\"> 0.595703125     </span>│<span style=\"color: #008080; text-decoration-color: #008080; font-weight: bold\"> 0.0         </span>│\n",
       "│<span style=\"color: #008080; text-decoration-color: #008080; font-weight: bold\"> 307     </span>│<span style=\"color: #008080; text-decoration-color: #008080; font-weight: bold\"> 2.661647825397606  </span>│<span style=\"color: #008080; text-decoration-color: #008080; font-weight: bold\"> 0.9381107491856677 </span>│<span style=\"color: #008080; text-decoration-color: #008080; font-weight: bold\"> 0.599609375     </span>│<span style=\"color: #008080; text-decoration-color: #008080; font-weight: bold\"> 0.0         </span>│\n",
       "│<span style=\"color: #008080; text-decoration-color: #008080; font-weight: bold\"> 314     </span>│<span style=\"color: #008080; text-decoration-color: #008080; font-weight: bold\"> 2.658008662743674  </span>│<span style=\"color: #008080; text-decoration-color: #008080; font-weight: bold\"> 0.9394904458598726 </span>│<span style=\"color: #008080; text-decoration-color: #008080; font-weight: bold\"> 0.61328125      </span>│<span style=\"color: #008080; text-decoration-color: #008080; font-weight: bold\"> 0.0         </span>│\n",
       "│<span style=\"color: #008080; text-decoration-color: #008080; font-weight: bold\"> 315     </span>│<span style=\"color: #008080; text-decoration-color: #008080; font-weight: bold\"> 2.6576788696152702 </span>│<span style=\"color: #008080; text-decoration-color: #008080; font-weight: bold\"> 0.9365079365079365 </span>│<span style=\"color: #008080; text-decoration-color: #008080; font-weight: bold\"> 0.615234375     </span>│<span style=\"color: #008080; text-decoration-color: #008080; font-weight: bold\"> 0.0         </span>│\n",
       "│<span style=\"color: #008080; text-decoration-color: #008080; font-weight: bold\"> 316     </span>│<span style=\"color: #008080; text-decoration-color: #008080; font-weight: bold\"> 2.657092824261394  </span>│<span style=\"color: #008080; text-decoration-color: #008080; font-weight: bold\"> 0.9367088607594937 </span>│<span style=\"color: #008080; text-decoration-color: #008080; font-weight: bold\"> 0.6171875       </span>│<span style=\"color: #008080; text-decoration-color: #008080; font-weight: bold\"> 0.0         </span>│\n",
       "│<span style=\"color: #008080; text-decoration-color: #008080; font-weight: bold\"> 317     </span>│<span style=\"color: #008080; text-decoration-color: #008080; font-weight: bold\"> 2.656850411474213  </span>│<span style=\"color: #008080; text-decoration-color: #008080; font-weight: bold\"> 0.9337539432176656 </span>│<span style=\"color: #008080; text-decoration-color: #008080; font-weight: bold\"> 0.619140625     </span>│<span style=\"color: #008080; text-decoration-color: #008080; font-weight: bold\"> 0.0         </span>│\n",
       "│<span style=\"color: #008080; text-decoration-color: #008080; font-weight: bold\"> 321     </span>│<span style=\"color: #008080; text-decoration-color: #008080; font-weight: bold\"> 2.6488319813775023 </span>│<span style=\"color: #008080; text-decoration-color: #008080; font-weight: bold\"> 0.9345794392523364 </span>│<span style=\"color: #008080; text-decoration-color: #008080; font-weight: bold\"> 0.626953125     </span>│<span style=\"color: #008080; text-decoration-color: #008080; font-weight: bold\"> 0.0         </span>│\n",
       "│<span style=\"color: #008080; text-decoration-color: #008080; font-weight: bold\"> 322     </span>│<span style=\"color: #008080; text-decoration-color: #008080; font-weight: bold\"> 2.6483412958569366 </span>│<span style=\"color: #008080; text-decoration-color: #008080; font-weight: bold\"> 0.9316770186335404 </span>│<span style=\"color: #008080; text-decoration-color: #008080; font-weight: bold\"> 0.62890625      </span>│<span style=\"color: #008080; text-decoration-color: #008080; font-weight: bold\"> 0.0         </span>│\n",
       "│<span style=\"color: #008080; text-decoration-color: #008080; font-weight: bold\"> 327     </span>│<span style=\"color: #008080; text-decoration-color: #008080; font-weight: bold\"> 2.644627558569083  </span>│<span style=\"color: #008080; text-decoration-color: #008080; font-weight: bold\"> 0.9327217125382263 </span>│<span style=\"color: #008080; text-decoration-color: #008080; font-weight: bold\"> 0.638671875     </span>│<span style=\"color: #008080; text-decoration-color: #008080; font-weight: bold\"> 0.0         </span>│\n",
       "│<span style=\"color: #008080; text-decoration-color: #008080; font-weight: bold\"> 328     </span>│<span style=\"color: #008080; text-decoration-color: #008080; font-weight: bold\"> 2.6440435173732064 </span>│<span style=\"color: #008080; text-decoration-color: #008080; font-weight: bold\"> 0.9298780487804879 </span>│<span style=\"color: #008080; text-decoration-color: #008080; font-weight: bold\"> 0.640625        </span>│<span style=\"color: #008080; text-decoration-color: #008080; font-weight: bold\"> 0.0         </span>│\n",
       "│<span style=\"color: #008080; text-decoration-color: #008080; font-weight: bold\"> 332     </span>│<span style=\"color: #008080; text-decoration-color: #008080; font-weight: bold\"> 2.6382142988350847 </span>│<span style=\"color: #008080; text-decoration-color: #008080; font-weight: bold\"> 0.9307228915662651 </span>│<span style=\"color: #008080; text-decoration-color: #008080; font-weight: bold\"> 0.6484375       </span>│<span style=\"color: #008080; text-decoration-color: #008080; font-weight: bold\"> 0.0         </span>│\n",
       "│<span style=\"color: #008080; text-decoration-color: #008080; font-weight: bold\"> 333     </span>│<span style=\"color: #008080; text-decoration-color: #008080; font-weight: bold\"> 2.6381701749028634 </span>│<span style=\"color: #008080; text-decoration-color: #008080; font-weight: bold\"> 0.9279279279279279 </span>│<span style=\"color: #008080; text-decoration-color: #008080; font-weight: bold\"> 0.650390625     </span>│<span style=\"color: #008080; text-decoration-color: #008080; font-weight: bold\"> 0.0         </span>│\n",
       "│<span style=\"color: #008080; text-decoration-color: #008080; font-weight: bold\"> 338     </span>│<span style=\"color: #008080; text-decoration-color: #008080; font-weight: bold\"> 2.631917036160673  </span>│<span style=\"color: #008080; text-decoration-color: #008080; font-weight: bold\"> 0.9289940828402367 </span>│<span style=\"color: #008080; text-decoration-color: #008080; font-weight: bold\"> 0.66015625      </span>│<span style=\"color: #008080; text-decoration-color: #008080; font-weight: bold\"> 0.0         </span>│\n",
       "│<span style=\"color: #008080; text-decoration-color: #008080; font-weight: bold\"> 341     </span>│<span style=\"color: #008080; text-decoration-color: #008080; font-weight: bold\"> 2.6258805173134285 </span>│<span style=\"color: #008080; text-decoration-color: #008080; font-weight: bold\"> 0.9208211143695014 </span>│<span style=\"color: #008080; text-decoration-color: #008080; font-weight: bold\"> 0.666015625     </span>│<span style=\"color: #008080; text-decoration-color: #008080; font-weight: bold\"> 0.0         </span>│\n",
       "│<span style=\"color: #008080; text-decoration-color: #008080; font-weight: bold\"> 347     </span>│<span style=\"color: #008080; text-decoration-color: #008080; font-weight: bold\"> 2.613280105381084  </span>│<span style=\"color: #008080; text-decoration-color: #008080; font-weight: bold\"> 0.9221902017291066 </span>│<span style=\"color: #008080; text-decoration-color: #008080; font-weight: bold\"> 0.677734375     </span>│<span style=\"color: #008080; text-decoration-color: #008080; font-weight: bold\"> 0.0         </span>│\n",
       "│<span style=\"color: #008080; text-decoration-color: #008080; font-weight: bold\"> 349     </span>│<span style=\"color: #008080; text-decoration-color: #008080; font-weight: bold\"> 2.6100396494852878 </span>│<span style=\"color: #008080; text-decoration-color: #008080; font-weight: bold\"> 0.9169054441260746 </span>│<span style=\"color: #008080; text-decoration-color: #008080; font-weight: bold\"> 0.681640625     </span>│<span style=\"color: #008080; text-decoration-color: #008080; font-weight: bold\"> 0.0         </span>│\n",
       "│<span style=\"color: #008080; text-decoration-color: #008080; font-weight: bold\"> 357     </span>│<span style=\"color: #008080; text-decoration-color: #008080; font-weight: bold\"> 2.60264151181044   </span>│<span style=\"color: #008080; text-decoration-color: #008080; font-weight: bold\"> 0.9187675070028011 </span>│<span style=\"color: #008080; text-decoration-color: #008080; font-weight: bold\"> 0.697265625     </span>│<span style=\"color: #008080; text-decoration-color: #008080; font-weight: bold\"> 0.0         </span>│\n",
       "│<span style=\"color: #008080; text-decoration-color: #008080; font-weight: bold\"> 358     </span>│<span style=\"color: #008080; text-decoration-color: #008080; font-weight: bold\"> 2.600213730201837  </span>│<span style=\"color: #008080; text-decoration-color: #008080; font-weight: bold\"> 0.9162011173184358 </span>│<span style=\"color: #008080; text-decoration-color: #008080; font-weight: bold\"> 0.69921875      </span>│<span style=\"color: #008080; text-decoration-color: #008080; font-weight: bold\"> 0.0         </span>│\n",
       "│<span style=\"color: #008080; text-decoration-color: #008080; font-weight: bold\"> 359     </span>│<span style=\"color: #008080; text-decoration-color: #008080; font-weight: bold\"> 2.5987119478971628 </span>│<span style=\"color: #008080; text-decoration-color: #008080; font-weight: bold\"> 0.9164345403899722 </span>│<span style=\"color: #008080; text-decoration-color: #008080; font-weight: bold\"> 0.701171875     </span>│<span style=\"color: #008080; text-decoration-color: #008080; font-weight: bold\"> 0.0         </span>│\n",
       "│<span style=\"color: #008080; text-decoration-color: #008080; font-weight: bold\"> 360     </span>│<span style=\"color: #008080; text-decoration-color: #008080; font-weight: bold\"> 2.5982214149605043 </span>│<span style=\"color: #008080; text-decoration-color: #008080; font-weight: bold\"> 0.9138888888888889 </span>│<span style=\"color: #008080; text-decoration-color: #008080; font-weight: bold\"> 0.703125        </span>│<span style=\"color: #008080; text-decoration-color: #008080; font-weight: bold\"> 0.0         </span>│\n",
       "│<span style=\"color: #008080; text-decoration-color: #008080; font-weight: bold\"> 361     </span>│<span style=\"color: #008080; text-decoration-color: #008080; font-weight: bold\"> 2.5967738980595447 </span>│<span style=\"color: #008080; text-decoration-color: #008080; font-weight: bold\"> 0.9141274238227147 </span>│<span style=\"color: #008080; text-decoration-color: #008080; font-weight: bold\"> 0.705078125     </span>│<span style=\"color: #008080; text-decoration-color: #008080; font-weight: bold\"> 0.0         </span>│\n",
       "│<span style=\"color: #008080; text-decoration-color: #008080; font-weight: bold\"> 362     </span>│<span style=\"color: #008080; text-decoration-color: #008080; font-weight: bold\"> 2.5956217150542664 </span>│<span style=\"color: #008080; text-decoration-color: #008080; font-weight: bold\"> 0.9116022099447514 </span>│<span style=\"color: #008080; text-decoration-color: #008080; font-weight: bold\"> 0.70703125      </span>│<span style=\"color: #008080; text-decoration-color: #008080; font-weight: bold\"> 0.0         </span>│\n",
       "│<span style=\"color: #008080; text-decoration-color: #008080; font-weight: bold\"> 366     </span>│<span style=\"color: #008080; text-decoration-color: #008080; font-weight: bold\"> 2.5939529575144755 </span>│<span style=\"color: #008080; text-decoration-color: #008080; font-weight: bold\"> 0.912568306010929  </span>│<span style=\"color: #008080; text-decoration-color: #008080; font-weight: bold\"> 0.71484375      </span>│<span style=\"color: #008080; text-decoration-color: #008080; font-weight: bold\"> 0.0         </span>│\n",
       "│<span style=\"color: #008080; text-decoration-color: #008080; font-weight: bold\"> 367     </span>│<span style=\"color: #008080; text-decoration-color: #008080; font-weight: bold\"> 2.5923231028631846 </span>│<span style=\"color: #008080; text-decoration-color: #008080; font-weight: bold\"> 0.9100817438692098 </span>│<span style=\"color: #008080; text-decoration-color: #008080; font-weight: bold\"> 0.716796875     </span>│<span style=\"color: #008080; text-decoration-color: #008080; font-weight: bold\"> 0.0         </span>│\n",
       "│<span style=\"color: #008080; text-decoration-color: #008080; font-weight: bold\"> 369     </span>│<span style=\"color: #008080; text-decoration-color: #008080; font-weight: bold\"> 2.586668704315907  </span>│<span style=\"color: #008080; text-decoration-color: #008080; font-weight: bold\"> 0.9105691056910569 </span>│<span style=\"color: #008080; text-decoration-color: #008080; font-weight: bold\"> 0.720703125     </span>│<span style=\"color: #008080; text-decoration-color: #008080; font-weight: bold\"> 0.0         </span>│\n",
       "│<span style=\"color: #008080; text-decoration-color: #008080; font-weight: bold\"> 370     </span>│<span style=\"color: #008080; text-decoration-color: #008080; font-weight: bold\"> 2.584598043620614  </span>│<span style=\"color: #008080; text-decoration-color: #008080; font-weight: bold\"> 0.9081081081081082 </span>│<span style=\"color: #008080; text-decoration-color: #008080; font-weight: bold\"> 0.72265625      </span>│<span style=\"color: #008080; text-decoration-color: #008080; font-weight: bold\"> 0.0         </span>│\n",
       "│<span style=\"color: #008080; text-decoration-color: #008080; font-weight: bold\"> 372     </span>│<span style=\"color: #008080; text-decoration-color: #008080; font-weight: bold\"> 2.5824413784544844 </span>│<span style=\"color: #008080; text-decoration-color: #008080; font-weight: bold\"> 0.9086021505376344 </span>│<span style=\"color: #008080; text-decoration-color: #008080; font-weight: bold\"> 0.7265625       </span>│<span style=\"color: #008080; text-decoration-color: #008080; font-weight: bold\"> 0.0         </span>│\n",
       "│<span style=\"color: #008080; text-decoration-color: #008080; font-weight: bold\"> 373     </span>│<span style=\"color: #008080; text-decoration-color: #008080; font-weight: bold\"> 2.580114216483269  </span>│<span style=\"color: #008080; text-decoration-color: #008080; font-weight: bold\"> 0.9061662198391421 </span>│<span style=\"color: #008080; text-decoration-color: #008080; font-weight: bold\"> 0.728515625     </span>│<span style=\"color: #008080; text-decoration-color: #008080; font-weight: bold\"> 0.0         </span>│\n",
       "│<span style=\"color: #008080; text-decoration-color: #008080; font-weight: bold\"> 379     </span>│<span style=\"color: #008080; text-decoration-color: #008080; font-weight: bold\"> 2.5693490715593326 </span>│<span style=\"color: #008080; text-decoration-color: #008080; font-weight: bold\"> 0.9076517150395779 </span>│<span style=\"color: #008080; text-decoration-color: #008080; font-weight: bold\"> 0.740234375     </span>│<span style=\"color: #008080; text-decoration-color: #008080; font-weight: bold\"> 0.0         </span>│\n",
       "│<span style=\"color: #008080; text-decoration-color: #008080; font-weight: bold\"> 380     </span>│<span style=\"color: #008080; text-decoration-color: #008080; font-weight: bold\"> 2.5669612035147393 </span>│<span style=\"color: #008080; text-decoration-color: #008080; font-weight: bold\"> 0.9052631578947369 </span>│<span style=\"color: #008080; text-decoration-color: #008080; font-weight: bold\"> 0.7421875       </span>│<span style=\"color: #008080; text-decoration-color: #008080; font-weight: bold\"> 0.0         </span>│\n",
       "│<span style=\"color: #008080; text-decoration-color: #008080; font-weight: bold\"> 384     </span>│<span style=\"color: #008080; text-decoration-color: #008080; font-weight: bold\"> 2.5605482331413927 </span>│<span style=\"color: #008080; text-decoration-color: #008080; font-weight: bold\"> 0.90625            </span>│<span style=\"color: #008080; text-decoration-color: #008080; font-weight: bold\"> 0.75            </span>│<span style=\"color: #008080; text-decoration-color: #008080; font-weight: bold\"> 0.0         </span>│\n",
       "│<span style=\"color: #008080; text-decoration-color: #008080; font-weight: bold\"> 385     </span>│<span style=\"color: #008080; text-decoration-color: #008080; font-weight: bold\"> 2.5586073302539027 </span>│<span style=\"color: #008080; text-decoration-color: #008080; font-weight: bold\"> 0.9038961038961039 </span>│<span style=\"color: #008080; text-decoration-color: #008080; font-weight: bold\"> 0.751953125     </span>│<span style=\"color: #008080; text-decoration-color: #008080; font-weight: bold\"> 0.0         </span>│\n",
       "│<span style=\"color: #008080; text-decoration-color: #008080; font-weight: bold\"> 393     </span>│<span style=\"color: #008080; text-decoration-color: #008080; font-weight: bold\"> 2.5341730528139874 </span>│<span style=\"color: #008080; text-decoration-color: #008080; font-weight: bold\"> 0.905852417302799  </span>│<span style=\"color: #008080; text-decoration-color: #008080; font-weight: bold\"> 0.767578125     </span>│<span style=\"color: #008080; text-decoration-color: #008080; font-weight: bold\"> 0.0         </span>│\n",
       "│<span style=\"color: #008080; text-decoration-color: #008080; font-weight: bold\"> 394     </span>│<span style=\"color: #008080; text-decoration-color: #008080; font-weight: bold\"> 2.533403363709723  </span>│<span style=\"color: #008080; text-decoration-color: #008080; font-weight: bold\"> 0.9035532994923858 </span>│<span style=\"color: #008080; text-decoration-color: #008080; font-weight: bold\"> 0.76953125      </span>│<span style=\"color: #008080; text-decoration-color: #008080; font-weight: bold\"> 0.0         </span>│\n",
       "│<span style=\"color: #008080; text-decoration-color: #008080; font-weight: bold\"> 397     </span>│<span style=\"color: #008080; text-decoration-color: #008080; font-weight: bold\"> 2.5253227487049617 </span>│<span style=\"color: #008080; text-decoration-color: #008080; font-weight: bold\"> 0.9042821158690176 </span>│<span style=\"color: #008080; text-decoration-color: #008080; font-weight: bold\"> 0.775390625     </span>│<span style=\"color: #008080; text-decoration-color: #008080; font-weight: bold\"> 0.0         </span>│\n",
       "│<span style=\"color: #008080; text-decoration-color: #008080; font-weight: bold\"> 398     </span>│<span style=\"color: #008080; text-decoration-color: #008080; font-weight: bold\"> 2.5205811159418086 </span>│<span style=\"color: #008080; text-decoration-color: #008080; font-weight: bold\"> 0.9020100502512562 </span>│<span style=\"color: #008080; text-decoration-color: #008080; font-weight: bold\"> 0.77734375      </span>│<span style=\"color: #008080; text-decoration-color: #008080; font-weight: bold\"> 0.0         </span>│\n",
       "│<span style=\"color: #008080; text-decoration-color: #008080; font-weight: bold\"> 401     </span>│<span style=\"color: #008080; text-decoration-color: #008080; font-weight: bold\"> 2.5115433236160163 </span>│<span style=\"color: #008080; text-decoration-color: #008080; font-weight: bold\"> 0.9027431421446384 </span>│<span style=\"color: #008080; text-decoration-color: #008080; font-weight: bold\"> 0.783203125     </span>│<span style=\"color: #008080; text-decoration-color: #008080; font-weight: bold\"> 0.0         </span>│\n",
       "│<span style=\"color: #008080; text-decoration-color: #008080; font-weight: bold\"> 402     </span>│<span style=\"color: #008080; text-decoration-color: #008080; font-weight: bold\"> 2.5109002392467152 </span>│<span style=\"color: #008080; text-decoration-color: #008080; font-weight: bold\"> 0.900497512437811  </span>│<span style=\"color: #008080; text-decoration-color: #008080; font-weight: bold\"> 0.78515625      </span>│<span style=\"color: #008080; text-decoration-color: #008080; font-weight: bold\"> 0.0         </span>│\n",
       "│<span style=\"color: #008080; text-decoration-color: #008080; font-weight: bold\"> 407     </span>│<span style=\"color: #008080; text-decoration-color: #008080; font-weight: bold\"> 2.490033748253391  </span>│<span style=\"color: #008080; text-decoration-color: #008080; font-weight: bold\"> 0.9017199017199017 </span>│<span style=\"color: #008080; text-decoration-color: #008080; font-weight: bold\"> 0.794921875     </span>│<span style=\"color: #008080; text-decoration-color: #008080; font-weight: bold\"> 0.0         </span>│\n",
       "│<span style=\"color: #008080; text-decoration-color: #008080; font-weight: bold\"> 408     </span>│<span style=\"color: #008080; text-decoration-color: #008080; font-weight: bold\"> 2.489640377448616  </span>│<span style=\"color: #008080; text-decoration-color: #008080; font-weight: bold\"> 0.8995098039215687 </span>│<span style=\"color: #008080; text-decoration-color: #008080; font-weight: bold\"> 0.796875        </span>│<span style=\"color: #008080; text-decoration-color: #008080; font-weight: bold\"> 0.0         </span>│\n",
       "│<span style=\"color: #008080; text-decoration-color: #008080; font-weight: bold\"> 410     </span>│<span style=\"color: #008080; text-decoration-color: #008080; font-weight: bold\"> 2.4796363835564175 </span>│<span style=\"color: #008080; text-decoration-color: #008080; font-weight: bold\"> 0.9                </span>│<span style=\"color: #008080; text-decoration-color: #008080; font-weight: bold\"> 0.80078125      </span>│<span style=\"color: #008080; text-decoration-color: #008080; font-weight: bold\"> 0.0         </span>│\n",
       "│<span style=\"color: #008080; text-decoration-color: #008080; font-weight: bold\"> 411     </span>│<span style=\"color: #008080; text-decoration-color: #008080; font-weight: bold\"> 2.476045473722606  </span>│<span style=\"color: #008080; text-decoration-color: #008080; font-weight: bold\"> 0.8978102189781022 </span>│<span style=\"color: #008080; text-decoration-color: #008080; font-weight: bold\"> 0.802734375     </span>│<span style=\"color: #008080; text-decoration-color: #008080; font-weight: bold\"> 0.0         </span>│\n",
       "│<span style=\"color: #008080; text-decoration-color: #008080; font-weight: bold\"> 412     </span>│<span style=\"color: #008080; text-decoration-color: #008080; font-weight: bold\"> 2.473887809255548  </span>│<span style=\"color: #008080; text-decoration-color: #008080; font-weight: bold\"> 0.8980582524271845 </span>│<span style=\"color: #008080; text-decoration-color: #008080; font-weight: bold\"> 0.8046875       </span>│<span style=\"color: #008080; text-decoration-color: #008080; font-weight: bold\"> 0.0         </span>│\n",
       "│<span style=\"color: #008080; text-decoration-color: #008080; font-weight: bold\"> 413     </span>│<span style=\"color: #008080; text-decoration-color: #008080; font-weight: bold\"> 2.472892293770199  </span>│<span style=\"color: #008080; text-decoration-color: #008080; font-weight: bold\"> 0.8958837772397095 </span>│<span style=\"color: #008080; text-decoration-color: #008080; font-weight: bold\"> 0.806640625     </span>│<span style=\"color: #008080; text-decoration-color: #008080; font-weight: bold\"> 0.0         </span>│\n",
       "│<span style=\"color: #008080; text-decoration-color: #008080; font-weight: bold\"> 414     </span>│<span style=\"color: #008080; text-decoration-color: #008080; font-weight: bold\"> 2.472802887510293  </span>│<span style=\"color: #008080; text-decoration-color: #008080; font-weight: bold\"> 0.8961352657004831 </span>│<span style=\"color: #008080; text-decoration-color: #008080; font-weight: bold\"> 0.80859375      </span>│<span style=\"color: #008080; text-decoration-color: #008080; font-weight: bold\"> 0.0         </span>│\n",
       "│<span style=\"color: #008080; text-decoration-color: #008080; font-weight: bold\"> 416     </span>│<span style=\"color: #008080; text-decoration-color: #008080; font-weight: bold\"> 2.4671634964120726 </span>│<span style=\"color: #008080; text-decoration-color: #008080; font-weight: bold\"> 0.8918269230769231 </span>│<span style=\"color: #008080; text-decoration-color: #008080; font-weight: bold\"> 0.8125          </span>│<span style=\"color: #008080; text-decoration-color: #008080; font-weight: bold\"> 0.0         </span>│\n",
       "│<span style=\"color: #008080; text-decoration-color: #008080; font-weight: bold\"> 417     </span>│<span style=\"color: #008080; text-decoration-color: #008080; font-weight: bold\"> 2.4637326288596575 </span>│<span style=\"color: #008080; text-decoration-color: #008080; font-weight: bold\"> 0.8920863309352518 </span>│<span style=\"color: #008080; text-decoration-color: #008080; font-weight: bold\"> 0.814453125     </span>│<span style=\"color: #008080; text-decoration-color: #008080; font-weight: bold\"> 0.0         </span>│\n",
       "│<span style=\"color: #008080; text-decoration-color: #008080; font-weight: bold\"> 418     </span>│<span style=\"color: #008080; text-decoration-color: #008080; font-weight: bold\"> 2.460967338726082  </span>│<span style=\"color: #008080; text-decoration-color: #008080; font-weight: bold\"> 0.8899521531100478 </span>│<span style=\"color: #008080; text-decoration-color: #008080; font-weight: bold\"> 0.81640625      </span>│<span style=\"color: #008080; text-decoration-color: #008080; font-weight: bold\"> 0.0         </span>│\n",
       "│<span style=\"color: #008080; text-decoration-color: #008080; font-weight: bold\"> 421     </span>│<span style=\"color: #008080; text-decoration-color: #008080; font-weight: bold\"> 2.454704763029184  </span>│<span style=\"color: #008080; text-decoration-color: #008080; font-weight: bold\"> 0.8907363420427553 </span>│<span style=\"color: #008080; text-decoration-color: #008080; font-weight: bold\"> 0.822265625     </span>│<span style=\"color: #008080; text-decoration-color: #008080; font-weight: bold\"> 0.0         </span>│\n",
       "│<span style=\"color: #008080; text-decoration-color: #008080; font-weight: bold\"> 423     </span>│<span style=\"color: #008080; text-decoration-color: #008080; font-weight: bold\"> 2.4389946512326963 </span>│<span style=\"color: #008080; text-decoration-color: #008080; font-weight: bold\"> 0.8865248226950354 </span>│<span style=\"color: #008080; text-decoration-color: #008080; font-weight: bold\"> 0.826171875     </span>│<span style=\"color: #008080; text-decoration-color: #008080; font-weight: bold\"> 0.0         </span>│\n",
       "│<span style=\"color: #008080; text-decoration-color: #008080; font-weight: bold\"> 424     </span>│<span style=\"color: #008080; text-decoration-color: #008080; font-weight: bold\"> 2.437246082628529  </span>│<span style=\"color: #008080; text-decoration-color: #008080; font-weight: bold\"> 0.8867924528301887 </span>│<span style=\"color: #008080; text-decoration-color: #008080; font-weight: bold\"> 0.828125        </span>│<span style=\"color: #008080; text-decoration-color: #008080; font-weight: bold\"> 0.0         </span>│\n",
       "│<span style=\"color: #008080; text-decoration-color: #008080; font-weight: bold\"> 430     </span>│<span style=\"color: #008080; text-decoration-color: #008080; font-weight: bold\"> 2.430053199637596  </span>│<span style=\"color: #008080; text-decoration-color: #008080; font-weight: bold\"> 0.8744186046511628 </span>│<span style=\"color: #008080; text-decoration-color: #008080; font-weight: bold\"> 0.83984375      </span>│<span style=\"color: #008080; text-decoration-color: #008080; font-weight: bold\"> 0.0         </span>│\n",
       "│<span style=\"color: #008080; text-decoration-color: #008080; font-weight: bold\"> 431     </span>│<span style=\"color: #008080; text-decoration-color: #008080; font-weight: bold\"> 2.426775106685908  </span>│<span style=\"color: #008080; text-decoration-color: #008080; font-weight: bold\"> 0.8747099767981439 </span>│<span style=\"color: #008080; text-decoration-color: #008080; font-weight: bold\"> 0.841796875     </span>│<span style=\"color: #008080; text-decoration-color: #008080; font-weight: bold\"> 0.0         </span>│\n",
       "│<span style=\"color: #008080; text-decoration-color: #008080; font-weight: bold\"> 432     </span>│<span style=\"color: #008080; text-decoration-color: #008080; font-weight: bold\"> 2.425190867124972  </span>│<span style=\"color: #008080; text-decoration-color: #008080; font-weight: bold\"> 0.8726851851851852 </span>│<span style=\"color: #008080; text-decoration-color: #008080; font-weight: bold\"> 0.84375         </span>│<span style=\"color: #008080; text-decoration-color: #008080; font-weight: bold\"> 0.0         </span>│\n",
       "│<span style=\"color: #008080; text-decoration-color: #008080; font-weight: bold\"> 433     </span>│<span style=\"color: #008080; text-decoration-color: #008080; font-weight: bold\"> 2.4230992013653734 </span>│<span style=\"color: #008080; text-decoration-color: #008080; font-weight: bold\"> 0.8729792147806005 </span>│<span style=\"color: #008080; text-decoration-color: #008080; font-weight: bold\"> 0.845703125     </span>│<span style=\"color: #008080; text-decoration-color: #008080; font-weight: bold\"> 0.0         </span>│\n",
       "│<span style=\"color: #008080; text-decoration-color: #008080; font-weight: bold\"> 434     </span>│<span style=\"color: #008080; text-decoration-color: #008080; font-weight: bold\"> 2.417403210685323  </span>│<span style=\"color: #008080; text-decoration-color: #008080; font-weight: bold\"> 0.8709677419354839 </span>│<span style=\"color: #008080; text-decoration-color: #008080; font-weight: bold\"> 0.84765625      </span>│<span style=\"color: #008080; text-decoration-color: #008080; font-weight: bold\"> 0.0         </span>│\n",
       "│<span style=\"color: #008080; text-decoration-color: #008080; font-weight: bold\"> 435     </span>│<span style=\"color: #008080; text-decoration-color: #008080; font-weight: bold\"> 2.398688292339076  </span>│<span style=\"color: #008080; text-decoration-color: #008080; font-weight: bold\"> 0.871264367816092  </span>│<span style=\"color: #008080; text-decoration-color: #008080; font-weight: bold\"> 0.849609375     </span>│<span style=\"color: #008080; text-decoration-color: #008080; font-weight: bold\"> 0.0         </span>│\n",
       "│<span style=\"color: #008080; text-decoration-color: #008080; font-weight: bold\"> 440     </span>│<span style=\"color: #008080; text-decoration-color: #008080; font-weight: bold\"> 2.383343300482261  </span>│<span style=\"color: #008080; text-decoration-color: #008080; font-weight: bold\"> 0.8613636363636363 </span>│<span style=\"color: #008080; text-decoration-color: #008080; font-weight: bold\"> 0.859375        </span>│<span style=\"color: #008080; text-decoration-color: #008080; font-weight: bold\"> 0.0         </span>│\n",
       "│<span style=\"color: #008080; text-decoration-color: #008080; font-weight: bold\"> 441     </span>│<span style=\"color: #008080; text-decoration-color: #008080; font-weight: bold\"> 2.3809519890309243 </span>│<span style=\"color: #008080; text-decoration-color: #008080; font-weight: bold\"> 0.8616780045351474 </span>│<span style=\"color: #008080; text-decoration-color: #008080; font-weight: bold\"> 0.861328125     </span>│<span style=\"color: #008080; text-decoration-color: #008080; font-weight: bold\"> 0.0         </span>│\n",
       "│<span style=\"color: #008080; text-decoration-color: #008080; font-weight: bold\"> 442     </span>│<span style=\"color: #008080; text-decoration-color: #008080; font-weight: bold\"> 2.380684285821699  </span>│<span style=\"color: #008080; text-decoration-color: #008080; font-weight: bold\"> 0.8597285067873304 </span>│<span style=\"color: #008080; text-decoration-color: #008080; font-weight: bold\"> 0.86328125      </span>│<span style=\"color: #008080; text-decoration-color: #008080; font-weight: bold\"> 0.0         </span>│\n",
       "│<span style=\"color: #008080; text-decoration-color: #008080; font-weight: bold\"> 444     </span>│<span style=\"color: #008080; text-decoration-color: #008080; font-weight: bold\"> 2.3775375363785076 </span>│<span style=\"color: #008080; text-decoration-color: #008080; font-weight: bold\"> 0.8603603603603603 </span>│<span style=\"color: #008080; text-decoration-color: #008080; font-weight: bold\"> 0.8671875       </span>│<span style=\"color: #008080; text-decoration-color: #008080; font-weight: bold\"> 0.0         </span>│\n",
       "│<span style=\"color: #008080; text-decoration-color: #008080; font-weight: bold\"> 451     </span>│<span style=\"color: #008080; text-decoration-color: #008080; font-weight: bold\"> 2.3545258930223163 </span>│<span style=\"color: #008080; text-decoration-color: #008080; font-weight: bold\"> 0.8470066518847007 </span>│<span style=\"color: #008080; text-decoration-color: #008080; font-weight: bold\"> 0.880859375     </span>│<span style=\"color: #008080; text-decoration-color: #008080; font-weight: bold\"> 0.0         </span>│\n",
       "│<span style=\"color: #008080; text-decoration-color: #008080; font-weight: bold\"> 452     </span>│<span style=\"color: #008080; text-decoration-color: #008080; font-weight: bold\"> 2.3496535056245085 </span>│<span style=\"color: #008080; text-decoration-color: #008080; font-weight: bold\"> 0.8473451327433629 </span>│<span style=\"color: #008080; text-decoration-color: #008080; font-weight: bold\"> 0.8828125       </span>│<span style=\"color: #008080; text-decoration-color: #008080; font-weight: bold\"> 0.0         </span>│\n",
       "│<span style=\"color: #008080; text-decoration-color: #008080; font-weight: bold\"> 455     </span>│<span style=\"color: #008080; text-decoration-color: #008080; font-weight: bold\"> 2.332969647230636  </span>│<span style=\"color: #008080; text-decoration-color: #008080; font-weight: bold\"> 0.8417582417582418 </span>│<span style=\"color: #008080; text-decoration-color: #008080; font-weight: bold\"> 0.888671875     </span>│<span style=\"color: #008080; text-decoration-color: #008080; font-weight: bold\"> 0.0         </span>│\n",
       "│<span style=\"color: #008080; text-decoration-color: #008080; font-weight: bold\"> 457     </span>│<span style=\"color: #008080; text-decoration-color: #008080; font-weight: bold\"> 2.3241684663244104 </span>│<span style=\"color: #008080; text-decoration-color: #008080; font-weight: bold\"> 0.8424507658643327 </span>│<span style=\"color: #008080; text-decoration-color: #008080; font-weight: bold\"> 0.892578125     </span>│<span style=\"color: #008080; text-decoration-color: #008080; font-weight: bold\"> 0.0         </span>│\n",
       "│<span style=\"color: #008080; text-decoration-color: #008080; font-weight: bold\"> 470     </span>│<span style=\"color: #008080; text-decoration-color: #008080; font-weight: bold\"> 2.2571492171775502 </span>│<span style=\"color: #008080; text-decoration-color: #008080; font-weight: bold\"> 0.8191489361702128 </span>│<span style=\"color: #008080; text-decoration-color: #008080; font-weight: bold\"> 0.91796875      </span>│<span style=\"color: #008080; text-decoration-color: #008080; font-weight: bold\"> 0.0         </span>│\n",
       "│<span style=\"color: #008080; text-decoration-color: #008080; font-weight: bold\"> 471     </span>│<span style=\"color: #008080; text-decoration-color: #008080; font-weight: bold\"> 2.2522788851940185 </span>│<span style=\"color: #008080; text-decoration-color: #008080; font-weight: bold\"> 0.8195329087048833 </span>│<span style=\"color: #008080; text-decoration-color: #008080; font-weight: bold\"> 0.919921875     </span>│<span style=\"color: #008080; text-decoration-color: #008080; font-weight: bold\"> 0.0         </span>│\n",
       "│<span style=\"color: #008080; text-decoration-color: #008080; font-weight: bold\"> 479     </span>│<span style=\"color: #008080; text-decoration-color: #008080; font-weight: bold\"> 2.2233982773254892 </span>│<span style=\"color: #008080; text-decoration-color: #008080; font-weight: bold\"> 0.8058455114822547 </span>│<span style=\"color: #008080; text-decoration-color: #008080; font-weight: bold\"> 0.935546875     </span>│<span style=\"color: #008080; text-decoration-color: #008080; font-weight: bold\"> 0.0         </span>│\n",
       "│<span style=\"color: #008080; text-decoration-color: #008080; font-weight: bold\"> 481     </span>│<span style=\"color: #008080; text-decoration-color: #008080; font-weight: bold\"> 2.217548976755543  </span>│<span style=\"color: #008080; text-decoration-color: #008080; font-weight: bold\"> 0.8066528066528067 </span>│<span style=\"color: #008080; text-decoration-color: #008080; font-weight: bold\"> 0.939453125     </span>│<span style=\"color: #008080; text-decoration-color: #008080; font-weight: bold\"> 0.0         </span>│\n",
       "│<span style=\"color: #008080; text-decoration-color: #008080; font-weight: bold\"> 482     </span>│<span style=\"color: #008080; text-decoration-color: #008080; font-weight: bold\"> 2.2157099855220257 </span>│<span style=\"color: #008080; text-decoration-color: #008080; font-weight: bold\"> 0.8049792531120332 </span>│<span style=\"color: #008080; text-decoration-color: #008080; font-weight: bold\"> 0.94140625      </span>│<span style=\"color: #008080; text-decoration-color: #008080; font-weight: bold\"> 0.0         </span>│\n",
       "│<span style=\"color: #008080; text-decoration-color: #008080; font-weight: bold\"> 483     </span>│<span style=\"color: #008080; text-decoration-color: #008080; font-weight: bold\"> 2.215615239662546  </span>│<span style=\"color: #008080; text-decoration-color: #008080; font-weight: bold\"> 0.8053830227743272 </span>│<span style=\"color: #008080; text-decoration-color: #008080; font-weight: bold\"> 0.943359375     </span>│<span style=\"color: #008080; text-decoration-color: #008080; font-weight: bold\"> 0.0         </span>│\n",
       "│<span style=\"color: #008080; text-decoration-color: #008080; font-weight: bold\"> 487     </span>│<span style=\"color: #008080; text-decoration-color: #008080; font-weight: bold\"> 2.158212460399352  </span>│<span style=\"color: #008080; text-decoration-color: #008080; font-weight: bold\"> 0.7987679671457906 </span>│<span style=\"color: #008080; text-decoration-color: #008080; font-weight: bold\"> 0.951171875     </span>│<span style=\"color: #008080; text-decoration-color: #008080; font-weight: bold\"> 0.0         </span>│\n",
       "│<span style=\"color: #008080; text-decoration-color: #008080; font-weight: bold\"> 490     </span>│<span style=\"color: #008080; text-decoration-color: #008080; font-weight: bold\"> 2.1356652729894865 </span>│<span style=\"color: #008080; text-decoration-color: #008080; font-weight: bold\"> 0.8                </span>│<span style=\"color: #008080; text-decoration-color: #008080; font-weight: bold\"> 0.95703125      </span>│<span style=\"color: #008080; text-decoration-color: #008080; font-weight: bold\"> 0.0         </span>│\n",
       "│<span style=\"color: #008080; text-decoration-color: #008080; font-weight: bold\"> 491     </span>│<span style=\"color: #008080; text-decoration-color: #008080; font-weight: bold\"> 2.135545320571303  </span>│<span style=\"color: #008080; text-decoration-color: #008080; font-weight: bold\"> 0.7983706720977597 </span>│<span style=\"color: #008080; text-decoration-color: #008080; font-weight: bold\"> 0.958984375     </span>│<span style=\"color: #008080; text-decoration-color: #008080; font-weight: bold\"> 0.0         </span>│\n",
       "│<span style=\"color: #008080; text-decoration-color: #008080; font-weight: bold\"> 492     </span>│<span style=\"color: #008080; text-decoration-color: #008080; font-weight: bold\"> 2.12981278565933   </span>│<span style=\"color: #008080; text-decoration-color: #008080; font-weight: bold\"> 0.7987804878048781 </span>│<span style=\"color: #008080; text-decoration-color: #008080; font-weight: bold\"> 0.9609375       </span>│<span style=\"color: #008080; text-decoration-color: #008080; font-weight: bold\"> 0.0         </span>│\n",
       "│<span style=\"color: #008080; text-decoration-color: #008080; font-weight: bold\"> 494     </span>│<span style=\"color: #008080; text-decoration-color: #008080; font-weight: bold\"> 2.116333593168829  </span>│<span style=\"color: #008080; text-decoration-color: #008080; font-weight: bold\"> 0.7955465587044535 </span>│<span style=\"color: #008080; text-decoration-color: #008080; font-weight: bold\"> 0.96484375      </span>│<span style=\"color: #008080; text-decoration-color: #008080; font-weight: bold\"> 0.0         </span>│\n",
       "│<span style=\"color: #008080; text-decoration-color: #008080; font-weight: bold\"> 495     </span>│<span style=\"color: #008080; text-decoration-color: #008080; font-weight: bold\"> 2.1155286241246762 </span>│<span style=\"color: #008080; text-decoration-color: #008080; font-weight: bold\"> 0.795959595959596  </span>│<span style=\"color: #008080; text-decoration-color: #008080; font-weight: bold\"> 0.966796875     </span>│<span style=\"color: #008080; text-decoration-color: #008080; font-weight: bold\"> 0.0         </span>│\n",
       "│<span style=\"color: #008080; text-decoration-color: #008080; font-weight: bold\"> 498     </span>│<span style=\"color: #008080; text-decoration-color: #008080; font-weight: bold\"> 2.099048510770152  </span>│<span style=\"color: #008080; text-decoration-color: #008080; font-weight: bold\"> 0.7911646586345381 </span>│<span style=\"color: #008080; text-decoration-color: #008080; font-weight: bold\"> 0.97265625      </span>│<span style=\"color: #008080; text-decoration-color: #008080; font-weight: bold\"> 0.0         </span>│\n",
       "│<span style=\"color: #008080; text-decoration-color: #008080; font-weight: bold\"> 500     </span>│<span style=\"color: #008080; text-decoration-color: #008080; font-weight: bold\"> 2.0971073590956975 </span>│<span style=\"color: #008080; text-decoration-color: #008080; font-weight: bold\"> 0.792              </span>│<span style=\"color: #008080; text-decoration-color: #008080; font-weight: bold\"> 0.9765625       </span>│<span style=\"color: #008080; text-decoration-color: #008080; font-weight: bold\"> 0.0         </span>│\n",
       "│<span style=\"color: #008080; text-decoration-color: #008080; font-weight: bold\"> 506     </span>│<span style=\"color: #008080; text-decoration-color: #008080; font-weight: bold\"> 1.951540389338236  </span>│<span style=\"color: #008080; text-decoration-color: #008080; font-weight: bold\"> 0.782608695652174  </span>│<span style=\"color: #008080; text-decoration-color: #008080; font-weight: bold\"> 0.98828125      </span>│<span style=\"color: #008080; text-decoration-color: #008080; font-weight: bold\"> 0.0         </span>│\n",
       "│<span style=\"color: #008080; text-decoration-color: #008080; font-weight: bold\"> 508     </span>│<span style=\"color: #008080; text-decoration-color: #008080; font-weight: bold\"> 1.8743521514545538 </span>│<span style=\"color: #008080; text-decoration-color: #008080; font-weight: bold\"> 0.7834645669291339 </span>│<span style=\"color: #008080; text-decoration-color: #008080; font-weight: bold\"> 0.9921875       </span>│<span style=\"color: #008080; text-decoration-color: #008080; font-weight: bold\"> 0.0         </span>│\n",
       "│<span style=\"color: #008080; text-decoration-color: #008080; font-weight: bold\"> 512     </span>│<span style=\"color: #008080; text-decoration-color: #008080; font-weight: bold\"> 1.6924392817402083 </span>│<span style=\"color: #008080; text-decoration-color: #008080; font-weight: bold\"> 0.77734375         </span>│<span style=\"color: #008080; text-decoration-color: #008080; font-weight: bold\"> 1.0             </span>│<span style=\"color: #008080; text-decoration-color: #008080; font-weight: bold\"> 0.0         </span>│\n",
       "└─────────┴────────────────────┴────────────────────┴─────────────────┴─────────────┘\n",
       "</pre>\n"
      ],
      "text/plain": [
       "┏━━━━━━━━━┳━━━━━━━━━━━━━━━━━━━━┳━━━━━━━━━━━━━━━━━━━━┳━━━━━━━━━━━━━━━━━┳━━━━━━━━━━━━━┓\n",
       "┃\u001b[1m \u001b[0m\u001b[1msupport\u001b[0m\u001b[1m \u001b[0m┃\u001b[1m \u001b[0m\u001b[1mthreshold         \u001b[0m\u001b[1m \u001b[0m┃\u001b[1m \u001b[0m\u001b[1maccuracy          \u001b[0m\u001b[1m \u001b[0m┃\u001b[1m \u001b[0m\u001b[1mcompletion_rate\u001b[0m\u001b[1m \u001b[0m┃\u001b[1m \u001b[0m\u001b[1mActual Cost\u001b[0m\u001b[1m \u001b[0m┃\n",
       "┡━━━━━━━━━╇━━━━━━━━━━━━━━━━━━━━╇━━━━━━━━━━━━━━━━━━━━╇━━━━━━━━━━━━━━━━━╇━━━━━━━━━━━━━┩\n",
       "│\u001b[1;36m \u001b[0m\u001b[1;36m512    \u001b[0m\u001b[1;36m \u001b[0m│\u001b[1;36m \u001b[0m\u001b[1;36m-inf              \u001b[0m\u001b[1;36m \u001b[0m│\u001b[1;36m \u001b[0m\u001b[1;36m0.77734375        \u001b[0m\u001b[1;36m \u001b[0m│\u001b[1;36m \u001b[0m\u001b[1;36m1.0            \u001b[0m\u001b[1;36m \u001b[0m│\u001b[1;36m \u001b[0m\u001b[1;36m0.0        \u001b[0m\u001b[1;36m \u001b[0m│\n",
       "│\u001b[1;36m \u001b[0m\u001b[1;36m0      \u001b[0m\u001b[1;36m \u001b[0m│\u001b[1;36m \u001b[0m\u001b[1;36m3.7179562295851696\u001b[0m\u001b[1;36m \u001b[0m│\u001b[1;36m \u001b[0m\u001b[1;36m0.0               \u001b[0m\u001b[1;36m \u001b[0m│\u001b[1;36m \u001b[0m\u001b[1;36m0.0            \u001b[0m\u001b[1;36m \u001b[0m│\u001b[1;36m \u001b[0m\u001b[1;36m0.0        \u001b[0m\u001b[1;36m \u001b[0m│\n",
       "│\u001b[1;36m \u001b[0m\u001b[1;36m1      \u001b[0m\u001b[1;36m \u001b[0m│\u001b[1;36m \u001b[0m\u001b[1;36m2.7179562295851696\u001b[0m\u001b[1;36m \u001b[0m│\u001b[1;36m \u001b[0m\u001b[1;36m1.0               \u001b[0m\u001b[1;36m \u001b[0m│\u001b[1;36m \u001b[0m\u001b[1;36m0.001953125    \u001b[0m\u001b[1;36m \u001b[0m│\u001b[1;36m \u001b[0m\u001b[1;36m0.0        \u001b[0m\u001b[1;36m \u001b[0m│\n",
       "│\u001b[1;36m \u001b[0m\u001b[1;36m72     \u001b[0m\u001b[1;36m \u001b[0m│\u001b[1;36m \u001b[0m\u001b[1;36m2.715257423154796 \u001b[0m\u001b[1;36m \u001b[0m│\u001b[1;36m \u001b[0m\u001b[1;36m1.0               \u001b[0m\u001b[1;36m \u001b[0m│\u001b[1;36m \u001b[0m\u001b[1;36m0.140625       \u001b[0m\u001b[1;36m \u001b[0m│\u001b[1;36m \u001b[0m\u001b[1;36m0.0        \u001b[0m\u001b[1;36m \u001b[0m│\n",
       "│\u001b[1;36m \u001b[0m\u001b[1;36m73     \u001b[0m\u001b[1;36m \u001b[0m│\u001b[1;36m \u001b[0m\u001b[1;36m2.7152571714006566\u001b[0m\u001b[1;36m \u001b[0m│\u001b[1;36m \u001b[0m\u001b[1;36m0.9863013698630136\u001b[0m\u001b[1;36m \u001b[0m│\u001b[1;36m \u001b[0m\u001b[1;36m0.142578125    \u001b[0m\u001b[1;36m \u001b[0m│\u001b[1;36m \u001b[0m\u001b[1;36m0.0        \u001b[0m\u001b[1;36m \u001b[0m│\n",
       "│\u001b[1;36m \u001b[0m\u001b[1;36m89     \u001b[0m\u001b[1;36m \u001b[0m│\u001b[1;36m \u001b[0m\u001b[1;36m2.714168833498598 \u001b[0m\u001b[1;36m \u001b[0m│\u001b[1;36m \u001b[0m\u001b[1;36m0.9887640449438202\u001b[0m\u001b[1;36m \u001b[0m│\u001b[1;36m \u001b[0m\u001b[1;36m0.173828125    \u001b[0m\u001b[1;36m \u001b[0m│\u001b[1;36m \u001b[0m\u001b[1;36m0.0        \u001b[0m\u001b[1;36m \u001b[0m│\n",
       "│\u001b[1;36m \u001b[0m\u001b[1;36m90     \u001b[0m\u001b[1;36m \u001b[0m│\u001b[1;36m \u001b[0m\u001b[1;36m2.714131883867508 \u001b[0m\u001b[1;36m \u001b[0m│\u001b[1;36m \u001b[0m\u001b[1;36m0.9777777777777777\u001b[0m\u001b[1;36m \u001b[0m│\u001b[1;36m \u001b[0m\u001b[1;36m0.17578125     \u001b[0m\u001b[1;36m \u001b[0m│\u001b[1;36m \u001b[0m\u001b[1;36m0.0        \u001b[0m\u001b[1;36m \u001b[0m│\n",
       "│\u001b[1;36m \u001b[0m\u001b[1;36m145    \u001b[0m\u001b[1;36m \u001b[0m│\u001b[1;36m \u001b[0m\u001b[1;36m2.7089070008934955\u001b[0m\u001b[1;36m \u001b[0m│\u001b[1;36m \u001b[0m\u001b[1;36m0.9862068965517241\u001b[0m\u001b[1;36m \u001b[0m│\u001b[1;36m \u001b[0m\u001b[1;36m0.283203125    \u001b[0m\u001b[1;36m \u001b[0m│\u001b[1;36m \u001b[0m\u001b[1;36m0.0        \u001b[0m\u001b[1;36m \u001b[0m│\n",
       "│\u001b[1;36m \u001b[0m\u001b[1;36m146    \u001b[0m\u001b[1;36m \u001b[0m│\u001b[1;36m \u001b[0m\u001b[1;36m2.7089067990642035\u001b[0m\u001b[1;36m \u001b[0m│\u001b[1;36m \u001b[0m\u001b[1;36m0.9794520547945206\u001b[0m\u001b[1;36m \u001b[0m│\u001b[1;36m \u001b[0m\u001b[1;36m0.28515625     \u001b[0m\u001b[1;36m \u001b[0m│\u001b[1;36m \u001b[0m\u001b[1;36m0.0        \u001b[0m\u001b[1;36m \u001b[0m│\n",
       "│\u001b[1;36m \u001b[0m\u001b[1;36m149    \u001b[0m\u001b[1;36m \u001b[0m│\u001b[1;36m \u001b[0m\u001b[1;36m2.708777986027833 \u001b[0m\u001b[1;36m \u001b[0m│\u001b[1;36m \u001b[0m\u001b[1;36m0.9798657718120806\u001b[0m\u001b[1;36m \u001b[0m│\u001b[1;36m \u001b[0m\u001b[1;36m0.291015625    \u001b[0m\u001b[1;36m \u001b[0m│\u001b[1;36m \u001b[0m\u001b[1;36m0.0        \u001b[0m\u001b[1;36m \u001b[0m│\n",
       "│\u001b[1;36m \u001b[0m\u001b[1;36m150    \u001b[0m\u001b[1;36m \u001b[0m│\u001b[1;36m \u001b[0m\u001b[1;36m2.7087553707847376\u001b[0m\u001b[1;36m \u001b[0m│\u001b[1;36m \u001b[0m\u001b[1;36m0.9733333333333334\u001b[0m\u001b[1;36m \u001b[0m│\u001b[1;36m \u001b[0m\u001b[1;36m0.29296875     \u001b[0m\u001b[1;36m \u001b[0m│\u001b[1;36m \u001b[0m\u001b[1;36m0.0        \u001b[0m\u001b[1;36m \u001b[0m│\n",
       "│\u001b[1;36m \u001b[0m\u001b[1;36m176    \u001b[0m\u001b[1;36m \u001b[0m│\u001b[1;36m \u001b[0m\u001b[1;36m2.704846772212883 \u001b[0m\u001b[1;36m \u001b[0m│\u001b[1;36m \u001b[0m\u001b[1;36m0.9772727272727273\u001b[0m\u001b[1;36m \u001b[0m│\u001b[1;36m \u001b[0m\u001b[1;36m0.34375        \u001b[0m\u001b[1;36m \u001b[0m│\u001b[1;36m \u001b[0m\u001b[1;36m0.0        \u001b[0m\u001b[1;36m \u001b[0m│\n",
       "│\u001b[1;36m \u001b[0m\u001b[1;36m177    \u001b[0m\u001b[1;36m \u001b[0m│\u001b[1;36m \u001b[0m\u001b[1;36m2.7044363000103013\u001b[0m\u001b[1;36m \u001b[0m│\u001b[1;36m \u001b[0m\u001b[1;36m0.9717514124293786\u001b[0m\u001b[1;36m \u001b[0m│\u001b[1;36m \u001b[0m\u001b[1;36m0.345703125    \u001b[0m\u001b[1;36m \u001b[0m│\u001b[1;36m \u001b[0m\u001b[1;36m0.0        \u001b[0m\u001b[1;36m \u001b[0m│\n",
       "│\u001b[1;36m \u001b[0m\u001b[1;36m220    \u001b[0m\u001b[1;36m \u001b[0m│\u001b[1;36m \u001b[0m\u001b[1;36m2.698353179302333 \u001b[0m\u001b[1;36m \u001b[0m│\u001b[1;36m \u001b[0m\u001b[1;36m0.9772727272727273\u001b[0m\u001b[1;36m \u001b[0m│\u001b[1;36m \u001b[0m\u001b[1;36m0.4296875      \u001b[0m\u001b[1;36m \u001b[0m│\u001b[1;36m \u001b[0m\u001b[1;36m0.0        \u001b[0m\u001b[1;36m \u001b[0m│\n",
       "│\u001b[1;36m \u001b[0m\u001b[1;36m221    \u001b[0m\u001b[1;36m \u001b[0m│\u001b[1;36m \u001b[0m\u001b[1;36m2.6980871281648895\u001b[0m\u001b[1;36m \u001b[0m│\u001b[1;36m \u001b[0m\u001b[1;36m0.9728506787330317\u001b[0m\u001b[1;36m \u001b[0m│\u001b[1;36m \u001b[0m\u001b[1;36m0.431640625    \u001b[0m\u001b[1;36m \u001b[0m│\u001b[1;36m \u001b[0m\u001b[1;36m0.0        \u001b[0m\u001b[1;36m \u001b[0m│\n",
       "│\u001b[1;36m \u001b[0m\u001b[1;36m223    \u001b[0m\u001b[1;36m \u001b[0m│\u001b[1;36m \u001b[0m\u001b[1;36m2.697646175065241 \u001b[0m\u001b[1;36m \u001b[0m│\u001b[1;36m \u001b[0m\u001b[1;36m0.9730941704035875\u001b[0m\u001b[1;36m \u001b[0m│\u001b[1;36m \u001b[0m\u001b[1;36m0.435546875    \u001b[0m\u001b[1;36m \u001b[0m│\u001b[1;36m \u001b[0m\u001b[1;36m0.0        \u001b[0m\u001b[1;36m \u001b[0m│\n",
       "│\u001b[1;36m \u001b[0m\u001b[1;36m224    \u001b[0m\u001b[1;36m \u001b[0m│\u001b[1;36m \u001b[0m\u001b[1;36m2.697594052083686 \u001b[0m\u001b[1;36m \u001b[0m│\u001b[1;36m \u001b[0m\u001b[1;36m0.96875           \u001b[0m\u001b[1;36m \u001b[0m│\u001b[1;36m \u001b[0m\u001b[1;36m0.4375         \u001b[0m\u001b[1;36m \u001b[0m│\u001b[1;36m \u001b[0m\u001b[1;36m0.0        \u001b[0m\u001b[1;36m \u001b[0m│\n",
       "│\u001b[1;36m \u001b[0m\u001b[1;36m229    \u001b[0m\u001b[1;36m \u001b[0m│\u001b[1;36m \u001b[0m\u001b[1;36m2.69615160326664  \u001b[0m\u001b[1;36m \u001b[0m│\u001b[1;36m \u001b[0m\u001b[1;36m0.9694323144104804\u001b[0m\u001b[1;36m \u001b[0m│\u001b[1;36m \u001b[0m\u001b[1;36m0.447265625    \u001b[0m\u001b[1;36m \u001b[0m│\u001b[1;36m \u001b[0m\u001b[1;36m0.0        \u001b[0m\u001b[1;36m \u001b[0m│\n",
       "│\u001b[1;36m \u001b[0m\u001b[1;36m230    \u001b[0m\u001b[1;36m \u001b[0m│\u001b[1;36m \u001b[0m\u001b[1;36m2.69605691728909  \u001b[0m\u001b[1;36m \u001b[0m│\u001b[1;36m \u001b[0m\u001b[1;36m0.9652173913043478\u001b[0m\u001b[1;36m \u001b[0m│\u001b[1;36m \u001b[0m\u001b[1;36m0.44921875     \u001b[0m\u001b[1;36m \u001b[0m│\u001b[1;36m \u001b[0m\u001b[1;36m0.0        \u001b[0m\u001b[1;36m \u001b[0m│\n",
       "│\u001b[1;36m \u001b[0m\u001b[1;36m233    \u001b[0m\u001b[1;36m \u001b[0m│\u001b[1;36m \u001b[0m\u001b[1;36m2.695594024986975 \u001b[0m\u001b[1;36m \u001b[0m│\u001b[1;36m \u001b[0m\u001b[1;36m0.9656652360515021\u001b[0m\u001b[1;36m \u001b[0m│\u001b[1;36m \u001b[0m\u001b[1;36m0.455078125    \u001b[0m\u001b[1;36m \u001b[0m│\u001b[1;36m \u001b[0m\u001b[1;36m0.0        \u001b[0m\u001b[1;36m \u001b[0m│\n",
       "│\u001b[1;36m \u001b[0m\u001b[1;36m234    \u001b[0m\u001b[1;36m \u001b[0m│\u001b[1;36m \u001b[0m\u001b[1;36m2.6955006291779755\u001b[0m\u001b[1;36m \u001b[0m│\u001b[1;36m \u001b[0m\u001b[1;36m0.9615384615384616\u001b[0m\u001b[1;36m \u001b[0m│\u001b[1;36m \u001b[0m\u001b[1;36m0.45703125     \u001b[0m\u001b[1;36m \u001b[0m│\u001b[1;36m \u001b[0m\u001b[1;36m0.0        \u001b[0m\u001b[1;36m \u001b[0m│\n",
       "│\u001b[1;36m \u001b[0m\u001b[1;36m245    \u001b[0m\u001b[1;36m \u001b[0m│\u001b[1;36m \u001b[0m\u001b[1;36m2.691928200574937 \u001b[0m\u001b[1;36m \u001b[0m│\u001b[1;36m \u001b[0m\u001b[1;36m0.963265306122449 \u001b[0m\u001b[1;36m \u001b[0m│\u001b[1;36m \u001b[0m\u001b[1;36m0.478515625    \u001b[0m\u001b[1;36m \u001b[0m│\u001b[1;36m \u001b[0m\u001b[1;36m0.0        \u001b[0m\u001b[1;36m \u001b[0m│\n",
       "│\u001b[1;36m \u001b[0m\u001b[1;36m247    \u001b[0m\u001b[1;36m \u001b[0m│\u001b[1;36m \u001b[0m\u001b[1;36m2.6910240482236496\u001b[0m\u001b[1;36m \u001b[0m│\u001b[1;36m \u001b[0m\u001b[1;36m0.9554655870445344\u001b[0m\u001b[1;36m \u001b[0m│\u001b[1;36m \u001b[0m\u001b[1;36m0.482421875    \u001b[0m\u001b[1;36m \u001b[0m│\u001b[1;36m \u001b[0m\u001b[1;36m0.0        \u001b[0m\u001b[1;36m \u001b[0m│\n",
       "│\u001b[1;36m \u001b[0m\u001b[1;36m262    \u001b[0m\u001b[1;36m \u001b[0m│\u001b[1;36m \u001b[0m\u001b[1;36m2.6852530148133096\u001b[0m\u001b[1;36m \u001b[0m│\u001b[1;36m \u001b[0m\u001b[1;36m0.9580152671755725\u001b[0m\u001b[1;36m \u001b[0m│\u001b[1;36m \u001b[0m\u001b[1;36m0.51171875     \u001b[0m\u001b[1;36m \u001b[0m│\u001b[1;36m \u001b[0m\u001b[1;36m0.0        \u001b[0m\u001b[1;36m \u001b[0m│\n",
       "│\u001b[1;36m \u001b[0m\u001b[1;36m263    \u001b[0m\u001b[1;36m \u001b[0m│\u001b[1;36m \u001b[0m\u001b[1;36m2.6850262925233226\u001b[0m\u001b[1;36m \u001b[0m│\u001b[1;36m \u001b[0m\u001b[1;36m0.9543726235741445\u001b[0m\u001b[1;36m \u001b[0m│\u001b[1;36m \u001b[0m\u001b[1;36m0.513671875    \u001b[0m\u001b[1;36m \u001b[0m│\u001b[1;36m \u001b[0m\u001b[1;36m0.0        \u001b[0m\u001b[1;36m \u001b[0m│\n",
       "│\u001b[1;36m \u001b[0m\u001b[1;36m267    \u001b[0m\u001b[1;36m \u001b[0m│\u001b[1;36m \u001b[0m\u001b[1;36m2.684633110941594 \u001b[0m\u001b[1;36m \u001b[0m│\u001b[1;36m \u001b[0m\u001b[1;36m0.9550561797752809\u001b[0m\u001b[1;36m \u001b[0m│\u001b[1;36m \u001b[0m\u001b[1;36m0.521484375    \u001b[0m\u001b[1;36m \u001b[0m│\u001b[1;36m \u001b[0m\u001b[1;36m0.0        \u001b[0m\u001b[1;36m \u001b[0m│\n",
       "│\u001b[1;36m \u001b[0m\u001b[1;36m268    \u001b[0m\u001b[1;36m \u001b[0m│\u001b[1;36m \u001b[0m\u001b[1;36m2.6841734466003486\u001b[0m\u001b[1;36m \u001b[0m│\u001b[1;36m \u001b[0m\u001b[1;36m0.9514925373134329\u001b[0m\u001b[1;36m \u001b[0m│\u001b[1;36m \u001b[0m\u001b[1;36m0.5234375      \u001b[0m\u001b[1;36m \u001b[0m│\u001b[1;36m \u001b[0m\u001b[1;36m0.0        \u001b[0m\u001b[1;36m \u001b[0m│\n",
       "│\u001b[1;36m \u001b[0m\u001b[1;36m276    \u001b[0m\u001b[1;36m \u001b[0m│\u001b[1;36m \u001b[0m\u001b[1;36m2.6788667936109904\u001b[0m\u001b[1;36m \u001b[0m│\u001b[1;36m \u001b[0m\u001b[1;36m0.9528985507246377\u001b[0m\u001b[1;36m \u001b[0m│\u001b[1;36m \u001b[0m\u001b[1;36m0.5390625      \u001b[0m\u001b[1;36m \u001b[0m│\u001b[1;36m \u001b[0m\u001b[1;36m0.0        \u001b[0m\u001b[1;36m \u001b[0m│\n",
       "│\u001b[1;36m \u001b[0m\u001b[1;36m278    \u001b[0m\u001b[1;36m \u001b[0m│\u001b[1;36m \u001b[0m\u001b[1;36m2.6787663479317114\u001b[0m\u001b[1;36m \u001b[0m│\u001b[1;36m \u001b[0m\u001b[1;36m0.9460431654676259\u001b[0m\u001b[1;36m \u001b[0m│\u001b[1;36m \u001b[0m\u001b[1;36m0.54296875     \u001b[0m\u001b[1;36m \u001b[0m│\u001b[1;36m \u001b[0m\u001b[1;36m0.0        \u001b[0m\u001b[1;36m \u001b[0m│\n",
       "│\u001b[1;36m \u001b[0m\u001b[1;36m285    \u001b[0m\u001b[1;36m \u001b[0m│\u001b[1;36m \u001b[0m\u001b[1;36m2.675460682834307 \u001b[0m\u001b[1;36m \u001b[0m│\u001b[1;36m \u001b[0m\u001b[1;36m0.9473684210526315\u001b[0m\u001b[1;36m \u001b[0m│\u001b[1;36m \u001b[0m\u001b[1;36m0.556640625    \u001b[0m\u001b[1;36m \u001b[0m│\u001b[1;36m \u001b[0m\u001b[1;36m0.0        \u001b[0m\u001b[1;36m \u001b[0m│\n",
       "│\u001b[1;36m \u001b[0m\u001b[1;36m286    \u001b[0m\u001b[1;36m \u001b[0m│\u001b[1;36m \u001b[0m\u001b[1;36m2.6748079924257806\u001b[0m\u001b[1;36m \u001b[0m│\u001b[1;36m \u001b[0m\u001b[1;36m0.9440559440559441\u001b[0m\u001b[1;36m \u001b[0m│\u001b[1;36m \u001b[0m\u001b[1;36m0.55859375     \u001b[0m\u001b[1;36m \u001b[0m│\u001b[1;36m \u001b[0m\u001b[1;36m0.0        \u001b[0m\u001b[1;36m \u001b[0m│\n",
       "│\u001b[1;36m \u001b[0m\u001b[1;36m287    \u001b[0m\u001b[1;36m \u001b[0m│\u001b[1;36m \u001b[0m\u001b[1;36m2.6743372341720466\u001b[0m\u001b[1;36m \u001b[0m│\u001b[1;36m \u001b[0m\u001b[1;36m0.9442508710801394\u001b[0m\u001b[1;36m \u001b[0m│\u001b[1;36m \u001b[0m\u001b[1;36m0.560546875    \u001b[0m\u001b[1;36m \u001b[0m│\u001b[1;36m \u001b[0m\u001b[1;36m0.0        \u001b[0m\u001b[1;36m \u001b[0m│\n",
       "│\u001b[1;36m \u001b[0m\u001b[1;36m288    \u001b[0m\u001b[1;36m \u001b[0m│\u001b[1;36m \u001b[0m\u001b[1;36m2.674271688494239 \u001b[0m\u001b[1;36m \u001b[0m│\u001b[1;36m \u001b[0m\u001b[1;36m0.9409722222222222\u001b[0m\u001b[1;36m \u001b[0m│\u001b[1;36m \u001b[0m\u001b[1;36m0.5625         \u001b[0m\u001b[1;36m \u001b[0m│\u001b[1;36m \u001b[0m\u001b[1;36m0.0        \u001b[0m\u001b[1;36m \u001b[0m│\n",
       "│\u001b[1;36m \u001b[0m\u001b[1;36m305    \u001b[0m\u001b[1;36m \u001b[0m│\u001b[1;36m \u001b[0m\u001b[1;36m2.662900317399734 \u001b[0m\u001b[1;36m \u001b[0m│\u001b[1;36m \u001b[0m\u001b[1;36m0.9442622950819672\u001b[0m\u001b[1;36m \u001b[0m│\u001b[1;36m \u001b[0m\u001b[1;36m0.595703125    \u001b[0m\u001b[1;36m \u001b[0m│\u001b[1;36m \u001b[0m\u001b[1;36m0.0        \u001b[0m\u001b[1;36m \u001b[0m│\n",
       "│\u001b[1;36m \u001b[0m\u001b[1;36m307    \u001b[0m\u001b[1;36m \u001b[0m│\u001b[1;36m \u001b[0m\u001b[1;36m2.661647825397606 \u001b[0m\u001b[1;36m \u001b[0m│\u001b[1;36m \u001b[0m\u001b[1;36m0.9381107491856677\u001b[0m\u001b[1;36m \u001b[0m│\u001b[1;36m \u001b[0m\u001b[1;36m0.599609375    \u001b[0m\u001b[1;36m \u001b[0m│\u001b[1;36m \u001b[0m\u001b[1;36m0.0        \u001b[0m\u001b[1;36m \u001b[0m│\n",
       "│\u001b[1;36m \u001b[0m\u001b[1;36m314    \u001b[0m\u001b[1;36m \u001b[0m│\u001b[1;36m \u001b[0m\u001b[1;36m2.658008662743674 \u001b[0m\u001b[1;36m \u001b[0m│\u001b[1;36m \u001b[0m\u001b[1;36m0.9394904458598726\u001b[0m\u001b[1;36m \u001b[0m│\u001b[1;36m \u001b[0m\u001b[1;36m0.61328125     \u001b[0m\u001b[1;36m \u001b[0m│\u001b[1;36m \u001b[0m\u001b[1;36m0.0        \u001b[0m\u001b[1;36m \u001b[0m│\n",
       "│\u001b[1;36m \u001b[0m\u001b[1;36m315    \u001b[0m\u001b[1;36m \u001b[0m│\u001b[1;36m \u001b[0m\u001b[1;36m2.6576788696152702\u001b[0m\u001b[1;36m \u001b[0m│\u001b[1;36m \u001b[0m\u001b[1;36m0.9365079365079365\u001b[0m\u001b[1;36m \u001b[0m│\u001b[1;36m \u001b[0m\u001b[1;36m0.615234375    \u001b[0m\u001b[1;36m \u001b[0m│\u001b[1;36m \u001b[0m\u001b[1;36m0.0        \u001b[0m\u001b[1;36m \u001b[0m│\n",
       "│\u001b[1;36m \u001b[0m\u001b[1;36m316    \u001b[0m\u001b[1;36m \u001b[0m│\u001b[1;36m \u001b[0m\u001b[1;36m2.657092824261394 \u001b[0m\u001b[1;36m \u001b[0m│\u001b[1;36m \u001b[0m\u001b[1;36m0.9367088607594937\u001b[0m\u001b[1;36m \u001b[0m│\u001b[1;36m \u001b[0m\u001b[1;36m0.6171875      \u001b[0m\u001b[1;36m \u001b[0m│\u001b[1;36m \u001b[0m\u001b[1;36m0.0        \u001b[0m\u001b[1;36m \u001b[0m│\n",
       "│\u001b[1;36m \u001b[0m\u001b[1;36m317    \u001b[0m\u001b[1;36m \u001b[0m│\u001b[1;36m \u001b[0m\u001b[1;36m2.656850411474213 \u001b[0m\u001b[1;36m \u001b[0m│\u001b[1;36m \u001b[0m\u001b[1;36m0.9337539432176656\u001b[0m\u001b[1;36m \u001b[0m│\u001b[1;36m \u001b[0m\u001b[1;36m0.619140625    \u001b[0m\u001b[1;36m \u001b[0m│\u001b[1;36m \u001b[0m\u001b[1;36m0.0        \u001b[0m\u001b[1;36m \u001b[0m│\n",
       "│\u001b[1;36m \u001b[0m\u001b[1;36m321    \u001b[0m\u001b[1;36m \u001b[0m│\u001b[1;36m \u001b[0m\u001b[1;36m2.6488319813775023\u001b[0m\u001b[1;36m \u001b[0m│\u001b[1;36m \u001b[0m\u001b[1;36m0.9345794392523364\u001b[0m\u001b[1;36m \u001b[0m│\u001b[1;36m \u001b[0m\u001b[1;36m0.626953125    \u001b[0m\u001b[1;36m \u001b[0m│\u001b[1;36m \u001b[0m\u001b[1;36m0.0        \u001b[0m\u001b[1;36m \u001b[0m│\n",
       "│\u001b[1;36m \u001b[0m\u001b[1;36m322    \u001b[0m\u001b[1;36m \u001b[0m│\u001b[1;36m \u001b[0m\u001b[1;36m2.6483412958569366\u001b[0m\u001b[1;36m \u001b[0m│\u001b[1;36m \u001b[0m\u001b[1;36m0.9316770186335404\u001b[0m\u001b[1;36m \u001b[0m│\u001b[1;36m \u001b[0m\u001b[1;36m0.62890625     \u001b[0m\u001b[1;36m \u001b[0m│\u001b[1;36m \u001b[0m\u001b[1;36m0.0        \u001b[0m\u001b[1;36m \u001b[0m│\n",
       "│\u001b[1;36m \u001b[0m\u001b[1;36m327    \u001b[0m\u001b[1;36m \u001b[0m│\u001b[1;36m \u001b[0m\u001b[1;36m2.644627558569083 \u001b[0m\u001b[1;36m \u001b[0m│\u001b[1;36m \u001b[0m\u001b[1;36m0.9327217125382263\u001b[0m\u001b[1;36m \u001b[0m│\u001b[1;36m \u001b[0m\u001b[1;36m0.638671875    \u001b[0m\u001b[1;36m \u001b[0m│\u001b[1;36m \u001b[0m\u001b[1;36m0.0        \u001b[0m\u001b[1;36m \u001b[0m│\n",
       "│\u001b[1;36m \u001b[0m\u001b[1;36m328    \u001b[0m\u001b[1;36m \u001b[0m│\u001b[1;36m \u001b[0m\u001b[1;36m2.6440435173732064\u001b[0m\u001b[1;36m \u001b[0m│\u001b[1;36m \u001b[0m\u001b[1;36m0.9298780487804879\u001b[0m\u001b[1;36m \u001b[0m│\u001b[1;36m \u001b[0m\u001b[1;36m0.640625       \u001b[0m\u001b[1;36m \u001b[0m│\u001b[1;36m \u001b[0m\u001b[1;36m0.0        \u001b[0m\u001b[1;36m \u001b[0m│\n",
       "│\u001b[1;36m \u001b[0m\u001b[1;36m332    \u001b[0m\u001b[1;36m \u001b[0m│\u001b[1;36m \u001b[0m\u001b[1;36m2.6382142988350847\u001b[0m\u001b[1;36m \u001b[0m│\u001b[1;36m \u001b[0m\u001b[1;36m0.9307228915662651\u001b[0m\u001b[1;36m \u001b[0m│\u001b[1;36m \u001b[0m\u001b[1;36m0.6484375      \u001b[0m\u001b[1;36m \u001b[0m│\u001b[1;36m \u001b[0m\u001b[1;36m0.0        \u001b[0m\u001b[1;36m \u001b[0m│\n",
       "│\u001b[1;36m \u001b[0m\u001b[1;36m333    \u001b[0m\u001b[1;36m \u001b[0m│\u001b[1;36m \u001b[0m\u001b[1;36m2.6381701749028634\u001b[0m\u001b[1;36m \u001b[0m│\u001b[1;36m \u001b[0m\u001b[1;36m0.9279279279279279\u001b[0m\u001b[1;36m \u001b[0m│\u001b[1;36m \u001b[0m\u001b[1;36m0.650390625    \u001b[0m\u001b[1;36m \u001b[0m│\u001b[1;36m \u001b[0m\u001b[1;36m0.0        \u001b[0m\u001b[1;36m \u001b[0m│\n",
       "│\u001b[1;36m \u001b[0m\u001b[1;36m338    \u001b[0m\u001b[1;36m \u001b[0m│\u001b[1;36m \u001b[0m\u001b[1;36m2.631917036160673 \u001b[0m\u001b[1;36m \u001b[0m│\u001b[1;36m \u001b[0m\u001b[1;36m0.9289940828402367\u001b[0m\u001b[1;36m \u001b[0m│\u001b[1;36m \u001b[0m\u001b[1;36m0.66015625     \u001b[0m\u001b[1;36m \u001b[0m│\u001b[1;36m \u001b[0m\u001b[1;36m0.0        \u001b[0m\u001b[1;36m \u001b[0m│\n",
       "│\u001b[1;36m \u001b[0m\u001b[1;36m341    \u001b[0m\u001b[1;36m \u001b[0m│\u001b[1;36m \u001b[0m\u001b[1;36m2.6258805173134285\u001b[0m\u001b[1;36m \u001b[0m│\u001b[1;36m \u001b[0m\u001b[1;36m0.9208211143695014\u001b[0m\u001b[1;36m \u001b[0m│\u001b[1;36m \u001b[0m\u001b[1;36m0.666015625    \u001b[0m\u001b[1;36m \u001b[0m│\u001b[1;36m \u001b[0m\u001b[1;36m0.0        \u001b[0m\u001b[1;36m \u001b[0m│\n",
       "│\u001b[1;36m \u001b[0m\u001b[1;36m347    \u001b[0m\u001b[1;36m \u001b[0m│\u001b[1;36m \u001b[0m\u001b[1;36m2.613280105381084 \u001b[0m\u001b[1;36m \u001b[0m│\u001b[1;36m \u001b[0m\u001b[1;36m0.9221902017291066\u001b[0m\u001b[1;36m \u001b[0m│\u001b[1;36m \u001b[0m\u001b[1;36m0.677734375    \u001b[0m\u001b[1;36m \u001b[0m│\u001b[1;36m \u001b[0m\u001b[1;36m0.0        \u001b[0m\u001b[1;36m \u001b[0m│\n",
       "│\u001b[1;36m \u001b[0m\u001b[1;36m349    \u001b[0m\u001b[1;36m \u001b[0m│\u001b[1;36m \u001b[0m\u001b[1;36m2.6100396494852878\u001b[0m\u001b[1;36m \u001b[0m│\u001b[1;36m \u001b[0m\u001b[1;36m0.9169054441260746\u001b[0m\u001b[1;36m \u001b[0m│\u001b[1;36m \u001b[0m\u001b[1;36m0.681640625    \u001b[0m\u001b[1;36m \u001b[0m│\u001b[1;36m \u001b[0m\u001b[1;36m0.0        \u001b[0m\u001b[1;36m \u001b[0m│\n",
       "│\u001b[1;36m \u001b[0m\u001b[1;36m357    \u001b[0m\u001b[1;36m \u001b[0m│\u001b[1;36m \u001b[0m\u001b[1;36m2.60264151181044  \u001b[0m\u001b[1;36m \u001b[0m│\u001b[1;36m \u001b[0m\u001b[1;36m0.9187675070028011\u001b[0m\u001b[1;36m \u001b[0m│\u001b[1;36m \u001b[0m\u001b[1;36m0.697265625    \u001b[0m\u001b[1;36m \u001b[0m│\u001b[1;36m \u001b[0m\u001b[1;36m0.0        \u001b[0m\u001b[1;36m \u001b[0m│\n",
       "│\u001b[1;36m \u001b[0m\u001b[1;36m358    \u001b[0m\u001b[1;36m \u001b[0m│\u001b[1;36m \u001b[0m\u001b[1;36m2.600213730201837 \u001b[0m\u001b[1;36m \u001b[0m│\u001b[1;36m \u001b[0m\u001b[1;36m0.9162011173184358\u001b[0m\u001b[1;36m \u001b[0m│\u001b[1;36m \u001b[0m\u001b[1;36m0.69921875     \u001b[0m\u001b[1;36m \u001b[0m│\u001b[1;36m \u001b[0m\u001b[1;36m0.0        \u001b[0m\u001b[1;36m \u001b[0m│\n",
       "│\u001b[1;36m \u001b[0m\u001b[1;36m359    \u001b[0m\u001b[1;36m \u001b[0m│\u001b[1;36m \u001b[0m\u001b[1;36m2.5987119478971628\u001b[0m\u001b[1;36m \u001b[0m│\u001b[1;36m \u001b[0m\u001b[1;36m0.9164345403899722\u001b[0m\u001b[1;36m \u001b[0m│\u001b[1;36m \u001b[0m\u001b[1;36m0.701171875    \u001b[0m\u001b[1;36m \u001b[0m│\u001b[1;36m \u001b[0m\u001b[1;36m0.0        \u001b[0m\u001b[1;36m \u001b[0m│\n",
       "│\u001b[1;36m \u001b[0m\u001b[1;36m360    \u001b[0m\u001b[1;36m \u001b[0m│\u001b[1;36m \u001b[0m\u001b[1;36m2.5982214149605043\u001b[0m\u001b[1;36m \u001b[0m│\u001b[1;36m \u001b[0m\u001b[1;36m0.9138888888888889\u001b[0m\u001b[1;36m \u001b[0m│\u001b[1;36m \u001b[0m\u001b[1;36m0.703125       \u001b[0m\u001b[1;36m \u001b[0m│\u001b[1;36m \u001b[0m\u001b[1;36m0.0        \u001b[0m\u001b[1;36m \u001b[0m│\n",
       "│\u001b[1;36m \u001b[0m\u001b[1;36m361    \u001b[0m\u001b[1;36m \u001b[0m│\u001b[1;36m \u001b[0m\u001b[1;36m2.5967738980595447\u001b[0m\u001b[1;36m \u001b[0m│\u001b[1;36m \u001b[0m\u001b[1;36m0.9141274238227147\u001b[0m\u001b[1;36m \u001b[0m│\u001b[1;36m \u001b[0m\u001b[1;36m0.705078125    \u001b[0m\u001b[1;36m \u001b[0m│\u001b[1;36m \u001b[0m\u001b[1;36m0.0        \u001b[0m\u001b[1;36m \u001b[0m│\n",
       "│\u001b[1;36m \u001b[0m\u001b[1;36m362    \u001b[0m\u001b[1;36m \u001b[0m│\u001b[1;36m \u001b[0m\u001b[1;36m2.5956217150542664\u001b[0m\u001b[1;36m \u001b[0m│\u001b[1;36m \u001b[0m\u001b[1;36m0.9116022099447514\u001b[0m\u001b[1;36m \u001b[0m│\u001b[1;36m \u001b[0m\u001b[1;36m0.70703125     \u001b[0m\u001b[1;36m \u001b[0m│\u001b[1;36m \u001b[0m\u001b[1;36m0.0        \u001b[0m\u001b[1;36m \u001b[0m│\n",
       "│\u001b[1;36m \u001b[0m\u001b[1;36m366    \u001b[0m\u001b[1;36m \u001b[0m│\u001b[1;36m \u001b[0m\u001b[1;36m2.5939529575144755\u001b[0m\u001b[1;36m \u001b[0m│\u001b[1;36m \u001b[0m\u001b[1;36m0.912568306010929 \u001b[0m\u001b[1;36m \u001b[0m│\u001b[1;36m \u001b[0m\u001b[1;36m0.71484375     \u001b[0m\u001b[1;36m \u001b[0m│\u001b[1;36m \u001b[0m\u001b[1;36m0.0        \u001b[0m\u001b[1;36m \u001b[0m│\n",
       "│\u001b[1;36m \u001b[0m\u001b[1;36m367    \u001b[0m\u001b[1;36m \u001b[0m│\u001b[1;36m \u001b[0m\u001b[1;36m2.5923231028631846\u001b[0m\u001b[1;36m \u001b[0m│\u001b[1;36m \u001b[0m\u001b[1;36m0.9100817438692098\u001b[0m\u001b[1;36m \u001b[0m│\u001b[1;36m \u001b[0m\u001b[1;36m0.716796875    \u001b[0m\u001b[1;36m \u001b[0m│\u001b[1;36m \u001b[0m\u001b[1;36m0.0        \u001b[0m\u001b[1;36m \u001b[0m│\n",
       "│\u001b[1;36m \u001b[0m\u001b[1;36m369    \u001b[0m\u001b[1;36m \u001b[0m│\u001b[1;36m \u001b[0m\u001b[1;36m2.586668704315907 \u001b[0m\u001b[1;36m \u001b[0m│\u001b[1;36m \u001b[0m\u001b[1;36m0.9105691056910569\u001b[0m\u001b[1;36m \u001b[0m│\u001b[1;36m \u001b[0m\u001b[1;36m0.720703125    \u001b[0m\u001b[1;36m \u001b[0m│\u001b[1;36m \u001b[0m\u001b[1;36m0.0        \u001b[0m\u001b[1;36m \u001b[0m│\n",
       "│\u001b[1;36m \u001b[0m\u001b[1;36m370    \u001b[0m\u001b[1;36m \u001b[0m│\u001b[1;36m \u001b[0m\u001b[1;36m2.584598043620614 \u001b[0m\u001b[1;36m \u001b[0m│\u001b[1;36m \u001b[0m\u001b[1;36m0.9081081081081082\u001b[0m\u001b[1;36m \u001b[0m│\u001b[1;36m \u001b[0m\u001b[1;36m0.72265625     \u001b[0m\u001b[1;36m \u001b[0m│\u001b[1;36m \u001b[0m\u001b[1;36m0.0        \u001b[0m\u001b[1;36m \u001b[0m│\n",
       "│\u001b[1;36m \u001b[0m\u001b[1;36m372    \u001b[0m\u001b[1;36m \u001b[0m│\u001b[1;36m \u001b[0m\u001b[1;36m2.5824413784544844\u001b[0m\u001b[1;36m \u001b[0m│\u001b[1;36m \u001b[0m\u001b[1;36m0.9086021505376344\u001b[0m\u001b[1;36m \u001b[0m│\u001b[1;36m \u001b[0m\u001b[1;36m0.7265625      \u001b[0m\u001b[1;36m \u001b[0m│\u001b[1;36m \u001b[0m\u001b[1;36m0.0        \u001b[0m\u001b[1;36m \u001b[0m│\n",
       "│\u001b[1;36m \u001b[0m\u001b[1;36m373    \u001b[0m\u001b[1;36m \u001b[0m│\u001b[1;36m \u001b[0m\u001b[1;36m2.580114216483269 \u001b[0m\u001b[1;36m \u001b[0m│\u001b[1;36m \u001b[0m\u001b[1;36m0.9061662198391421\u001b[0m\u001b[1;36m \u001b[0m│\u001b[1;36m \u001b[0m\u001b[1;36m0.728515625    \u001b[0m\u001b[1;36m \u001b[0m│\u001b[1;36m \u001b[0m\u001b[1;36m0.0        \u001b[0m\u001b[1;36m \u001b[0m│\n",
       "│\u001b[1;36m \u001b[0m\u001b[1;36m379    \u001b[0m\u001b[1;36m \u001b[0m│\u001b[1;36m \u001b[0m\u001b[1;36m2.5693490715593326\u001b[0m\u001b[1;36m \u001b[0m│\u001b[1;36m \u001b[0m\u001b[1;36m0.9076517150395779\u001b[0m\u001b[1;36m \u001b[0m│\u001b[1;36m \u001b[0m\u001b[1;36m0.740234375    \u001b[0m\u001b[1;36m \u001b[0m│\u001b[1;36m \u001b[0m\u001b[1;36m0.0        \u001b[0m\u001b[1;36m \u001b[0m│\n",
       "│\u001b[1;36m \u001b[0m\u001b[1;36m380    \u001b[0m\u001b[1;36m \u001b[0m│\u001b[1;36m \u001b[0m\u001b[1;36m2.5669612035147393\u001b[0m\u001b[1;36m \u001b[0m│\u001b[1;36m \u001b[0m\u001b[1;36m0.9052631578947369\u001b[0m\u001b[1;36m \u001b[0m│\u001b[1;36m \u001b[0m\u001b[1;36m0.7421875      \u001b[0m\u001b[1;36m \u001b[0m│\u001b[1;36m \u001b[0m\u001b[1;36m0.0        \u001b[0m\u001b[1;36m \u001b[0m│\n",
       "│\u001b[1;36m \u001b[0m\u001b[1;36m384    \u001b[0m\u001b[1;36m \u001b[0m│\u001b[1;36m \u001b[0m\u001b[1;36m2.5605482331413927\u001b[0m\u001b[1;36m \u001b[0m│\u001b[1;36m \u001b[0m\u001b[1;36m0.90625           \u001b[0m\u001b[1;36m \u001b[0m│\u001b[1;36m \u001b[0m\u001b[1;36m0.75           \u001b[0m\u001b[1;36m \u001b[0m│\u001b[1;36m \u001b[0m\u001b[1;36m0.0        \u001b[0m\u001b[1;36m \u001b[0m│\n",
       "│\u001b[1;36m \u001b[0m\u001b[1;36m385    \u001b[0m\u001b[1;36m \u001b[0m│\u001b[1;36m \u001b[0m\u001b[1;36m2.5586073302539027\u001b[0m\u001b[1;36m \u001b[0m│\u001b[1;36m \u001b[0m\u001b[1;36m0.9038961038961039\u001b[0m\u001b[1;36m \u001b[0m│\u001b[1;36m \u001b[0m\u001b[1;36m0.751953125    \u001b[0m\u001b[1;36m \u001b[0m│\u001b[1;36m \u001b[0m\u001b[1;36m0.0        \u001b[0m\u001b[1;36m \u001b[0m│\n",
       "│\u001b[1;36m \u001b[0m\u001b[1;36m393    \u001b[0m\u001b[1;36m \u001b[0m│\u001b[1;36m \u001b[0m\u001b[1;36m2.5341730528139874\u001b[0m\u001b[1;36m \u001b[0m│\u001b[1;36m \u001b[0m\u001b[1;36m0.905852417302799 \u001b[0m\u001b[1;36m \u001b[0m│\u001b[1;36m \u001b[0m\u001b[1;36m0.767578125    \u001b[0m\u001b[1;36m \u001b[0m│\u001b[1;36m \u001b[0m\u001b[1;36m0.0        \u001b[0m\u001b[1;36m \u001b[0m│\n",
       "│\u001b[1;36m \u001b[0m\u001b[1;36m394    \u001b[0m\u001b[1;36m \u001b[0m│\u001b[1;36m \u001b[0m\u001b[1;36m2.533403363709723 \u001b[0m\u001b[1;36m \u001b[0m│\u001b[1;36m \u001b[0m\u001b[1;36m0.9035532994923858\u001b[0m\u001b[1;36m \u001b[0m│\u001b[1;36m \u001b[0m\u001b[1;36m0.76953125     \u001b[0m\u001b[1;36m \u001b[0m│\u001b[1;36m \u001b[0m\u001b[1;36m0.0        \u001b[0m\u001b[1;36m \u001b[0m│\n",
       "│\u001b[1;36m \u001b[0m\u001b[1;36m397    \u001b[0m\u001b[1;36m \u001b[0m│\u001b[1;36m \u001b[0m\u001b[1;36m2.5253227487049617\u001b[0m\u001b[1;36m \u001b[0m│\u001b[1;36m \u001b[0m\u001b[1;36m0.9042821158690176\u001b[0m\u001b[1;36m \u001b[0m│\u001b[1;36m \u001b[0m\u001b[1;36m0.775390625    \u001b[0m\u001b[1;36m \u001b[0m│\u001b[1;36m \u001b[0m\u001b[1;36m0.0        \u001b[0m\u001b[1;36m \u001b[0m│\n",
       "│\u001b[1;36m \u001b[0m\u001b[1;36m398    \u001b[0m\u001b[1;36m \u001b[0m│\u001b[1;36m \u001b[0m\u001b[1;36m2.5205811159418086\u001b[0m\u001b[1;36m \u001b[0m│\u001b[1;36m \u001b[0m\u001b[1;36m0.9020100502512562\u001b[0m\u001b[1;36m \u001b[0m│\u001b[1;36m \u001b[0m\u001b[1;36m0.77734375     \u001b[0m\u001b[1;36m \u001b[0m│\u001b[1;36m \u001b[0m\u001b[1;36m0.0        \u001b[0m\u001b[1;36m \u001b[0m│\n",
       "│\u001b[1;36m \u001b[0m\u001b[1;36m401    \u001b[0m\u001b[1;36m \u001b[0m│\u001b[1;36m \u001b[0m\u001b[1;36m2.5115433236160163\u001b[0m\u001b[1;36m \u001b[0m│\u001b[1;36m \u001b[0m\u001b[1;36m0.9027431421446384\u001b[0m\u001b[1;36m \u001b[0m│\u001b[1;36m \u001b[0m\u001b[1;36m0.783203125    \u001b[0m\u001b[1;36m \u001b[0m│\u001b[1;36m \u001b[0m\u001b[1;36m0.0        \u001b[0m\u001b[1;36m \u001b[0m│\n",
       "│\u001b[1;36m \u001b[0m\u001b[1;36m402    \u001b[0m\u001b[1;36m \u001b[0m│\u001b[1;36m \u001b[0m\u001b[1;36m2.5109002392467152\u001b[0m\u001b[1;36m \u001b[0m│\u001b[1;36m \u001b[0m\u001b[1;36m0.900497512437811 \u001b[0m\u001b[1;36m \u001b[0m│\u001b[1;36m \u001b[0m\u001b[1;36m0.78515625     \u001b[0m\u001b[1;36m \u001b[0m│\u001b[1;36m \u001b[0m\u001b[1;36m0.0        \u001b[0m\u001b[1;36m \u001b[0m│\n",
       "│\u001b[1;36m \u001b[0m\u001b[1;36m407    \u001b[0m\u001b[1;36m \u001b[0m│\u001b[1;36m \u001b[0m\u001b[1;36m2.490033748253391 \u001b[0m\u001b[1;36m \u001b[0m│\u001b[1;36m \u001b[0m\u001b[1;36m0.9017199017199017\u001b[0m\u001b[1;36m \u001b[0m│\u001b[1;36m \u001b[0m\u001b[1;36m0.794921875    \u001b[0m\u001b[1;36m \u001b[0m│\u001b[1;36m \u001b[0m\u001b[1;36m0.0        \u001b[0m\u001b[1;36m \u001b[0m│\n",
       "│\u001b[1;36m \u001b[0m\u001b[1;36m408    \u001b[0m\u001b[1;36m \u001b[0m│\u001b[1;36m \u001b[0m\u001b[1;36m2.489640377448616 \u001b[0m\u001b[1;36m \u001b[0m│\u001b[1;36m \u001b[0m\u001b[1;36m0.8995098039215687\u001b[0m\u001b[1;36m \u001b[0m│\u001b[1;36m \u001b[0m\u001b[1;36m0.796875       \u001b[0m\u001b[1;36m \u001b[0m│\u001b[1;36m \u001b[0m\u001b[1;36m0.0        \u001b[0m\u001b[1;36m \u001b[0m│\n",
       "│\u001b[1;36m \u001b[0m\u001b[1;36m410    \u001b[0m\u001b[1;36m \u001b[0m│\u001b[1;36m \u001b[0m\u001b[1;36m2.4796363835564175\u001b[0m\u001b[1;36m \u001b[0m│\u001b[1;36m \u001b[0m\u001b[1;36m0.9               \u001b[0m\u001b[1;36m \u001b[0m│\u001b[1;36m \u001b[0m\u001b[1;36m0.80078125     \u001b[0m\u001b[1;36m \u001b[0m│\u001b[1;36m \u001b[0m\u001b[1;36m0.0        \u001b[0m\u001b[1;36m \u001b[0m│\n",
       "│\u001b[1;36m \u001b[0m\u001b[1;36m411    \u001b[0m\u001b[1;36m \u001b[0m│\u001b[1;36m \u001b[0m\u001b[1;36m2.476045473722606 \u001b[0m\u001b[1;36m \u001b[0m│\u001b[1;36m \u001b[0m\u001b[1;36m0.8978102189781022\u001b[0m\u001b[1;36m \u001b[0m│\u001b[1;36m \u001b[0m\u001b[1;36m0.802734375    \u001b[0m\u001b[1;36m \u001b[0m│\u001b[1;36m \u001b[0m\u001b[1;36m0.0        \u001b[0m\u001b[1;36m \u001b[0m│\n",
       "│\u001b[1;36m \u001b[0m\u001b[1;36m412    \u001b[0m\u001b[1;36m \u001b[0m│\u001b[1;36m \u001b[0m\u001b[1;36m2.473887809255548 \u001b[0m\u001b[1;36m \u001b[0m│\u001b[1;36m \u001b[0m\u001b[1;36m0.8980582524271845\u001b[0m\u001b[1;36m \u001b[0m│\u001b[1;36m \u001b[0m\u001b[1;36m0.8046875      \u001b[0m\u001b[1;36m \u001b[0m│\u001b[1;36m \u001b[0m\u001b[1;36m0.0        \u001b[0m\u001b[1;36m \u001b[0m│\n",
       "│\u001b[1;36m \u001b[0m\u001b[1;36m413    \u001b[0m\u001b[1;36m \u001b[0m│\u001b[1;36m \u001b[0m\u001b[1;36m2.472892293770199 \u001b[0m\u001b[1;36m \u001b[0m│\u001b[1;36m \u001b[0m\u001b[1;36m0.8958837772397095\u001b[0m\u001b[1;36m \u001b[0m│\u001b[1;36m \u001b[0m\u001b[1;36m0.806640625    \u001b[0m\u001b[1;36m \u001b[0m│\u001b[1;36m \u001b[0m\u001b[1;36m0.0        \u001b[0m\u001b[1;36m \u001b[0m│\n",
       "│\u001b[1;36m \u001b[0m\u001b[1;36m414    \u001b[0m\u001b[1;36m \u001b[0m│\u001b[1;36m \u001b[0m\u001b[1;36m2.472802887510293 \u001b[0m\u001b[1;36m \u001b[0m│\u001b[1;36m \u001b[0m\u001b[1;36m0.8961352657004831\u001b[0m\u001b[1;36m \u001b[0m│\u001b[1;36m \u001b[0m\u001b[1;36m0.80859375     \u001b[0m\u001b[1;36m \u001b[0m│\u001b[1;36m \u001b[0m\u001b[1;36m0.0        \u001b[0m\u001b[1;36m \u001b[0m│\n",
       "│\u001b[1;36m \u001b[0m\u001b[1;36m416    \u001b[0m\u001b[1;36m \u001b[0m│\u001b[1;36m \u001b[0m\u001b[1;36m2.4671634964120726\u001b[0m\u001b[1;36m \u001b[0m│\u001b[1;36m \u001b[0m\u001b[1;36m0.8918269230769231\u001b[0m\u001b[1;36m \u001b[0m│\u001b[1;36m \u001b[0m\u001b[1;36m0.8125         \u001b[0m\u001b[1;36m \u001b[0m│\u001b[1;36m \u001b[0m\u001b[1;36m0.0        \u001b[0m\u001b[1;36m \u001b[0m│\n",
       "│\u001b[1;36m \u001b[0m\u001b[1;36m417    \u001b[0m\u001b[1;36m \u001b[0m│\u001b[1;36m \u001b[0m\u001b[1;36m2.4637326288596575\u001b[0m\u001b[1;36m \u001b[0m│\u001b[1;36m \u001b[0m\u001b[1;36m0.8920863309352518\u001b[0m\u001b[1;36m \u001b[0m│\u001b[1;36m \u001b[0m\u001b[1;36m0.814453125    \u001b[0m\u001b[1;36m \u001b[0m│\u001b[1;36m \u001b[0m\u001b[1;36m0.0        \u001b[0m\u001b[1;36m \u001b[0m│\n",
       "│\u001b[1;36m \u001b[0m\u001b[1;36m418    \u001b[0m\u001b[1;36m \u001b[0m│\u001b[1;36m \u001b[0m\u001b[1;36m2.460967338726082 \u001b[0m\u001b[1;36m \u001b[0m│\u001b[1;36m \u001b[0m\u001b[1;36m0.8899521531100478\u001b[0m\u001b[1;36m \u001b[0m│\u001b[1;36m \u001b[0m\u001b[1;36m0.81640625     \u001b[0m\u001b[1;36m \u001b[0m│\u001b[1;36m \u001b[0m\u001b[1;36m0.0        \u001b[0m\u001b[1;36m \u001b[0m│\n",
       "│\u001b[1;36m \u001b[0m\u001b[1;36m421    \u001b[0m\u001b[1;36m \u001b[0m│\u001b[1;36m \u001b[0m\u001b[1;36m2.454704763029184 \u001b[0m\u001b[1;36m \u001b[0m│\u001b[1;36m \u001b[0m\u001b[1;36m0.8907363420427553\u001b[0m\u001b[1;36m \u001b[0m│\u001b[1;36m \u001b[0m\u001b[1;36m0.822265625    \u001b[0m\u001b[1;36m \u001b[0m│\u001b[1;36m \u001b[0m\u001b[1;36m0.0        \u001b[0m\u001b[1;36m \u001b[0m│\n",
       "│\u001b[1;36m \u001b[0m\u001b[1;36m423    \u001b[0m\u001b[1;36m \u001b[0m│\u001b[1;36m \u001b[0m\u001b[1;36m2.4389946512326963\u001b[0m\u001b[1;36m \u001b[0m│\u001b[1;36m \u001b[0m\u001b[1;36m0.8865248226950354\u001b[0m\u001b[1;36m \u001b[0m│\u001b[1;36m \u001b[0m\u001b[1;36m0.826171875    \u001b[0m\u001b[1;36m \u001b[0m│\u001b[1;36m \u001b[0m\u001b[1;36m0.0        \u001b[0m\u001b[1;36m \u001b[0m│\n",
       "│\u001b[1;36m \u001b[0m\u001b[1;36m424    \u001b[0m\u001b[1;36m \u001b[0m│\u001b[1;36m \u001b[0m\u001b[1;36m2.437246082628529 \u001b[0m\u001b[1;36m \u001b[0m│\u001b[1;36m \u001b[0m\u001b[1;36m0.8867924528301887\u001b[0m\u001b[1;36m \u001b[0m│\u001b[1;36m \u001b[0m\u001b[1;36m0.828125       \u001b[0m\u001b[1;36m \u001b[0m│\u001b[1;36m \u001b[0m\u001b[1;36m0.0        \u001b[0m\u001b[1;36m \u001b[0m│\n",
       "│\u001b[1;36m \u001b[0m\u001b[1;36m430    \u001b[0m\u001b[1;36m \u001b[0m│\u001b[1;36m \u001b[0m\u001b[1;36m2.430053199637596 \u001b[0m\u001b[1;36m \u001b[0m│\u001b[1;36m \u001b[0m\u001b[1;36m0.8744186046511628\u001b[0m\u001b[1;36m \u001b[0m│\u001b[1;36m \u001b[0m\u001b[1;36m0.83984375     \u001b[0m\u001b[1;36m \u001b[0m│\u001b[1;36m \u001b[0m\u001b[1;36m0.0        \u001b[0m\u001b[1;36m \u001b[0m│\n",
       "│\u001b[1;36m \u001b[0m\u001b[1;36m431    \u001b[0m\u001b[1;36m \u001b[0m│\u001b[1;36m \u001b[0m\u001b[1;36m2.426775106685908 \u001b[0m\u001b[1;36m \u001b[0m│\u001b[1;36m \u001b[0m\u001b[1;36m0.8747099767981439\u001b[0m\u001b[1;36m \u001b[0m│\u001b[1;36m \u001b[0m\u001b[1;36m0.841796875    \u001b[0m\u001b[1;36m \u001b[0m│\u001b[1;36m \u001b[0m\u001b[1;36m0.0        \u001b[0m\u001b[1;36m \u001b[0m│\n",
       "│\u001b[1;36m \u001b[0m\u001b[1;36m432    \u001b[0m\u001b[1;36m \u001b[0m│\u001b[1;36m \u001b[0m\u001b[1;36m2.425190867124972 \u001b[0m\u001b[1;36m \u001b[0m│\u001b[1;36m \u001b[0m\u001b[1;36m0.8726851851851852\u001b[0m\u001b[1;36m \u001b[0m│\u001b[1;36m \u001b[0m\u001b[1;36m0.84375        \u001b[0m\u001b[1;36m \u001b[0m│\u001b[1;36m \u001b[0m\u001b[1;36m0.0        \u001b[0m\u001b[1;36m \u001b[0m│\n",
       "│\u001b[1;36m \u001b[0m\u001b[1;36m433    \u001b[0m\u001b[1;36m \u001b[0m│\u001b[1;36m \u001b[0m\u001b[1;36m2.4230992013653734\u001b[0m\u001b[1;36m \u001b[0m│\u001b[1;36m \u001b[0m\u001b[1;36m0.8729792147806005\u001b[0m\u001b[1;36m \u001b[0m│\u001b[1;36m \u001b[0m\u001b[1;36m0.845703125    \u001b[0m\u001b[1;36m \u001b[0m│\u001b[1;36m \u001b[0m\u001b[1;36m0.0        \u001b[0m\u001b[1;36m \u001b[0m│\n",
       "│\u001b[1;36m \u001b[0m\u001b[1;36m434    \u001b[0m\u001b[1;36m \u001b[0m│\u001b[1;36m \u001b[0m\u001b[1;36m2.417403210685323 \u001b[0m\u001b[1;36m \u001b[0m│\u001b[1;36m \u001b[0m\u001b[1;36m0.8709677419354839\u001b[0m\u001b[1;36m \u001b[0m│\u001b[1;36m \u001b[0m\u001b[1;36m0.84765625     \u001b[0m\u001b[1;36m \u001b[0m│\u001b[1;36m \u001b[0m\u001b[1;36m0.0        \u001b[0m\u001b[1;36m \u001b[0m│\n",
       "│\u001b[1;36m \u001b[0m\u001b[1;36m435    \u001b[0m\u001b[1;36m \u001b[0m│\u001b[1;36m \u001b[0m\u001b[1;36m2.398688292339076 \u001b[0m\u001b[1;36m \u001b[0m│\u001b[1;36m \u001b[0m\u001b[1;36m0.871264367816092 \u001b[0m\u001b[1;36m \u001b[0m│\u001b[1;36m \u001b[0m\u001b[1;36m0.849609375    \u001b[0m\u001b[1;36m \u001b[0m│\u001b[1;36m \u001b[0m\u001b[1;36m0.0        \u001b[0m\u001b[1;36m \u001b[0m│\n",
       "│\u001b[1;36m \u001b[0m\u001b[1;36m440    \u001b[0m\u001b[1;36m \u001b[0m│\u001b[1;36m \u001b[0m\u001b[1;36m2.383343300482261 \u001b[0m\u001b[1;36m \u001b[0m│\u001b[1;36m \u001b[0m\u001b[1;36m0.8613636363636363\u001b[0m\u001b[1;36m \u001b[0m│\u001b[1;36m \u001b[0m\u001b[1;36m0.859375       \u001b[0m\u001b[1;36m \u001b[0m│\u001b[1;36m \u001b[0m\u001b[1;36m0.0        \u001b[0m\u001b[1;36m \u001b[0m│\n",
       "│\u001b[1;36m \u001b[0m\u001b[1;36m441    \u001b[0m\u001b[1;36m \u001b[0m│\u001b[1;36m \u001b[0m\u001b[1;36m2.3809519890309243\u001b[0m\u001b[1;36m \u001b[0m│\u001b[1;36m \u001b[0m\u001b[1;36m0.8616780045351474\u001b[0m\u001b[1;36m \u001b[0m│\u001b[1;36m \u001b[0m\u001b[1;36m0.861328125    \u001b[0m\u001b[1;36m \u001b[0m│\u001b[1;36m \u001b[0m\u001b[1;36m0.0        \u001b[0m\u001b[1;36m \u001b[0m│\n",
       "│\u001b[1;36m \u001b[0m\u001b[1;36m442    \u001b[0m\u001b[1;36m \u001b[0m│\u001b[1;36m \u001b[0m\u001b[1;36m2.380684285821699 \u001b[0m\u001b[1;36m \u001b[0m│\u001b[1;36m \u001b[0m\u001b[1;36m0.8597285067873304\u001b[0m\u001b[1;36m \u001b[0m│\u001b[1;36m \u001b[0m\u001b[1;36m0.86328125     \u001b[0m\u001b[1;36m \u001b[0m│\u001b[1;36m \u001b[0m\u001b[1;36m0.0        \u001b[0m\u001b[1;36m \u001b[0m│\n",
       "│\u001b[1;36m \u001b[0m\u001b[1;36m444    \u001b[0m\u001b[1;36m \u001b[0m│\u001b[1;36m \u001b[0m\u001b[1;36m2.3775375363785076\u001b[0m\u001b[1;36m \u001b[0m│\u001b[1;36m \u001b[0m\u001b[1;36m0.8603603603603603\u001b[0m\u001b[1;36m \u001b[0m│\u001b[1;36m \u001b[0m\u001b[1;36m0.8671875      \u001b[0m\u001b[1;36m \u001b[0m│\u001b[1;36m \u001b[0m\u001b[1;36m0.0        \u001b[0m\u001b[1;36m \u001b[0m│\n",
       "│\u001b[1;36m \u001b[0m\u001b[1;36m451    \u001b[0m\u001b[1;36m \u001b[0m│\u001b[1;36m \u001b[0m\u001b[1;36m2.3545258930223163\u001b[0m\u001b[1;36m \u001b[0m│\u001b[1;36m \u001b[0m\u001b[1;36m0.8470066518847007\u001b[0m\u001b[1;36m \u001b[0m│\u001b[1;36m \u001b[0m\u001b[1;36m0.880859375    \u001b[0m\u001b[1;36m \u001b[0m│\u001b[1;36m \u001b[0m\u001b[1;36m0.0        \u001b[0m\u001b[1;36m \u001b[0m│\n",
       "│\u001b[1;36m \u001b[0m\u001b[1;36m452    \u001b[0m\u001b[1;36m \u001b[0m│\u001b[1;36m \u001b[0m\u001b[1;36m2.3496535056245085\u001b[0m\u001b[1;36m \u001b[0m│\u001b[1;36m \u001b[0m\u001b[1;36m0.8473451327433629\u001b[0m\u001b[1;36m \u001b[0m│\u001b[1;36m \u001b[0m\u001b[1;36m0.8828125      \u001b[0m\u001b[1;36m \u001b[0m│\u001b[1;36m \u001b[0m\u001b[1;36m0.0        \u001b[0m\u001b[1;36m \u001b[0m│\n",
       "│\u001b[1;36m \u001b[0m\u001b[1;36m455    \u001b[0m\u001b[1;36m \u001b[0m│\u001b[1;36m \u001b[0m\u001b[1;36m2.332969647230636 \u001b[0m\u001b[1;36m \u001b[0m│\u001b[1;36m \u001b[0m\u001b[1;36m0.8417582417582418\u001b[0m\u001b[1;36m \u001b[0m│\u001b[1;36m \u001b[0m\u001b[1;36m0.888671875    \u001b[0m\u001b[1;36m \u001b[0m│\u001b[1;36m \u001b[0m\u001b[1;36m0.0        \u001b[0m\u001b[1;36m \u001b[0m│\n",
       "│\u001b[1;36m \u001b[0m\u001b[1;36m457    \u001b[0m\u001b[1;36m \u001b[0m│\u001b[1;36m \u001b[0m\u001b[1;36m2.3241684663244104\u001b[0m\u001b[1;36m \u001b[0m│\u001b[1;36m \u001b[0m\u001b[1;36m0.8424507658643327\u001b[0m\u001b[1;36m \u001b[0m│\u001b[1;36m \u001b[0m\u001b[1;36m0.892578125    \u001b[0m\u001b[1;36m \u001b[0m│\u001b[1;36m \u001b[0m\u001b[1;36m0.0        \u001b[0m\u001b[1;36m \u001b[0m│\n",
       "│\u001b[1;36m \u001b[0m\u001b[1;36m470    \u001b[0m\u001b[1;36m \u001b[0m│\u001b[1;36m \u001b[0m\u001b[1;36m2.2571492171775502\u001b[0m\u001b[1;36m \u001b[0m│\u001b[1;36m \u001b[0m\u001b[1;36m0.8191489361702128\u001b[0m\u001b[1;36m \u001b[0m│\u001b[1;36m \u001b[0m\u001b[1;36m0.91796875     \u001b[0m\u001b[1;36m \u001b[0m│\u001b[1;36m \u001b[0m\u001b[1;36m0.0        \u001b[0m\u001b[1;36m \u001b[0m│\n",
       "│\u001b[1;36m \u001b[0m\u001b[1;36m471    \u001b[0m\u001b[1;36m \u001b[0m│\u001b[1;36m \u001b[0m\u001b[1;36m2.2522788851940185\u001b[0m\u001b[1;36m \u001b[0m│\u001b[1;36m \u001b[0m\u001b[1;36m0.8195329087048833\u001b[0m\u001b[1;36m \u001b[0m│\u001b[1;36m \u001b[0m\u001b[1;36m0.919921875    \u001b[0m\u001b[1;36m \u001b[0m│\u001b[1;36m \u001b[0m\u001b[1;36m0.0        \u001b[0m\u001b[1;36m \u001b[0m│\n",
       "│\u001b[1;36m \u001b[0m\u001b[1;36m479    \u001b[0m\u001b[1;36m \u001b[0m│\u001b[1;36m \u001b[0m\u001b[1;36m2.2233982773254892\u001b[0m\u001b[1;36m \u001b[0m│\u001b[1;36m \u001b[0m\u001b[1;36m0.8058455114822547\u001b[0m\u001b[1;36m \u001b[0m│\u001b[1;36m \u001b[0m\u001b[1;36m0.935546875    \u001b[0m\u001b[1;36m \u001b[0m│\u001b[1;36m \u001b[0m\u001b[1;36m0.0        \u001b[0m\u001b[1;36m \u001b[0m│\n",
       "│\u001b[1;36m \u001b[0m\u001b[1;36m481    \u001b[0m\u001b[1;36m \u001b[0m│\u001b[1;36m \u001b[0m\u001b[1;36m2.217548976755543 \u001b[0m\u001b[1;36m \u001b[0m│\u001b[1;36m \u001b[0m\u001b[1;36m0.8066528066528067\u001b[0m\u001b[1;36m \u001b[0m│\u001b[1;36m \u001b[0m\u001b[1;36m0.939453125    \u001b[0m\u001b[1;36m \u001b[0m│\u001b[1;36m \u001b[0m\u001b[1;36m0.0        \u001b[0m\u001b[1;36m \u001b[0m│\n",
       "│\u001b[1;36m \u001b[0m\u001b[1;36m482    \u001b[0m\u001b[1;36m \u001b[0m│\u001b[1;36m \u001b[0m\u001b[1;36m2.2157099855220257\u001b[0m\u001b[1;36m \u001b[0m│\u001b[1;36m \u001b[0m\u001b[1;36m0.8049792531120332\u001b[0m\u001b[1;36m \u001b[0m│\u001b[1;36m \u001b[0m\u001b[1;36m0.94140625     \u001b[0m\u001b[1;36m \u001b[0m│\u001b[1;36m \u001b[0m\u001b[1;36m0.0        \u001b[0m\u001b[1;36m \u001b[0m│\n",
       "│\u001b[1;36m \u001b[0m\u001b[1;36m483    \u001b[0m\u001b[1;36m \u001b[0m│\u001b[1;36m \u001b[0m\u001b[1;36m2.215615239662546 \u001b[0m\u001b[1;36m \u001b[0m│\u001b[1;36m \u001b[0m\u001b[1;36m0.8053830227743272\u001b[0m\u001b[1;36m \u001b[0m│\u001b[1;36m \u001b[0m\u001b[1;36m0.943359375    \u001b[0m\u001b[1;36m \u001b[0m│\u001b[1;36m \u001b[0m\u001b[1;36m0.0        \u001b[0m\u001b[1;36m \u001b[0m│\n",
       "│\u001b[1;36m \u001b[0m\u001b[1;36m487    \u001b[0m\u001b[1;36m \u001b[0m│\u001b[1;36m \u001b[0m\u001b[1;36m2.158212460399352 \u001b[0m\u001b[1;36m \u001b[0m│\u001b[1;36m \u001b[0m\u001b[1;36m0.7987679671457906\u001b[0m\u001b[1;36m \u001b[0m│\u001b[1;36m \u001b[0m\u001b[1;36m0.951171875    \u001b[0m\u001b[1;36m \u001b[0m│\u001b[1;36m \u001b[0m\u001b[1;36m0.0        \u001b[0m\u001b[1;36m \u001b[0m│\n",
       "│\u001b[1;36m \u001b[0m\u001b[1;36m490    \u001b[0m\u001b[1;36m \u001b[0m│\u001b[1;36m \u001b[0m\u001b[1;36m2.1356652729894865\u001b[0m\u001b[1;36m \u001b[0m│\u001b[1;36m \u001b[0m\u001b[1;36m0.8               \u001b[0m\u001b[1;36m \u001b[0m│\u001b[1;36m \u001b[0m\u001b[1;36m0.95703125     \u001b[0m\u001b[1;36m \u001b[0m│\u001b[1;36m \u001b[0m\u001b[1;36m0.0        \u001b[0m\u001b[1;36m \u001b[0m│\n",
       "│\u001b[1;36m \u001b[0m\u001b[1;36m491    \u001b[0m\u001b[1;36m \u001b[0m│\u001b[1;36m \u001b[0m\u001b[1;36m2.135545320571303 \u001b[0m\u001b[1;36m \u001b[0m│\u001b[1;36m \u001b[0m\u001b[1;36m0.7983706720977597\u001b[0m\u001b[1;36m \u001b[0m│\u001b[1;36m \u001b[0m\u001b[1;36m0.958984375    \u001b[0m\u001b[1;36m \u001b[0m│\u001b[1;36m \u001b[0m\u001b[1;36m0.0        \u001b[0m\u001b[1;36m \u001b[0m│\n",
       "│\u001b[1;36m \u001b[0m\u001b[1;36m492    \u001b[0m\u001b[1;36m \u001b[0m│\u001b[1;36m \u001b[0m\u001b[1;36m2.12981278565933  \u001b[0m\u001b[1;36m \u001b[0m│\u001b[1;36m \u001b[0m\u001b[1;36m0.7987804878048781\u001b[0m\u001b[1;36m \u001b[0m│\u001b[1;36m \u001b[0m\u001b[1;36m0.9609375      \u001b[0m\u001b[1;36m \u001b[0m│\u001b[1;36m \u001b[0m\u001b[1;36m0.0        \u001b[0m\u001b[1;36m \u001b[0m│\n",
       "│\u001b[1;36m \u001b[0m\u001b[1;36m494    \u001b[0m\u001b[1;36m \u001b[0m│\u001b[1;36m \u001b[0m\u001b[1;36m2.116333593168829 \u001b[0m\u001b[1;36m \u001b[0m│\u001b[1;36m \u001b[0m\u001b[1;36m0.7955465587044535\u001b[0m\u001b[1;36m \u001b[0m│\u001b[1;36m \u001b[0m\u001b[1;36m0.96484375     \u001b[0m\u001b[1;36m \u001b[0m│\u001b[1;36m \u001b[0m\u001b[1;36m0.0        \u001b[0m\u001b[1;36m \u001b[0m│\n",
       "│\u001b[1;36m \u001b[0m\u001b[1;36m495    \u001b[0m\u001b[1;36m \u001b[0m│\u001b[1;36m \u001b[0m\u001b[1;36m2.1155286241246762\u001b[0m\u001b[1;36m \u001b[0m│\u001b[1;36m \u001b[0m\u001b[1;36m0.795959595959596 \u001b[0m\u001b[1;36m \u001b[0m│\u001b[1;36m \u001b[0m\u001b[1;36m0.966796875    \u001b[0m\u001b[1;36m \u001b[0m│\u001b[1;36m \u001b[0m\u001b[1;36m0.0        \u001b[0m\u001b[1;36m \u001b[0m│\n",
       "│\u001b[1;36m \u001b[0m\u001b[1;36m498    \u001b[0m\u001b[1;36m \u001b[0m│\u001b[1;36m \u001b[0m\u001b[1;36m2.099048510770152 \u001b[0m\u001b[1;36m \u001b[0m│\u001b[1;36m \u001b[0m\u001b[1;36m0.7911646586345381\u001b[0m\u001b[1;36m \u001b[0m│\u001b[1;36m \u001b[0m\u001b[1;36m0.97265625     \u001b[0m\u001b[1;36m \u001b[0m│\u001b[1;36m \u001b[0m\u001b[1;36m0.0        \u001b[0m\u001b[1;36m \u001b[0m│\n",
       "│\u001b[1;36m \u001b[0m\u001b[1;36m500    \u001b[0m\u001b[1;36m \u001b[0m│\u001b[1;36m \u001b[0m\u001b[1;36m2.0971073590956975\u001b[0m\u001b[1;36m \u001b[0m│\u001b[1;36m \u001b[0m\u001b[1;36m0.792             \u001b[0m\u001b[1;36m \u001b[0m│\u001b[1;36m \u001b[0m\u001b[1;36m0.9765625      \u001b[0m\u001b[1;36m \u001b[0m│\u001b[1;36m \u001b[0m\u001b[1;36m0.0        \u001b[0m\u001b[1;36m \u001b[0m│\n",
       "│\u001b[1;36m \u001b[0m\u001b[1;36m506    \u001b[0m\u001b[1;36m \u001b[0m│\u001b[1;36m \u001b[0m\u001b[1;36m1.951540389338236 \u001b[0m\u001b[1;36m \u001b[0m│\u001b[1;36m \u001b[0m\u001b[1;36m0.782608695652174 \u001b[0m\u001b[1;36m \u001b[0m│\u001b[1;36m \u001b[0m\u001b[1;36m0.98828125     \u001b[0m\u001b[1;36m \u001b[0m│\u001b[1;36m \u001b[0m\u001b[1;36m0.0        \u001b[0m\u001b[1;36m \u001b[0m│\n",
       "│\u001b[1;36m \u001b[0m\u001b[1;36m508    \u001b[0m\u001b[1;36m \u001b[0m│\u001b[1;36m \u001b[0m\u001b[1;36m1.8743521514545538\u001b[0m\u001b[1;36m \u001b[0m│\u001b[1;36m \u001b[0m\u001b[1;36m0.7834645669291339\u001b[0m\u001b[1;36m \u001b[0m│\u001b[1;36m \u001b[0m\u001b[1;36m0.9921875      \u001b[0m\u001b[1;36m \u001b[0m│\u001b[1;36m \u001b[0m\u001b[1;36m0.0        \u001b[0m\u001b[1;36m \u001b[0m│\n",
       "│\u001b[1;36m \u001b[0m\u001b[1;36m512    \u001b[0m\u001b[1;36m \u001b[0m│\u001b[1;36m \u001b[0m\u001b[1;36m1.6924392817402083\u001b[0m\u001b[1;36m \u001b[0m│\u001b[1;36m \u001b[0m\u001b[1;36m0.77734375        \u001b[0m\u001b[1;36m \u001b[0m│\u001b[1;36m \u001b[0m\u001b[1;36m1.0            \u001b[0m\u001b[1;36m \u001b[0m│\u001b[1;36m \u001b[0m\u001b[1;36m0.0        \u001b[0m\u001b[1;36m \u001b[0m│\n",
       "└─────────┴────────────────────┴────────────────────┴─────────────────┴─────────────┘\n"
      ]
     },
     "metadata": {},
     "output_type": "display_data"
    },
    {
     "data": {
      "text/html": [
       "<pre style=\"white-space:pre;overflow-x:auto;line-height:normal;font-family:Menlo,'DejaVu Sans Mono',consolas,'Courier New',monospace\">Total number of failures: <span style=\"color: #008080; text-decoration-color: #008080; font-weight: bold\">0</span>\n",
       "</pre>\n"
      ],
      "text/plain": [
       "Total number of failures: \u001b[1;36m0\u001b[0m\n"
      ]
     },
     "metadata": {},
     "output_type": "display_data"
    }
   ],
   "source": [
    "labels, df, metric_list = l.run(\"../data/banking_test.csv\", max_items=MAX_ITEMS)"
   ]
  },
  {
   "cell_type": "code",
   "execution_count": null,
   "metadata": {},
   "outputs": [
    {
     "name": "stdout",
     "output_type": "stream",
     "text": [
      "115\n"
     ]
    },
    {
     "data": {
      "text/html": [
       "<div>\n",
       "<style scoped>\n",
       "    .dataframe tbody tr th:only-of-type {\n",
       "        vertical-align: middle;\n",
       "    }\n",
       "\n",
       "    .dataframe tbody tr th {\n",
       "        vertical-align: top;\n",
       "    }\n",
       "\n",
       "    .dataframe thead th {\n",
       "        text-align: right;\n",
       "    }\n",
       "</style>\n",
       "<table border=\"1\" class=\"dataframe\">\n",
       "  <thead>\n",
       "    <tr style=\"text-align: right;\">\n",
       "      <th></th>\n",
       "      <th>example</th>\n",
       "      <th>label</th>\n",
       "      <th>BankingComplaintsClassification_llm_label</th>\n",
       "    </tr>\n",
       "  </thead>\n",
       "  <tbody>\n",
       "    <tr>\n",
       "      <th>1</th>\n",
       "      <td>It seems I was overcharged when I used an ATM ...</td>\n",
       "      <td>wrong_exchange_rate_for_cash_withdrawal</td>\n",
       "      <td>atm_support</td>\n",
       "    </tr>\n",
       "    <tr>\n",
       "      <th>3</th>\n",
       "      <td>How much does it cost in fees to use your card?</td>\n",
       "      <td>order_physical_card</td>\n",
       "      <td>card_payment_fee_charged</td>\n",
       "    </tr>\n",
       "    <tr>\n",
       "      <th>7</th>\n",
       "      <td>How can I fix my card, it got declined twice.</td>\n",
       "      <td>declined_transfer</td>\n",
       "      <td>declined_card_payment</td>\n",
       "    </tr>\n",
       "    <tr>\n",
       "      <th>12</th>\n",
       "      <td>I do not remember purchasing anything for 1£, ...</td>\n",
       "      <td>extra_charge_on_statement</td>\n",
       "      <td>card_payment_not_recognised</td>\n",
       "    </tr>\n",
       "    <tr>\n",
       "      <th>13</th>\n",
       "      <td>Will I be charged if I use European bank card ...</td>\n",
       "      <td>top_up_by_card_charge</td>\n",
       "      <td>top_up_by_bank_transfer_charge</td>\n",
       "    </tr>\n",
       "    <tr>\n",
       "      <th>...</th>\n",
       "      <td>...</td>\n",
       "      <td>...</td>\n",
       "      <td>...</td>\n",
       "    </tr>\n",
       "    <tr>\n",
       "      <th>472</th>\n",
       "      <td>My card is being declined online. Could you te...</td>\n",
       "      <td>declined_transfer</td>\n",
       "      <td>card_not_working</td>\n",
       "    </tr>\n",
       "    <tr>\n",
       "      <th>479</th>\n",
       "      <td>I used the ATM machine to get money out for Ho...</td>\n",
       "      <td>wrong_exchange_rate_for_cash_withdrawal</td>\n",
       "      <td>atm_support</td>\n",
       "    </tr>\n",
       "    <tr>\n",
       "      <th>494</th>\n",
       "      <td>I understand that this is extremely late. Afte...</td>\n",
       "      <td>direct_debit_payment_not_recognised</td>\n",
       "      <td>card_payment_not_recognised</td>\n",
       "    </tr>\n",
       "    <tr>\n",
       "      <th>497</th>\n",
       "      <td>I initiated a Bank transfer form Europe, how l...</td>\n",
       "      <td>transfer_timing</td>\n",
       "      <td>pending_transfer</td>\n",
       "    </tr>\n",
       "    <tr>\n",
       "      <th>505</th>\n",
       "      <td>How long does a transfer take from the point i...</td>\n",
       "      <td>transfer_timing</td>\n",
       "      <td>pending_transfer</td>\n",
       "    </tr>\n",
       "  </tbody>\n",
       "</table>\n",
       "<p>115 rows × 3 columns</p>\n",
       "</div>"
      ],
      "text/plain": [
       "                                               example   \n",
       "1    It seems I was overcharged when I used an ATM ...  \\\n",
       "3      How much does it cost in fees to use your card?   \n",
       "7        How can I fix my card, it got declined twice.   \n",
       "12   I do not remember purchasing anything for 1£, ...   \n",
       "13   Will I be charged if I use European bank card ...   \n",
       "..                                                 ...   \n",
       "472  My card is being declined online. Could you te...   \n",
       "479  I used the ATM machine to get money out for Ho...   \n",
       "494  I understand that this is extremely late. Afte...   \n",
       "497  I initiated a Bank transfer form Europe, how l...   \n",
       "505  How long does a transfer take from the point i...   \n",
       "\n",
       "                                       label   \n",
       "1    wrong_exchange_rate_for_cash_withdrawal  \\\n",
       "3                        order_physical_card   \n",
       "7                          declined_transfer   \n",
       "12                 extra_charge_on_statement   \n",
       "13                     top_up_by_card_charge   \n",
       "..                                       ...   \n",
       "472                        declined_transfer   \n",
       "479  wrong_exchange_rate_for_cash_withdrawal   \n",
       "494      direct_debit_payment_not_recognised   \n",
       "497                          transfer_timing   \n",
       "505                          transfer_timing   \n",
       "\n",
       "    BankingComplaintsClassification_llm_label  \n",
       "1                                 atm_support  \n",
       "3                    card_payment_fee_charged  \n",
       "7                       declined_card_payment  \n",
       "12                card_payment_not_recognised  \n",
       "13             top_up_by_bank_transfer_charge  \n",
       "..                                        ...  \n",
       "472                          card_not_working  \n",
       "479                               atm_support  \n",
       "494               card_payment_not_recognised  \n",
       "497                          pending_transfer  \n",
       "505                          pending_transfer  \n",
       "\n",
       "[115 rows x 3 columns]"
      ]
     },
     "execution_count": 80,
     "metadata": {},
     "output_type": "execute_result"
    }
   ],
   "source": [
    "wrong_rows = df[df[\"label\"] != df[\"BankingComplaintsClassification_llm_label\"]][[\"example\", \"label\", \"BankingComplaintsClassification_llm_label\"]]\n",
    "print(len(wrong_rows))\n",
    "wrong_rows"
   ]
  },
  {
   "cell_type": "code",
   "execution_count": 6,
   "metadata": {},
   "outputs": [],
   "source": [
    "ledgar_config = {\n",
    "    \"task_name\": \"LedgarClassification\",\n",
    "    \"task_type\": \"classification\",\n",
    "    \"dataset\": {\"label_column\": \"label\", \"delimiter\": \",\"},\n",
    "    \"model\": {\"provider\": \"google\", \"name\": \"text-bison@001\", \"compute_confidence\": \"True\"},\n",
    "    \"prompt\": {\n",
    "        \"task_guidelines\": \"You are an expert at understanding contracts.\",\n",
    "        \"labels_list\": [\n",
    "            \"Agreements\",\n",
    "            \"Amendments\",\n",
    "            \"Anti-Corruption Laws\",\n",
    "            \"Applicable Laws\",\n",
    "            \"Approvals\",\n",
    "            \"Arbitration\",\n",
    "            \"Assignments\",\n",
    "            \"Assigns\",\n",
    "            \"Authority\",\n",
    "            \"Authorizations\",\n",
    "            \"Base Salary\",\n",
    "            \"Benefits\",\n",
    "            \"Binding Effects\",\n",
    "            \"Books\",\n",
    "            \"Brokers\",\n",
    "            \"Capitalization\",\n",
    "            \"Change In Control\",\n",
    "            \"Closings\",\n",
    "            \"Compliance With Laws\",\n",
    "            \"Confidentiality\",\n",
    "            \"Consent To Jurisdiction\",\n",
    "            \"Consents\",\n",
    "            \"Construction\",\n",
    "            \"Cooperation\",\n",
    "            \"Costs\",\n",
    "            \"Counterparts\",\n",
    "            \"Death\",\n",
    "            \"Defined Terms\",\n",
    "            \"Definitions\",\n",
    "            \"Disability\",\n",
    "            \"Disclosures\",\n",
    "            \"Duties\",\n",
    "            \"Effective Dates\",\n",
    "            \"Effectiveness\",\n",
    "            \"Employment\",\n",
    "            \"Enforceability\",\n",
    "            \"Enforcements\",\n",
    "            \"Entire Agreements\",\n",
    "            \"Erisa\",\n",
    "            \"Existence\",\n",
    "            \"Expenses\",\n",
    "            \"Fees\",\n",
    "            \"Financial Statements\",\n",
    "            \"Forfeitures\",\n",
    "            \"Further Assurances\",\n",
    "            \"General\",\n",
    "            \"Governing Laws\",\n",
    "            \"Headings\",\n",
    "            \"Indemnifications\",\n",
    "            \"Indemnity\",\n",
    "            \"Insurances\",\n",
    "            \"Integration\",\n",
    "            \"Intellectual Property\",\n",
    "            \"Interests\",\n",
    "            \"Interpretations\",\n",
    "            \"Jurisdictions\",\n",
    "            \"Liens\",\n",
    "            \"Litigations\",\n",
    "            \"Miscellaneous\",\n",
    "            \"Modifications\",\n",
    "            \"No Conflicts\",\n",
    "            \"No Defaults\",\n",
    "            \"No Waivers\",\n",
    "            \"Non-Disparagement\",\n",
    "            \"Notices\",\n",
    "            \"Organizations\",\n",
    "            \"Participations\",\n",
    "            \"Payments\",\n",
    "            \"Positions\",\n",
    "            \"Powers\",\n",
    "            \"Publicity\",\n",
    "            \"Qualifications\",\n",
    "            \"Records\",\n",
    "            \"Releases\",\n",
    "            \"Remedies\",\n",
    "            \"Representations\",\n",
    "            \"Sales\",\n",
    "            \"Sanctions\",\n",
    "            \"Severability\",\n",
    "            \"Solvency\",\n",
    "            \"Specific Performance\",\n",
    "            \"Submission To Jurisdiction\",\n",
    "            \"Subsidiaries\",\n",
    "            \"Successors\",\n",
    "            \"Survival\",\n",
    "            \"Tax Withholdings\",\n",
    "            \"Taxes\",\n",
    "            \"Terminations\",\n",
    "            \"Terms\",\n",
    "            \"Titles\",\n",
    "            \"Transactions With Affiliates\",\n",
    "            \"Use Of Proceeds\",\n",
    "            \"Vacations\",\n",
    "            \"Venues\",\n",
    "            \"Vesting\",\n",
    "            \"Waiver Of Jury Trials\",\n",
    "            \"Waivers\",\n",
    "            \"Warranties\",\n",
    "            \"Withholdings\",\n",
    "        ],\n",
    "        \"few_shot_examples\": \"../data/ledgar_seed.csv\",\n",
    "        \"few_shot_selection\": \"semantic_similarity\",\n",
    "        \"few_shot_num\": 3,\n",
    "        \"example_template\": \"Example: {example}\\nOutput: {label}\",\n",
    "    },\n",
    "}"
   ]
  },
  {
   "cell_type": "code",
   "execution_count": 7,
   "metadata": {},
   "outputs": [
    {
     "name": "stdout",
     "output_type": "stream",
     "text": [
      "PaLM model name: text-bison@001\n"
     ]
    },
    {
     "data": {
      "application/vnd.jupyter.widget-view+json": {
       "model_id": "dfb44860e36047a682a0d1da2a0111c6",
       "version_major": 2,
       "version_minor": 0
      },
      "text/plain": [
       "Output()"
      ]
     },
     "metadata": {},
     "output_type": "display_data"
    },
    {
     "data": {
      "text/html": [
       "<pre style=\"white-space:pre;overflow-x:auto;line-height:normal;font-family:Menlo,'DejaVu Sans Mono',consolas,'Courier New',monospace\"></pre>\n"
      ],
      "text/plain": []
     },
     "metadata": {},
     "output_type": "display_data"
    },
    {
     "data": {
      "text/html": [
       "<pre style=\"white-space:pre;overflow-x:auto;line-height:normal;font-family:Menlo,'DejaVu Sans Mono',consolas,'Courier New',monospace\">\n",
       "</pre>\n"
      ],
      "text/plain": [
       "\n"
      ]
     },
     "metadata": {},
     "output_type": "display_data"
    },
    {
     "data": {
      "text/html": [
       "<pre style=\"white-space:pre;overflow-x:auto;line-height:normal;font-family:Menlo,'DejaVu Sans Mono',consolas,'Courier New',monospace\">┌──────────────────────────┬─────────┐\n",
       "│<span style=\"color: #008000; text-decoration-color: #008000; font-weight: bold\"> Total Estimated Cost     </span>│<span style=\"color: #800080; text-decoration-color: #800080; font-weight: bold\"> $1.507  </span>│\n",
       "│<span style=\"color: #008000; text-decoration-color: #008000; font-weight: bold\"> Number of Examples       </span>│<span style=\"color: #800080; text-decoration-color: #800080; font-weight: bold\"> 512     </span>│\n",
       "│<span style=\"color: #008000; text-decoration-color: #008000; font-weight: bold\"> Average cost per example </span>│<span style=\"color: #800080; text-decoration-color: #800080; font-weight: bold\"> 0.00294 </span>│\n",
       "└──────────────────────────┴─────────┘\n",
       "</pre>\n"
      ],
      "text/plain": [
       "┌──────────────────────────┬─────────┐\n",
       "│\u001b[1;32m \u001b[0m\u001b[1;32mTotal Estimated Cost    \u001b[0m\u001b[1;32m \u001b[0m│\u001b[1;35m \u001b[0m\u001b[1;35m$1.507 \u001b[0m\u001b[1;35m \u001b[0m│\n",
       "│\u001b[1;32m \u001b[0m\u001b[1;32mNumber of Examples      \u001b[0m\u001b[1;32m \u001b[0m│\u001b[1;35m \u001b[0m\u001b[1;35m512    \u001b[0m\u001b[1;35m \u001b[0m│\n",
       "│\u001b[1;32m \u001b[0m\u001b[1;32mAverage cost per example\u001b[0m\u001b[1;32m \u001b[0m│\u001b[1;35m \u001b[0m\u001b[1;35m0.00294\u001b[0m\u001b[1;35m \u001b[0m│\n",
       "└──────────────────────────┴─────────┘\n"
      ]
     },
     "metadata": {},
     "output_type": "display_data"
    },
    {
     "data": {
      "text/html": [
       "<pre style=\"white-space:pre;overflow-x:auto;line-height:normal;font-family:Menlo,'DejaVu Sans Mono',consolas,'Courier New',monospace\"><span style=\"color: #00ff00; text-decoration-color: #00ff00\">───────────────────────────────────────────────── </span>Prompt Example<span style=\"color: #00ff00; text-decoration-color: #00ff00\"> ──────────────────────────────────────────────────</span>\n",
       "</pre>\n"
      ],
      "text/plain": [
       "\u001b[92m───────────────────────────────────────────────── \u001b[0mPrompt Example\u001b[92m ──────────────────────────────────────────────────\u001b[0m\n"
      ]
     },
     "metadata": {},
     "output_type": "display_data"
    },
    {
     "name": "stdout",
     "output_type": "stream",
     "text": [
      "You are an expert at understanding contracts.\n",
      "\n",
      "You will return the answer with just one element: \"the correct label\"\n",
      "\n",
      "Some examples with their output answers are provided below:\n",
      "\n",
      "Example: The Company hereby employs Executive and Executive accepts employment under the terms and conditions of this Agreement.\n",
      "Output: Employment\n",
      "\n",
      "Example: This Agreement, including its attached Exhibit A, constitutes the entire employment agreement between Executive and the Company regarding the terms and conditions of his employment. This Agreement supersedes all prior negotiations, representations or agreements between Executive and the Company, whether written or oral, concerning Executive’s employment.\n",
      "Output: Entire Agreements\n",
      "\n",
      "Example: Executive agrees that during the Employment Period, Executive will devote his/her full business time, energies and talents to serving as the Senior Vice President Community Banking of the Employer, at the direction of the Chief Executive Officer of the Employwer  (the “ CEO ”).  Executive shall have such duties and responsibilities as may be assigned to Executive from time to time by the CEO, which duties and responsibilities shall be commensurate with Executive’s position, shall perform all duties assigned to Executive faithfully and efficiently, subject to the direction of the CEO, and shall have such authorities and powers as are inherent to the undertakings applicable to Executive’s position and necessary to carry out the responsibilities and duties required of Executive hereunder.  Executive will perform the duties required by this Agreement at the Company’s principal place of business unless the nature of such duties requires otherwise.  Notwithstanding the foregoing, during the Employment Period, Executive may devote reasonable time to activities other than those required under this Agreement, including activities of a charitable, educational, religious or similar nature (including professional associations) to the extent such activities do not, in the reasonable judgment of the CEO, inhibit, prohibit, interfere with or conflict with Executive’s duties under this Agreement or conflict in any material way with the business of the Employer and its Affiliates; provided, however, that Executive shall not serve on the board of directors of any business (other than the Employer or its Affiliates) or hold any other position with any business without receiving the prior written consent of the CEO.\n",
      "Output: Duties\n",
      "\n",
      "Now I want you to label the following example:\n",
      "Example: Executive agrees to be employed with the Company, and the Company agrees to employ Executive, during the Term and on the terms and conditions set forth in this Agreement. Executive agrees during the term of this Agreement to devote substantially all of Executive’s business time, efforts, skills and abilities to the performance of Executive’s duties to the Company and to the furtherance of the Company's business.\n",
      "Output: \n"
     ]
    },
    {
     "data": {
      "text/html": [
       "<pre style=\"white-space:pre;overflow-x:auto;line-height:normal;font-family:Menlo,'DejaVu Sans Mono',consolas,'Courier New',monospace\"><span style=\"color: #00ff00; text-decoration-color: #00ff00\">───────────────────────────────────────────────────────────────────────────────────────────────────────────────────</span>\n",
       "</pre>\n"
      ],
      "text/plain": [
       "\u001b[92m───────────────────────────────────────────────────────────────────────────────────────────────────────────────────\u001b[0m\n"
      ]
     },
     "metadata": {},
     "output_type": "display_data"
    }
   ],
   "source": [
    "l = LabelingAgent(config=ledgar_config, cache=False)\n",
    "l.plan(\"../data/ledgar_test.csv\", max_items=512)"
   ]
  },
  {
   "cell_type": "code",
   "execution_count": 8,
   "metadata": {},
   "outputs": [
    {
     "name": "stdout",
     "output_type": "stream",
     "text": [
      "\u001b[32m2023-06-05 14:40:47.933\u001b[0m | \u001b[1mINFO    \u001b[0m | \u001b[36mautolabel.labeler\u001b[0m:\u001b[36mrun\u001b[0m:\u001b[36m145\u001b[0m - \u001b[1mTask run already exists.\u001b[0m\n"
     ]
    },
    {
     "data": {
      "text/html": [
       "<pre style=\"white-space:pre;overflow-x:auto;line-height:normal;font-family:Menlo,'DejaVu Sans Mono',consolas,'Courier New',monospace\">There is an existing task with following details: <span style=\"color: #808000; text-decoration-color: #808000\">id</span>=<span style=\"color: #008000; text-decoration-color: #008000\">'913296617'</span> <span style=\"color: #808000; text-decoration-color: #808000\">created_at</span>=<span style=\"color: #800080; text-decoration-color: #800080; font-weight: bold\">datetime</span><span style=\"color: #800080; text-decoration-color: #800080; font-weight: bold\">.datetime</span><span style=\"font-weight: bold\">(</span><span style=\"color: #008080; text-decoration-color: #008080; font-weight: bold\">2023</span>, <span style=\"color: #008080; text-decoration-color: #008080; font-weight: bold\">6</span>, <span style=\"color: #008080; text-decoration-color: #008080; font-weight: bold\">5</span>, <span style=\"color: #008080; text-decoration-color: #008080; font-weight: bold\">13</span>, <span style=\"color: #008080; text-decoration-color: #008080; font-weight: bold\">55</span>, \n",
       "<span style=\"color: #008080; text-decoration-color: #008080; font-weight: bold\">13</span>, <span style=\"color: #008080; text-decoration-color: #008080; font-weight: bold\">663631</span><span style=\"font-weight: bold\">)</span> <span style=\"color: #808000; text-decoration-color: #808000\">task_id</span>=<span style=\"color: #008000; text-decoration-color: #008000\">'b9b8390c4c10e2c47a051436f98c304a'</span> <span style=\"color: #808000; text-decoration-color: #808000\">dataset_id</span>=<span style=\"color: #008000; text-decoration-color: #008000\">'e224812a74a4da9651b993f24c0d90ae'</span> \n",
       "<span style=\"color: #808000; text-decoration-color: #808000\">current_index</span>=<span style=\"color: #008080; text-decoration-color: #008080; font-weight: bold\">15</span> <span style=\"color: #808000; text-decoration-color: #808000\">output_file</span>=<span style=\"color: #008000; text-decoration-color: #008000\">'../data/ledgar_test_labeled.csv'</span> <span style=\"color: #808000; text-decoration-color: #808000\">status</span>=<span style=\"font-weight: bold\">&lt;</span><span style=\"color: #ff00ff; text-decoration-color: #ff00ff; font-weight: bold\">TaskStatus.ACTIVE:</span><span style=\"color: #000000; text-decoration-color: #000000\"> </span><span style=\"color: #008000; text-decoration-color: #008000\">'active'</span><span style=\"font-weight: bold\">&gt;</span> <span style=\"color: #808000; text-decoration-color: #808000\">error</span>=<span style=\"color: #800080; text-decoration-color: #800080; font-style: italic\">None</span> \n",
       "<span style=\"color: #808000; text-decoration-color: #808000\">metrics</span>=<span style=\"color: #800080; text-decoration-color: #800080; font-style: italic\">None</span>\n",
       "</pre>\n"
      ],
      "text/plain": [
       "There is an existing task with following details: \u001b[33mid\u001b[0m=\u001b[32m'913296617'\u001b[0m \u001b[33mcreated_at\u001b[0m=\u001b[1;35mdatetime\u001b[0m\u001b[1;35m.datetime\u001b[0m\u001b[1m(\u001b[0m\u001b[1;36m2023\u001b[0m, \u001b[1;36m6\u001b[0m, \u001b[1;36m5\u001b[0m, \u001b[1;36m13\u001b[0m, \u001b[1;36m55\u001b[0m, \n",
       "\u001b[1;36m13\u001b[0m, \u001b[1;36m663631\u001b[0m\u001b[1m)\u001b[0m \u001b[33mtask_id\u001b[0m=\u001b[32m'b9b8390c4c10e2c47a051436f98c304a'\u001b[0m \u001b[33mdataset_id\u001b[0m=\u001b[32m'e224812a74a4da9651b993f24c0d90ae'\u001b[0m \n",
       "\u001b[33mcurrent_index\u001b[0m=\u001b[1;36m15\u001b[0m \u001b[33moutput_file\u001b[0m=\u001b[32m'../data/ledgar_test_labeled.csv'\u001b[0m \u001b[33mstatus\u001b[0m=\u001b[1m<\u001b[0m\u001b[1;95mTaskStatus.ACTIVE:\u001b[0m\u001b[39m \u001b[0m\u001b[32m'active'\u001b[0m\u001b[1m>\u001b[0m \u001b[33merror\u001b[0m=\u001b[3;35mNone\u001b[0m \n",
       "\u001b[33mmetrics\u001b[0m=\u001b[3;35mNone\u001b[0m\n"
      ]
     },
     "metadata": {},
     "output_type": "display_data"
    },
    {
     "data": {
      "text/html": [
       "<pre style=\"white-space:pre;overflow-x:auto;line-height:normal;font-family:Menlo,'DejaVu Sans Mono',consolas,'Courier New',monospace\">Evaluating the existing task<span style=\"color: #808000; text-decoration-color: #808000\">...</span>\n",
       "</pre>\n"
      ],
      "text/plain": [
       "Evaluating the existing task\u001b[33m...\u001b[0m\n"
      ]
     },
     "metadata": {},
     "output_type": "display_data"
    },
    {
     "name": "stdout",
     "output_type": "stream",
     "text": [
      "Metric: auroc: 0.8888888888888888\n"
     ]
    },
    {
     "data": {
      "text/html": [
       "<pre style=\"white-space:pre;overflow-x:auto;line-height:normal;font-family:Menlo,'DejaVu Sans Mono',consolas,'Courier New',monospace\">┏━━━━━━━━━━━━━━━━━┳━━━━━━━━━━━━━━━━━━━━┓\n",
       "┃<span style=\"font-weight: bold\"> Metric          </span>┃<span style=\"font-weight: bold\">              Value </span>┃\n",
       "┡━━━━━━━━━━━━━━━━━╇━━━━━━━━━━━━━━━━━━━━┩\n",
       "│<span style=\"color: #008080; text-decoration-color: #008080; font-weight: bold\"> support         </span>│<span style=\"color: #800080; text-decoration-color: #800080; font-weight: bold\">                 19 </span>│\n",
       "│<span style=\"color: #008080; text-decoration-color: #008080; font-weight: bold\"> threshold       </span>│<span style=\"color: #800080; text-decoration-color: #800080; font-weight: bold\">               -inf </span>│\n",
       "│<span style=\"color: #008080; text-decoration-color: #008080; font-weight: bold\"> accuracy        </span>│<span style=\"color: #800080; text-decoration-color: #800080; font-weight: bold\"> 0.5789473684210527 </span>│\n",
       "│<span style=\"color: #008080; text-decoration-color: #008080; font-weight: bold\"> completion_rate </span>│<span style=\"color: #800080; text-decoration-color: #800080; font-weight: bold\">               0.95 </span>│\n",
       "└─────────────────┴────────────────────┘\n",
       "</pre>\n"
      ],
      "text/plain": [
       "┏━━━━━━━━━━━━━━━━━┳━━━━━━━━━━━━━━━━━━━━┓\n",
       "┃\u001b[1m \u001b[0m\u001b[1mMetric         \u001b[0m\u001b[1m \u001b[0m┃\u001b[1m \u001b[0m\u001b[1m             Value\u001b[0m\u001b[1m \u001b[0m┃\n",
       "┡━━━━━━━━━━━━━━━━━╇━━━━━━━━━━━━━━━━━━━━┩\n",
       "│\u001b[1;36m \u001b[0m\u001b[1;36msupport        \u001b[0m\u001b[1;36m \u001b[0m│\u001b[1;35m \u001b[0m\u001b[1;35m                19\u001b[0m\u001b[1;35m \u001b[0m│\n",
       "│\u001b[1;36m \u001b[0m\u001b[1;36mthreshold      \u001b[0m\u001b[1;36m \u001b[0m│\u001b[1;35m \u001b[0m\u001b[1;35m              -inf\u001b[0m\u001b[1;35m \u001b[0m│\n",
       "│\u001b[1;36m \u001b[0m\u001b[1;36maccuracy       \u001b[0m\u001b[1;36m \u001b[0m│\u001b[1;35m \u001b[0m\u001b[1;35m0.5789473684210527\u001b[0m\u001b[1;35m \u001b[0m│\n",
       "│\u001b[1;36m \u001b[0m\u001b[1;36mcompletion_rate\u001b[0m\u001b[1;36m \u001b[0m│\u001b[1;35m \u001b[0m\u001b[1;35m              0.95\u001b[0m\u001b[1;35m \u001b[0m│\n",
       "└─────────────────┴────────────────────┘\n"
      ]
     },
     "metadata": {},
     "output_type": "display_data"
    },
    {
     "data": {
      "text/html": [
       "<pre style=\"white-space:pre;overflow-x:auto;line-height:normal;font-family:Menlo,'DejaVu Sans Mono',consolas,'Courier New',monospace\"><span style=\"color: #008080; text-decoration-color: #008080; font-weight: bold\">20</span> examples have been labeled so far.\n",
       "</pre>\n"
      ],
      "text/plain": [
       "\u001b[1;36m20\u001b[0m examples have been labeled so far.\n"
      ]
     },
     "metadata": {},
     "output_type": "display_data"
    },
    {
     "data": {
      "text/html": [
       "<pre style=\"white-space:pre;overflow-x:auto;line-height:normal;font-family:Menlo,'DejaVu Sans Mono',consolas,'Courier New',monospace\"><span style=\"color: #00ff00; text-decoration-color: #00ff00\">───────────────────────────────────────────── </span>Last Annotated Example<span style=\"color: #00ff00; text-decoration-color: #00ff00\"> ──────────────────────────────────────────────</span>\n",
       "</pre>\n"
      ],
      "text/plain": [
       "\u001b[92m───────────────────────────────────────────── \u001b[0mLast Annotated Example\u001b[92m ──────────────────────────────────────────────\u001b[0m\n"
      ]
     },
     "metadata": {},
     "output_type": "display_data"
    },
    {
     "data": {
      "text/html": [
       "<pre style=\"white-space:pre;overflow-x:auto;line-height:normal;font-family:Menlo,'DejaVu Sans Mono',consolas,'Courier New',monospace\"><span style=\"color: #000080; text-decoration-color: #000080; font-weight: bold\">Prompt</span>: </pre>\n"
      ],
      "text/plain": [
       "\u001b[1;34mPrompt\u001b[0m: "
      ]
     },
     "metadata": {},
     "output_type": "display_data"
    },
    {
     "name": "stdout",
     "output_type": "stream",
     "text": [
      "You are an expert at understanding contracts.\n",
      "\n",
      "You will return the answer with just one element: \"the correct label\"\n",
      "\n",
      "Some examples with their output answers are provided below:\n",
      "\n",
      "Example: The Parties agree that in the event any court of competent jurisdiction or arbitrator holds any provision of this Agreement to be invalid or unenforceable, such invalid or unenforceable portion(s) shall be limited or excluded from this Agreement to the minimum extent required, and the remaining provisions shall not be affected or invalidated and shall remain in full force and effect. Further, should any provision of this Agreement be held by a court of competent jurisdiction or arbitrator to be enforceable only if modified, such holding shall not affect the validity or enforceability of the remainder of this Agreement, the balance of which shall continue to be binding upon the Parties with such modification, if any, to become a part hereof and treated as though contained in this original Agreement, nor shall such holding affect the enforceability or validity of the offending provision in any other jurisdiction. The Parties further agree that any such court or arbitrator is expressly authorized to modify any such unenforceable provision of this Agreement in lieu of severing such unenforceable provision from this Agreement in its entirety. The Parties expressly agree that this Agreement, as so modified by any such court or arbitrator, shall be binding upon and enforceable against each other.\n",
      "Output: Severability\n",
      "\n",
      "Example: In the event any provision of this Agreement is found to be unenforceable by an arbitrator or court of competent jurisdiction, such provision shall be deemed modified to the extent necessary to allow enforceability of the provision as so limited, it being intended that the parties shall receive the benefit contemplated herein to the fullest extent permitted by law. If a deemed modification is not satisfactory in the judgment of such arbitrator or court, the unenforceable provision shall be deemed deleted, and the validity and enforceability of the remaining provisions shall not be affected thereby.\n",
      "Output: Severability\n",
      "\n",
      "Example: Any term or provision of this Agreement that is invalid or unenforceable in any situation in any jurisdiction shall not affect the validity or enforceability of the remaining terms and provisions hereof or the validity or enforceability of the offending term or provision in any other situation or in any other jurisdiction. If the final judgment of a court of competent jurisdiction declares that any term or provision hereof is invalid or unenforceable, the Parties agree that the court making the determination of invalidity or unenforceability shall have the power to reduce the scope, duration or area of the term or provision, to delete specific words or phrases, or to replace any invalid or unenforceable term or provision with a term or provision that is valid and enforceable and that comes closest to expressing the intention of the invalid or unenforceable term or provision, and this Agreement shall be enforceable as so modified after the expiration of the time within which the judgment may be appealed.\n",
      "Output: Severability\n",
      "\n",
      "Now I want you to label the following example:\n",
      "Example: This Agreement shall be enforceable to the fullest extent allowed by law. In the event that a court or appointed arbitrator holds any provision of this Agreement to be invalid or unenforceable, then, if allowed by law, that provision shall be reduced, modified or otherwise conformed to the relevant law, judgment or determination to the degree necessary to render it valid and enforceable without affecting the rest of this Agreement. Any provision of this Agreement that is prohibited or unenforceable in any jurisdiction shall, as to such jurisdiction, be deemed severable from the remainder of this Agreement, and the remaining provisions contained in this Agreement shall be construed to preserve to the maximum permissible extent the intent and purposes of this Agreement. Any such prohibition or unenforceability in any jurisdiction shall not invalidate or render unenforceable such provision in any other jurisdiction.\n",
      "Output: \n"
     ]
    },
    {
     "data": {
      "text/html": [
       "<pre style=\"white-space:pre;overflow-x:auto;line-height:normal;font-family:Menlo,'DejaVu Sans Mono',consolas,'Courier New',monospace\"><span style=\"color: #000080; text-decoration-color: #000080; font-weight: bold\">Annotation</span>: </pre>\n"
      ],
      "text/plain": [
       "\u001b[1;34mAnnotation\u001b[0m: "
      ]
     },
     "metadata": {},
     "output_type": "display_data"
    },
    {
     "name": "stdout",
     "output_type": "stream",
     "text": [
      "Severability\n"
     ]
    },
    {
     "data": {
      "text/html": [
       "<pre style=\"white-space:pre;overflow-x:auto;line-height:normal;font-family:Menlo,'DejaVu Sans Mono',consolas,'Courier New',monospace\"><span style=\"color: #00ff00; text-decoration-color: #00ff00\">───────────────────────────────────────────────────────────────────────────────────────────────────────────────────</span>\n",
       "</pre>\n"
      ],
      "text/plain": [
       "\u001b[92m───────────────────────────────────────────────────────────────────────────────────────────────────────────────────\u001b[0m\n"
      ]
     },
     "metadata": {},
     "output_type": "display_data"
    },
    {
     "data": {
      "text/html": [
       "<pre style=\"white-space:pre;overflow-x:auto;line-height:normal;font-family:Menlo,'DejaVu Sans Mono',consolas,'Courier New',monospace\">Do you want to resume the task? <span style=\"color: #800080; text-decoration-color: #800080; font-weight: bold\">[y/n]</span>: </pre>\n"
      ],
      "text/plain": [
       "Do you want to resume the task? \u001b[1;35m[y/n]\u001b[0m: "
      ]
     },
     "metadata": {},
     "output_type": "display_data"
    },
    {
     "data": {
      "application/vnd.jupyter.widget-view+json": {
       "model_id": "cba4abf1b4eb490294f8756becc58043",
       "version_major": 2,
       "version_minor": 0
      },
      "text/plain": [
       "Output()"
      ]
     },
     "metadata": {},
     "output_type": "display_data"
    },
    {
     "name": "stdout",
     "output_type": "stream",
     "text": [
      "\u001b[32m2023-06-05 14:44:06.149\u001b[0m | \u001b[31m\u001b[1mERROR   \u001b[0m | \u001b[36mautolabel.tasks.base\u001b[0m:\u001b[36mparse_llm_response\u001b[0m:\u001b[36m73\u001b[0m - \u001b[31m\u001b[1mError parsing LLM response: \u001b[0m\n"
     ]
    },
    {
     "name": "stdout",
     "output_type": "stream",
     "text": [
      "\u001b[32m2023-06-05 14:47:20.447\u001b[0m | \u001b[31m\u001b[1mERROR   \u001b[0m | \u001b[36mautolabel.tasks.base\u001b[0m:\u001b[36mparse_llm_response\u001b[0m:\u001b[36m73\u001b[0m - \u001b[31m\u001b[1mError parsing LLM response: \u001b[0m\n"
     ]
    },
    {
     "name": "stdout",
     "output_type": "stream",
     "text": [
      "\u001b[32m2023-06-05 14:48:09.511\u001b[0m | \u001b[31m\u001b[1mERROR   \u001b[0m | \u001b[36mautolabel.tasks.base\u001b[0m:\u001b[36mparse_llm_response\u001b[0m:\u001b[36m73\u001b[0m - \u001b[31m\u001b[1mError parsing LLM response: \u001b[0m\n"
     ]
    },
    {
     "name": "stdout",
     "output_type": "stream",
     "text": [
      "\u001b[32m2023-06-05 14:49:41.633\u001b[0m | \u001b[31m\u001b[1mERROR   \u001b[0m | \u001b[36mautolabel.tasks.base\u001b[0m:\u001b[36mparse_llm_response\u001b[0m:\u001b[36m73\u001b[0m - \u001b[31m\u001b[1mError parsing LLM response: \u001b[0m\n"
     ]
    },
    {
     "name": "stdout",
     "output_type": "stream",
     "text": [
      "\u001b[32m2023-06-05 14:50:38.806\u001b[0m | \u001b[31m\u001b[1mERROR   \u001b[0m | \u001b[36mautolabel.tasks.base\u001b[0m:\u001b[36mparse_llm_response\u001b[0m:\u001b[36m73\u001b[0m - \u001b[31m\u001b[1mError parsing LLM response: \u001b[0m\n"
     ]
    },
    {
     "name": "stdout",
     "output_type": "stream",
     "text": [
      "\u001b[32m2023-06-05 14:54:22.464\u001b[0m | \u001b[31m\u001b[1mERROR   \u001b[0m | \u001b[36mautolabel.tasks.base\u001b[0m:\u001b[36mparse_llm_response\u001b[0m:\u001b[36m73\u001b[0m - \u001b[31m\u001b[1mError parsing LLM response: \u001b[0m\n"
     ]
    },
    {
     "name": "stdout",
     "output_type": "stream",
     "text": [
      "\u001b[32m2023-06-05 14:55:40.038\u001b[0m | \u001b[31m\u001b[1mERROR   \u001b[0m | \u001b[36mautolabel.tasks.base\u001b[0m:\u001b[36mparse_llm_response\u001b[0m:\u001b[36m73\u001b[0m - \u001b[31m\u001b[1mError parsing LLM response: \u001b[0m\n"
     ]
    },
    {
     "name": "stdout",
     "output_type": "stream",
     "text": [
      "\u001b[32m2023-06-05 14:56:09.204\u001b[0m | \u001b[31m\u001b[1mERROR   \u001b[0m | \u001b[36mautolabel.tasks.base\u001b[0m:\u001b[36mparse_llm_response\u001b[0m:\u001b[36m73\u001b[0m - \u001b[31m\u001b[1mError parsing LLM response: \u001b[0m\n"
     ]
    },
    {
     "data": {
      "text/html": [
       "<pre style=\"white-space:pre;overflow-x:auto;line-height:normal;font-family:Menlo,'DejaVu Sans Mono',consolas,'Courier New',monospace\"></pre>\n"
      ],
      "text/plain": []
     },
     "metadata": {},
     "output_type": "display_data"
    },
    {
     "name": "stdout",
     "output_type": "stream",
     "text": [
      "Metric: auroc: 0.8940424876847292\n"
     ]
    },
    {
     "data": {
      "text/html": [
       "<pre style=\"white-space:pre;overflow-x:auto;line-height:normal;font-family:Menlo,'DejaVu Sans Mono',consolas,'Courier New',monospace\">┏━━━━━━━━━┳━━━━━━━━━━━━━━━━━━━━┳━━━━━━━━━━━━━━━━━━━━┳━━━━━━━━━━━━━━━━━┳━━━━━━━━━━━━━━━━━━━━┓\n",
       "┃<span style=\"font-weight: bold\"> support </span>┃<span style=\"font-weight: bold\"> threshold          </span>┃<span style=\"font-weight: bold\"> accuracy           </span>┃<span style=\"font-weight: bold\"> completion_rate </span>┃<span style=\"font-weight: bold\"> Actual Cost        </span>┃\n",
       "┡━━━━━━━━━╇━━━━━━━━━━━━━━━━━━━━╇━━━━━━━━━━━━━━━━━━━━╇━━━━━━━━━━━━━━━━━╇━━━━━━━━━━━━━━━━━━━━┩\n",
       "│<span style=\"color: #008080; text-decoration-color: #008080; font-weight: bold\"> 503     </span>│<span style=\"color: #008080; text-decoration-color: #008080; font-weight: bold\"> -inf               </span>│<span style=\"color: #008080; text-decoration-color: #008080; font-weight: bold\"> 0.5566600397614314 </span>│<span style=\"color: #008080; text-decoration-color: #008080; font-weight: bold\"> 0.982421875     </span>│<span style=\"color: #008080; text-decoration-color: #008080; font-weight: bold\"> 1.6234209999999998 </span>│\n",
       "│<span style=\"color: #008080; text-decoration-color: #008080; font-weight: bold\"> 0       </span>│<span style=\"color: #008080; text-decoration-color: #008080; font-weight: bold\"> 3.715268428429983  </span>│<span style=\"color: #008080; text-decoration-color: #008080; font-weight: bold\"> 0.0                </span>│<span style=\"color: #008080; text-decoration-color: #008080; font-weight: bold\"> 0.0             </span>│<span style=\"color: #008080; text-decoration-color: #008080; font-weight: bold\"> 1.6234209999999998 </span>│\n",
       "│<span style=\"color: #008080; text-decoration-color: #008080; font-weight: bold\"> 1       </span>│<span style=\"color: #008080; text-decoration-color: #008080; font-weight: bold\"> 2.715268428429983  </span>│<span style=\"color: #008080; text-decoration-color: #008080; font-weight: bold\"> 1.0                </span>│<span style=\"color: #008080; text-decoration-color: #008080; font-weight: bold\"> 0.001953125     </span>│<span style=\"color: #008080; text-decoration-color: #008080; font-weight: bold\"> 1.6234209999999998 </span>│\n",
       "│<span style=\"color: #008080; text-decoration-color: #008080; font-weight: bold\"> 16      </span>│<span style=\"color: #008080; text-decoration-color: #008080; font-weight: bold\"> 2.712242849337046  </span>│<span style=\"color: #008080; text-decoration-color: #008080; font-weight: bold\"> 1.0                </span>│<span style=\"color: #008080; text-decoration-color: #008080; font-weight: bold\"> 0.03125         </span>│<span style=\"color: #008080; text-decoration-color: #008080; font-weight: bold\"> 1.6234209999999998 </span>│\n",
       "│<span style=\"color: #008080; text-decoration-color: #008080; font-weight: bold\"> 17      </span>│<span style=\"color: #008080; text-decoration-color: #008080; font-weight: bold\"> 2.712148332442508  </span>│<span style=\"color: #008080; text-decoration-color: #008080; font-weight: bold\"> 0.9411764705882353 </span>│<span style=\"color: #008080; text-decoration-color: #008080; font-weight: bold\"> 0.033203125     </span>│<span style=\"color: #008080; text-decoration-color: #008080; font-weight: bold\"> 1.6234209999999998 </span>│\n",
       "│<span style=\"color: #008080; text-decoration-color: #008080; font-weight: bold\"> 28      </span>│<span style=\"color: #008080; text-decoration-color: #008080; font-weight: bold\"> 2.7098626629671014 </span>│<span style=\"color: #008080; text-decoration-color: #008080; font-weight: bold\"> 0.9642857142857143 </span>│<span style=\"color: #008080; text-decoration-color: #008080; font-weight: bold\"> 0.0546875       </span>│<span style=\"color: #008080; text-decoration-color: #008080; font-weight: bold\"> 1.6234209999999998 </span>│\n",
       "│<span style=\"color: #008080; text-decoration-color: #008080; font-weight: bold\"> 29      </span>│<span style=\"color: #008080; text-decoration-color: #008080; font-weight: bold\"> 2.7098496229180684 </span>│<span style=\"color: #008080; text-decoration-color: #008080; font-weight: bold\"> 0.9310344827586207 </span>│<span style=\"color: #008080; text-decoration-color: #008080; font-weight: bold\"> 0.056640625     </span>│<span style=\"color: #008080; text-decoration-color: #008080; font-weight: bold\"> 1.6234209999999998 </span>│\n",
       "│<span style=\"color: #008080; text-decoration-color: #008080; font-weight: bold\"> 35      </span>│<span style=\"color: #008080; text-decoration-color: #008080; font-weight: bold\"> 2.7091403215744996 </span>│<span style=\"color: #008080; text-decoration-color: #008080; font-weight: bold\"> 0.9428571428571428 </span>│<span style=\"color: #008080; text-decoration-color: #008080; font-weight: bold\"> 0.068359375     </span>│<span style=\"color: #008080; text-decoration-color: #008080; font-weight: bold\"> 1.6234209999999998 </span>│\n",
       "│<span style=\"color: #008080; text-decoration-color: #008080; font-weight: bold\"> 36      </span>│<span style=\"color: #008080; text-decoration-color: #008080; font-weight: bold\"> 2.7090411870627356 </span>│<span style=\"color: #008080; text-decoration-color: #008080; font-weight: bold\"> 0.9166666666666666 </span>│<span style=\"color: #008080; text-decoration-color: #008080; font-weight: bold\"> 0.0703125       </span>│<span style=\"color: #008080; text-decoration-color: #008080; font-weight: bold\"> 1.6234209999999998 </span>│\n",
       "│<span style=\"color: #008080; text-decoration-color: #008080; font-weight: bold\"> 61      </span>│<span style=\"color: #008080; text-decoration-color: #008080; font-weight: bold\"> 2.704127444113323  </span>│<span style=\"color: #008080; text-decoration-color: #008080; font-weight: bold\"> 0.9508196721311475 </span>│<span style=\"color: #008080; text-decoration-color: #008080; font-weight: bold\"> 0.119140625     </span>│<span style=\"color: #008080; text-decoration-color: #008080; font-weight: bold\"> 1.6234209999999998 </span>│\n",
       "│<span style=\"color: #008080; text-decoration-color: #008080; font-weight: bold\"> 62      </span>│<span style=\"color: #008080; text-decoration-color: #008080; font-weight: bold\"> 2.703426891692521  </span>│<span style=\"color: #008080; text-decoration-color: #008080; font-weight: bold\"> 0.9354838709677419 </span>│<span style=\"color: #008080; text-decoration-color: #008080; font-weight: bold\"> 0.12109375      </span>│<span style=\"color: #008080; text-decoration-color: #008080; font-weight: bold\"> 1.6234209999999998 </span>│\n",
       "│<span style=\"color: #008080; text-decoration-color: #008080; font-weight: bold\"> 74      </span>│<span style=\"color: #008080; text-decoration-color: #008080; font-weight: bold\"> 2.699547529701385  </span>│<span style=\"color: #008080; text-decoration-color: #008080; font-weight: bold\"> 0.9459459459459459 </span>│<span style=\"color: #008080; text-decoration-color: #008080; font-weight: bold\"> 0.14453125      </span>│<span style=\"color: #008080; text-decoration-color: #008080; font-weight: bold\"> 1.6234209999999998 </span>│\n",
       "│<span style=\"color: #008080; text-decoration-color: #008080; font-weight: bold\"> 75      </span>│<span style=\"color: #008080; text-decoration-color: #008080; font-weight: bold\"> 2.69935532679345   </span>│<span style=\"color: #008080; text-decoration-color: #008080; font-weight: bold\"> 0.9333333333333333 </span>│<span style=\"color: #008080; text-decoration-color: #008080; font-weight: bold\"> 0.146484375     </span>│<span style=\"color: #008080; text-decoration-color: #008080; font-weight: bold\"> 1.6234209999999998 </span>│\n",
       "│<span style=\"color: #008080; text-decoration-color: #008080; font-weight: bold\"> 94      </span>│<span style=\"color: #008080; text-decoration-color: #008080; font-weight: bold\"> 2.6907428459431695 </span>│<span style=\"color: #008080; text-decoration-color: #008080; font-weight: bold\"> 0.9468085106382979 </span>│<span style=\"color: #008080; text-decoration-color: #008080; font-weight: bold\"> 0.18359375      </span>│<span style=\"color: #008080; text-decoration-color: #008080; font-weight: bold\"> 1.6234209999999998 </span>│\n",
       "│<span style=\"color: #008080; text-decoration-color: #008080; font-weight: bold\"> 95      </span>│<span style=\"color: #008080; text-decoration-color: #008080; font-weight: bold\"> 2.690386262927368  </span>│<span style=\"color: #008080; text-decoration-color: #008080; font-weight: bold\"> 0.9368421052631579 </span>│<span style=\"color: #008080; text-decoration-color: #008080; font-weight: bold\"> 0.185546875     </span>│<span style=\"color: #008080; text-decoration-color: #008080; font-weight: bold\"> 1.6234209999999998 </span>│\n",
       "│<span style=\"color: #008080; text-decoration-color: #008080; font-weight: bold\"> 102     </span>│<span style=\"color: #008080; text-decoration-color: #008080; font-weight: bold\"> 2.68849512658336   </span>│<span style=\"color: #008080; text-decoration-color: #008080; font-weight: bold\"> 0.9411764705882353 </span>│<span style=\"color: #008080; text-decoration-color: #008080; font-weight: bold\"> 0.19921875      </span>│<span style=\"color: #008080; text-decoration-color: #008080; font-weight: bold\"> 1.6234209999999998 </span>│\n",
       "│<span style=\"color: #008080; text-decoration-color: #008080; font-weight: bold\"> 103     </span>│<span style=\"color: #008080; text-decoration-color: #008080; font-weight: bold\"> 2.687847326840125  </span>│<span style=\"color: #008080; text-decoration-color: #008080; font-weight: bold\"> 0.9320388349514563 </span>│<span style=\"color: #008080; text-decoration-color: #008080; font-weight: bold\"> 0.201171875     </span>│<span style=\"color: #008080; text-decoration-color: #008080; font-weight: bold\"> 1.6234209999999998 </span>│\n",
       "│<span style=\"color: #008080; text-decoration-color: #008080; font-weight: bold\"> 113     </span>│<span style=\"color: #008080; text-decoration-color: #008080; font-weight: bold\"> 2.6832676232750563 </span>│<span style=\"color: #008080; text-decoration-color: #008080; font-weight: bold\"> 0.9380530973451328 </span>│<span style=\"color: #008080; text-decoration-color: #008080; font-weight: bold\"> 0.220703125     </span>│<span style=\"color: #008080; text-decoration-color: #008080; font-weight: bold\"> 1.6234209999999998 </span>│\n",
       "│<span style=\"color: #008080; text-decoration-color: #008080; font-weight: bold\"> 114     </span>│<span style=\"color: #008080; text-decoration-color: #008080; font-weight: bold\"> 2.6826176186862893 </span>│<span style=\"color: #008080; text-decoration-color: #008080; font-weight: bold\"> 0.9298245614035088 </span>│<span style=\"color: #008080; text-decoration-color: #008080; font-weight: bold\"> 0.22265625      </span>│<span style=\"color: #008080; text-decoration-color: #008080; font-weight: bold\"> 1.6234209999999998 </span>│\n",
       "│<span style=\"color: #008080; text-decoration-color: #008080; font-weight: bold\"> 137     </span>│<span style=\"color: #008080; text-decoration-color: #008080; font-weight: bold\"> 2.6660570359102183 </span>│<span style=\"color: #008080; text-decoration-color: #008080; font-weight: bold\"> 0.9416058394160584 </span>│<span style=\"color: #008080; text-decoration-color: #008080; font-weight: bold\"> 0.267578125     </span>│<span style=\"color: #008080; text-decoration-color: #008080; font-weight: bold\"> 1.6234209999999998 </span>│\n",
       "│<span style=\"color: #008080; text-decoration-color: #008080; font-weight: bold\"> 138     </span>│<span style=\"color: #008080; text-decoration-color: #008080; font-weight: bold\"> 2.6657317682475568 </span>│<span style=\"color: #008080; text-decoration-color: #008080; font-weight: bold\"> 0.9347826086956522 </span>│<span style=\"color: #008080; text-decoration-color: #008080; font-weight: bold\"> 0.26953125      </span>│<span style=\"color: #008080; text-decoration-color: #008080; font-weight: bold\"> 1.6234209999999998 </span>│\n",
       "│<span style=\"color: #008080; text-decoration-color: #008080; font-weight: bold\"> 147     </span>│<span style=\"color: #008080; text-decoration-color: #008080; font-weight: bold\"> 2.6548738167405213 </span>│<span style=\"color: #008080; text-decoration-color: #008080; font-weight: bold\"> 0.9387755102040817 </span>│<span style=\"color: #008080; text-decoration-color: #008080; font-weight: bold\"> 0.287109375     </span>│<span style=\"color: #008080; text-decoration-color: #008080; font-weight: bold\"> 1.6234209999999998 </span>│\n",
       "│<span style=\"color: #008080; text-decoration-color: #008080; font-weight: bold\"> 149     </span>│<span style=\"color: #008080; text-decoration-color: #008080; font-weight: bold\"> 2.6530305852932683 </span>│<span style=\"color: #008080; text-decoration-color: #008080; font-weight: bold\"> 0.9261744966442953 </span>│<span style=\"color: #008080; text-decoration-color: #008080; font-weight: bold\"> 0.291015625     </span>│<span style=\"color: #008080; text-decoration-color: #008080; font-weight: bold\"> 1.6234209999999998 </span>│\n",
       "│<span style=\"color: #008080; text-decoration-color: #008080; font-weight: bold\"> 158     </span>│<span style=\"color: #008080; text-decoration-color: #008080; font-weight: bold\"> 2.64682594187889   </span>│<span style=\"color: #008080; text-decoration-color: #008080; font-weight: bold\"> 0.930379746835443  </span>│<span style=\"color: #008080; text-decoration-color: #008080; font-weight: bold\"> 0.30859375      </span>│<span style=\"color: #008080; text-decoration-color: #008080; font-weight: bold\"> 1.6234209999999998 </span>│\n",
       "│<span style=\"color: #008080; text-decoration-color: #008080; font-weight: bold\"> 159     </span>│<span style=\"color: #008080; text-decoration-color: #008080; font-weight: bold\"> 2.6444029423854643 </span>│<span style=\"color: #008080; text-decoration-color: #008080; font-weight: bold\"> 0.9245283018867925 </span>│<span style=\"color: #008080; text-decoration-color: #008080; font-weight: bold\"> 0.310546875     </span>│<span style=\"color: #008080; text-decoration-color: #008080; font-weight: bold\"> 1.6234209999999998 </span>│\n",
       "│<span style=\"color: #008080; text-decoration-color: #008080; font-weight: bold\"> 162     </span>│<span style=\"color: #008080; text-decoration-color: #008080; font-weight: bold\"> 2.641262128658825  </span>│<span style=\"color: #008080; text-decoration-color: #008080; font-weight: bold\"> 0.9259259259259259 </span>│<span style=\"color: #008080; text-decoration-color: #008080; font-weight: bold\"> 0.31640625      </span>│<span style=\"color: #008080; text-decoration-color: #008080; font-weight: bold\"> 1.6234209999999998 </span>│\n",
       "│<span style=\"color: #008080; text-decoration-color: #008080; font-weight: bold\"> 163     </span>│<span style=\"color: #008080; text-decoration-color: #008080; font-weight: bold\"> 2.6403603418843704 </span>│<span style=\"color: #008080; text-decoration-color: #008080; font-weight: bold\"> 0.9202453987730062 </span>│<span style=\"color: #008080; text-decoration-color: #008080; font-weight: bold\"> 0.318359375     </span>│<span style=\"color: #008080; text-decoration-color: #008080; font-weight: bold\"> 1.6234209999999998 </span>│\n",
       "│<span style=\"color: #008080; text-decoration-color: #008080; font-weight: bold\"> 166     </span>│<span style=\"color: #008080; text-decoration-color: #008080; font-weight: bold\"> 2.6343683524475536 </span>│<span style=\"color: #008080; text-decoration-color: #008080; font-weight: bold\"> 0.9216867469879518 </span>│<span style=\"color: #008080; text-decoration-color: #008080; font-weight: bold\"> 0.32421875      </span>│<span style=\"color: #008080; text-decoration-color: #008080; font-weight: bold\"> 1.6234209999999998 </span>│\n",
       "│<span style=\"color: #008080; text-decoration-color: #008080; font-weight: bold\"> 167     </span>│<span style=\"color: #008080; text-decoration-color: #008080; font-weight: bold\"> 2.6335648436327284 </span>│<span style=\"color: #008080; text-decoration-color: #008080; font-weight: bold\"> 0.9161676646706587 </span>│<span style=\"color: #008080; text-decoration-color: #008080; font-weight: bold\"> 0.326171875     </span>│<span style=\"color: #008080; text-decoration-color: #008080; font-weight: bold\"> 1.6234209999999998 </span>│\n",
       "│<span style=\"color: #008080; text-decoration-color: #008080; font-weight: bold\"> 173     </span>│<span style=\"color: #008080; text-decoration-color: #008080; font-weight: bold\"> 2.626165017711357  </span>│<span style=\"color: #008080; text-decoration-color: #008080; font-weight: bold\"> 0.9190751445086706 </span>│<span style=\"color: #008080; text-decoration-color: #008080; font-weight: bold\"> 0.337890625     </span>│<span style=\"color: #008080; text-decoration-color: #008080; font-weight: bold\"> 1.6234209999999998 </span>│\n",
       "│<span style=\"color: #008080; text-decoration-color: #008080; font-weight: bold\"> 174     </span>│<span style=\"color: #008080; text-decoration-color: #008080; font-weight: bold\"> 2.624739495491298  </span>│<span style=\"color: #008080; text-decoration-color: #008080; font-weight: bold\"> 0.9137931034482759 </span>│<span style=\"color: #008080; text-decoration-color: #008080; font-weight: bold\"> 0.33984375      </span>│<span style=\"color: #008080; text-decoration-color: #008080; font-weight: bold\"> 1.6234209999999998 </span>│\n",
       "│<span style=\"color: #008080; text-decoration-color: #008080; font-weight: bold\"> 182     </span>│<span style=\"color: #008080; text-decoration-color: #008080; font-weight: bold\"> 2.605671894181481  </span>│<span style=\"color: #008080; text-decoration-color: #008080; font-weight: bold\"> 0.9175824175824175 </span>│<span style=\"color: #008080; text-decoration-color: #008080; font-weight: bold\"> 0.35546875      </span>│<span style=\"color: #008080; text-decoration-color: #008080; font-weight: bold\"> 1.6234209999999998 </span>│\n",
       "│<span style=\"color: #008080; text-decoration-color: #008080; font-weight: bold\"> 183     </span>│<span style=\"color: #008080; text-decoration-color: #008080; font-weight: bold\"> 2.6029085292704437 </span>│<span style=\"color: #008080; text-decoration-color: #008080; font-weight: bold\"> 0.912568306010929  </span>│<span style=\"color: #008080; text-decoration-color: #008080; font-weight: bold\"> 0.357421875     </span>│<span style=\"color: #008080; text-decoration-color: #008080; font-weight: bold\"> 1.6234209999999998 </span>│\n",
       "│<span style=\"color: #008080; text-decoration-color: #008080; font-weight: bold\"> 190     </span>│<span style=\"color: #008080; text-decoration-color: #008080; font-weight: bold\"> 2.585573389732415  </span>│<span style=\"color: #008080; text-decoration-color: #008080; font-weight: bold\"> 0.9157894736842105 </span>│<span style=\"color: #008080; text-decoration-color: #008080; font-weight: bold\"> 0.37109375      </span>│<span style=\"color: #008080; text-decoration-color: #008080; font-weight: bold\"> 1.6234209999999998 </span>│\n",
       "│<span style=\"color: #008080; text-decoration-color: #008080; font-weight: bold\"> 192     </span>│<span style=\"color: #008080; text-decoration-color: #008080; font-weight: bold\"> 2.5833224828562082 </span>│<span style=\"color: #008080; text-decoration-color: #008080; font-weight: bold\"> 0.9166666666666666 </span>│<span style=\"color: #008080; text-decoration-color: #008080; font-weight: bold\"> 0.375           </span>│<span style=\"color: #008080; text-decoration-color: #008080; font-weight: bold\"> 1.6234209999999998 </span>│\n",
       "│<span style=\"color: #008080; text-decoration-color: #008080; font-weight: bold\"> 201     </span>│<span style=\"color: #008080; text-decoration-color: #008080; font-weight: bold\"> 2.566658452346145  </span>│<span style=\"color: #008080; text-decoration-color: #008080; font-weight: bold\"> 0.9203980099502488 </span>│<span style=\"color: #008080; text-decoration-color: #008080; font-weight: bold\"> 0.392578125     </span>│<span style=\"color: #008080; text-decoration-color: #008080; font-weight: bold\"> 1.6234209999999998 </span>│\n",
       "│<span style=\"color: #008080; text-decoration-color: #008080; font-weight: bold\"> 202     </span>│<span style=\"color: #008080; text-decoration-color: #008080; font-weight: bold\"> 2.5666085186044776 </span>│<span style=\"color: #008080; text-decoration-color: #008080; font-weight: bold\"> 0.9158415841584159 </span>│<span style=\"color: #008080; text-decoration-color: #008080; font-weight: bold\"> 0.39453125      </span>│<span style=\"color: #008080; text-decoration-color: #008080; font-weight: bold\"> 1.6234209999999998 </span>│\n",
       "│<span style=\"color: #008080; text-decoration-color: #008080; font-weight: bold\"> 207     </span>│<span style=\"color: #008080; text-decoration-color: #008080; font-weight: bold\"> 2.548696094054592  </span>│<span style=\"color: #008080; text-decoration-color: #008080; font-weight: bold\"> 0.9178743961352657 </span>│<span style=\"color: #008080; text-decoration-color: #008080; font-weight: bold\"> 0.404296875     </span>│<span style=\"color: #008080; text-decoration-color: #008080; font-weight: bold\"> 1.6234209999999998 </span>│\n",
       "│<span style=\"color: #008080; text-decoration-color: #008080; font-weight: bold\"> 208     </span>│<span style=\"color: #008080; text-decoration-color: #008080; font-weight: bold\"> 2.5471627848796166 </span>│<span style=\"color: #008080; text-decoration-color: #008080; font-weight: bold\"> 0.9134615384615384 </span>│<span style=\"color: #008080; text-decoration-color: #008080; font-weight: bold\"> 0.40625         </span>│<span style=\"color: #008080; text-decoration-color: #008080; font-weight: bold\"> 1.6234209999999998 </span>│\n",
       "│<span style=\"color: #008080; text-decoration-color: #008080; font-weight: bold\"> 210     </span>│<span style=\"color: #008080; text-decoration-color: #008080; font-weight: bold\"> 2.5312108893599645 </span>│<span style=\"color: #008080; text-decoration-color: #008080; font-weight: bold\"> 0.9142857142857143 </span>│<span style=\"color: #008080; text-decoration-color: #008080; font-weight: bold\"> 0.41015625      </span>│<span style=\"color: #008080; text-decoration-color: #008080; font-weight: bold\"> 1.6234209999999998 </span>│\n",
       "│<span style=\"color: #008080; text-decoration-color: #008080; font-weight: bold\"> 211     </span>│<span style=\"color: #008080; text-decoration-color: #008080; font-weight: bold\"> 2.5285188280798843 </span>│<span style=\"color: #008080; text-decoration-color: #008080; font-weight: bold\"> 0.909952606635071  </span>│<span style=\"color: #008080; text-decoration-color: #008080; font-weight: bold\"> 0.412109375     </span>│<span style=\"color: #008080; text-decoration-color: #008080; font-weight: bold\"> 1.6234209999999998 </span>│\n",
       "│<span style=\"color: #008080; text-decoration-color: #008080; font-weight: bold\"> 216     </span>│<span style=\"color: #008080; text-decoration-color: #008080; font-weight: bold\"> 2.4997920886532814 </span>│<span style=\"color: #008080; text-decoration-color: #008080; font-weight: bold\"> 0.9120370370370371 </span>│<span style=\"color: #008080; text-decoration-color: #008080; font-weight: bold\"> 0.421875        </span>│<span style=\"color: #008080; text-decoration-color: #008080; font-weight: bold\"> 1.6234209999999998 </span>│\n",
       "│<span style=\"color: #008080; text-decoration-color: #008080; font-weight: bold\"> 218     </span>│<span style=\"color: #008080; text-decoration-color: #008080; font-weight: bold\"> 2.4953006927720733 </span>│<span style=\"color: #008080; text-decoration-color: #008080; font-weight: bold\"> 0.9036697247706422 </span>│<span style=\"color: #008080; text-decoration-color: #008080; font-weight: bold\"> 0.42578125      </span>│<span style=\"color: #008080; text-decoration-color: #008080; font-weight: bold\"> 1.6234209999999998 </span>│\n",
       "│<span style=\"color: #008080; text-decoration-color: #008080; font-weight: bold\"> 219     </span>│<span style=\"color: #008080; text-decoration-color: #008080; font-weight: bold\"> 2.495278222020737  </span>│<span style=\"color: #008080; text-decoration-color: #008080; font-weight: bold\"> 0.9041095890410958 </span>│<span style=\"color: #008080; text-decoration-color: #008080; font-weight: bold\"> 0.427734375     </span>│<span style=\"color: #008080; text-decoration-color: #008080; font-weight: bold\"> 1.6234209999999998 </span>│\n",
       "│<span style=\"color: #008080; text-decoration-color: #008080; font-weight: bold\"> 221     </span>│<span style=\"color: #008080; text-decoration-color: #008080; font-weight: bold\"> 2.479799360670101  </span>│<span style=\"color: #008080; text-decoration-color: #008080; font-weight: bold\"> 0.8959276018099548 </span>│<span style=\"color: #008080; text-decoration-color: #008080; font-weight: bold\"> 0.431640625     </span>│<span style=\"color: #008080; text-decoration-color: #008080; font-weight: bold\"> 1.6234209999999998 </span>│\n",
       "│<span style=\"color: #008080; text-decoration-color: #008080; font-weight: bold\"> 225     </span>│<span style=\"color: #008080; text-decoration-color: #008080; font-weight: bold\"> 2.454816997200502  </span>│<span style=\"color: #008080; text-decoration-color: #008080; font-weight: bold\"> 0.8977777777777778 </span>│<span style=\"color: #008080; text-decoration-color: #008080; font-weight: bold\"> 0.439453125     </span>│<span style=\"color: #008080; text-decoration-color: #008080; font-weight: bold\"> 1.6234209999999998 </span>│\n",
       "│<span style=\"color: #008080; text-decoration-color: #008080; font-weight: bold\"> 226     </span>│<span style=\"color: #008080; text-decoration-color: #008080; font-weight: bold\"> 2.453826255173479  </span>│<span style=\"color: #008080; text-decoration-color: #008080; font-weight: bold\"> 0.8938053097345132 </span>│<span style=\"color: #008080; text-decoration-color: #008080; font-weight: bold\"> 0.44140625      </span>│<span style=\"color: #008080; text-decoration-color: #008080; font-weight: bold\"> 1.6234209999999998 </span>│\n",
       "│<span style=\"color: #008080; text-decoration-color: #008080; font-weight: bold\"> 234     </span>│<span style=\"color: #008080; text-decoration-color: #008080; font-weight: bold\"> 2.4235068440423233 </span>│<span style=\"color: #008080; text-decoration-color: #008080; font-weight: bold\"> 0.8974358974358975 </span>│<span style=\"color: #008080; text-decoration-color: #008080; font-weight: bold\"> 0.45703125      </span>│<span style=\"color: #008080; text-decoration-color: #008080; font-weight: bold\"> 1.6234209999999998 </span>│\n",
       "│<span style=\"color: #008080; text-decoration-color: #008080; font-weight: bold\"> 235     </span>│<span style=\"color: #008080; text-decoration-color: #008080; font-weight: bold\"> 2.42131035512287   </span>│<span style=\"color: #008080; text-decoration-color: #008080; font-weight: bold\"> 0.8936170212765957 </span>│<span style=\"color: #008080; text-decoration-color: #008080; font-weight: bold\"> 0.458984375     </span>│<span style=\"color: #008080; text-decoration-color: #008080; font-weight: bold\"> 1.6234209999999998 </span>│\n",
       "│<span style=\"color: #008080; text-decoration-color: #008080; font-weight: bold\"> 240     </span>│<span style=\"color: #008080; text-decoration-color: #008080; font-weight: bold\"> 2.397563487598242  </span>│<span style=\"color: #008080; text-decoration-color: #008080; font-weight: bold\"> 0.8958333333333334 </span>│<span style=\"color: #008080; text-decoration-color: #008080; font-weight: bold\"> 0.46875         </span>│<span style=\"color: #008080; text-decoration-color: #008080; font-weight: bold\"> 1.6234209999999998 </span>│\n",
       "│<span style=\"color: #008080; text-decoration-color: #008080; font-weight: bold\"> 241     </span>│<span style=\"color: #008080; text-decoration-color: #008080; font-weight: bold\"> 2.394478135031111  </span>│<span style=\"color: #008080; text-decoration-color: #008080; font-weight: bold\"> 0.8921161825726142 </span>│<span style=\"color: #008080; text-decoration-color: #008080; font-weight: bold\"> 0.470703125     </span>│<span style=\"color: #008080; text-decoration-color: #008080; font-weight: bold\"> 1.6234209999999998 </span>│\n",
       "│<span style=\"color: #008080; text-decoration-color: #008080; font-weight: bold\"> 242     </span>│<span style=\"color: #008080; text-decoration-color: #008080; font-weight: bold\"> 2.3938419647964477 </span>│<span style=\"color: #008080; text-decoration-color: #008080; font-weight: bold\"> 0.8925619834710744 </span>│<span style=\"color: #008080; text-decoration-color: #008080; font-weight: bold\"> 0.47265625      </span>│<span style=\"color: #008080; text-decoration-color: #008080; font-weight: bold\"> 1.6234209999999998 </span>│\n",
       "│<span style=\"color: #008080; text-decoration-color: #008080; font-weight: bold\"> 243     </span>│<span style=\"color: #008080; text-decoration-color: #008080; font-weight: bold\"> 2.393110642161915  </span>│<span style=\"color: #008080; text-decoration-color: #008080; font-weight: bold\"> 0.8888888888888888 </span>│<span style=\"color: #008080; text-decoration-color: #008080; font-weight: bold\"> 0.474609375     </span>│<span style=\"color: #008080; text-decoration-color: #008080; font-weight: bold\"> 1.6234209999999998 </span>│\n",
       "│<span style=\"color: #008080; text-decoration-color: #008080; font-weight: bold\"> 245     </span>│<span style=\"color: #008080; text-decoration-color: #008080; font-weight: bold\"> 2.388239660221413  </span>│<span style=\"color: #008080; text-decoration-color: #008080; font-weight: bold\"> 0.889795918367347  </span>│<span style=\"color: #008080; text-decoration-color: #008080; font-weight: bold\"> 0.478515625     </span>│<span style=\"color: #008080; text-decoration-color: #008080; font-weight: bold\"> 1.6234209999999998 </span>│\n",
       "│<span style=\"color: #008080; text-decoration-color: #008080; font-weight: bold\"> 248     </span>│<span style=\"color: #008080; text-decoration-color: #008080; font-weight: bold\"> 2.3699205180439673 </span>│<span style=\"color: #008080; text-decoration-color: #008080; font-weight: bold\"> 0.8790322580645161 </span>│<span style=\"color: #008080; text-decoration-color: #008080; font-weight: bold\"> 0.484375        </span>│<span style=\"color: #008080; text-decoration-color: #008080; font-weight: bold\"> 1.6234209999999998 </span>│\n",
       "│<span style=\"color: #008080; text-decoration-color: #008080; font-weight: bold\"> 249     </span>│<span style=\"color: #008080; text-decoration-color: #008080; font-weight: bold\"> 2.3657041823140195 </span>│<span style=\"color: #008080; text-decoration-color: #008080; font-weight: bold\"> 0.8795180722891566 </span>│<span style=\"color: #008080; text-decoration-color: #008080; font-weight: bold\"> 0.486328125     </span>│<span style=\"color: #008080; text-decoration-color: #008080; font-weight: bold\"> 1.6234209999999998 </span>│\n",
       "│<span style=\"color: #008080; text-decoration-color: #008080; font-weight: bold\"> 252     </span>│<span style=\"color: #008080; text-decoration-color: #008080; font-weight: bold\"> 2.3553249581406224 </span>│<span style=\"color: #008080; text-decoration-color: #008080; font-weight: bold\"> 0.8690476190476191 </span>│<span style=\"color: #008080; text-decoration-color: #008080; font-weight: bold\"> 0.4921875       </span>│<span style=\"color: #008080; text-decoration-color: #008080; font-weight: bold\"> 1.6234209999999998 </span>│\n",
       "│<span style=\"color: #008080; text-decoration-color: #008080; font-weight: bold\"> 253     </span>│<span style=\"color: #008080; text-decoration-color: #008080; font-weight: bold\"> 2.3525606978712013 </span>│<span style=\"color: #008080; text-decoration-color: #008080; font-weight: bold\"> 0.8695652173913043 </span>│<span style=\"color: #008080; text-decoration-color: #008080; font-weight: bold\"> 0.494140625     </span>│<span style=\"color: #008080; text-decoration-color: #008080; font-weight: bold\"> 1.6234209999999998 </span>│\n",
       "│<span style=\"color: #008080; text-decoration-color: #008080; font-weight: bold\"> 254     </span>│<span style=\"color: #008080; text-decoration-color: #008080; font-weight: bold\"> 2.34862229430674   </span>│<span style=\"color: #008080; text-decoration-color: #008080; font-weight: bold\"> 0.8661417322834646 </span>│<span style=\"color: #008080; text-decoration-color: #008080; font-weight: bold\"> 0.49609375      </span>│<span style=\"color: #008080; text-decoration-color: #008080; font-weight: bold\"> 1.6234209999999998 </span>│\n",
       "│<span style=\"color: #008080; text-decoration-color: #008080; font-weight: bold\"> 258     </span>│<span style=\"color: #008080; text-decoration-color: #008080; font-weight: bold\"> 2.326078306251599  </span>│<span style=\"color: #008080; text-decoration-color: #008080; font-weight: bold\"> 0.8682170542635659 </span>│<span style=\"color: #008080; text-decoration-color: #008080; font-weight: bold\"> 0.50390625      </span>│<span style=\"color: #008080; text-decoration-color: #008080; font-weight: bold\"> 1.6234209999999998 </span>│\n",
       "│<span style=\"color: #008080; text-decoration-color: #008080; font-weight: bold\"> 260     </span>│<span style=\"color: #008080; text-decoration-color: #008080; font-weight: bold\"> 2.3235467839445088 </span>│<span style=\"color: #008080; text-decoration-color: #008080; font-weight: bold\"> 0.8615384615384616 </span>│<span style=\"color: #008080; text-decoration-color: #008080; font-weight: bold\"> 0.5078125       </span>│<span style=\"color: #008080; text-decoration-color: #008080; font-weight: bold\"> 1.6234209999999998 </span>│\n",
       "│<span style=\"color: #008080; text-decoration-color: #008080; font-weight: bold\"> 262     </span>│<span style=\"color: #008080; text-decoration-color: #008080; font-weight: bold\"> 2.3230068034797053 </span>│<span style=\"color: #008080; text-decoration-color: #008080; font-weight: bold\"> 0.8625954198473282 </span>│<span style=\"color: #008080; text-decoration-color: #008080; font-weight: bold\"> 0.51171875      </span>│<span style=\"color: #008080; text-decoration-color: #008080; font-weight: bold\"> 1.6234209999999998 </span>│\n",
       "│<span style=\"color: #008080; text-decoration-color: #008080; font-weight: bold\"> 265     </span>│<span style=\"color: #008080; text-decoration-color: #008080; font-weight: bold\"> 2.319824947159955  </span>│<span style=\"color: #008080; text-decoration-color: #008080; font-weight: bold\"> 0.8528301886792453 </span>│<span style=\"color: #008080; text-decoration-color: #008080; font-weight: bold\"> 0.517578125     </span>│<span style=\"color: #008080; text-decoration-color: #008080; font-weight: bold\"> 1.6234209999999998 </span>│\n",
       "│<span style=\"color: #008080; text-decoration-color: #008080; font-weight: bold\"> 266     </span>│<span style=\"color: #008080; text-decoration-color: #008080; font-weight: bold\"> 2.3186117864113056 </span>│<span style=\"color: #008080; text-decoration-color: #008080; font-weight: bold\"> 0.8533834586466166 </span>│<span style=\"color: #008080; text-decoration-color: #008080; font-weight: bold\"> 0.51953125      </span>│<span style=\"color: #008080; text-decoration-color: #008080; font-weight: bold\"> 1.6234209999999998 </span>│\n",
       "│<span style=\"color: #008080; text-decoration-color: #008080; font-weight: bold\"> 267     </span>│<span style=\"color: #008080; text-decoration-color: #008080; font-weight: bold\"> 2.3169918436816106 </span>│<span style=\"color: #008080; text-decoration-color: #008080; font-weight: bold\"> 0.850187265917603  </span>│<span style=\"color: #008080; text-decoration-color: #008080; font-weight: bold\"> 0.521484375     </span>│<span style=\"color: #008080; text-decoration-color: #008080; font-weight: bold\"> 1.6234209999999998 </span>│\n",
       "│<span style=\"color: #008080; text-decoration-color: #008080; font-weight: bold\"> 268     </span>│<span style=\"color: #008080; text-decoration-color: #008080; font-weight: bold\"> 2.316750771945325  </span>│<span style=\"color: #008080; text-decoration-color: #008080; font-weight: bold\"> 0.8507462686567164 </span>│<span style=\"color: #008080; text-decoration-color: #008080; font-weight: bold\"> 0.5234375       </span>│<span style=\"color: #008080; text-decoration-color: #008080; font-weight: bold\"> 1.6234209999999998 </span>│\n",
       "│<span style=\"color: #008080; text-decoration-color: #008080; font-weight: bold\"> 269     </span>│<span style=\"color: #008080; text-decoration-color: #008080; font-weight: bold\"> 2.3125118667889972 </span>│<span style=\"color: #008080; text-decoration-color: #008080; font-weight: bold\"> 0.8475836431226765 </span>│<span style=\"color: #008080; text-decoration-color: #008080; font-weight: bold\"> 0.525390625     </span>│<span style=\"color: #008080; text-decoration-color: #008080; font-weight: bold\"> 1.6234209999999998 </span>│\n",
       "│<span style=\"color: #008080; text-decoration-color: #008080; font-weight: bold\"> 270     </span>│<span style=\"color: #008080; text-decoration-color: #008080; font-weight: bold\"> 2.3124609597544055 </span>│<span style=\"color: #008080; text-decoration-color: #008080; font-weight: bold\"> 0.8481481481481481 </span>│<span style=\"color: #008080; text-decoration-color: #008080; font-weight: bold\"> 0.52734375      </span>│<span style=\"color: #008080; text-decoration-color: #008080; font-weight: bold\"> 1.6234209999999998 </span>│\n",
       "│<span style=\"color: #008080; text-decoration-color: #008080; font-weight: bold\"> 273     </span>│<span style=\"color: #008080; text-decoration-color: #008080; font-weight: bold\"> 2.30328284228745   </span>│<span style=\"color: #008080; text-decoration-color: #008080; font-weight: bold\"> 0.8388278388278388 </span>│<span style=\"color: #008080; text-decoration-color: #008080; font-weight: bold\"> 0.533203125     </span>│<span style=\"color: #008080; text-decoration-color: #008080; font-weight: bold\"> 1.6234209999999998 </span>│\n",
       "│<span style=\"color: #008080; text-decoration-color: #008080; font-weight: bold\"> 275     </span>│<span style=\"color: #008080; text-decoration-color: #008080; font-weight: bold\"> 2.297125735842896  </span>│<span style=\"color: #008080; text-decoration-color: #008080; font-weight: bold\"> 0.84               </span>│<span style=\"color: #008080; text-decoration-color: #008080; font-weight: bold\"> 0.537109375     </span>│<span style=\"color: #008080; text-decoration-color: #008080; font-weight: bold\"> 1.6234209999999998 </span>│\n",
       "│<span style=\"color: #008080; text-decoration-color: #008080; font-weight: bold\"> 280     </span>│<span style=\"color: #008080; text-decoration-color: #008080; font-weight: bold\"> 2.2856013218586564 </span>│<span style=\"color: #008080; text-decoration-color: #008080; font-weight: bold\"> 0.825              </span>│<span style=\"color: #008080; text-decoration-color: #008080; font-weight: bold\"> 0.546875        </span>│<span style=\"color: #008080; text-decoration-color: #008080; font-weight: bold\"> 1.6234209999999998 </span>│\n",
       "│<span style=\"color: #008080; text-decoration-color: #008080; font-weight: bold\"> 281     </span>│<span style=\"color: #008080; text-decoration-color: #008080; font-weight: bold\"> 2.281928002331705  </span>│<span style=\"color: #008080; text-decoration-color: #008080; font-weight: bold\"> 0.8256227758007118 </span>│<span style=\"color: #008080; text-decoration-color: #008080; font-weight: bold\"> 0.548828125     </span>│<span style=\"color: #008080; text-decoration-color: #008080; font-weight: bold\"> 1.6234209999999998 </span>│\n",
       "│<span style=\"color: #008080; text-decoration-color: #008080; font-weight: bold\"> 282     </span>│<span style=\"color: #008080; text-decoration-color: #008080; font-weight: bold\"> 2.278459168786242  </span>│<span style=\"color: #008080; text-decoration-color: #008080; font-weight: bold\"> 0.8226950354609929 </span>│<span style=\"color: #008080; text-decoration-color: #008080; font-weight: bold\"> 0.55078125      </span>│<span style=\"color: #008080; text-decoration-color: #008080; font-weight: bold\"> 1.6234209999999998 </span>│\n",
       "│<span style=\"color: #008080; text-decoration-color: #008080; font-weight: bold\"> 284     </span>│<span style=\"color: #008080; text-decoration-color: #008080; font-weight: bold\"> 2.2708201755281343 </span>│<span style=\"color: #008080; text-decoration-color: #008080; font-weight: bold\"> 0.823943661971831  </span>│<span style=\"color: #008080; text-decoration-color: #008080; font-weight: bold\"> 0.5546875       </span>│<span style=\"color: #008080; text-decoration-color: #008080; font-weight: bold\"> 1.6234209999999998 </span>│\n",
       "│<span style=\"color: #008080; text-decoration-color: #008080; font-weight: bold\"> 285     </span>│<span style=\"color: #008080; text-decoration-color: #008080; font-weight: bold\"> 2.2627604317665475 </span>│<span style=\"color: #008080; text-decoration-color: #008080; font-weight: bold\"> 0.8210526315789474 </span>│<span style=\"color: #008080; text-decoration-color: #008080; font-weight: bold\"> 0.556640625     </span>│<span style=\"color: #008080; text-decoration-color: #008080; font-weight: bold\"> 1.6234209999999998 </span>│\n",
       "│<span style=\"color: #008080; text-decoration-color: #008080; font-weight: bold\"> 286     </span>│<span style=\"color: #008080; text-decoration-color: #008080; font-weight: bold\"> 2.2594333934130955 </span>│<span style=\"color: #008080; text-decoration-color: #008080; font-weight: bold\"> 0.8216783216783217 </span>│<span style=\"color: #008080; text-decoration-color: #008080; font-weight: bold\"> 0.55859375      </span>│<span style=\"color: #008080; text-decoration-color: #008080; font-weight: bold\"> 1.6234209999999998 </span>│\n",
       "│<span style=\"color: #008080; text-decoration-color: #008080; font-weight: bold\"> 287     </span>│<span style=\"color: #008080; text-decoration-color: #008080; font-weight: bold\"> 2.250966788121887  </span>│<span style=\"color: #008080; text-decoration-color: #008080; font-weight: bold\"> 0.818815331010453  </span>│<span style=\"color: #008080; text-decoration-color: #008080; font-weight: bold\"> 0.560546875     </span>│<span style=\"color: #008080; text-decoration-color: #008080; font-weight: bold\"> 1.6234209999999998 </span>│\n",
       "│<span style=\"color: #008080; text-decoration-color: #008080; font-weight: bold\"> 289     </span>│<span style=\"color: #008080; text-decoration-color: #008080; font-weight: bold\"> 2.245632168565449  </span>│<span style=\"color: #008080; text-decoration-color: #008080; font-weight: bold\"> 0.8200692041522492 </span>│<span style=\"color: #008080; text-decoration-color: #008080; font-weight: bold\"> 0.564453125     </span>│<span style=\"color: #008080; text-decoration-color: #008080; font-weight: bold\"> 1.6234209999999998 </span>│\n",
       "│<span style=\"color: #008080; text-decoration-color: #008080; font-weight: bold\"> 293     </span>│<span style=\"color: #008080; text-decoration-color: #008080; font-weight: bold\"> 2.223009704137295  </span>│<span style=\"color: #008080; text-decoration-color: #008080; font-weight: bold\"> 0.8088737201365188 </span>│<span style=\"color: #008080; text-decoration-color: #008080; font-weight: bold\"> 0.572265625     </span>│<span style=\"color: #008080; text-decoration-color: #008080; font-weight: bold\"> 1.6234209999999998 </span>│\n",
       "│<span style=\"color: #008080; text-decoration-color: #008080; font-weight: bold\"> 294     </span>│<span style=\"color: #008080; text-decoration-color: #008080; font-weight: bold\"> 2.221058192787134  </span>│<span style=\"color: #008080; text-decoration-color: #008080; font-weight: bold\"> 0.8095238095238095 </span>│<span style=\"color: #008080; text-decoration-color: #008080; font-weight: bold\"> 0.57421875      </span>│<span style=\"color: #008080; text-decoration-color: #008080; font-weight: bold\"> 1.6234209999999998 </span>│\n",
       "│<span style=\"color: #008080; text-decoration-color: #008080; font-weight: bold\"> 295     </span>│<span style=\"color: #008080; text-decoration-color: #008080; font-weight: bold\"> 2.2200064952628527 </span>│<span style=\"color: #008080; text-decoration-color: #008080; font-weight: bold\"> 0.8067796610169492 </span>│<span style=\"color: #008080; text-decoration-color: #008080; font-weight: bold\"> 0.576171875     </span>│<span style=\"color: #008080; text-decoration-color: #008080; font-weight: bold\"> 1.6234209999999998 </span>│\n",
       "│<span style=\"color: #008080; text-decoration-color: #008080; font-weight: bold\"> 298     </span>│<span style=\"color: #008080; text-decoration-color: #008080; font-weight: bold\"> 2.1930122499134557 </span>│<span style=\"color: #008080; text-decoration-color: #008080; font-weight: bold\"> 0.8087248322147651 </span>│<span style=\"color: #008080; text-decoration-color: #008080; font-weight: bold\"> 0.58203125      </span>│<span style=\"color: #008080; text-decoration-color: #008080; font-weight: bold\"> 1.6234209999999998 </span>│\n",
       "│<span style=\"color: #008080; text-decoration-color: #008080; font-weight: bold\"> 300     </span>│<span style=\"color: #008080; text-decoration-color: #008080; font-weight: bold\"> 2.1764895028767333 </span>│<span style=\"color: #008080; text-decoration-color: #008080; font-weight: bold\"> 0.8033333333333333 </span>│<span style=\"color: #008080; text-decoration-color: #008080; font-weight: bold\"> 0.5859375       </span>│<span style=\"color: #008080; text-decoration-color: #008080; font-weight: bold\"> 1.6234209999999998 </span>│\n",
       "│<span style=\"color: #008080; text-decoration-color: #008080; font-weight: bold\"> 305     </span>│<span style=\"color: #008080; text-decoration-color: #008080; font-weight: bold\"> 2.1331479881073054 </span>│<span style=\"color: #008080; text-decoration-color: #008080; font-weight: bold\"> 0.8065573770491803 </span>│<span style=\"color: #008080; text-decoration-color: #008080; font-weight: bold\"> 0.595703125     </span>│<span style=\"color: #008080; text-decoration-color: #008080; font-weight: bold\"> 1.6234209999999998 </span>│\n",
       "│<span style=\"color: #008080; text-decoration-color: #008080; font-weight: bold\"> 307     </span>│<span style=\"color: #008080; text-decoration-color: #008080; font-weight: bold\"> 2.119825213930171  </span>│<span style=\"color: #008080; text-decoration-color: #008080; font-weight: bold\"> 0.8013029315960912 </span>│<span style=\"color: #008080; text-decoration-color: #008080; font-weight: bold\"> 0.599609375     </span>│<span style=\"color: #008080; text-decoration-color: #008080; font-weight: bold\"> 1.6234209999999998 </span>│\n",
       "│<span style=\"color: #008080; text-decoration-color: #008080; font-weight: bold\"> 308     </span>│<span style=\"color: #008080; text-decoration-color: #008080; font-weight: bold\"> 2.1185197214247817 </span>│<span style=\"color: #008080; text-decoration-color: #008080; font-weight: bold\"> 0.801948051948052  </span>│<span style=\"color: #008080; text-decoration-color: #008080; font-weight: bold\"> 0.6015625       </span>│<span style=\"color: #008080; text-decoration-color: #008080; font-weight: bold\"> 1.6234209999999998 </span>│\n",
       "│<span style=\"color: #008080; text-decoration-color: #008080; font-weight: bold\"> 309     </span>│<span style=\"color: #008080; text-decoration-color: #008080; font-weight: bold\"> 2.1121559664020344 </span>│<span style=\"color: #008080; text-decoration-color: #008080; font-weight: bold\"> 0.7993527508090615 </span>│<span style=\"color: #008080; text-decoration-color: #008080; font-weight: bold\"> 0.603515625     </span>│<span style=\"color: #008080; text-decoration-color: #008080; font-weight: bold\"> 1.6234209999999998 </span>│\n",
       "│<span style=\"color: #008080; text-decoration-color: #008080; font-weight: bold\"> 312     </span>│<span style=\"color: #008080; text-decoration-color: #008080; font-weight: bold\"> 2.1046615949069785 </span>│<span style=\"color: #008080; text-decoration-color: #008080; font-weight: bold\"> 0.8012820512820513 </span>│<span style=\"color: #008080; text-decoration-color: #008080; font-weight: bold\"> 0.609375        </span>│<span style=\"color: #008080; text-decoration-color: #008080; font-weight: bold\"> 1.6234209999999998 </span>│\n",
       "│<span style=\"color: #008080; text-decoration-color: #008080; font-weight: bold\"> 315     </span>│<span style=\"color: #008080; text-decoration-color: #008080; font-weight: bold\"> 2.093022710497591  </span>│<span style=\"color: #008080; text-decoration-color: #008080; font-weight: bold\"> 0.7936507936507936 </span>│<span style=\"color: #008080; text-decoration-color: #008080; font-weight: bold\"> 0.615234375     </span>│<span style=\"color: #008080; text-decoration-color: #008080; font-weight: bold\"> 1.6234209999999998 </span>│\n",
       "│<span style=\"color: #008080; text-decoration-color: #008080; font-weight: bold\"> 317     </span>│<span style=\"color: #008080; text-decoration-color: #008080; font-weight: bold\"> 2.090800662433518  </span>│<span style=\"color: #008080; text-decoration-color: #008080; font-weight: bold\"> 0.7949526813880127 </span>│<span style=\"color: #008080; text-decoration-color: #008080; font-weight: bold\"> 0.619140625     </span>│<span style=\"color: #008080; text-decoration-color: #008080; font-weight: bold\"> 1.6234209999999998 </span>│\n",
       "│<span style=\"color: #008080; text-decoration-color: #008080; font-weight: bold\"> 318     </span>│<span style=\"color: #008080; text-decoration-color: #008080; font-weight: bold\"> 2.0855586884952766 </span>│<span style=\"color: #008080; text-decoration-color: #008080; font-weight: bold\"> 0.7924528301886793 </span>│<span style=\"color: #008080; text-decoration-color: #008080; font-weight: bold\"> 0.62109375      </span>│<span style=\"color: #008080; text-decoration-color: #008080; font-weight: bold\"> 1.6234209999999998 </span>│\n",
       "│<span style=\"color: #008080; text-decoration-color: #008080; font-weight: bold\"> 320     </span>│<span style=\"color: #008080; text-decoration-color: #008080; font-weight: bold\"> 2.0741498008239065 </span>│<span style=\"color: #008080; text-decoration-color: #008080; font-weight: bold\"> 0.79375            </span>│<span style=\"color: #008080; text-decoration-color: #008080; font-weight: bold\"> 0.625           </span>│<span style=\"color: #008080; text-decoration-color: #008080; font-weight: bold\"> 1.6234209999999998 </span>│\n",
       "│<span style=\"color: #008080; text-decoration-color: #008080; font-weight: bold\"> 321     </span>│<span style=\"color: #008080; text-decoration-color: #008080; font-weight: bold\"> 2.0684875567829177 </span>│<span style=\"color: #008080; text-decoration-color: #008080; font-weight: bold\"> 0.7912772585669782 </span>│<span style=\"color: #008080; text-decoration-color: #008080; font-weight: bold\"> 0.626953125     </span>│<span style=\"color: #008080; text-decoration-color: #008080; font-weight: bold\"> 1.6234209999999998 </span>│\n",
       "│<span style=\"color: #008080; text-decoration-color: #008080; font-weight: bold\"> 323     </span>│<span style=\"color: #008080; text-decoration-color: #008080; font-weight: bold\"> 2.0524835882980703 </span>│<span style=\"color: #008080; text-decoration-color: #008080; font-weight: bold\"> 0.7925696594427245 </span>│<span style=\"color: #008080; text-decoration-color: #008080; font-weight: bold\"> 0.630859375     </span>│<span style=\"color: #008080; text-decoration-color: #008080; font-weight: bold\"> 1.6234209999999998 </span>│\n",
       "│<span style=\"color: #008080; text-decoration-color: #008080; font-weight: bold\"> 330     </span>│<span style=\"color: #008080; text-decoration-color: #008080; font-weight: bold\"> 2.0200167773386197 </span>│<span style=\"color: #008080; text-decoration-color: #008080; font-weight: bold\"> 0.7757575757575758 </span>│<span style=\"color: #008080; text-decoration-color: #008080; font-weight: bold\"> 0.64453125      </span>│<span style=\"color: #008080; text-decoration-color: #008080; font-weight: bold\"> 1.6234209999999998 </span>│\n",
       "│<span style=\"color: #008080; text-decoration-color: #008080; font-weight: bold\"> 331     </span>│<span style=\"color: #008080; text-decoration-color: #008080; font-weight: bold\"> 2.0188882606502085 </span>│<span style=\"color: #008080; text-decoration-color: #008080; font-weight: bold\"> 0.7764350453172205 </span>│<span style=\"color: #008080; text-decoration-color: #008080; font-weight: bold\"> 0.646484375     </span>│<span style=\"color: #008080; text-decoration-color: #008080; font-weight: bold\"> 1.6234209999999998 </span>│\n",
       "│<span style=\"color: #008080; text-decoration-color: #008080; font-weight: bold\"> 332     </span>│<span style=\"color: #008080; text-decoration-color: #008080; font-weight: bold\"> 2.0167248976530043 </span>│<span style=\"color: #008080; text-decoration-color: #008080; font-weight: bold\"> 0.7740963855421686 </span>│<span style=\"color: #008080; text-decoration-color: #008080; font-weight: bold\"> 0.6484375       </span>│<span style=\"color: #008080; text-decoration-color: #008080; font-weight: bold\"> 1.6234209999999998 </span>│\n",
       "│<span style=\"color: #008080; text-decoration-color: #008080; font-weight: bold\"> 333     </span>│<span style=\"color: #008080; text-decoration-color: #008080; font-weight: bold\"> 2.0154191352559536 </span>│<span style=\"color: #008080; text-decoration-color: #008080; font-weight: bold\"> 0.7747747747747747 </span>│<span style=\"color: #008080; text-decoration-color: #008080; font-weight: bold\"> 0.650390625     </span>│<span style=\"color: #008080; text-decoration-color: #008080; font-weight: bold\"> 1.6234209999999998 </span>│\n",
       "│<span style=\"color: #008080; text-decoration-color: #008080; font-weight: bold\"> 336     </span>│<span style=\"color: #008080; text-decoration-color: #008080; font-weight: bold\"> 1.989130797768864  </span>│<span style=\"color: #008080; text-decoration-color: #008080; font-weight: bold\"> 0.7678571428571429 </span>│<span style=\"color: #008080; text-decoration-color: #008080; font-weight: bold\"> 0.65625         </span>│<span style=\"color: #008080; text-decoration-color: #008080; font-weight: bold\"> 1.6234209999999998 </span>│\n",
       "│<span style=\"color: #008080; text-decoration-color: #008080; font-weight: bold\"> 337     </span>│<span style=\"color: #008080; text-decoration-color: #008080; font-weight: bold\"> 1.9800470648270088 </span>│<span style=\"color: #008080; text-decoration-color: #008080; font-weight: bold\"> 0.7685459940652819 </span>│<span style=\"color: #008080; text-decoration-color: #008080; font-weight: bold\"> 0.658203125     </span>│<span style=\"color: #008080; text-decoration-color: #008080; font-weight: bold\"> 1.6234209999999998 </span>│\n",
       "│<span style=\"color: #008080; text-decoration-color: #008080; font-weight: bold\"> 341     </span>│<span style=\"color: #008080; text-decoration-color: #008080; font-weight: bold\"> 1.965140926887667  </span>│<span style=\"color: #008080; text-decoration-color: #008080; font-weight: bold\"> 0.7595307917888563 </span>│<span style=\"color: #008080; text-decoration-color: #008080; font-weight: bold\"> 0.666015625     </span>│<span style=\"color: #008080; text-decoration-color: #008080; font-weight: bold\"> 1.6234209999999998 </span>│\n",
       "│<span style=\"color: #008080; text-decoration-color: #008080; font-weight: bold\"> 342     </span>│<span style=\"color: #008080; text-decoration-color: #008080; font-weight: bold\"> 1.9544759840644172 </span>│<span style=\"color: #008080; text-decoration-color: #008080; font-weight: bold\"> 0.7602339181286549 </span>│<span style=\"color: #008080; text-decoration-color: #008080; font-weight: bold\"> 0.66796875      </span>│<span style=\"color: #008080; text-decoration-color: #008080; font-weight: bold\"> 1.6234209999999998 </span>│\n",
       "│<span style=\"color: #008080; text-decoration-color: #008080; font-weight: bold\"> 344     </span>│<span style=\"color: #008080; text-decoration-color: #008080; font-weight: bold\"> 1.9507153891396163 </span>│<span style=\"color: #008080; text-decoration-color: #008080; font-weight: bold\"> 0.7558139534883721 </span>│<span style=\"color: #008080; text-decoration-color: #008080; font-weight: bold\"> 0.671875        </span>│<span style=\"color: #008080; text-decoration-color: #008080; font-weight: bold\"> 1.6234209999999998 </span>│\n",
       "│<span style=\"color: #008080; text-decoration-color: #008080; font-weight: bold\"> 345     </span>│<span style=\"color: #008080; text-decoration-color: #008080; font-weight: bold\"> 1.9498650470614434 </span>│<span style=\"color: #008080; text-decoration-color: #008080; font-weight: bold\"> 0.7565217391304347 </span>│<span style=\"color: #008080; text-decoration-color: #008080; font-weight: bold\"> 0.673828125     </span>│<span style=\"color: #008080; text-decoration-color: #008080; font-weight: bold\"> 1.6234209999999998 </span>│\n",
       "│<span style=\"color: #008080; text-decoration-color: #008080; font-weight: bold\"> 352     </span>│<span style=\"color: #008080; text-decoration-color: #008080; font-weight: bold\"> 1.9352077040396376 </span>│<span style=\"color: #008080; text-decoration-color: #008080; font-weight: bold\"> 0.7414772727272727 </span>│<span style=\"color: #008080; text-decoration-color: #008080; font-weight: bold\"> 0.6875          </span>│<span style=\"color: #008080; text-decoration-color: #008080; font-weight: bold\"> 1.6234209999999998 </span>│\n",
       "│<span style=\"color: #008080; text-decoration-color: #008080; font-weight: bold\"> 353     </span>│<span style=\"color: #008080; text-decoration-color: #008080; font-weight: bold\"> 1.9308675606147012 </span>│<span style=\"color: #008080; text-decoration-color: #008080; font-weight: bold\"> 0.7422096317280453 </span>│<span style=\"color: #008080; text-decoration-color: #008080; font-weight: bold\"> 0.689453125     </span>│<span style=\"color: #008080; text-decoration-color: #008080; font-weight: bold\"> 1.6234209999999998 </span>│\n",
       "│<span style=\"color: #008080; text-decoration-color: #008080; font-weight: bold\"> 356     </span>│<span style=\"color: #008080; text-decoration-color: #008080; font-weight: bold\"> 1.9233598681956392 </span>│<span style=\"color: #008080; text-decoration-color: #008080; font-weight: bold\"> 0.7359550561797753 </span>│<span style=\"color: #008080; text-decoration-color: #008080; font-weight: bold\"> 0.6953125       </span>│<span style=\"color: #008080; text-decoration-color: #008080; font-weight: bold\"> 1.6234209999999998 </span>│\n",
       "│<span style=\"color: #008080; text-decoration-color: #008080; font-weight: bold\"> 357     </span>│<span style=\"color: #008080; text-decoration-color: #008080; font-weight: bold\"> 1.91554489365286   </span>│<span style=\"color: #008080; text-decoration-color: #008080; font-weight: bold\"> 0.7366946778711485 </span>│<span style=\"color: #008080; text-decoration-color: #008080; font-weight: bold\"> 0.697265625     </span>│<span style=\"color: #008080; text-decoration-color: #008080; font-weight: bold\"> 1.6234209999999998 </span>│\n",
       "│<span style=\"color: #008080; text-decoration-color: #008080; font-weight: bold\"> 358     </span>│<span style=\"color: #008080; text-decoration-color: #008080; font-weight: bold\"> 1.9152678100647456 </span>│<span style=\"color: #008080; text-decoration-color: #008080; font-weight: bold\"> 0.7346368715083799 </span>│<span style=\"color: #008080; text-decoration-color: #008080; font-weight: bold\"> 0.69921875      </span>│<span style=\"color: #008080; text-decoration-color: #008080; font-weight: bold\"> 1.6234209999999998 </span>│\n",
       "│<span style=\"color: #008080; text-decoration-color: #008080; font-weight: bold\"> 359     </span>│<span style=\"color: #008080; text-decoration-color: #008080; font-weight: bold\"> 1.9105040587349436 </span>│<span style=\"color: #008080; text-decoration-color: #008080; font-weight: bold\"> 0.7353760445682451 </span>│<span style=\"color: #008080; text-decoration-color: #008080; font-weight: bold\"> 0.701171875     </span>│<span style=\"color: #008080; text-decoration-color: #008080; font-weight: bold\"> 1.6234209999999998 </span>│\n",
       "│<span style=\"color: #008080; text-decoration-color: #008080; font-weight: bold\"> 361     </span>│<span style=\"color: #008080; text-decoration-color: #008080; font-weight: bold\"> 1.9030640722625856 </span>│<span style=\"color: #008080; text-decoration-color: #008080; font-weight: bold\"> 0.7313019390581718 </span>│<span style=\"color: #008080; text-decoration-color: #008080; font-weight: bold\"> 0.705078125     </span>│<span style=\"color: #008080; text-decoration-color: #008080; font-weight: bold\"> 1.6234209999999998 </span>│\n",
       "│<span style=\"color: #008080; text-decoration-color: #008080; font-weight: bold\"> 362     </span>│<span style=\"color: #008080; text-decoration-color: #008080; font-weight: bold\"> 1.9030338432291198 </span>│<span style=\"color: #008080; text-decoration-color: #008080; font-weight: bold\"> 0.7320441988950276 </span>│<span style=\"color: #008080; text-decoration-color: #008080; font-weight: bold\"> 0.70703125      </span>│<span style=\"color: #008080; text-decoration-color: #008080; font-weight: bold\"> 1.6234209999999998 </span>│\n",
       "│<span style=\"color: #008080; text-decoration-color: #008080; font-weight: bold\"> 365     </span>│<span style=\"color: #008080; text-decoration-color: #008080; font-weight: bold\"> 1.8793510998805223 </span>│<span style=\"color: #008080; text-decoration-color: #008080; font-weight: bold\"> 0.726027397260274  </span>│<span style=\"color: #008080; text-decoration-color: #008080; font-weight: bold\"> 0.712890625     </span>│<span style=\"color: #008080; text-decoration-color: #008080; font-weight: bold\"> 1.6234209999999998 </span>│\n",
       "│<span style=\"color: #008080; text-decoration-color: #008080; font-weight: bold\"> 367     </span>│<span style=\"color: #008080; text-decoration-color: #008080; font-weight: bold\"> 1.8588860392355626 </span>│<span style=\"color: #008080; text-decoration-color: #008080; font-weight: bold\"> 0.7275204359673024 </span>│<span style=\"color: #008080; text-decoration-color: #008080; font-weight: bold\"> 0.716796875     </span>│<span style=\"color: #008080; text-decoration-color: #008080; font-weight: bold\"> 1.6234209999999998 </span>│\n",
       "│<span style=\"color: #008080; text-decoration-color: #008080; font-weight: bold\"> 371     </span>│<span style=\"color: #008080; text-decoration-color: #008080; font-weight: bold\"> 1.849116287385379  </span>│<span style=\"color: #008080; text-decoration-color: #008080; font-weight: bold\"> 0.7196765498652291 </span>│<span style=\"color: #008080; text-decoration-color: #008080; font-weight: bold\"> 0.724609375     </span>│<span style=\"color: #008080; text-decoration-color: #008080; font-weight: bold\"> 1.6234209999999998 </span>│\n",
       "│<span style=\"color: #008080; text-decoration-color: #008080; font-weight: bold\"> 372     </span>│<span style=\"color: #008080; text-decoration-color: #008080; font-weight: bold\"> 1.843936766360578  </span>│<span style=\"color: #008080; text-decoration-color: #008080; font-weight: bold\"> 0.7204301075268817 </span>│<span style=\"color: #008080; text-decoration-color: #008080; font-weight: bold\"> 0.7265625       </span>│<span style=\"color: #008080; text-decoration-color: #008080; font-weight: bold\"> 1.6234209999999998 </span>│\n",
       "│<span style=\"color: #008080; text-decoration-color: #008080; font-weight: bold\"> 377     </span>│<span style=\"color: #008080; text-decoration-color: #008080; font-weight: bold\"> 1.8370680407668991 </span>│<span style=\"color: #008080; text-decoration-color: #008080; font-weight: bold\"> 0.7108753315649867 </span>│<span style=\"color: #008080; text-decoration-color: #008080; font-weight: bold\"> 0.736328125     </span>│<span style=\"color: #008080; text-decoration-color: #008080; font-weight: bold\"> 1.6234209999999998 </span>│\n",
       "│<span style=\"color: #008080; text-decoration-color: #008080; font-weight: bold\"> 378     </span>│<span style=\"color: #008080; text-decoration-color: #008080; font-weight: bold\"> 1.8360565438067498 </span>│<span style=\"color: #008080; text-decoration-color: #008080; font-weight: bold\"> 0.7116402116402116 </span>│<span style=\"color: #008080; text-decoration-color: #008080; font-weight: bold\"> 0.73828125      </span>│<span style=\"color: #008080; text-decoration-color: #008080; font-weight: bold\"> 1.6234209999999998 </span>│\n",
       "│<span style=\"color: #008080; text-decoration-color: #008080; font-weight: bold\"> 381     </span>│<span style=\"color: #008080; text-decoration-color: #008080; font-weight: bold\"> 1.8094291330421273 </span>│<span style=\"color: #008080; text-decoration-color: #008080; font-weight: bold\"> 0.7060367454068242 </span>│<span style=\"color: #008080; text-decoration-color: #008080; font-weight: bold\"> 0.744140625     </span>│<span style=\"color: #008080; text-decoration-color: #008080; font-weight: bold\"> 1.6234209999999998 </span>│\n",
       "│<span style=\"color: #008080; text-decoration-color: #008080; font-weight: bold\"> 383     </span>│<span style=\"color: #008080; text-decoration-color: #008080; font-weight: bold\"> 1.7870681644789885 </span>│<span style=\"color: #008080; text-decoration-color: #008080; font-weight: bold\"> 0.7075718015665796 </span>│<span style=\"color: #008080; text-decoration-color: #008080; font-weight: bold\"> 0.748046875     </span>│<span style=\"color: #008080; text-decoration-color: #008080; font-weight: bold\"> 1.6234209999999998 </span>│\n",
       "│<span style=\"color: #008080; text-decoration-color: #008080; font-weight: bold\"> 388     </span>│<span style=\"color: #008080; text-decoration-color: #008080; font-weight: bold\"> 1.7669752654623072 </span>│<span style=\"color: #008080; text-decoration-color: #008080; font-weight: bold\"> 0.6984536082474226 </span>│<span style=\"color: #008080; text-decoration-color: #008080; font-weight: bold\"> 0.7578125       </span>│<span style=\"color: #008080; text-decoration-color: #008080; font-weight: bold\"> 1.6234209999999998 </span>│\n",
       "│<span style=\"color: #008080; text-decoration-color: #008080; font-weight: bold\"> 389     </span>│<span style=\"color: #008080; text-decoration-color: #008080; font-weight: bold\"> 1.7668410666339973 </span>│<span style=\"color: #008080; text-decoration-color: #008080; font-weight: bold\"> 0.699228791773779  </span>│<span style=\"color: #008080; text-decoration-color: #008080; font-weight: bold\"> 0.759765625     </span>│<span style=\"color: #008080; text-decoration-color: #008080; font-weight: bold\"> 1.6234209999999998 </span>│\n",
       "│<span style=\"color: #008080; text-decoration-color: #008080; font-weight: bold\"> 410     </span>│<span style=\"color: #008080; text-decoration-color: #008080; font-weight: bold\"> 1.6886005677772968 </span>│<span style=\"color: #008080; text-decoration-color: #008080; font-weight: bold\"> 0.6634146341463415 </span>│<span style=\"color: #008080; text-decoration-color: #008080; font-weight: bold\"> 0.80078125      </span>│<span style=\"color: #008080; text-decoration-color: #008080; font-weight: bold\"> 1.6234209999999998 </span>│\n",
       "│<span style=\"color: #008080; text-decoration-color: #008080; font-weight: bold\"> 411     </span>│<span style=\"color: #008080; text-decoration-color: #008080; font-weight: bold\"> 1.6830235236125326 </span>│<span style=\"color: #008080; text-decoration-color: #008080; font-weight: bold\"> 0.6642335766423357 </span>│<span style=\"color: #008080; text-decoration-color: #008080; font-weight: bold\"> 0.802734375     </span>│<span style=\"color: #008080; text-decoration-color: #008080; font-weight: bold\"> 1.6234209999999998 </span>│\n",
       "│<span style=\"color: #008080; text-decoration-color: #008080; font-weight: bold\"> 415     </span>│<span style=\"color: #008080; text-decoration-color: #008080; font-weight: bold\"> 1.6738956842303416 </span>│<span style=\"color: #008080; text-decoration-color: #008080; font-weight: bold\"> 0.6578313253012048 </span>│<span style=\"color: #008080; text-decoration-color: #008080; font-weight: bold\"> 0.810546875     </span>│<span style=\"color: #008080; text-decoration-color: #008080; font-weight: bold\"> 1.6234209999999998 </span>│\n",
       "│<span style=\"color: #008080; text-decoration-color: #008080; font-weight: bold\"> 416     </span>│<span style=\"color: #008080; text-decoration-color: #008080; font-weight: bold\"> 1.6720883546993652 </span>│<span style=\"color: #008080; text-decoration-color: #008080; font-weight: bold\"> 0.6586538461538461 </span>│<span style=\"color: #008080; text-decoration-color: #008080; font-weight: bold\"> 0.8125          </span>│<span style=\"color: #008080; text-decoration-color: #008080; font-weight: bold\"> 1.6234209999999998 </span>│\n",
       "│<span style=\"color: #008080; text-decoration-color: #008080; font-weight: bold\"> 417     </span>│<span style=\"color: #008080; text-decoration-color: #008080; font-weight: bold\"> 1.6634345933150567 </span>│<span style=\"color: #008080; text-decoration-color: #008080; font-weight: bold\"> 0.657074340527578  </span>│<span style=\"color: #008080; text-decoration-color: #008080; font-weight: bold\"> 0.814453125     </span>│<span style=\"color: #008080; text-decoration-color: #008080; font-weight: bold\"> 1.6234209999999998 </span>│\n",
       "│<span style=\"color: #008080; text-decoration-color: #008080; font-weight: bold\"> 418     </span>│<span style=\"color: #008080; text-decoration-color: #008080; font-weight: bold\"> 1.656158264803094  </span>│<span style=\"color: #008080; text-decoration-color: #008080; font-weight: bold\"> 0.6578947368421053 </span>│<span style=\"color: #008080; text-decoration-color: #008080; font-weight: bold\"> 0.81640625      </span>│<span style=\"color: #008080; text-decoration-color: #008080; font-weight: bold\"> 1.6234209999999998 </span>│\n",
       "│<span style=\"color: #008080; text-decoration-color: #008080; font-weight: bold\"> 443     </span>│<span style=\"color: #008080; text-decoration-color: #008080; font-weight: bold\"> 1.5840715686682278 </span>│<span style=\"color: #008080; text-decoration-color: #008080; font-weight: bold\"> 0.6207674943566591 </span>│<span style=\"color: #008080; text-decoration-color: #008080; font-weight: bold\"> 0.865234375     </span>│<span style=\"color: #008080; text-decoration-color: #008080; font-weight: bold\"> 1.6234209999999998 </span>│\n",
       "│<span style=\"color: #008080; text-decoration-color: #008080; font-weight: bold\"> 444     </span>│<span style=\"color: #008080; text-decoration-color: #008080; font-weight: bold\"> 1.5787139508150978 </span>│<span style=\"color: #008080; text-decoration-color: #008080; font-weight: bold\"> 0.6216216216216216 </span>│<span style=\"color: #008080; text-decoration-color: #008080; font-weight: bold\"> 0.8671875       </span>│<span style=\"color: #008080; text-decoration-color: #008080; font-weight: bold\"> 1.6234209999999998 </span>│\n",
       "│<span style=\"color: #008080; text-decoration-color: #008080; font-weight: bold\"> 468     </span>│<span style=\"color: #008080; text-decoration-color: #008080; font-weight: bold\"> 1.4242391027602808 </span>│<span style=\"color: #008080; text-decoration-color: #008080; font-weight: bold\"> 0.5897435897435898 </span>│<span style=\"color: #008080; text-decoration-color: #008080; font-weight: bold\"> 0.9140625       </span>│<span style=\"color: #008080; text-decoration-color: #008080; font-weight: bold\"> 1.6234209999999998 </span>│\n",
       "│<span style=\"color: #008080; text-decoration-color: #008080; font-weight: bold\"> 469     </span>│<span style=\"color: #008080; text-decoration-color: #008080; font-weight: bold\"> 1.4155326372944554 </span>│<span style=\"color: #008080; text-decoration-color: #008080; font-weight: bold\"> 0.5906183368869936 </span>│<span style=\"color: #008080; text-decoration-color: #008080; font-weight: bold\"> 0.916015625     </span>│<span style=\"color: #008080; text-decoration-color: #008080; font-weight: bold\"> 1.6234209999999998 </span>│\n",
       "│<span style=\"color: #008080; text-decoration-color: #008080; font-weight: bold\"> 477     </span>│<span style=\"color: #008080; text-decoration-color: #008080; font-weight: bold\"> 1.2997224021540534 </span>│<span style=\"color: #008080; text-decoration-color: #008080; font-weight: bold\"> 0.5807127882599581 </span>│<span style=\"color: #008080; text-decoration-color: #008080; font-weight: bold\"> 0.931640625     </span>│<span style=\"color: #008080; text-decoration-color: #008080; font-weight: bold\"> 1.6234209999999998 </span>│\n",
       "│<span style=\"color: #008080; text-decoration-color: #008080; font-weight: bold\"> 478     </span>│<span style=\"color: #008080; text-decoration-color: #008080; font-weight: bold\"> 1.2811316550290344 </span>│<span style=\"color: #008080; text-decoration-color: #008080; font-weight: bold\"> 0.5815899581589958 </span>│<span style=\"color: #008080; text-decoration-color: #008080; font-weight: bold\"> 0.93359375      </span>│<span style=\"color: #008080; text-decoration-color: #008080; font-weight: bold\"> 1.6234209999999998 </span>│\n",
       "│<span style=\"color: #008080; text-decoration-color: #008080; font-weight: bold\"> 485     </span>│<span style=\"color: #008080; text-decoration-color: #008080; font-weight: bold\"> 1.2086624188191346 </span>│<span style=\"color: #008080; text-decoration-color: #008080; font-weight: bold\"> 0.5731958762886598 </span>│<span style=\"color: #008080; text-decoration-color: #008080; font-weight: bold\"> 0.947265625     </span>│<span style=\"color: #008080; text-decoration-color: #008080; font-weight: bold\"> 1.6234209999999998 </span>│\n",
       "│<span style=\"color: #008080; text-decoration-color: #008080; font-weight: bold\"> 486     </span>│<span style=\"color: #008080; text-decoration-color: #008080; font-weight: bold\"> 1.1986353433410708 </span>│<span style=\"color: #008080; text-decoration-color: #008080; font-weight: bold\"> 0.5740740740740741 </span>│<span style=\"color: #008080; text-decoration-color: #008080; font-weight: bold\"> 0.94921875      </span>│<span style=\"color: #008080; text-decoration-color: #008080; font-weight: bold\"> 1.6234209999999998 </span>│\n",
       "│<span style=\"color: #008080; text-decoration-color: #008080; font-weight: bold\"> 490     </span>│<span style=\"color: #008080; text-decoration-color: #008080; font-weight: bold\"> 1.1486563341171112 </span>│<span style=\"color: #008080; text-decoration-color: #008080; font-weight: bold\"> 0.5693877551020409 </span>│<span style=\"color: #008080; text-decoration-color: #008080; font-weight: bold\"> 0.95703125      </span>│<span style=\"color: #008080; text-decoration-color: #008080; font-weight: bold\"> 1.6234209999999998 </span>│\n",
       "│<span style=\"color: #008080; text-decoration-color: #008080; font-weight: bold\"> 491     </span>│<span style=\"color: #008080; text-decoration-color: #008080; font-weight: bold\"> 1.1313359805826424 </span>│<span style=\"color: #008080; text-decoration-color: #008080; font-weight: bold\"> 0.570264765784114  </span>│<span style=\"color: #008080; text-decoration-color: #008080; font-weight: bold\"> 0.958984375     </span>│<span style=\"color: #008080; text-decoration-color: #008080; font-weight: bold\"> 1.6234209999999998 </span>│\n",
       "│<span style=\"color: #008080; text-decoration-color: #008080; font-weight: bold\"> 503     </span>│<span style=\"color: #008080; text-decoration-color: #008080; font-weight: bold\"> 1.000794545571427  </span>│<span style=\"color: #008080; text-decoration-color: #008080; font-weight: bold\"> 0.5566600397614314 </span>│<span style=\"color: #008080; text-decoration-color: #008080; font-weight: bold\"> 0.982421875     </span>│<span style=\"color: #008080; text-decoration-color: #008080; font-weight: bold\"> 1.6234209999999998 </span>│\n",
       "│<span style=\"color: #008080; text-decoration-color: #008080; font-weight: bold\"> 503     </span>│<span style=\"color: #008080; text-decoration-color: #008080; font-weight: bold\"> 0.0                </span>│<span style=\"color: #008080; text-decoration-color: #008080; font-weight: bold\"> 0.5566600397614314 </span>│<span style=\"color: #008080; text-decoration-color: #008080; font-weight: bold\"> 0.982421875     </span>│<span style=\"color: #008080; text-decoration-color: #008080; font-weight: bold\"> 1.6234209999999998 </span>│\n",
       "└─────────┴────────────────────┴────────────────────┴─────────────────┴────────────────────┘\n",
       "</pre>\n"
      ],
      "text/plain": [
       "┏━━━━━━━━━┳━━━━━━━━━━━━━━━━━━━━┳━━━━━━━━━━━━━━━━━━━━┳━━━━━━━━━━━━━━━━━┳━━━━━━━━━━━━━━━━━━━━┓\n",
       "┃\u001b[1m \u001b[0m\u001b[1msupport\u001b[0m\u001b[1m \u001b[0m┃\u001b[1m \u001b[0m\u001b[1mthreshold         \u001b[0m\u001b[1m \u001b[0m┃\u001b[1m \u001b[0m\u001b[1maccuracy          \u001b[0m\u001b[1m \u001b[0m┃\u001b[1m \u001b[0m\u001b[1mcompletion_rate\u001b[0m\u001b[1m \u001b[0m┃\u001b[1m \u001b[0m\u001b[1mActual Cost       \u001b[0m\u001b[1m \u001b[0m┃\n",
       "┡━━━━━━━━━╇━━━━━━━━━━━━━━━━━━━━╇━━━━━━━━━━━━━━━━━━━━╇━━━━━━━━━━━━━━━━━╇━━━━━━━━━━━━━━━━━━━━┩\n",
       "│\u001b[1;36m \u001b[0m\u001b[1;36m503    \u001b[0m\u001b[1;36m \u001b[0m│\u001b[1;36m \u001b[0m\u001b[1;36m-inf              \u001b[0m\u001b[1;36m \u001b[0m│\u001b[1;36m \u001b[0m\u001b[1;36m0.5566600397614314\u001b[0m\u001b[1;36m \u001b[0m│\u001b[1;36m \u001b[0m\u001b[1;36m0.982421875    \u001b[0m\u001b[1;36m \u001b[0m│\u001b[1;36m \u001b[0m\u001b[1;36m1.6234209999999998\u001b[0m\u001b[1;36m \u001b[0m│\n",
       "│\u001b[1;36m \u001b[0m\u001b[1;36m0      \u001b[0m\u001b[1;36m \u001b[0m│\u001b[1;36m \u001b[0m\u001b[1;36m3.715268428429983 \u001b[0m\u001b[1;36m \u001b[0m│\u001b[1;36m \u001b[0m\u001b[1;36m0.0               \u001b[0m\u001b[1;36m \u001b[0m│\u001b[1;36m \u001b[0m\u001b[1;36m0.0            \u001b[0m\u001b[1;36m \u001b[0m│\u001b[1;36m \u001b[0m\u001b[1;36m1.6234209999999998\u001b[0m\u001b[1;36m \u001b[0m│\n",
       "│\u001b[1;36m \u001b[0m\u001b[1;36m1      \u001b[0m\u001b[1;36m \u001b[0m│\u001b[1;36m \u001b[0m\u001b[1;36m2.715268428429983 \u001b[0m\u001b[1;36m \u001b[0m│\u001b[1;36m \u001b[0m\u001b[1;36m1.0               \u001b[0m\u001b[1;36m \u001b[0m│\u001b[1;36m \u001b[0m\u001b[1;36m0.001953125    \u001b[0m\u001b[1;36m \u001b[0m│\u001b[1;36m \u001b[0m\u001b[1;36m1.6234209999999998\u001b[0m\u001b[1;36m \u001b[0m│\n",
       "│\u001b[1;36m \u001b[0m\u001b[1;36m16     \u001b[0m\u001b[1;36m \u001b[0m│\u001b[1;36m \u001b[0m\u001b[1;36m2.712242849337046 \u001b[0m\u001b[1;36m \u001b[0m│\u001b[1;36m \u001b[0m\u001b[1;36m1.0               \u001b[0m\u001b[1;36m \u001b[0m│\u001b[1;36m \u001b[0m\u001b[1;36m0.03125        \u001b[0m\u001b[1;36m \u001b[0m│\u001b[1;36m \u001b[0m\u001b[1;36m1.6234209999999998\u001b[0m\u001b[1;36m \u001b[0m│\n",
       "│\u001b[1;36m \u001b[0m\u001b[1;36m17     \u001b[0m\u001b[1;36m \u001b[0m│\u001b[1;36m \u001b[0m\u001b[1;36m2.712148332442508 \u001b[0m\u001b[1;36m \u001b[0m│\u001b[1;36m \u001b[0m\u001b[1;36m0.9411764705882353\u001b[0m\u001b[1;36m \u001b[0m│\u001b[1;36m \u001b[0m\u001b[1;36m0.033203125    \u001b[0m\u001b[1;36m \u001b[0m│\u001b[1;36m \u001b[0m\u001b[1;36m1.6234209999999998\u001b[0m\u001b[1;36m \u001b[0m│\n",
       "│\u001b[1;36m \u001b[0m\u001b[1;36m28     \u001b[0m\u001b[1;36m \u001b[0m│\u001b[1;36m \u001b[0m\u001b[1;36m2.7098626629671014\u001b[0m\u001b[1;36m \u001b[0m│\u001b[1;36m \u001b[0m\u001b[1;36m0.9642857142857143\u001b[0m\u001b[1;36m \u001b[0m│\u001b[1;36m \u001b[0m\u001b[1;36m0.0546875      \u001b[0m\u001b[1;36m \u001b[0m│\u001b[1;36m \u001b[0m\u001b[1;36m1.6234209999999998\u001b[0m\u001b[1;36m \u001b[0m│\n",
       "│\u001b[1;36m \u001b[0m\u001b[1;36m29     \u001b[0m\u001b[1;36m \u001b[0m│\u001b[1;36m \u001b[0m\u001b[1;36m2.7098496229180684\u001b[0m\u001b[1;36m \u001b[0m│\u001b[1;36m \u001b[0m\u001b[1;36m0.9310344827586207\u001b[0m\u001b[1;36m \u001b[0m│\u001b[1;36m \u001b[0m\u001b[1;36m0.056640625    \u001b[0m\u001b[1;36m \u001b[0m│\u001b[1;36m \u001b[0m\u001b[1;36m1.6234209999999998\u001b[0m\u001b[1;36m \u001b[0m│\n",
       "│\u001b[1;36m \u001b[0m\u001b[1;36m35     \u001b[0m\u001b[1;36m \u001b[0m│\u001b[1;36m \u001b[0m\u001b[1;36m2.7091403215744996\u001b[0m\u001b[1;36m \u001b[0m│\u001b[1;36m \u001b[0m\u001b[1;36m0.9428571428571428\u001b[0m\u001b[1;36m \u001b[0m│\u001b[1;36m \u001b[0m\u001b[1;36m0.068359375    \u001b[0m\u001b[1;36m \u001b[0m│\u001b[1;36m \u001b[0m\u001b[1;36m1.6234209999999998\u001b[0m\u001b[1;36m \u001b[0m│\n",
       "│\u001b[1;36m \u001b[0m\u001b[1;36m36     \u001b[0m\u001b[1;36m \u001b[0m│\u001b[1;36m \u001b[0m\u001b[1;36m2.7090411870627356\u001b[0m\u001b[1;36m \u001b[0m│\u001b[1;36m \u001b[0m\u001b[1;36m0.9166666666666666\u001b[0m\u001b[1;36m \u001b[0m│\u001b[1;36m \u001b[0m\u001b[1;36m0.0703125      \u001b[0m\u001b[1;36m \u001b[0m│\u001b[1;36m \u001b[0m\u001b[1;36m1.6234209999999998\u001b[0m\u001b[1;36m \u001b[0m│\n",
       "│\u001b[1;36m \u001b[0m\u001b[1;36m61     \u001b[0m\u001b[1;36m \u001b[0m│\u001b[1;36m \u001b[0m\u001b[1;36m2.704127444113323 \u001b[0m\u001b[1;36m \u001b[0m│\u001b[1;36m \u001b[0m\u001b[1;36m0.9508196721311475\u001b[0m\u001b[1;36m \u001b[0m│\u001b[1;36m \u001b[0m\u001b[1;36m0.119140625    \u001b[0m\u001b[1;36m \u001b[0m│\u001b[1;36m \u001b[0m\u001b[1;36m1.6234209999999998\u001b[0m\u001b[1;36m \u001b[0m│\n",
       "│\u001b[1;36m \u001b[0m\u001b[1;36m62     \u001b[0m\u001b[1;36m \u001b[0m│\u001b[1;36m \u001b[0m\u001b[1;36m2.703426891692521 \u001b[0m\u001b[1;36m \u001b[0m│\u001b[1;36m \u001b[0m\u001b[1;36m0.9354838709677419\u001b[0m\u001b[1;36m \u001b[0m│\u001b[1;36m \u001b[0m\u001b[1;36m0.12109375     \u001b[0m\u001b[1;36m \u001b[0m│\u001b[1;36m \u001b[0m\u001b[1;36m1.6234209999999998\u001b[0m\u001b[1;36m \u001b[0m│\n",
       "│\u001b[1;36m \u001b[0m\u001b[1;36m74     \u001b[0m\u001b[1;36m \u001b[0m│\u001b[1;36m \u001b[0m\u001b[1;36m2.699547529701385 \u001b[0m\u001b[1;36m \u001b[0m│\u001b[1;36m \u001b[0m\u001b[1;36m0.9459459459459459\u001b[0m\u001b[1;36m \u001b[0m│\u001b[1;36m \u001b[0m\u001b[1;36m0.14453125     \u001b[0m\u001b[1;36m \u001b[0m│\u001b[1;36m \u001b[0m\u001b[1;36m1.6234209999999998\u001b[0m\u001b[1;36m \u001b[0m│\n",
       "│\u001b[1;36m \u001b[0m\u001b[1;36m75     \u001b[0m\u001b[1;36m \u001b[0m│\u001b[1;36m \u001b[0m\u001b[1;36m2.69935532679345  \u001b[0m\u001b[1;36m \u001b[0m│\u001b[1;36m \u001b[0m\u001b[1;36m0.9333333333333333\u001b[0m\u001b[1;36m \u001b[0m│\u001b[1;36m \u001b[0m\u001b[1;36m0.146484375    \u001b[0m\u001b[1;36m \u001b[0m│\u001b[1;36m \u001b[0m\u001b[1;36m1.6234209999999998\u001b[0m\u001b[1;36m \u001b[0m│\n",
       "│\u001b[1;36m \u001b[0m\u001b[1;36m94     \u001b[0m\u001b[1;36m \u001b[0m│\u001b[1;36m \u001b[0m\u001b[1;36m2.6907428459431695\u001b[0m\u001b[1;36m \u001b[0m│\u001b[1;36m \u001b[0m\u001b[1;36m0.9468085106382979\u001b[0m\u001b[1;36m \u001b[0m│\u001b[1;36m \u001b[0m\u001b[1;36m0.18359375     \u001b[0m\u001b[1;36m \u001b[0m│\u001b[1;36m \u001b[0m\u001b[1;36m1.6234209999999998\u001b[0m\u001b[1;36m \u001b[0m│\n",
       "│\u001b[1;36m \u001b[0m\u001b[1;36m95     \u001b[0m\u001b[1;36m \u001b[0m│\u001b[1;36m \u001b[0m\u001b[1;36m2.690386262927368 \u001b[0m\u001b[1;36m \u001b[0m│\u001b[1;36m \u001b[0m\u001b[1;36m0.9368421052631579\u001b[0m\u001b[1;36m \u001b[0m│\u001b[1;36m \u001b[0m\u001b[1;36m0.185546875    \u001b[0m\u001b[1;36m \u001b[0m│\u001b[1;36m \u001b[0m\u001b[1;36m1.6234209999999998\u001b[0m\u001b[1;36m \u001b[0m│\n",
       "│\u001b[1;36m \u001b[0m\u001b[1;36m102    \u001b[0m\u001b[1;36m \u001b[0m│\u001b[1;36m \u001b[0m\u001b[1;36m2.68849512658336  \u001b[0m\u001b[1;36m \u001b[0m│\u001b[1;36m \u001b[0m\u001b[1;36m0.9411764705882353\u001b[0m\u001b[1;36m \u001b[0m│\u001b[1;36m \u001b[0m\u001b[1;36m0.19921875     \u001b[0m\u001b[1;36m \u001b[0m│\u001b[1;36m \u001b[0m\u001b[1;36m1.6234209999999998\u001b[0m\u001b[1;36m \u001b[0m│\n",
       "│\u001b[1;36m \u001b[0m\u001b[1;36m103    \u001b[0m\u001b[1;36m \u001b[0m│\u001b[1;36m \u001b[0m\u001b[1;36m2.687847326840125 \u001b[0m\u001b[1;36m \u001b[0m│\u001b[1;36m \u001b[0m\u001b[1;36m0.9320388349514563\u001b[0m\u001b[1;36m \u001b[0m│\u001b[1;36m \u001b[0m\u001b[1;36m0.201171875    \u001b[0m\u001b[1;36m \u001b[0m│\u001b[1;36m \u001b[0m\u001b[1;36m1.6234209999999998\u001b[0m\u001b[1;36m \u001b[0m│\n",
       "│\u001b[1;36m \u001b[0m\u001b[1;36m113    \u001b[0m\u001b[1;36m \u001b[0m│\u001b[1;36m \u001b[0m\u001b[1;36m2.6832676232750563\u001b[0m\u001b[1;36m \u001b[0m│\u001b[1;36m \u001b[0m\u001b[1;36m0.9380530973451328\u001b[0m\u001b[1;36m \u001b[0m│\u001b[1;36m \u001b[0m\u001b[1;36m0.220703125    \u001b[0m\u001b[1;36m \u001b[0m│\u001b[1;36m \u001b[0m\u001b[1;36m1.6234209999999998\u001b[0m\u001b[1;36m \u001b[0m│\n",
       "│\u001b[1;36m \u001b[0m\u001b[1;36m114    \u001b[0m\u001b[1;36m \u001b[0m│\u001b[1;36m \u001b[0m\u001b[1;36m2.6826176186862893\u001b[0m\u001b[1;36m \u001b[0m│\u001b[1;36m \u001b[0m\u001b[1;36m0.9298245614035088\u001b[0m\u001b[1;36m \u001b[0m│\u001b[1;36m \u001b[0m\u001b[1;36m0.22265625     \u001b[0m\u001b[1;36m \u001b[0m│\u001b[1;36m \u001b[0m\u001b[1;36m1.6234209999999998\u001b[0m\u001b[1;36m \u001b[0m│\n",
       "│\u001b[1;36m \u001b[0m\u001b[1;36m137    \u001b[0m\u001b[1;36m \u001b[0m│\u001b[1;36m \u001b[0m\u001b[1;36m2.6660570359102183\u001b[0m\u001b[1;36m \u001b[0m│\u001b[1;36m \u001b[0m\u001b[1;36m0.9416058394160584\u001b[0m\u001b[1;36m \u001b[0m│\u001b[1;36m \u001b[0m\u001b[1;36m0.267578125    \u001b[0m\u001b[1;36m \u001b[0m│\u001b[1;36m \u001b[0m\u001b[1;36m1.6234209999999998\u001b[0m\u001b[1;36m \u001b[0m│\n",
       "│\u001b[1;36m \u001b[0m\u001b[1;36m138    \u001b[0m\u001b[1;36m \u001b[0m│\u001b[1;36m \u001b[0m\u001b[1;36m2.6657317682475568\u001b[0m\u001b[1;36m \u001b[0m│\u001b[1;36m \u001b[0m\u001b[1;36m0.9347826086956522\u001b[0m\u001b[1;36m \u001b[0m│\u001b[1;36m \u001b[0m\u001b[1;36m0.26953125     \u001b[0m\u001b[1;36m \u001b[0m│\u001b[1;36m \u001b[0m\u001b[1;36m1.6234209999999998\u001b[0m\u001b[1;36m \u001b[0m│\n",
       "│\u001b[1;36m \u001b[0m\u001b[1;36m147    \u001b[0m\u001b[1;36m \u001b[0m│\u001b[1;36m \u001b[0m\u001b[1;36m2.6548738167405213\u001b[0m\u001b[1;36m \u001b[0m│\u001b[1;36m \u001b[0m\u001b[1;36m0.9387755102040817\u001b[0m\u001b[1;36m \u001b[0m│\u001b[1;36m \u001b[0m\u001b[1;36m0.287109375    \u001b[0m\u001b[1;36m \u001b[0m│\u001b[1;36m \u001b[0m\u001b[1;36m1.6234209999999998\u001b[0m\u001b[1;36m \u001b[0m│\n",
       "│\u001b[1;36m \u001b[0m\u001b[1;36m149    \u001b[0m\u001b[1;36m \u001b[0m│\u001b[1;36m \u001b[0m\u001b[1;36m2.6530305852932683\u001b[0m\u001b[1;36m \u001b[0m│\u001b[1;36m \u001b[0m\u001b[1;36m0.9261744966442953\u001b[0m\u001b[1;36m \u001b[0m│\u001b[1;36m \u001b[0m\u001b[1;36m0.291015625    \u001b[0m\u001b[1;36m \u001b[0m│\u001b[1;36m \u001b[0m\u001b[1;36m1.6234209999999998\u001b[0m\u001b[1;36m \u001b[0m│\n",
       "│\u001b[1;36m \u001b[0m\u001b[1;36m158    \u001b[0m\u001b[1;36m \u001b[0m│\u001b[1;36m \u001b[0m\u001b[1;36m2.64682594187889  \u001b[0m\u001b[1;36m \u001b[0m│\u001b[1;36m \u001b[0m\u001b[1;36m0.930379746835443 \u001b[0m\u001b[1;36m \u001b[0m│\u001b[1;36m \u001b[0m\u001b[1;36m0.30859375     \u001b[0m\u001b[1;36m \u001b[0m│\u001b[1;36m \u001b[0m\u001b[1;36m1.6234209999999998\u001b[0m\u001b[1;36m \u001b[0m│\n",
       "│\u001b[1;36m \u001b[0m\u001b[1;36m159    \u001b[0m\u001b[1;36m \u001b[0m│\u001b[1;36m \u001b[0m\u001b[1;36m2.6444029423854643\u001b[0m\u001b[1;36m \u001b[0m│\u001b[1;36m \u001b[0m\u001b[1;36m0.9245283018867925\u001b[0m\u001b[1;36m \u001b[0m│\u001b[1;36m \u001b[0m\u001b[1;36m0.310546875    \u001b[0m\u001b[1;36m \u001b[0m│\u001b[1;36m \u001b[0m\u001b[1;36m1.6234209999999998\u001b[0m\u001b[1;36m \u001b[0m│\n",
       "│\u001b[1;36m \u001b[0m\u001b[1;36m162    \u001b[0m\u001b[1;36m \u001b[0m│\u001b[1;36m \u001b[0m\u001b[1;36m2.641262128658825 \u001b[0m\u001b[1;36m \u001b[0m│\u001b[1;36m \u001b[0m\u001b[1;36m0.9259259259259259\u001b[0m\u001b[1;36m \u001b[0m│\u001b[1;36m \u001b[0m\u001b[1;36m0.31640625     \u001b[0m\u001b[1;36m \u001b[0m│\u001b[1;36m \u001b[0m\u001b[1;36m1.6234209999999998\u001b[0m\u001b[1;36m \u001b[0m│\n",
       "│\u001b[1;36m \u001b[0m\u001b[1;36m163    \u001b[0m\u001b[1;36m \u001b[0m│\u001b[1;36m \u001b[0m\u001b[1;36m2.6403603418843704\u001b[0m\u001b[1;36m \u001b[0m│\u001b[1;36m \u001b[0m\u001b[1;36m0.9202453987730062\u001b[0m\u001b[1;36m \u001b[0m│\u001b[1;36m \u001b[0m\u001b[1;36m0.318359375    \u001b[0m\u001b[1;36m \u001b[0m│\u001b[1;36m \u001b[0m\u001b[1;36m1.6234209999999998\u001b[0m\u001b[1;36m \u001b[0m│\n",
       "│\u001b[1;36m \u001b[0m\u001b[1;36m166    \u001b[0m\u001b[1;36m \u001b[0m│\u001b[1;36m \u001b[0m\u001b[1;36m2.6343683524475536\u001b[0m\u001b[1;36m \u001b[0m│\u001b[1;36m \u001b[0m\u001b[1;36m0.9216867469879518\u001b[0m\u001b[1;36m \u001b[0m│\u001b[1;36m \u001b[0m\u001b[1;36m0.32421875     \u001b[0m\u001b[1;36m \u001b[0m│\u001b[1;36m \u001b[0m\u001b[1;36m1.6234209999999998\u001b[0m\u001b[1;36m \u001b[0m│\n",
       "│\u001b[1;36m \u001b[0m\u001b[1;36m167    \u001b[0m\u001b[1;36m \u001b[0m│\u001b[1;36m \u001b[0m\u001b[1;36m2.6335648436327284\u001b[0m\u001b[1;36m \u001b[0m│\u001b[1;36m \u001b[0m\u001b[1;36m0.9161676646706587\u001b[0m\u001b[1;36m \u001b[0m│\u001b[1;36m \u001b[0m\u001b[1;36m0.326171875    \u001b[0m\u001b[1;36m \u001b[0m│\u001b[1;36m \u001b[0m\u001b[1;36m1.6234209999999998\u001b[0m\u001b[1;36m \u001b[0m│\n",
       "│\u001b[1;36m \u001b[0m\u001b[1;36m173    \u001b[0m\u001b[1;36m \u001b[0m│\u001b[1;36m \u001b[0m\u001b[1;36m2.626165017711357 \u001b[0m\u001b[1;36m \u001b[0m│\u001b[1;36m \u001b[0m\u001b[1;36m0.9190751445086706\u001b[0m\u001b[1;36m \u001b[0m│\u001b[1;36m \u001b[0m\u001b[1;36m0.337890625    \u001b[0m\u001b[1;36m \u001b[0m│\u001b[1;36m \u001b[0m\u001b[1;36m1.6234209999999998\u001b[0m\u001b[1;36m \u001b[0m│\n",
       "│\u001b[1;36m \u001b[0m\u001b[1;36m174    \u001b[0m\u001b[1;36m \u001b[0m│\u001b[1;36m \u001b[0m\u001b[1;36m2.624739495491298 \u001b[0m\u001b[1;36m \u001b[0m│\u001b[1;36m \u001b[0m\u001b[1;36m0.9137931034482759\u001b[0m\u001b[1;36m \u001b[0m│\u001b[1;36m \u001b[0m\u001b[1;36m0.33984375     \u001b[0m\u001b[1;36m \u001b[0m│\u001b[1;36m \u001b[0m\u001b[1;36m1.6234209999999998\u001b[0m\u001b[1;36m \u001b[0m│\n",
       "│\u001b[1;36m \u001b[0m\u001b[1;36m182    \u001b[0m\u001b[1;36m \u001b[0m│\u001b[1;36m \u001b[0m\u001b[1;36m2.605671894181481 \u001b[0m\u001b[1;36m \u001b[0m│\u001b[1;36m \u001b[0m\u001b[1;36m0.9175824175824175\u001b[0m\u001b[1;36m \u001b[0m│\u001b[1;36m \u001b[0m\u001b[1;36m0.35546875     \u001b[0m\u001b[1;36m \u001b[0m│\u001b[1;36m \u001b[0m\u001b[1;36m1.6234209999999998\u001b[0m\u001b[1;36m \u001b[0m│\n",
       "│\u001b[1;36m \u001b[0m\u001b[1;36m183    \u001b[0m\u001b[1;36m \u001b[0m│\u001b[1;36m \u001b[0m\u001b[1;36m2.6029085292704437\u001b[0m\u001b[1;36m \u001b[0m│\u001b[1;36m \u001b[0m\u001b[1;36m0.912568306010929 \u001b[0m\u001b[1;36m \u001b[0m│\u001b[1;36m \u001b[0m\u001b[1;36m0.357421875    \u001b[0m\u001b[1;36m \u001b[0m│\u001b[1;36m \u001b[0m\u001b[1;36m1.6234209999999998\u001b[0m\u001b[1;36m \u001b[0m│\n",
       "│\u001b[1;36m \u001b[0m\u001b[1;36m190    \u001b[0m\u001b[1;36m \u001b[0m│\u001b[1;36m \u001b[0m\u001b[1;36m2.585573389732415 \u001b[0m\u001b[1;36m \u001b[0m│\u001b[1;36m \u001b[0m\u001b[1;36m0.9157894736842105\u001b[0m\u001b[1;36m \u001b[0m│\u001b[1;36m \u001b[0m\u001b[1;36m0.37109375     \u001b[0m\u001b[1;36m \u001b[0m│\u001b[1;36m \u001b[0m\u001b[1;36m1.6234209999999998\u001b[0m\u001b[1;36m \u001b[0m│\n",
       "│\u001b[1;36m \u001b[0m\u001b[1;36m192    \u001b[0m\u001b[1;36m \u001b[0m│\u001b[1;36m \u001b[0m\u001b[1;36m2.5833224828562082\u001b[0m\u001b[1;36m \u001b[0m│\u001b[1;36m \u001b[0m\u001b[1;36m0.9166666666666666\u001b[0m\u001b[1;36m \u001b[0m│\u001b[1;36m \u001b[0m\u001b[1;36m0.375          \u001b[0m\u001b[1;36m \u001b[0m│\u001b[1;36m \u001b[0m\u001b[1;36m1.6234209999999998\u001b[0m\u001b[1;36m \u001b[0m│\n",
       "│\u001b[1;36m \u001b[0m\u001b[1;36m201    \u001b[0m\u001b[1;36m \u001b[0m│\u001b[1;36m \u001b[0m\u001b[1;36m2.566658452346145 \u001b[0m\u001b[1;36m \u001b[0m│\u001b[1;36m \u001b[0m\u001b[1;36m0.9203980099502488\u001b[0m\u001b[1;36m \u001b[0m│\u001b[1;36m \u001b[0m\u001b[1;36m0.392578125    \u001b[0m\u001b[1;36m \u001b[0m│\u001b[1;36m \u001b[0m\u001b[1;36m1.6234209999999998\u001b[0m\u001b[1;36m \u001b[0m│\n",
       "│\u001b[1;36m \u001b[0m\u001b[1;36m202    \u001b[0m\u001b[1;36m \u001b[0m│\u001b[1;36m \u001b[0m\u001b[1;36m2.5666085186044776\u001b[0m\u001b[1;36m \u001b[0m│\u001b[1;36m \u001b[0m\u001b[1;36m0.9158415841584159\u001b[0m\u001b[1;36m \u001b[0m│\u001b[1;36m \u001b[0m\u001b[1;36m0.39453125     \u001b[0m\u001b[1;36m \u001b[0m│\u001b[1;36m \u001b[0m\u001b[1;36m1.6234209999999998\u001b[0m\u001b[1;36m \u001b[0m│\n",
       "│\u001b[1;36m \u001b[0m\u001b[1;36m207    \u001b[0m\u001b[1;36m \u001b[0m│\u001b[1;36m \u001b[0m\u001b[1;36m2.548696094054592 \u001b[0m\u001b[1;36m \u001b[0m│\u001b[1;36m \u001b[0m\u001b[1;36m0.9178743961352657\u001b[0m\u001b[1;36m \u001b[0m│\u001b[1;36m \u001b[0m\u001b[1;36m0.404296875    \u001b[0m\u001b[1;36m \u001b[0m│\u001b[1;36m \u001b[0m\u001b[1;36m1.6234209999999998\u001b[0m\u001b[1;36m \u001b[0m│\n",
       "│\u001b[1;36m \u001b[0m\u001b[1;36m208    \u001b[0m\u001b[1;36m \u001b[0m│\u001b[1;36m \u001b[0m\u001b[1;36m2.5471627848796166\u001b[0m\u001b[1;36m \u001b[0m│\u001b[1;36m \u001b[0m\u001b[1;36m0.9134615384615384\u001b[0m\u001b[1;36m \u001b[0m│\u001b[1;36m \u001b[0m\u001b[1;36m0.40625        \u001b[0m\u001b[1;36m \u001b[0m│\u001b[1;36m \u001b[0m\u001b[1;36m1.6234209999999998\u001b[0m\u001b[1;36m \u001b[0m│\n",
       "│\u001b[1;36m \u001b[0m\u001b[1;36m210    \u001b[0m\u001b[1;36m \u001b[0m│\u001b[1;36m \u001b[0m\u001b[1;36m2.5312108893599645\u001b[0m\u001b[1;36m \u001b[0m│\u001b[1;36m \u001b[0m\u001b[1;36m0.9142857142857143\u001b[0m\u001b[1;36m \u001b[0m│\u001b[1;36m \u001b[0m\u001b[1;36m0.41015625     \u001b[0m\u001b[1;36m \u001b[0m│\u001b[1;36m \u001b[0m\u001b[1;36m1.6234209999999998\u001b[0m\u001b[1;36m \u001b[0m│\n",
       "│\u001b[1;36m \u001b[0m\u001b[1;36m211    \u001b[0m\u001b[1;36m \u001b[0m│\u001b[1;36m \u001b[0m\u001b[1;36m2.5285188280798843\u001b[0m\u001b[1;36m \u001b[0m│\u001b[1;36m \u001b[0m\u001b[1;36m0.909952606635071 \u001b[0m\u001b[1;36m \u001b[0m│\u001b[1;36m \u001b[0m\u001b[1;36m0.412109375    \u001b[0m\u001b[1;36m \u001b[0m│\u001b[1;36m \u001b[0m\u001b[1;36m1.6234209999999998\u001b[0m\u001b[1;36m \u001b[0m│\n",
       "│\u001b[1;36m \u001b[0m\u001b[1;36m216    \u001b[0m\u001b[1;36m \u001b[0m│\u001b[1;36m \u001b[0m\u001b[1;36m2.4997920886532814\u001b[0m\u001b[1;36m \u001b[0m│\u001b[1;36m \u001b[0m\u001b[1;36m0.9120370370370371\u001b[0m\u001b[1;36m \u001b[0m│\u001b[1;36m \u001b[0m\u001b[1;36m0.421875       \u001b[0m\u001b[1;36m \u001b[0m│\u001b[1;36m \u001b[0m\u001b[1;36m1.6234209999999998\u001b[0m\u001b[1;36m \u001b[0m│\n",
       "│\u001b[1;36m \u001b[0m\u001b[1;36m218    \u001b[0m\u001b[1;36m \u001b[0m│\u001b[1;36m \u001b[0m\u001b[1;36m2.4953006927720733\u001b[0m\u001b[1;36m \u001b[0m│\u001b[1;36m \u001b[0m\u001b[1;36m0.9036697247706422\u001b[0m\u001b[1;36m \u001b[0m│\u001b[1;36m \u001b[0m\u001b[1;36m0.42578125     \u001b[0m\u001b[1;36m \u001b[0m│\u001b[1;36m \u001b[0m\u001b[1;36m1.6234209999999998\u001b[0m\u001b[1;36m \u001b[0m│\n",
       "│\u001b[1;36m \u001b[0m\u001b[1;36m219    \u001b[0m\u001b[1;36m \u001b[0m│\u001b[1;36m \u001b[0m\u001b[1;36m2.495278222020737 \u001b[0m\u001b[1;36m \u001b[0m│\u001b[1;36m \u001b[0m\u001b[1;36m0.9041095890410958\u001b[0m\u001b[1;36m \u001b[0m│\u001b[1;36m \u001b[0m\u001b[1;36m0.427734375    \u001b[0m\u001b[1;36m \u001b[0m│\u001b[1;36m \u001b[0m\u001b[1;36m1.6234209999999998\u001b[0m\u001b[1;36m \u001b[0m│\n",
       "│\u001b[1;36m \u001b[0m\u001b[1;36m221    \u001b[0m\u001b[1;36m \u001b[0m│\u001b[1;36m \u001b[0m\u001b[1;36m2.479799360670101 \u001b[0m\u001b[1;36m \u001b[0m│\u001b[1;36m \u001b[0m\u001b[1;36m0.8959276018099548\u001b[0m\u001b[1;36m \u001b[0m│\u001b[1;36m \u001b[0m\u001b[1;36m0.431640625    \u001b[0m\u001b[1;36m \u001b[0m│\u001b[1;36m \u001b[0m\u001b[1;36m1.6234209999999998\u001b[0m\u001b[1;36m \u001b[0m│\n",
       "│\u001b[1;36m \u001b[0m\u001b[1;36m225    \u001b[0m\u001b[1;36m \u001b[0m│\u001b[1;36m \u001b[0m\u001b[1;36m2.454816997200502 \u001b[0m\u001b[1;36m \u001b[0m│\u001b[1;36m \u001b[0m\u001b[1;36m0.8977777777777778\u001b[0m\u001b[1;36m \u001b[0m│\u001b[1;36m \u001b[0m\u001b[1;36m0.439453125    \u001b[0m\u001b[1;36m \u001b[0m│\u001b[1;36m \u001b[0m\u001b[1;36m1.6234209999999998\u001b[0m\u001b[1;36m \u001b[0m│\n",
       "│\u001b[1;36m \u001b[0m\u001b[1;36m226    \u001b[0m\u001b[1;36m \u001b[0m│\u001b[1;36m \u001b[0m\u001b[1;36m2.453826255173479 \u001b[0m\u001b[1;36m \u001b[0m│\u001b[1;36m \u001b[0m\u001b[1;36m0.8938053097345132\u001b[0m\u001b[1;36m \u001b[0m│\u001b[1;36m \u001b[0m\u001b[1;36m0.44140625     \u001b[0m\u001b[1;36m \u001b[0m│\u001b[1;36m \u001b[0m\u001b[1;36m1.6234209999999998\u001b[0m\u001b[1;36m \u001b[0m│\n",
       "│\u001b[1;36m \u001b[0m\u001b[1;36m234    \u001b[0m\u001b[1;36m \u001b[0m│\u001b[1;36m \u001b[0m\u001b[1;36m2.4235068440423233\u001b[0m\u001b[1;36m \u001b[0m│\u001b[1;36m \u001b[0m\u001b[1;36m0.8974358974358975\u001b[0m\u001b[1;36m \u001b[0m│\u001b[1;36m \u001b[0m\u001b[1;36m0.45703125     \u001b[0m\u001b[1;36m \u001b[0m│\u001b[1;36m \u001b[0m\u001b[1;36m1.6234209999999998\u001b[0m\u001b[1;36m \u001b[0m│\n",
       "│\u001b[1;36m \u001b[0m\u001b[1;36m235    \u001b[0m\u001b[1;36m \u001b[0m│\u001b[1;36m \u001b[0m\u001b[1;36m2.42131035512287  \u001b[0m\u001b[1;36m \u001b[0m│\u001b[1;36m \u001b[0m\u001b[1;36m0.8936170212765957\u001b[0m\u001b[1;36m \u001b[0m│\u001b[1;36m \u001b[0m\u001b[1;36m0.458984375    \u001b[0m\u001b[1;36m \u001b[0m│\u001b[1;36m \u001b[0m\u001b[1;36m1.6234209999999998\u001b[0m\u001b[1;36m \u001b[0m│\n",
       "│\u001b[1;36m \u001b[0m\u001b[1;36m240    \u001b[0m\u001b[1;36m \u001b[0m│\u001b[1;36m \u001b[0m\u001b[1;36m2.397563487598242 \u001b[0m\u001b[1;36m \u001b[0m│\u001b[1;36m \u001b[0m\u001b[1;36m0.8958333333333334\u001b[0m\u001b[1;36m \u001b[0m│\u001b[1;36m \u001b[0m\u001b[1;36m0.46875        \u001b[0m\u001b[1;36m \u001b[0m│\u001b[1;36m \u001b[0m\u001b[1;36m1.6234209999999998\u001b[0m\u001b[1;36m \u001b[0m│\n",
       "│\u001b[1;36m \u001b[0m\u001b[1;36m241    \u001b[0m\u001b[1;36m \u001b[0m│\u001b[1;36m \u001b[0m\u001b[1;36m2.394478135031111 \u001b[0m\u001b[1;36m \u001b[0m│\u001b[1;36m \u001b[0m\u001b[1;36m0.8921161825726142\u001b[0m\u001b[1;36m \u001b[0m│\u001b[1;36m \u001b[0m\u001b[1;36m0.470703125    \u001b[0m\u001b[1;36m \u001b[0m│\u001b[1;36m \u001b[0m\u001b[1;36m1.6234209999999998\u001b[0m\u001b[1;36m \u001b[0m│\n",
       "│\u001b[1;36m \u001b[0m\u001b[1;36m242    \u001b[0m\u001b[1;36m \u001b[0m│\u001b[1;36m \u001b[0m\u001b[1;36m2.3938419647964477\u001b[0m\u001b[1;36m \u001b[0m│\u001b[1;36m \u001b[0m\u001b[1;36m0.8925619834710744\u001b[0m\u001b[1;36m \u001b[0m│\u001b[1;36m \u001b[0m\u001b[1;36m0.47265625     \u001b[0m\u001b[1;36m \u001b[0m│\u001b[1;36m \u001b[0m\u001b[1;36m1.6234209999999998\u001b[0m\u001b[1;36m \u001b[0m│\n",
       "│\u001b[1;36m \u001b[0m\u001b[1;36m243    \u001b[0m\u001b[1;36m \u001b[0m│\u001b[1;36m \u001b[0m\u001b[1;36m2.393110642161915 \u001b[0m\u001b[1;36m \u001b[0m│\u001b[1;36m \u001b[0m\u001b[1;36m0.8888888888888888\u001b[0m\u001b[1;36m \u001b[0m│\u001b[1;36m \u001b[0m\u001b[1;36m0.474609375    \u001b[0m\u001b[1;36m \u001b[0m│\u001b[1;36m \u001b[0m\u001b[1;36m1.6234209999999998\u001b[0m\u001b[1;36m \u001b[0m│\n",
       "│\u001b[1;36m \u001b[0m\u001b[1;36m245    \u001b[0m\u001b[1;36m \u001b[0m│\u001b[1;36m \u001b[0m\u001b[1;36m2.388239660221413 \u001b[0m\u001b[1;36m \u001b[0m│\u001b[1;36m \u001b[0m\u001b[1;36m0.889795918367347 \u001b[0m\u001b[1;36m \u001b[0m│\u001b[1;36m \u001b[0m\u001b[1;36m0.478515625    \u001b[0m\u001b[1;36m \u001b[0m│\u001b[1;36m \u001b[0m\u001b[1;36m1.6234209999999998\u001b[0m\u001b[1;36m \u001b[0m│\n",
       "│\u001b[1;36m \u001b[0m\u001b[1;36m248    \u001b[0m\u001b[1;36m \u001b[0m│\u001b[1;36m \u001b[0m\u001b[1;36m2.3699205180439673\u001b[0m\u001b[1;36m \u001b[0m│\u001b[1;36m \u001b[0m\u001b[1;36m0.8790322580645161\u001b[0m\u001b[1;36m \u001b[0m│\u001b[1;36m \u001b[0m\u001b[1;36m0.484375       \u001b[0m\u001b[1;36m \u001b[0m│\u001b[1;36m \u001b[0m\u001b[1;36m1.6234209999999998\u001b[0m\u001b[1;36m \u001b[0m│\n",
       "│\u001b[1;36m \u001b[0m\u001b[1;36m249    \u001b[0m\u001b[1;36m \u001b[0m│\u001b[1;36m \u001b[0m\u001b[1;36m2.3657041823140195\u001b[0m\u001b[1;36m \u001b[0m│\u001b[1;36m \u001b[0m\u001b[1;36m0.8795180722891566\u001b[0m\u001b[1;36m \u001b[0m│\u001b[1;36m \u001b[0m\u001b[1;36m0.486328125    \u001b[0m\u001b[1;36m \u001b[0m│\u001b[1;36m \u001b[0m\u001b[1;36m1.6234209999999998\u001b[0m\u001b[1;36m \u001b[0m│\n",
       "│\u001b[1;36m \u001b[0m\u001b[1;36m252    \u001b[0m\u001b[1;36m \u001b[0m│\u001b[1;36m \u001b[0m\u001b[1;36m2.3553249581406224\u001b[0m\u001b[1;36m \u001b[0m│\u001b[1;36m \u001b[0m\u001b[1;36m0.8690476190476191\u001b[0m\u001b[1;36m \u001b[0m│\u001b[1;36m \u001b[0m\u001b[1;36m0.4921875      \u001b[0m\u001b[1;36m \u001b[0m│\u001b[1;36m \u001b[0m\u001b[1;36m1.6234209999999998\u001b[0m\u001b[1;36m \u001b[0m│\n",
       "│\u001b[1;36m \u001b[0m\u001b[1;36m253    \u001b[0m\u001b[1;36m \u001b[0m│\u001b[1;36m \u001b[0m\u001b[1;36m2.3525606978712013\u001b[0m\u001b[1;36m \u001b[0m│\u001b[1;36m \u001b[0m\u001b[1;36m0.8695652173913043\u001b[0m\u001b[1;36m \u001b[0m│\u001b[1;36m \u001b[0m\u001b[1;36m0.494140625    \u001b[0m\u001b[1;36m \u001b[0m│\u001b[1;36m \u001b[0m\u001b[1;36m1.6234209999999998\u001b[0m\u001b[1;36m \u001b[0m│\n",
       "│\u001b[1;36m \u001b[0m\u001b[1;36m254    \u001b[0m\u001b[1;36m \u001b[0m│\u001b[1;36m \u001b[0m\u001b[1;36m2.34862229430674  \u001b[0m\u001b[1;36m \u001b[0m│\u001b[1;36m \u001b[0m\u001b[1;36m0.8661417322834646\u001b[0m\u001b[1;36m \u001b[0m│\u001b[1;36m \u001b[0m\u001b[1;36m0.49609375     \u001b[0m\u001b[1;36m \u001b[0m│\u001b[1;36m \u001b[0m\u001b[1;36m1.6234209999999998\u001b[0m\u001b[1;36m \u001b[0m│\n",
       "│\u001b[1;36m \u001b[0m\u001b[1;36m258    \u001b[0m\u001b[1;36m \u001b[0m│\u001b[1;36m \u001b[0m\u001b[1;36m2.326078306251599 \u001b[0m\u001b[1;36m \u001b[0m│\u001b[1;36m \u001b[0m\u001b[1;36m0.8682170542635659\u001b[0m\u001b[1;36m \u001b[0m│\u001b[1;36m \u001b[0m\u001b[1;36m0.50390625     \u001b[0m\u001b[1;36m \u001b[0m│\u001b[1;36m \u001b[0m\u001b[1;36m1.6234209999999998\u001b[0m\u001b[1;36m \u001b[0m│\n",
       "│\u001b[1;36m \u001b[0m\u001b[1;36m260    \u001b[0m\u001b[1;36m \u001b[0m│\u001b[1;36m \u001b[0m\u001b[1;36m2.3235467839445088\u001b[0m\u001b[1;36m \u001b[0m│\u001b[1;36m \u001b[0m\u001b[1;36m0.8615384615384616\u001b[0m\u001b[1;36m \u001b[0m│\u001b[1;36m \u001b[0m\u001b[1;36m0.5078125      \u001b[0m\u001b[1;36m \u001b[0m│\u001b[1;36m \u001b[0m\u001b[1;36m1.6234209999999998\u001b[0m\u001b[1;36m \u001b[0m│\n",
       "│\u001b[1;36m \u001b[0m\u001b[1;36m262    \u001b[0m\u001b[1;36m \u001b[0m│\u001b[1;36m \u001b[0m\u001b[1;36m2.3230068034797053\u001b[0m\u001b[1;36m \u001b[0m│\u001b[1;36m \u001b[0m\u001b[1;36m0.8625954198473282\u001b[0m\u001b[1;36m \u001b[0m│\u001b[1;36m \u001b[0m\u001b[1;36m0.51171875     \u001b[0m\u001b[1;36m \u001b[0m│\u001b[1;36m \u001b[0m\u001b[1;36m1.6234209999999998\u001b[0m\u001b[1;36m \u001b[0m│\n",
       "│\u001b[1;36m \u001b[0m\u001b[1;36m265    \u001b[0m\u001b[1;36m \u001b[0m│\u001b[1;36m \u001b[0m\u001b[1;36m2.319824947159955 \u001b[0m\u001b[1;36m \u001b[0m│\u001b[1;36m \u001b[0m\u001b[1;36m0.8528301886792453\u001b[0m\u001b[1;36m \u001b[0m│\u001b[1;36m \u001b[0m\u001b[1;36m0.517578125    \u001b[0m\u001b[1;36m \u001b[0m│\u001b[1;36m \u001b[0m\u001b[1;36m1.6234209999999998\u001b[0m\u001b[1;36m \u001b[0m│\n",
       "│\u001b[1;36m \u001b[0m\u001b[1;36m266    \u001b[0m\u001b[1;36m \u001b[0m│\u001b[1;36m \u001b[0m\u001b[1;36m2.3186117864113056\u001b[0m\u001b[1;36m \u001b[0m│\u001b[1;36m \u001b[0m\u001b[1;36m0.8533834586466166\u001b[0m\u001b[1;36m \u001b[0m│\u001b[1;36m \u001b[0m\u001b[1;36m0.51953125     \u001b[0m\u001b[1;36m \u001b[0m│\u001b[1;36m \u001b[0m\u001b[1;36m1.6234209999999998\u001b[0m\u001b[1;36m \u001b[0m│\n",
       "│\u001b[1;36m \u001b[0m\u001b[1;36m267    \u001b[0m\u001b[1;36m \u001b[0m│\u001b[1;36m \u001b[0m\u001b[1;36m2.3169918436816106\u001b[0m\u001b[1;36m \u001b[0m│\u001b[1;36m \u001b[0m\u001b[1;36m0.850187265917603 \u001b[0m\u001b[1;36m \u001b[0m│\u001b[1;36m \u001b[0m\u001b[1;36m0.521484375    \u001b[0m\u001b[1;36m \u001b[0m│\u001b[1;36m \u001b[0m\u001b[1;36m1.6234209999999998\u001b[0m\u001b[1;36m \u001b[0m│\n",
       "│\u001b[1;36m \u001b[0m\u001b[1;36m268    \u001b[0m\u001b[1;36m \u001b[0m│\u001b[1;36m \u001b[0m\u001b[1;36m2.316750771945325 \u001b[0m\u001b[1;36m \u001b[0m│\u001b[1;36m \u001b[0m\u001b[1;36m0.8507462686567164\u001b[0m\u001b[1;36m \u001b[0m│\u001b[1;36m \u001b[0m\u001b[1;36m0.5234375      \u001b[0m\u001b[1;36m \u001b[0m│\u001b[1;36m \u001b[0m\u001b[1;36m1.6234209999999998\u001b[0m\u001b[1;36m \u001b[0m│\n",
       "│\u001b[1;36m \u001b[0m\u001b[1;36m269    \u001b[0m\u001b[1;36m \u001b[0m│\u001b[1;36m \u001b[0m\u001b[1;36m2.3125118667889972\u001b[0m\u001b[1;36m \u001b[0m│\u001b[1;36m \u001b[0m\u001b[1;36m0.8475836431226765\u001b[0m\u001b[1;36m \u001b[0m│\u001b[1;36m \u001b[0m\u001b[1;36m0.525390625    \u001b[0m\u001b[1;36m \u001b[0m│\u001b[1;36m \u001b[0m\u001b[1;36m1.6234209999999998\u001b[0m\u001b[1;36m \u001b[0m│\n",
       "│\u001b[1;36m \u001b[0m\u001b[1;36m270    \u001b[0m\u001b[1;36m \u001b[0m│\u001b[1;36m \u001b[0m\u001b[1;36m2.3124609597544055\u001b[0m\u001b[1;36m \u001b[0m│\u001b[1;36m \u001b[0m\u001b[1;36m0.8481481481481481\u001b[0m\u001b[1;36m \u001b[0m│\u001b[1;36m \u001b[0m\u001b[1;36m0.52734375     \u001b[0m\u001b[1;36m \u001b[0m│\u001b[1;36m \u001b[0m\u001b[1;36m1.6234209999999998\u001b[0m\u001b[1;36m \u001b[0m│\n",
       "│\u001b[1;36m \u001b[0m\u001b[1;36m273    \u001b[0m\u001b[1;36m \u001b[0m│\u001b[1;36m \u001b[0m\u001b[1;36m2.30328284228745  \u001b[0m\u001b[1;36m \u001b[0m│\u001b[1;36m \u001b[0m\u001b[1;36m0.8388278388278388\u001b[0m\u001b[1;36m \u001b[0m│\u001b[1;36m \u001b[0m\u001b[1;36m0.533203125    \u001b[0m\u001b[1;36m \u001b[0m│\u001b[1;36m \u001b[0m\u001b[1;36m1.6234209999999998\u001b[0m\u001b[1;36m \u001b[0m│\n",
       "│\u001b[1;36m \u001b[0m\u001b[1;36m275    \u001b[0m\u001b[1;36m \u001b[0m│\u001b[1;36m \u001b[0m\u001b[1;36m2.297125735842896 \u001b[0m\u001b[1;36m \u001b[0m│\u001b[1;36m \u001b[0m\u001b[1;36m0.84              \u001b[0m\u001b[1;36m \u001b[0m│\u001b[1;36m \u001b[0m\u001b[1;36m0.537109375    \u001b[0m\u001b[1;36m \u001b[0m│\u001b[1;36m \u001b[0m\u001b[1;36m1.6234209999999998\u001b[0m\u001b[1;36m \u001b[0m│\n",
       "│\u001b[1;36m \u001b[0m\u001b[1;36m280    \u001b[0m\u001b[1;36m \u001b[0m│\u001b[1;36m \u001b[0m\u001b[1;36m2.2856013218586564\u001b[0m\u001b[1;36m \u001b[0m│\u001b[1;36m \u001b[0m\u001b[1;36m0.825             \u001b[0m\u001b[1;36m \u001b[0m│\u001b[1;36m \u001b[0m\u001b[1;36m0.546875       \u001b[0m\u001b[1;36m \u001b[0m│\u001b[1;36m \u001b[0m\u001b[1;36m1.6234209999999998\u001b[0m\u001b[1;36m \u001b[0m│\n",
       "│\u001b[1;36m \u001b[0m\u001b[1;36m281    \u001b[0m\u001b[1;36m \u001b[0m│\u001b[1;36m \u001b[0m\u001b[1;36m2.281928002331705 \u001b[0m\u001b[1;36m \u001b[0m│\u001b[1;36m \u001b[0m\u001b[1;36m0.8256227758007118\u001b[0m\u001b[1;36m \u001b[0m│\u001b[1;36m \u001b[0m\u001b[1;36m0.548828125    \u001b[0m\u001b[1;36m \u001b[0m│\u001b[1;36m \u001b[0m\u001b[1;36m1.6234209999999998\u001b[0m\u001b[1;36m \u001b[0m│\n",
       "│\u001b[1;36m \u001b[0m\u001b[1;36m282    \u001b[0m\u001b[1;36m \u001b[0m│\u001b[1;36m \u001b[0m\u001b[1;36m2.278459168786242 \u001b[0m\u001b[1;36m \u001b[0m│\u001b[1;36m \u001b[0m\u001b[1;36m0.8226950354609929\u001b[0m\u001b[1;36m \u001b[0m│\u001b[1;36m \u001b[0m\u001b[1;36m0.55078125     \u001b[0m\u001b[1;36m \u001b[0m│\u001b[1;36m \u001b[0m\u001b[1;36m1.6234209999999998\u001b[0m\u001b[1;36m \u001b[0m│\n",
       "│\u001b[1;36m \u001b[0m\u001b[1;36m284    \u001b[0m\u001b[1;36m \u001b[0m│\u001b[1;36m \u001b[0m\u001b[1;36m2.2708201755281343\u001b[0m\u001b[1;36m \u001b[0m│\u001b[1;36m \u001b[0m\u001b[1;36m0.823943661971831 \u001b[0m\u001b[1;36m \u001b[0m│\u001b[1;36m \u001b[0m\u001b[1;36m0.5546875      \u001b[0m\u001b[1;36m \u001b[0m│\u001b[1;36m \u001b[0m\u001b[1;36m1.6234209999999998\u001b[0m\u001b[1;36m \u001b[0m│\n",
       "│\u001b[1;36m \u001b[0m\u001b[1;36m285    \u001b[0m\u001b[1;36m \u001b[0m│\u001b[1;36m \u001b[0m\u001b[1;36m2.2627604317665475\u001b[0m\u001b[1;36m \u001b[0m│\u001b[1;36m \u001b[0m\u001b[1;36m0.8210526315789474\u001b[0m\u001b[1;36m \u001b[0m│\u001b[1;36m \u001b[0m\u001b[1;36m0.556640625    \u001b[0m\u001b[1;36m \u001b[0m│\u001b[1;36m \u001b[0m\u001b[1;36m1.6234209999999998\u001b[0m\u001b[1;36m \u001b[0m│\n",
       "│\u001b[1;36m \u001b[0m\u001b[1;36m286    \u001b[0m\u001b[1;36m \u001b[0m│\u001b[1;36m \u001b[0m\u001b[1;36m2.2594333934130955\u001b[0m\u001b[1;36m \u001b[0m│\u001b[1;36m \u001b[0m\u001b[1;36m0.8216783216783217\u001b[0m\u001b[1;36m \u001b[0m│\u001b[1;36m \u001b[0m\u001b[1;36m0.55859375     \u001b[0m\u001b[1;36m \u001b[0m│\u001b[1;36m \u001b[0m\u001b[1;36m1.6234209999999998\u001b[0m\u001b[1;36m \u001b[0m│\n",
       "│\u001b[1;36m \u001b[0m\u001b[1;36m287    \u001b[0m\u001b[1;36m \u001b[0m│\u001b[1;36m \u001b[0m\u001b[1;36m2.250966788121887 \u001b[0m\u001b[1;36m \u001b[0m│\u001b[1;36m \u001b[0m\u001b[1;36m0.818815331010453 \u001b[0m\u001b[1;36m \u001b[0m│\u001b[1;36m \u001b[0m\u001b[1;36m0.560546875    \u001b[0m\u001b[1;36m \u001b[0m│\u001b[1;36m \u001b[0m\u001b[1;36m1.6234209999999998\u001b[0m\u001b[1;36m \u001b[0m│\n",
       "│\u001b[1;36m \u001b[0m\u001b[1;36m289    \u001b[0m\u001b[1;36m \u001b[0m│\u001b[1;36m \u001b[0m\u001b[1;36m2.245632168565449 \u001b[0m\u001b[1;36m \u001b[0m│\u001b[1;36m \u001b[0m\u001b[1;36m0.8200692041522492\u001b[0m\u001b[1;36m \u001b[0m│\u001b[1;36m \u001b[0m\u001b[1;36m0.564453125    \u001b[0m\u001b[1;36m \u001b[0m│\u001b[1;36m \u001b[0m\u001b[1;36m1.6234209999999998\u001b[0m\u001b[1;36m \u001b[0m│\n",
       "│\u001b[1;36m \u001b[0m\u001b[1;36m293    \u001b[0m\u001b[1;36m \u001b[0m│\u001b[1;36m \u001b[0m\u001b[1;36m2.223009704137295 \u001b[0m\u001b[1;36m \u001b[0m│\u001b[1;36m \u001b[0m\u001b[1;36m0.8088737201365188\u001b[0m\u001b[1;36m \u001b[0m│\u001b[1;36m \u001b[0m\u001b[1;36m0.572265625    \u001b[0m\u001b[1;36m \u001b[0m│\u001b[1;36m \u001b[0m\u001b[1;36m1.6234209999999998\u001b[0m\u001b[1;36m \u001b[0m│\n",
       "│\u001b[1;36m \u001b[0m\u001b[1;36m294    \u001b[0m\u001b[1;36m \u001b[0m│\u001b[1;36m \u001b[0m\u001b[1;36m2.221058192787134 \u001b[0m\u001b[1;36m \u001b[0m│\u001b[1;36m \u001b[0m\u001b[1;36m0.8095238095238095\u001b[0m\u001b[1;36m \u001b[0m│\u001b[1;36m \u001b[0m\u001b[1;36m0.57421875     \u001b[0m\u001b[1;36m \u001b[0m│\u001b[1;36m \u001b[0m\u001b[1;36m1.6234209999999998\u001b[0m\u001b[1;36m \u001b[0m│\n",
       "│\u001b[1;36m \u001b[0m\u001b[1;36m295    \u001b[0m\u001b[1;36m \u001b[0m│\u001b[1;36m \u001b[0m\u001b[1;36m2.2200064952628527\u001b[0m\u001b[1;36m \u001b[0m│\u001b[1;36m \u001b[0m\u001b[1;36m0.8067796610169492\u001b[0m\u001b[1;36m \u001b[0m│\u001b[1;36m \u001b[0m\u001b[1;36m0.576171875    \u001b[0m\u001b[1;36m \u001b[0m│\u001b[1;36m \u001b[0m\u001b[1;36m1.6234209999999998\u001b[0m\u001b[1;36m \u001b[0m│\n",
       "│\u001b[1;36m \u001b[0m\u001b[1;36m298    \u001b[0m\u001b[1;36m \u001b[0m│\u001b[1;36m \u001b[0m\u001b[1;36m2.1930122499134557\u001b[0m\u001b[1;36m \u001b[0m│\u001b[1;36m \u001b[0m\u001b[1;36m0.8087248322147651\u001b[0m\u001b[1;36m \u001b[0m│\u001b[1;36m \u001b[0m\u001b[1;36m0.58203125     \u001b[0m\u001b[1;36m \u001b[0m│\u001b[1;36m \u001b[0m\u001b[1;36m1.6234209999999998\u001b[0m\u001b[1;36m \u001b[0m│\n",
       "│\u001b[1;36m \u001b[0m\u001b[1;36m300    \u001b[0m\u001b[1;36m \u001b[0m│\u001b[1;36m \u001b[0m\u001b[1;36m2.1764895028767333\u001b[0m\u001b[1;36m \u001b[0m│\u001b[1;36m \u001b[0m\u001b[1;36m0.8033333333333333\u001b[0m\u001b[1;36m \u001b[0m│\u001b[1;36m \u001b[0m\u001b[1;36m0.5859375      \u001b[0m\u001b[1;36m \u001b[0m│\u001b[1;36m \u001b[0m\u001b[1;36m1.6234209999999998\u001b[0m\u001b[1;36m \u001b[0m│\n",
       "│\u001b[1;36m \u001b[0m\u001b[1;36m305    \u001b[0m\u001b[1;36m \u001b[0m│\u001b[1;36m \u001b[0m\u001b[1;36m2.1331479881073054\u001b[0m\u001b[1;36m \u001b[0m│\u001b[1;36m \u001b[0m\u001b[1;36m0.8065573770491803\u001b[0m\u001b[1;36m \u001b[0m│\u001b[1;36m \u001b[0m\u001b[1;36m0.595703125    \u001b[0m\u001b[1;36m \u001b[0m│\u001b[1;36m \u001b[0m\u001b[1;36m1.6234209999999998\u001b[0m\u001b[1;36m \u001b[0m│\n",
       "│\u001b[1;36m \u001b[0m\u001b[1;36m307    \u001b[0m\u001b[1;36m \u001b[0m│\u001b[1;36m \u001b[0m\u001b[1;36m2.119825213930171 \u001b[0m\u001b[1;36m \u001b[0m│\u001b[1;36m \u001b[0m\u001b[1;36m0.8013029315960912\u001b[0m\u001b[1;36m \u001b[0m│\u001b[1;36m \u001b[0m\u001b[1;36m0.599609375    \u001b[0m\u001b[1;36m \u001b[0m│\u001b[1;36m \u001b[0m\u001b[1;36m1.6234209999999998\u001b[0m\u001b[1;36m \u001b[0m│\n",
       "│\u001b[1;36m \u001b[0m\u001b[1;36m308    \u001b[0m\u001b[1;36m \u001b[0m│\u001b[1;36m \u001b[0m\u001b[1;36m2.1185197214247817\u001b[0m\u001b[1;36m \u001b[0m│\u001b[1;36m \u001b[0m\u001b[1;36m0.801948051948052 \u001b[0m\u001b[1;36m \u001b[0m│\u001b[1;36m \u001b[0m\u001b[1;36m0.6015625      \u001b[0m\u001b[1;36m \u001b[0m│\u001b[1;36m \u001b[0m\u001b[1;36m1.6234209999999998\u001b[0m\u001b[1;36m \u001b[0m│\n",
       "│\u001b[1;36m \u001b[0m\u001b[1;36m309    \u001b[0m\u001b[1;36m \u001b[0m│\u001b[1;36m \u001b[0m\u001b[1;36m2.1121559664020344\u001b[0m\u001b[1;36m \u001b[0m│\u001b[1;36m \u001b[0m\u001b[1;36m0.7993527508090615\u001b[0m\u001b[1;36m \u001b[0m│\u001b[1;36m \u001b[0m\u001b[1;36m0.603515625    \u001b[0m\u001b[1;36m \u001b[0m│\u001b[1;36m \u001b[0m\u001b[1;36m1.6234209999999998\u001b[0m\u001b[1;36m \u001b[0m│\n",
       "│\u001b[1;36m \u001b[0m\u001b[1;36m312    \u001b[0m\u001b[1;36m \u001b[0m│\u001b[1;36m \u001b[0m\u001b[1;36m2.1046615949069785\u001b[0m\u001b[1;36m \u001b[0m│\u001b[1;36m \u001b[0m\u001b[1;36m0.8012820512820513\u001b[0m\u001b[1;36m \u001b[0m│\u001b[1;36m \u001b[0m\u001b[1;36m0.609375       \u001b[0m\u001b[1;36m \u001b[0m│\u001b[1;36m \u001b[0m\u001b[1;36m1.6234209999999998\u001b[0m\u001b[1;36m \u001b[0m│\n",
       "│\u001b[1;36m \u001b[0m\u001b[1;36m315    \u001b[0m\u001b[1;36m \u001b[0m│\u001b[1;36m \u001b[0m\u001b[1;36m2.093022710497591 \u001b[0m\u001b[1;36m \u001b[0m│\u001b[1;36m \u001b[0m\u001b[1;36m0.7936507936507936\u001b[0m\u001b[1;36m \u001b[0m│\u001b[1;36m \u001b[0m\u001b[1;36m0.615234375    \u001b[0m\u001b[1;36m \u001b[0m│\u001b[1;36m \u001b[0m\u001b[1;36m1.6234209999999998\u001b[0m\u001b[1;36m \u001b[0m│\n",
       "│\u001b[1;36m \u001b[0m\u001b[1;36m317    \u001b[0m\u001b[1;36m \u001b[0m│\u001b[1;36m \u001b[0m\u001b[1;36m2.090800662433518 \u001b[0m\u001b[1;36m \u001b[0m│\u001b[1;36m \u001b[0m\u001b[1;36m0.7949526813880127\u001b[0m\u001b[1;36m \u001b[0m│\u001b[1;36m \u001b[0m\u001b[1;36m0.619140625    \u001b[0m\u001b[1;36m \u001b[0m│\u001b[1;36m \u001b[0m\u001b[1;36m1.6234209999999998\u001b[0m\u001b[1;36m \u001b[0m│\n",
       "│\u001b[1;36m \u001b[0m\u001b[1;36m318    \u001b[0m\u001b[1;36m \u001b[0m│\u001b[1;36m \u001b[0m\u001b[1;36m2.0855586884952766\u001b[0m\u001b[1;36m \u001b[0m│\u001b[1;36m \u001b[0m\u001b[1;36m0.7924528301886793\u001b[0m\u001b[1;36m \u001b[0m│\u001b[1;36m \u001b[0m\u001b[1;36m0.62109375     \u001b[0m\u001b[1;36m \u001b[0m│\u001b[1;36m \u001b[0m\u001b[1;36m1.6234209999999998\u001b[0m\u001b[1;36m \u001b[0m│\n",
       "│\u001b[1;36m \u001b[0m\u001b[1;36m320    \u001b[0m\u001b[1;36m \u001b[0m│\u001b[1;36m \u001b[0m\u001b[1;36m2.0741498008239065\u001b[0m\u001b[1;36m \u001b[0m│\u001b[1;36m \u001b[0m\u001b[1;36m0.79375           \u001b[0m\u001b[1;36m \u001b[0m│\u001b[1;36m \u001b[0m\u001b[1;36m0.625          \u001b[0m\u001b[1;36m \u001b[0m│\u001b[1;36m \u001b[0m\u001b[1;36m1.6234209999999998\u001b[0m\u001b[1;36m \u001b[0m│\n",
       "│\u001b[1;36m \u001b[0m\u001b[1;36m321    \u001b[0m\u001b[1;36m \u001b[0m│\u001b[1;36m \u001b[0m\u001b[1;36m2.0684875567829177\u001b[0m\u001b[1;36m \u001b[0m│\u001b[1;36m \u001b[0m\u001b[1;36m0.7912772585669782\u001b[0m\u001b[1;36m \u001b[0m│\u001b[1;36m \u001b[0m\u001b[1;36m0.626953125    \u001b[0m\u001b[1;36m \u001b[0m│\u001b[1;36m \u001b[0m\u001b[1;36m1.6234209999999998\u001b[0m\u001b[1;36m \u001b[0m│\n",
       "│\u001b[1;36m \u001b[0m\u001b[1;36m323    \u001b[0m\u001b[1;36m \u001b[0m│\u001b[1;36m \u001b[0m\u001b[1;36m2.0524835882980703\u001b[0m\u001b[1;36m \u001b[0m│\u001b[1;36m \u001b[0m\u001b[1;36m0.7925696594427245\u001b[0m\u001b[1;36m \u001b[0m│\u001b[1;36m \u001b[0m\u001b[1;36m0.630859375    \u001b[0m\u001b[1;36m \u001b[0m│\u001b[1;36m \u001b[0m\u001b[1;36m1.6234209999999998\u001b[0m\u001b[1;36m \u001b[0m│\n",
       "│\u001b[1;36m \u001b[0m\u001b[1;36m330    \u001b[0m\u001b[1;36m \u001b[0m│\u001b[1;36m \u001b[0m\u001b[1;36m2.0200167773386197\u001b[0m\u001b[1;36m \u001b[0m│\u001b[1;36m \u001b[0m\u001b[1;36m0.7757575757575758\u001b[0m\u001b[1;36m \u001b[0m│\u001b[1;36m \u001b[0m\u001b[1;36m0.64453125     \u001b[0m\u001b[1;36m \u001b[0m│\u001b[1;36m \u001b[0m\u001b[1;36m1.6234209999999998\u001b[0m\u001b[1;36m \u001b[0m│\n",
       "│\u001b[1;36m \u001b[0m\u001b[1;36m331    \u001b[0m\u001b[1;36m \u001b[0m│\u001b[1;36m \u001b[0m\u001b[1;36m2.0188882606502085\u001b[0m\u001b[1;36m \u001b[0m│\u001b[1;36m \u001b[0m\u001b[1;36m0.7764350453172205\u001b[0m\u001b[1;36m \u001b[0m│\u001b[1;36m \u001b[0m\u001b[1;36m0.646484375    \u001b[0m\u001b[1;36m \u001b[0m│\u001b[1;36m \u001b[0m\u001b[1;36m1.6234209999999998\u001b[0m\u001b[1;36m \u001b[0m│\n",
       "│\u001b[1;36m \u001b[0m\u001b[1;36m332    \u001b[0m\u001b[1;36m \u001b[0m│\u001b[1;36m \u001b[0m\u001b[1;36m2.0167248976530043\u001b[0m\u001b[1;36m \u001b[0m│\u001b[1;36m \u001b[0m\u001b[1;36m0.7740963855421686\u001b[0m\u001b[1;36m \u001b[0m│\u001b[1;36m \u001b[0m\u001b[1;36m0.6484375      \u001b[0m\u001b[1;36m \u001b[0m│\u001b[1;36m \u001b[0m\u001b[1;36m1.6234209999999998\u001b[0m\u001b[1;36m \u001b[0m│\n",
       "│\u001b[1;36m \u001b[0m\u001b[1;36m333    \u001b[0m\u001b[1;36m \u001b[0m│\u001b[1;36m \u001b[0m\u001b[1;36m2.0154191352559536\u001b[0m\u001b[1;36m \u001b[0m│\u001b[1;36m \u001b[0m\u001b[1;36m0.7747747747747747\u001b[0m\u001b[1;36m \u001b[0m│\u001b[1;36m \u001b[0m\u001b[1;36m0.650390625    \u001b[0m\u001b[1;36m \u001b[0m│\u001b[1;36m \u001b[0m\u001b[1;36m1.6234209999999998\u001b[0m\u001b[1;36m \u001b[0m│\n",
       "│\u001b[1;36m \u001b[0m\u001b[1;36m336    \u001b[0m\u001b[1;36m \u001b[0m│\u001b[1;36m \u001b[0m\u001b[1;36m1.989130797768864 \u001b[0m\u001b[1;36m \u001b[0m│\u001b[1;36m \u001b[0m\u001b[1;36m0.7678571428571429\u001b[0m\u001b[1;36m \u001b[0m│\u001b[1;36m \u001b[0m\u001b[1;36m0.65625        \u001b[0m\u001b[1;36m \u001b[0m│\u001b[1;36m \u001b[0m\u001b[1;36m1.6234209999999998\u001b[0m\u001b[1;36m \u001b[0m│\n",
       "│\u001b[1;36m \u001b[0m\u001b[1;36m337    \u001b[0m\u001b[1;36m \u001b[0m│\u001b[1;36m \u001b[0m\u001b[1;36m1.9800470648270088\u001b[0m\u001b[1;36m \u001b[0m│\u001b[1;36m \u001b[0m\u001b[1;36m0.7685459940652819\u001b[0m\u001b[1;36m \u001b[0m│\u001b[1;36m \u001b[0m\u001b[1;36m0.658203125    \u001b[0m\u001b[1;36m \u001b[0m│\u001b[1;36m \u001b[0m\u001b[1;36m1.6234209999999998\u001b[0m\u001b[1;36m \u001b[0m│\n",
       "│\u001b[1;36m \u001b[0m\u001b[1;36m341    \u001b[0m\u001b[1;36m \u001b[0m│\u001b[1;36m \u001b[0m\u001b[1;36m1.965140926887667 \u001b[0m\u001b[1;36m \u001b[0m│\u001b[1;36m \u001b[0m\u001b[1;36m0.7595307917888563\u001b[0m\u001b[1;36m \u001b[0m│\u001b[1;36m \u001b[0m\u001b[1;36m0.666015625    \u001b[0m\u001b[1;36m \u001b[0m│\u001b[1;36m \u001b[0m\u001b[1;36m1.6234209999999998\u001b[0m\u001b[1;36m \u001b[0m│\n",
       "│\u001b[1;36m \u001b[0m\u001b[1;36m342    \u001b[0m\u001b[1;36m \u001b[0m│\u001b[1;36m \u001b[0m\u001b[1;36m1.9544759840644172\u001b[0m\u001b[1;36m \u001b[0m│\u001b[1;36m \u001b[0m\u001b[1;36m0.7602339181286549\u001b[0m\u001b[1;36m \u001b[0m│\u001b[1;36m \u001b[0m\u001b[1;36m0.66796875     \u001b[0m\u001b[1;36m \u001b[0m│\u001b[1;36m \u001b[0m\u001b[1;36m1.6234209999999998\u001b[0m\u001b[1;36m \u001b[0m│\n",
       "│\u001b[1;36m \u001b[0m\u001b[1;36m344    \u001b[0m\u001b[1;36m \u001b[0m│\u001b[1;36m \u001b[0m\u001b[1;36m1.9507153891396163\u001b[0m\u001b[1;36m \u001b[0m│\u001b[1;36m \u001b[0m\u001b[1;36m0.7558139534883721\u001b[0m\u001b[1;36m \u001b[0m│\u001b[1;36m \u001b[0m\u001b[1;36m0.671875       \u001b[0m\u001b[1;36m \u001b[0m│\u001b[1;36m \u001b[0m\u001b[1;36m1.6234209999999998\u001b[0m\u001b[1;36m \u001b[0m│\n",
       "│\u001b[1;36m \u001b[0m\u001b[1;36m345    \u001b[0m\u001b[1;36m \u001b[0m│\u001b[1;36m \u001b[0m\u001b[1;36m1.9498650470614434\u001b[0m\u001b[1;36m \u001b[0m│\u001b[1;36m \u001b[0m\u001b[1;36m0.7565217391304347\u001b[0m\u001b[1;36m \u001b[0m│\u001b[1;36m \u001b[0m\u001b[1;36m0.673828125    \u001b[0m\u001b[1;36m \u001b[0m│\u001b[1;36m \u001b[0m\u001b[1;36m1.6234209999999998\u001b[0m\u001b[1;36m \u001b[0m│\n",
       "│\u001b[1;36m \u001b[0m\u001b[1;36m352    \u001b[0m\u001b[1;36m \u001b[0m│\u001b[1;36m \u001b[0m\u001b[1;36m1.9352077040396376\u001b[0m\u001b[1;36m \u001b[0m│\u001b[1;36m \u001b[0m\u001b[1;36m0.7414772727272727\u001b[0m\u001b[1;36m \u001b[0m│\u001b[1;36m \u001b[0m\u001b[1;36m0.6875         \u001b[0m\u001b[1;36m \u001b[0m│\u001b[1;36m \u001b[0m\u001b[1;36m1.6234209999999998\u001b[0m\u001b[1;36m \u001b[0m│\n",
       "│\u001b[1;36m \u001b[0m\u001b[1;36m353    \u001b[0m\u001b[1;36m \u001b[0m│\u001b[1;36m \u001b[0m\u001b[1;36m1.9308675606147012\u001b[0m\u001b[1;36m \u001b[0m│\u001b[1;36m \u001b[0m\u001b[1;36m0.7422096317280453\u001b[0m\u001b[1;36m \u001b[0m│\u001b[1;36m \u001b[0m\u001b[1;36m0.689453125    \u001b[0m\u001b[1;36m \u001b[0m│\u001b[1;36m \u001b[0m\u001b[1;36m1.6234209999999998\u001b[0m\u001b[1;36m \u001b[0m│\n",
       "│\u001b[1;36m \u001b[0m\u001b[1;36m356    \u001b[0m\u001b[1;36m \u001b[0m│\u001b[1;36m \u001b[0m\u001b[1;36m1.9233598681956392\u001b[0m\u001b[1;36m \u001b[0m│\u001b[1;36m \u001b[0m\u001b[1;36m0.7359550561797753\u001b[0m\u001b[1;36m \u001b[0m│\u001b[1;36m \u001b[0m\u001b[1;36m0.6953125      \u001b[0m\u001b[1;36m \u001b[0m│\u001b[1;36m \u001b[0m\u001b[1;36m1.6234209999999998\u001b[0m\u001b[1;36m \u001b[0m│\n",
       "│\u001b[1;36m \u001b[0m\u001b[1;36m357    \u001b[0m\u001b[1;36m \u001b[0m│\u001b[1;36m \u001b[0m\u001b[1;36m1.91554489365286  \u001b[0m\u001b[1;36m \u001b[0m│\u001b[1;36m \u001b[0m\u001b[1;36m0.7366946778711485\u001b[0m\u001b[1;36m \u001b[0m│\u001b[1;36m \u001b[0m\u001b[1;36m0.697265625    \u001b[0m\u001b[1;36m \u001b[0m│\u001b[1;36m \u001b[0m\u001b[1;36m1.6234209999999998\u001b[0m\u001b[1;36m \u001b[0m│\n",
       "│\u001b[1;36m \u001b[0m\u001b[1;36m358    \u001b[0m\u001b[1;36m \u001b[0m│\u001b[1;36m \u001b[0m\u001b[1;36m1.9152678100647456\u001b[0m\u001b[1;36m \u001b[0m│\u001b[1;36m \u001b[0m\u001b[1;36m0.7346368715083799\u001b[0m\u001b[1;36m \u001b[0m│\u001b[1;36m \u001b[0m\u001b[1;36m0.69921875     \u001b[0m\u001b[1;36m \u001b[0m│\u001b[1;36m \u001b[0m\u001b[1;36m1.6234209999999998\u001b[0m\u001b[1;36m \u001b[0m│\n",
       "│\u001b[1;36m \u001b[0m\u001b[1;36m359    \u001b[0m\u001b[1;36m \u001b[0m│\u001b[1;36m \u001b[0m\u001b[1;36m1.9105040587349436\u001b[0m\u001b[1;36m \u001b[0m│\u001b[1;36m \u001b[0m\u001b[1;36m0.7353760445682451\u001b[0m\u001b[1;36m \u001b[0m│\u001b[1;36m \u001b[0m\u001b[1;36m0.701171875    \u001b[0m\u001b[1;36m \u001b[0m│\u001b[1;36m \u001b[0m\u001b[1;36m1.6234209999999998\u001b[0m\u001b[1;36m \u001b[0m│\n",
       "│\u001b[1;36m \u001b[0m\u001b[1;36m361    \u001b[0m\u001b[1;36m \u001b[0m│\u001b[1;36m \u001b[0m\u001b[1;36m1.9030640722625856\u001b[0m\u001b[1;36m \u001b[0m│\u001b[1;36m \u001b[0m\u001b[1;36m0.7313019390581718\u001b[0m\u001b[1;36m \u001b[0m│\u001b[1;36m \u001b[0m\u001b[1;36m0.705078125    \u001b[0m\u001b[1;36m \u001b[0m│\u001b[1;36m \u001b[0m\u001b[1;36m1.6234209999999998\u001b[0m\u001b[1;36m \u001b[0m│\n",
       "│\u001b[1;36m \u001b[0m\u001b[1;36m362    \u001b[0m\u001b[1;36m \u001b[0m│\u001b[1;36m \u001b[0m\u001b[1;36m1.9030338432291198\u001b[0m\u001b[1;36m \u001b[0m│\u001b[1;36m \u001b[0m\u001b[1;36m0.7320441988950276\u001b[0m\u001b[1;36m \u001b[0m│\u001b[1;36m \u001b[0m\u001b[1;36m0.70703125     \u001b[0m\u001b[1;36m \u001b[0m│\u001b[1;36m \u001b[0m\u001b[1;36m1.6234209999999998\u001b[0m\u001b[1;36m \u001b[0m│\n",
       "│\u001b[1;36m \u001b[0m\u001b[1;36m365    \u001b[0m\u001b[1;36m \u001b[0m│\u001b[1;36m \u001b[0m\u001b[1;36m1.8793510998805223\u001b[0m\u001b[1;36m \u001b[0m│\u001b[1;36m \u001b[0m\u001b[1;36m0.726027397260274 \u001b[0m\u001b[1;36m \u001b[0m│\u001b[1;36m \u001b[0m\u001b[1;36m0.712890625    \u001b[0m\u001b[1;36m \u001b[0m│\u001b[1;36m \u001b[0m\u001b[1;36m1.6234209999999998\u001b[0m\u001b[1;36m \u001b[0m│\n",
       "│\u001b[1;36m \u001b[0m\u001b[1;36m367    \u001b[0m\u001b[1;36m \u001b[0m│\u001b[1;36m \u001b[0m\u001b[1;36m1.8588860392355626\u001b[0m\u001b[1;36m \u001b[0m│\u001b[1;36m \u001b[0m\u001b[1;36m0.7275204359673024\u001b[0m\u001b[1;36m \u001b[0m│\u001b[1;36m \u001b[0m\u001b[1;36m0.716796875    \u001b[0m\u001b[1;36m \u001b[0m│\u001b[1;36m \u001b[0m\u001b[1;36m1.6234209999999998\u001b[0m\u001b[1;36m \u001b[0m│\n",
       "│\u001b[1;36m \u001b[0m\u001b[1;36m371    \u001b[0m\u001b[1;36m \u001b[0m│\u001b[1;36m \u001b[0m\u001b[1;36m1.849116287385379 \u001b[0m\u001b[1;36m \u001b[0m│\u001b[1;36m \u001b[0m\u001b[1;36m0.7196765498652291\u001b[0m\u001b[1;36m \u001b[0m│\u001b[1;36m \u001b[0m\u001b[1;36m0.724609375    \u001b[0m\u001b[1;36m \u001b[0m│\u001b[1;36m \u001b[0m\u001b[1;36m1.6234209999999998\u001b[0m\u001b[1;36m \u001b[0m│\n",
       "│\u001b[1;36m \u001b[0m\u001b[1;36m372    \u001b[0m\u001b[1;36m \u001b[0m│\u001b[1;36m \u001b[0m\u001b[1;36m1.843936766360578 \u001b[0m\u001b[1;36m \u001b[0m│\u001b[1;36m \u001b[0m\u001b[1;36m0.7204301075268817\u001b[0m\u001b[1;36m \u001b[0m│\u001b[1;36m \u001b[0m\u001b[1;36m0.7265625      \u001b[0m\u001b[1;36m \u001b[0m│\u001b[1;36m \u001b[0m\u001b[1;36m1.6234209999999998\u001b[0m\u001b[1;36m \u001b[0m│\n",
       "│\u001b[1;36m \u001b[0m\u001b[1;36m377    \u001b[0m\u001b[1;36m \u001b[0m│\u001b[1;36m \u001b[0m\u001b[1;36m1.8370680407668991\u001b[0m\u001b[1;36m \u001b[0m│\u001b[1;36m \u001b[0m\u001b[1;36m0.7108753315649867\u001b[0m\u001b[1;36m \u001b[0m│\u001b[1;36m \u001b[0m\u001b[1;36m0.736328125    \u001b[0m\u001b[1;36m \u001b[0m│\u001b[1;36m \u001b[0m\u001b[1;36m1.6234209999999998\u001b[0m\u001b[1;36m \u001b[0m│\n",
       "│\u001b[1;36m \u001b[0m\u001b[1;36m378    \u001b[0m\u001b[1;36m \u001b[0m│\u001b[1;36m \u001b[0m\u001b[1;36m1.8360565438067498\u001b[0m\u001b[1;36m \u001b[0m│\u001b[1;36m \u001b[0m\u001b[1;36m0.7116402116402116\u001b[0m\u001b[1;36m \u001b[0m│\u001b[1;36m \u001b[0m\u001b[1;36m0.73828125     \u001b[0m\u001b[1;36m \u001b[0m│\u001b[1;36m \u001b[0m\u001b[1;36m1.6234209999999998\u001b[0m\u001b[1;36m \u001b[0m│\n",
       "│\u001b[1;36m \u001b[0m\u001b[1;36m381    \u001b[0m\u001b[1;36m \u001b[0m│\u001b[1;36m \u001b[0m\u001b[1;36m1.8094291330421273\u001b[0m\u001b[1;36m \u001b[0m│\u001b[1;36m \u001b[0m\u001b[1;36m0.7060367454068242\u001b[0m\u001b[1;36m \u001b[0m│\u001b[1;36m \u001b[0m\u001b[1;36m0.744140625    \u001b[0m\u001b[1;36m \u001b[0m│\u001b[1;36m \u001b[0m\u001b[1;36m1.6234209999999998\u001b[0m\u001b[1;36m \u001b[0m│\n",
       "│\u001b[1;36m \u001b[0m\u001b[1;36m383    \u001b[0m\u001b[1;36m \u001b[0m│\u001b[1;36m \u001b[0m\u001b[1;36m1.7870681644789885\u001b[0m\u001b[1;36m \u001b[0m│\u001b[1;36m \u001b[0m\u001b[1;36m0.7075718015665796\u001b[0m\u001b[1;36m \u001b[0m│\u001b[1;36m \u001b[0m\u001b[1;36m0.748046875    \u001b[0m\u001b[1;36m \u001b[0m│\u001b[1;36m \u001b[0m\u001b[1;36m1.6234209999999998\u001b[0m\u001b[1;36m \u001b[0m│\n",
       "│\u001b[1;36m \u001b[0m\u001b[1;36m388    \u001b[0m\u001b[1;36m \u001b[0m│\u001b[1;36m \u001b[0m\u001b[1;36m1.7669752654623072\u001b[0m\u001b[1;36m \u001b[0m│\u001b[1;36m \u001b[0m\u001b[1;36m0.6984536082474226\u001b[0m\u001b[1;36m \u001b[0m│\u001b[1;36m \u001b[0m\u001b[1;36m0.7578125      \u001b[0m\u001b[1;36m \u001b[0m│\u001b[1;36m \u001b[0m\u001b[1;36m1.6234209999999998\u001b[0m\u001b[1;36m \u001b[0m│\n",
       "│\u001b[1;36m \u001b[0m\u001b[1;36m389    \u001b[0m\u001b[1;36m \u001b[0m│\u001b[1;36m \u001b[0m\u001b[1;36m1.7668410666339973\u001b[0m\u001b[1;36m \u001b[0m│\u001b[1;36m \u001b[0m\u001b[1;36m0.699228791773779 \u001b[0m\u001b[1;36m \u001b[0m│\u001b[1;36m \u001b[0m\u001b[1;36m0.759765625    \u001b[0m\u001b[1;36m \u001b[0m│\u001b[1;36m \u001b[0m\u001b[1;36m1.6234209999999998\u001b[0m\u001b[1;36m \u001b[0m│\n",
       "│\u001b[1;36m \u001b[0m\u001b[1;36m410    \u001b[0m\u001b[1;36m \u001b[0m│\u001b[1;36m \u001b[0m\u001b[1;36m1.6886005677772968\u001b[0m\u001b[1;36m \u001b[0m│\u001b[1;36m \u001b[0m\u001b[1;36m0.6634146341463415\u001b[0m\u001b[1;36m \u001b[0m│\u001b[1;36m \u001b[0m\u001b[1;36m0.80078125     \u001b[0m\u001b[1;36m \u001b[0m│\u001b[1;36m \u001b[0m\u001b[1;36m1.6234209999999998\u001b[0m\u001b[1;36m \u001b[0m│\n",
       "│\u001b[1;36m \u001b[0m\u001b[1;36m411    \u001b[0m\u001b[1;36m \u001b[0m│\u001b[1;36m \u001b[0m\u001b[1;36m1.6830235236125326\u001b[0m\u001b[1;36m \u001b[0m│\u001b[1;36m \u001b[0m\u001b[1;36m0.6642335766423357\u001b[0m\u001b[1;36m \u001b[0m│\u001b[1;36m \u001b[0m\u001b[1;36m0.802734375    \u001b[0m\u001b[1;36m \u001b[0m│\u001b[1;36m \u001b[0m\u001b[1;36m1.6234209999999998\u001b[0m\u001b[1;36m \u001b[0m│\n",
       "│\u001b[1;36m \u001b[0m\u001b[1;36m415    \u001b[0m\u001b[1;36m \u001b[0m│\u001b[1;36m \u001b[0m\u001b[1;36m1.6738956842303416\u001b[0m\u001b[1;36m \u001b[0m│\u001b[1;36m \u001b[0m\u001b[1;36m0.6578313253012048\u001b[0m\u001b[1;36m \u001b[0m│\u001b[1;36m \u001b[0m\u001b[1;36m0.810546875    \u001b[0m\u001b[1;36m \u001b[0m│\u001b[1;36m \u001b[0m\u001b[1;36m1.6234209999999998\u001b[0m\u001b[1;36m \u001b[0m│\n",
       "│\u001b[1;36m \u001b[0m\u001b[1;36m416    \u001b[0m\u001b[1;36m \u001b[0m│\u001b[1;36m \u001b[0m\u001b[1;36m1.6720883546993652\u001b[0m\u001b[1;36m \u001b[0m│\u001b[1;36m \u001b[0m\u001b[1;36m0.6586538461538461\u001b[0m\u001b[1;36m \u001b[0m│\u001b[1;36m \u001b[0m\u001b[1;36m0.8125         \u001b[0m\u001b[1;36m \u001b[0m│\u001b[1;36m \u001b[0m\u001b[1;36m1.6234209999999998\u001b[0m\u001b[1;36m \u001b[0m│\n",
       "│\u001b[1;36m \u001b[0m\u001b[1;36m417    \u001b[0m\u001b[1;36m \u001b[0m│\u001b[1;36m \u001b[0m\u001b[1;36m1.6634345933150567\u001b[0m\u001b[1;36m \u001b[0m│\u001b[1;36m \u001b[0m\u001b[1;36m0.657074340527578 \u001b[0m\u001b[1;36m \u001b[0m│\u001b[1;36m \u001b[0m\u001b[1;36m0.814453125    \u001b[0m\u001b[1;36m \u001b[0m│\u001b[1;36m \u001b[0m\u001b[1;36m1.6234209999999998\u001b[0m\u001b[1;36m \u001b[0m│\n",
       "│\u001b[1;36m \u001b[0m\u001b[1;36m418    \u001b[0m\u001b[1;36m \u001b[0m│\u001b[1;36m \u001b[0m\u001b[1;36m1.656158264803094 \u001b[0m\u001b[1;36m \u001b[0m│\u001b[1;36m \u001b[0m\u001b[1;36m0.6578947368421053\u001b[0m\u001b[1;36m \u001b[0m│\u001b[1;36m \u001b[0m\u001b[1;36m0.81640625     \u001b[0m\u001b[1;36m \u001b[0m│\u001b[1;36m \u001b[0m\u001b[1;36m1.6234209999999998\u001b[0m\u001b[1;36m \u001b[0m│\n",
       "│\u001b[1;36m \u001b[0m\u001b[1;36m443    \u001b[0m\u001b[1;36m \u001b[0m│\u001b[1;36m \u001b[0m\u001b[1;36m1.5840715686682278\u001b[0m\u001b[1;36m \u001b[0m│\u001b[1;36m \u001b[0m\u001b[1;36m0.6207674943566591\u001b[0m\u001b[1;36m \u001b[0m│\u001b[1;36m \u001b[0m\u001b[1;36m0.865234375    \u001b[0m\u001b[1;36m \u001b[0m│\u001b[1;36m \u001b[0m\u001b[1;36m1.6234209999999998\u001b[0m\u001b[1;36m \u001b[0m│\n",
       "│\u001b[1;36m \u001b[0m\u001b[1;36m444    \u001b[0m\u001b[1;36m \u001b[0m│\u001b[1;36m \u001b[0m\u001b[1;36m1.5787139508150978\u001b[0m\u001b[1;36m \u001b[0m│\u001b[1;36m \u001b[0m\u001b[1;36m0.6216216216216216\u001b[0m\u001b[1;36m \u001b[0m│\u001b[1;36m \u001b[0m\u001b[1;36m0.8671875      \u001b[0m\u001b[1;36m \u001b[0m│\u001b[1;36m \u001b[0m\u001b[1;36m1.6234209999999998\u001b[0m\u001b[1;36m \u001b[0m│\n",
       "│\u001b[1;36m \u001b[0m\u001b[1;36m468    \u001b[0m\u001b[1;36m \u001b[0m│\u001b[1;36m \u001b[0m\u001b[1;36m1.4242391027602808\u001b[0m\u001b[1;36m \u001b[0m│\u001b[1;36m \u001b[0m\u001b[1;36m0.5897435897435898\u001b[0m\u001b[1;36m \u001b[0m│\u001b[1;36m \u001b[0m\u001b[1;36m0.9140625      \u001b[0m\u001b[1;36m \u001b[0m│\u001b[1;36m \u001b[0m\u001b[1;36m1.6234209999999998\u001b[0m\u001b[1;36m \u001b[0m│\n",
       "│\u001b[1;36m \u001b[0m\u001b[1;36m469    \u001b[0m\u001b[1;36m \u001b[0m│\u001b[1;36m \u001b[0m\u001b[1;36m1.4155326372944554\u001b[0m\u001b[1;36m \u001b[0m│\u001b[1;36m \u001b[0m\u001b[1;36m0.5906183368869936\u001b[0m\u001b[1;36m \u001b[0m│\u001b[1;36m \u001b[0m\u001b[1;36m0.916015625    \u001b[0m\u001b[1;36m \u001b[0m│\u001b[1;36m \u001b[0m\u001b[1;36m1.6234209999999998\u001b[0m\u001b[1;36m \u001b[0m│\n",
       "│\u001b[1;36m \u001b[0m\u001b[1;36m477    \u001b[0m\u001b[1;36m \u001b[0m│\u001b[1;36m \u001b[0m\u001b[1;36m1.2997224021540534\u001b[0m\u001b[1;36m \u001b[0m│\u001b[1;36m \u001b[0m\u001b[1;36m0.5807127882599581\u001b[0m\u001b[1;36m \u001b[0m│\u001b[1;36m \u001b[0m\u001b[1;36m0.931640625    \u001b[0m\u001b[1;36m \u001b[0m│\u001b[1;36m \u001b[0m\u001b[1;36m1.6234209999999998\u001b[0m\u001b[1;36m \u001b[0m│\n",
       "│\u001b[1;36m \u001b[0m\u001b[1;36m478    \u001b[0m\u001b[1;36m \u001b[0m│\u001b[1;36m \u001b[0m\u001b[1;36m1.2811316550290344\u001b[0m\u001b[1;36m \u001b[0m│\u001b[1;36m \u001b[0m\u001b[1;36m0.5815899581589958\u001b[0m\u001b[1;36m \u001b[0m│\u001b[1;36m \u001b[0m\u001b[1;36m0.93359375     \u001b[0m\u001b[1;36m \u001b[0m│\u001b[1;36m \u001b[0m\u001b[1;36m1.6234209999999998\u001b[0m\u001b[1;36m \u001b[0m│\n",
       "│\u001b[1;36m \u001b[0m\u001b[1;36m485    \u001b[0m\u001b[1;36m \u001b[0m│\u001b[1;36m \u001b[0m\u001b[1;36m1.2086624188191346\u001b[0m\u001b[1;36m \u001b[0m│\u001b[1;36m \u001b[0m\u001b[1;36m0.5731958762886598\u001b[0m\u001b[1;36m \u001b[0m│\u001b[1;36m \u001b[0m\u001b[1;36m0.947265625    \u001b[0m\u001b[1;36m \u001b[0m│\u001b[1;36m \u001b[0m\u001b[1;36m1.6234209999999998\u001b[0m\u001b[1;36m \u001b[0m│\n",
       "│\u001b[1;36m \u001b[0m\u001b[1;36m486    \u001b[0m\u001b[1;36m \u001b[0m│\u001b[1;36m \u001b[0m\u001b[1;36m1.1986353433410708\u001b[0m\u001b[1;36m \u001b[0m│\u001b[1;36m \u001b[0m\u001b[1;36m0.5740740740740741\u001b[0m\u001b[1;36m \u001b[0m│\u001b[1;36m \u001b[0m\u001b[1;36m0.94921875     \u001b[0m\u001b[1;36m \u001b[0m│\u001b[1;36m \u001b[0m\u001b[1;36m1.6234209999999998\u001b[0m\u001b[1;36m \u001b[0m│\n",
       "│\u001b[1;36m \u001b[0m\u001b[1;36m490    \u001b[0m\u001b[1;36m \u001b[0m│\u001b[1;36m \u001b[0m\u001b[1;36m1.1486563341171112\u001b[0m\u001b[1;36m \u001b[0m│\u001b[1;36m \u001b[0m\u001b[1;36m0.5693877551020409\u001b[0m\u001b[1;36m \u001b[0m│\u001b[1;36m \u001b[0m\u001b[1;36m0.95703125     \u001b[0m\u001b[1;36m \u001b[0m│\u001b[1;36m \u001b[0m\u001b[1;36m1.6234209999999998\u001b[0m\u001b[1;36m \u001b[0m│\n",
       "│\u001b[1;36m \u001b[0m\u001b[1;36m491    \u001b[0m\u001b[1;36m \u001b[0m│\u001b[1;36m \u001b[0m\u001b[1;36m1.1313359805826424\u001b[0m\u001b[1;36m \u001b[0m│\u001b[1;36m \u001b[0m\u001b[1;36m0.570264765784114 \u001b[0m\u001b[1;36m \u001b[0m│\u001b[1;36m \u001b[0m\u001b[1;36m0.958984375    \u001b[0m\u001b[1;36m \u001b[0m│\u001b[1;36m \u001b[0m\u001b[1;36m1.6234209999999998\u001b[0m\u001b[1;36m \u001b[0m│\n",
       "│\u001b[1;36m \u001b[0m\u001b[1;36m503    \u001b[0m\u001b[1;36m \u001b[0m│\u001b[1;36m \u001b[0m\u001b[1;36m1.000794545571427 \u001b[0m\u001b[1;36m \u001b[0m│\u001b[1;36m \u001b[0m\u001b[1;36m0.5566600397614314\u001b[0m\u001b[1;36m \u001b[0m│\u001b[1;36m \u001b[0m\u001b[1;36m0.982421875    \u001b[0m\u001b[1;36m \u001b[0m│\u001b[1;36m \u001b[0m\u001b[1;36m1.6234209999999998\u001b[0m\u001b[1;36m \u001b[0m│\n",
       "│\u001b[1;36m \u001b[0m\u001b[1;36m503    \u001b[0m\u001b[1;36m \u001b[0m│\u001b[1;36m \u001b[0m\u001b[1;36m0.0               \u001b[0m\u001b[1;36m \u001b[0m│\u001b[1;36m \u001b[0m\u001b[1;36m0.5566600397614314\u001b[0m\u001b[1;36m \u001b[0m│\u001b[1;36m \u001b[0m\u001b[1;36m0.982421875    \u001b[0m\u001b[1;36m \u001b[0m│\u001b[1;36m \u001b[0m\u001b[1;36m1.6234209999999998\u001b[0m\u001b[1;36m \u001b[0m│\n",
       "└─────────┴────────────────────┴────────────────────┴─────────────────┴────────────────────┘\n"
      ]
     },
     "metadata": {},
     "output_type": "display_data"
    },
    {
     "data": {
      "text/html": [
       "<pre style=\"white-space:pre;overflow-x:auto;line-height:normal;font-family:Menlo,'DejaVu Sans Mono',consolas,'Courier New',monospace\">Total number of failures: <span style=\"color: #008080; text-decoration-color: #008080; font-weight: bold\">0</span>\n",
       "</pre>\n"
      ],
      "text/plain": [
       "Total number of failures: \u001b[1;36m0\u001b[0m\n"
      ]
     },
     "metadata": {},
     "output_type": "display_data"
    }
   ],
   "source": [
    "labels, df, metric_list = l.run(\"../data/ledgar_test.csv\", max_items=512)"
   ]
  },
  {
   "cell_type": "code",
   "execution_count": null,
   "metadata": {},
   "outputs": [],
   "source": [
    "failed_rows = df[df[\"LedgarClassification_llm_labeled_successfully\"] == \"no\"][[\"example\", \"label\", \"LedgarClassification_llm_label\"]]\n",
    "failed_rows"
   ]
  },
  {
   "cell_type": "code",
   "execution_count": null,
   "metadata": {},
   "outputs": [],
   "source": [
    "wrong_rows = df[df[\"label\"] != df[\"LedgarClassification_llm_label\"]][[\"example\", \"label\", \"LedgarClassification_llm_label\"]]\n",
    "print(len(wrong_rows))\n",
    "wrong_rows"
   ]
  },
  {
   "cell_type": "code",
   "execution_count": 47,
   "metadata": {},
   "outputs": [],
   "source": [
    "walmart_amazon_config = {\n",
    "    \"task_name\": \"ProductCatalogEntityMatch\",\n",
    "    \"task_type\": \"entity_matching\",\n",
    "    \"dataset\": {\"label_column\": \"label\", \"delimiter\": \",\"},\n",
    "    \"model\": {\"provider\": \"google\", \"name\": \"text-bison@001\"},\n",
    "    \"prompt\": {\n",
    "        \"task_guidelines\": \"You are an expert at identifying duplicate products from online product catalogs.\\nYour job is to tell if the two given entities are duplicates or not. Say duplicate, if they are duplicate and not duplicate otherwise.\",\n",
    "        \"few_shot_examples\": \"../data/walmart_amazon_seed.csv\",\n",
    "        \"few_shot_selection\": \"semantic_similarity\",\n",
    "        \"few_shot_num\": 3,\n",
    "        \"example_template\": \"Entity1: {entity1}\\nEntity2: {entity2}\\nOutput: {label}\",\n",
    "    },\n",
    "}"
   ]
  },
  {
   "cell_type": "code",
   "execution_count": 48,
   "metadata": {},
   "outputs": [
    {
     "name": "stdout",
     "output_type": "stream",
     "text": [
      "PaLM model name: text-bison@001\n"
     ]
    },
    {
     "data": {
      "application/vnd.jupyter.widget-view+json": {
       "model_id": "7b57fb925c714ef98cea22a29a3fafe0",
       "version_major": 2,
       "version_minor": 0
      },
      "text/plain": [
       "Output()"
      ]
     },
     "metadata": {},
     "output_type": "display_data"
    },
    {
     "data": {
      "text/html": [
       "<pre style=\"white-space:pre;overflow-x:auto;line-height:normal;font-family:Menlo,'DejaVu Sans Mono',consolas,'Courier New',monospace\"></pre>\n"
      ],
      "text/plain": []
     },
     "metadata": {},
     "output_type": "display_data"
    },
    {
     "data": {
      "text/html": [
       "<pre style=\"white-space:pre;overflow-x:auto;line-height:normal;font-family:Menlo,'DejaVu Sans Mono',consolas,'Courier New',monospace\">\n",
       "</pre>\n"
      ],
      "text/plain": [
       "\n"
      ]
     },
     "metadata": {},
     "output_type": "display_data"
    },
    {
     "data": {
      "text/html": [
       "<pre style=\"white-space:pre;overflow-x:auto;line-height:normal;font-family:Menlo,'DejaVu Sans Mono',consolas,'Courier New',monospace\">┌──────────────────────────┬─────────┐\n",
       "│<span style=\"color: #008000; text-decoration-color: #008000; font-weight: bold\"> Total Estimated Cost     </span>│<span style=\"color: #800080; text-decoration-color: #800080; font-weight: bold\"> $0.221  </span>│\n",
       "│<span style=\"color: #008000; text-decoration-color: #008000; font-weight: bold\"> Number of Examples       </span>│<span style=\"color: #800080; text-decoration-color: #800080; font-weight: bold\"> 128     </span>│\n",
       "│<span style=\"color: #008000; text-decoration-color: #008000; font-weight: bold\"> Average cost per example </span>│<span style=\"color: #800080; text-decoration-color: #800080; font-weight: bold\"> 0.00173 </span>│\n",
       "└──────────────────────────┴─────────┘\n",
       "</pre>\n"
      ],
      "text/plain": [
       "┌──────────────────────────┬─────────┐\n",
       "│\u001b[1;32m \u001b[0m\u001b[1;32mTotal Estimated Cost    \u001b[0m\u001b[1;32m \u001b[0m│\u001b[1;35m \u001b[0m\u001b[1;35m$0.221 \u001b[0m\u001b[1;35m \u001b[0m│\n",
       "│\u001b[1;32m \u001b[0m\u001b[1;32mNumber of Examples      \u001b[0m\u001b[1;32m \u001b[0m│\u001b[1;35m \u001b[0m\u001b[1;35m128    \u001b[0m\u001b[1;35m \u001b[0m│\n",
       "│\u001b[1;32m \u001b[0m\u001b[1;32mAverage cost per example\u001b[0m\u001b[1;32m \u001b[0m│\u001b[1;35m \u001b[0m\u001b[1;35m0.00173\u001b[0m\u001b[1;35m \u001b[0m│\n",
       "└──────────────────────────┴─────────┘\n"
      ]
     },
     "metadata": {},
     "output_type": "display_data"
    },
    {
     "data": {
      "text/html": [
       "<pre style=\"white-space:pre;overflow-x:auto;line-height:normal;font-family:Menlo,'DejaVu Sans Mono',consolas,'Courier New',monospace\"><span style=\"color: #00ff00; text-decoration-color: #00ff00\">───────────────────────────────────────────────── </span>Prompt Example<span style=\"color: #00ff00; text-decoration-color: #00ff00\"> ──────────────────────────────────────────────────</span>\n",
       "</pre>\n"
      ],
      "text/plain": [
       "\u001b[92m───────────────────────────────────────────────── \u001b[0mPrompt Example\u001b[92m ──────────────────────────────────────────────────\u001b[0m\n"
      ]
     },
     "metadata": {},
     "output_type": "display_data"
    },
    {
     "name": "stdout",
     "output_type": "stream",
     "text": [
      "You are an expert at identifying duplicate products from online product catalogs.\n",
      "Your job is to tell if the two given entities are duplicates or not. Say duplicate, if they are duplicate and not duplicate otherwise.\n",
      "\n",
      "You will return the answer with one element: \"the correct option\"\n",
      "\n",
      "\n",
      "Some examples with their output answers are provided below:\n",
      "\n",
      "Entity1: Title: wintec filemate 4gb compactflash memory card; Category: usb drives; Brand: wintec; ModelNo: 3fmcf4gb-r; Price: 15.98;\n",
      "Entity2: Title: sandisk 4gb ultra ii compactflash memory card 15mb s; Category: memory cards; Brand: sandisk; ModelNo: sdcfh-4096; Price: 17.96;\n",
      "Output: not duplicate\n",
      "\n",
      "Entity1: Title: dane-elec 8gb high-speed compact flash memory card; Category: usb drives; Brand: dane-elec; ModelNo: dacf3008gc; Price: 44.88;\n",
      "Entity2: Title: dane-elec high speed 300x 4 gb usb 2.0 compact flash card udma da-cf30-04g-c; Category: blank media; Brand: dane-elec; ModelNo: da-cf30-04g-c; Price: 17.99;\n",
      "Output: not duplicate\n",
      "\n",
      "Entity1: Title: wintec filemate 4gb compactflash memory card; Category: usb drives; Brand: wintec; ModelNo: 3fmcf4gb-r; Price: 15.98;\n",
      "Entity2: Title: verbatim compactflash 4gb memory card 95188; Category: memory cards; Brand: verbatim; ModelNo: 95188; Price: 14.96;\n",
      "Output: not duplicate\n",
      "\n",
      "Now I want you to label the following example:\n",
      "Entity1: Title: sony 16gb class 4 sd memory card; Category: usb drives; Brand: sony; ModelNo: sf16n4/tqp; Price: 0.0;\n",
      "Entity2: Title: pny 4gb class 4 navy sd card; Category: car audio video; Brand: pny; ModelNo: p-sdhc4g4-ef / navy; Price: 11.18;\n",
      "Output: \n"
     ]
    },
    {
     "data": {
      "text/html": [
       "<pre style=\"white-space:pre;overflow-x:auto;line-height:normal;font-family:Menlo,'DejaVu Sans Mono',consolas,'Courier New',monospace\"><span style=\"color: #00ff00; text-decoration-color: #00ff00\">───────────────────────────────────────────────────────────────────────────────────────────────────────────────────</span>\n",
       "</pre>\n"
      ],
      "text/plain": [
       "\u001b[92m───────────────────────────────────────────────────────────────────────────────────────────────────────────────────\u001b[0m\n"
      ]
     },
     "metadata": {},
     "output_type": "display_data"
    }
   ],
   "source": [
    "l = LabelingAgent(config=walmart_amazon_config, cache=False)\n",
    "l.plan(\"../data/walmart_amazon_test.csv\", max_items=MAX_ITEMS)"
   ]
  },
  {
   "cell_type": "code",
   "execution_count": 49,
   "metadata": {},
   "outputs": [
    {
     "data": {
      "application/vnd.jupyter.widget-view+json": {
       "model_id": "9a719c6309124e978d96ca5f21c33f92",
       "version_major": 2,
       "version_minor": 0
      },
      "text/plain": [
       "Output()"
      ]
     },
     "metadata": {},
     "output_type": "display_data"
    },
    {
     "data": {
      "text/html": [
       "<pre style=\"white-space:pre;overflow-x:auto;line-height:normal;font-family:Menlo,'DejaVu Sans Mono',consolas,'Courier New',monospace\"></pre>\n"
      ],
      "text/plain": []
     },
     "metadata": {},
     "output_type": "display_data"
    },
    {
     "data": {
      "text/html": [
       "<pre style=\"white-space:pre;overflow-x:auto;line-height:normal;font-family:Menlo,'DejaVu Sans Mono',consolas,'Courier New',monospace\">┏━━━━━━━━━┳━━━━━━━━━━━┳━━━━━━━━━━━┳━━━━━━━━━━━━━━━━━┳━━━━━━━━━━━━━━━━━━━━━┓\n",
       "┃<span style=\"font-weight: bold\"> support </span>┃<span style=\"font-weight: bold\"> threshold </span>┃<span style=\"font-weight: bold\"> accuracy  </span>┃<span style=\"font-weight: bold\"> completion_rate </span>┃<span style=\"font-weight: bold\"> Actual Cost         </span>┃\n",
       "┡━━━━━━━━━╇━━━━━━━━━━━╇━━━━━━━━━━━╇━━━━━━━━━━━━━━━━━╇━━━━━━━━━━━━━━━━━━━━━┩\n",
       "│<span style=\"color: #008080; text-decoration-color: #008080; font-weight: bold\"> 128     </span>│<span style=\"color: #008080; text-decoration-color: #008080; font-weight: bold\"> -inf      </span>│<span style=\"color: #008080; text-decoration-color: #008080; font-weight: bold\"> 0.9453125 </span>│<span style=\"color: #008080; text-decoration-color: #008080; font-weight: bold\"> 1.0             </span>│<span style=\"color: #008080; text-decoration-color: #008080; font-weight: bold\"> 0.22010499999999997 </span>│\n",
       "└─────────┴───────────┴───────────┴─────────────────┴─────────────────────┘\n",
       "</pre>\n"
      ],
      "text/plain": [
       "┏━━━━━━━━━┳━━━━━━━━━━━┳━━━━━━━━━━━┳━━━━━━━━━━━━━━━━━┳━━━━━━━━━━━━━━━━━━━━━┓\n",
       "┃\u001b[1m \u001b[0m\u001b[1msupport\u001b[0m\u001b[1m \u001b[0m┃\u001b[1m \u001b[0m\u001b[1mthreshold\u001b[0m\u001b[1m \u001b[0m┃\u001b[1m \u001b[0m\u001b[1maccuracy \u001b[0m\u001b[1m \u001b[0m┃\u001b[1m \u001b[0m\u001b[1mcompletion_rate\u001b[0m\u001b[1m \u001b[0m┃\u001b[1m \u001b[0m\u001b[1mActual Cost        \u001b[0m\u001b[1m \u001b[0m┃\n",
       "┡━━━━━━━━━╇━━━━━━━━━━━╇━━━━━━━━━━━╇━━━━━━━━━━━━━━━━━╇━━━━━━━━━━━━━━━━━━━━━┩\n",
       "│\u001b[1;36m \u001b[0m\u001b[1;36m128    \u001b[0m\u001b[1;36m \u001b[0m│\u001b[1;36m \u001b[0m\u001b[1;36m-inf     \u001b[0m\u001b[1;36m \u001b[0m│\u001b[1;36m \u001b[0m\u001b[1;36m0.9453125\u001b[0m\u001b[1;36m \u001b[0m│\u001b[1;36m \u001b[0m\u001b[1;36m1.0            \u001b[0m\u001b[1;36m \u001b[0m│\u001b[1;36m \u001b[0m\u001b[1;36m0.22010499999999997\u001b[0m\u001b[1;36m \u001b[0m│\n",
       "└─────────┴───────────┴───────────┴─────────────────┴─────────────────────┘\n"
      ]
     },
     "metadata": {},
     "output_type": "display_data"
    },
    {
     "data": {
      "text/html": [
       "<pre style=\"white-space:pre;overflow-x:auto;line-height:normal;font-family:Menlo,'DejaVu Sans Mono',consolas,'Courier New',monospace\">Total number of failures: <span style=\"color: #008080; text-decoration-color: #008080; font-weight: bold\">0</span>\n",
       "</pre>\n"
      ],
      "text/plain": [
       "Total number of failures: \u001b[1;36m0\u001b[0m\n"
      ]
     },
     "metadata": {},
     "output_type": "display_data"
    }
   ],
   "source": [
    "labels, df, metric_list = l.run(\"../data/walmart_amazon_test.csv\", max_items=MAX_ITEMS)"
   ]
  },
  {
   "cell_type": "code",
   "execution_count": 50,
   "metadata": {},
   "outputs": [
    {
     "data": {
      "text/html": [
       "<div>\n",
       "<style scoped>\n",
       "    .dataframe tbody tr th:only-of-type {\n",
       "        vertical-align: middle;\n",
       "    }\n",
       "\n",
       "    .dataframe tbody tr th {\n",
       "        vertical-align: top;\n",
       "    }\n",
       "\n",
       "    .dataframe thead th {\n",
       "        text-align: right;\n",
       "    }\n",
       "</style>\n",
       "<table border=\"1\" class=\"dataframe\">\n",
       "  <thead>\n",
       "    <tr style=\"text-align: right;\">\n",
       "      <th></th>\n",
       "      <th>entity1</th>\n",
       "      <th>entity2</th>\n",
       "      <th>label</th>\n",
       "      <th>ProductCatalogEntityMatch_llm_label</th>\n",
       "    </tr>\n",
       "  </thead>\n",
       "  <tbody>\n",
       "  </tbody>\n",
       "</table>\n",
       "</div>"
      ],
      "text/plain": [
       "Empty DataFrame\n",
       "Columns: [entity1, entity2, label, ProductCatalogEntityMatch_llm_label]\n",
       "Index: []"
      ]
     },
     "execution_count": 50,
     "metadata": {},
     "output_type": "execute_result"
    }
   ],
   "source": [
    "failed_rows = df[df[\"ProductCatalogEntityMatch_llm_labeled_successfully\"] == \"no\"][[\"entity1\", \"entity2\", \"label\", \"ProductCatalogEntityMatch_llm_label\"]]\n",
    "failed_rows"
   ]
  },
  {
   "cell_type": "code",
   "execution_count": 51,
   "metadata": {},
   "outputs": [
    {
     "name": "stdout",
     "output_type": "stream",
     "text": [
      "7\n"
     ]
    },
    {
     "data": {
      "text/html": [
       "<div>\n",
       "<style scoped>\n",
       "    .dataframe tbody tr th:only-of-type {\n",
       "        vertical-align: middle;\n",
       "    }\n",
       "\n",
       "    .dataframe tbody tr th {\n",
       "        vertical-align: top;\n",
       "    }\n",
       "\n",
       "    .dataframe thead th {\n",
       "        text-align: right;\n",
       "    }\n",
       "</style>\n",
       "<table border=\"1\" class=\"dataframe\">\n",
       "  <thead>\n",
       "    <tr style=\"text-align: right;\">\n",
       "      <th></th>\n",
       "      <th>entity1</th>\n",
       "      <th>entity2</th>\n",
       "      <th>label</th>\n",
       "      <th>ProductCatalogEntityMatch_llm_label</th>\n",
       "    </tr>\n",
       "  </thead>\n",
       "  <tbody>\n",
       "    <tr>\n",
       "      <th>7</th>\n",
       "      <td>Title: balt wheasel easel adjustable melamine ...</td>\n",
       "      <td>Title: balt inc. wheasel easel adjustable mela...</td>\n",
       "      <td>duplicate</td>\n",
       "      <td>not duplicate</td>\n",
       "    </tr>\n",
       "    <tr>\n",
       "      <th>21</th>\n",
       "      <td>Title: samsung s2 640gb usb 3.0 portable exter...</td>\n",
       "      <td>Title: samsung s2 portable hard drive 640 gb u...</td>\n",
       "      <td>not duplicate</td>\n",
       "      <td>duplicate</td>\n",
       "    </tr>\n",
       "    <tr>\n",
       "      <th>22</th>\n",
       "      <td>Title: griffin ipod touch 4g formfit case pink...</td>\n",
       "      <td>Title: griffin technology formfit for ipod tou...</td>\n",
       "      <td>duplicate</td>\n",
       "      <td>not duplicate</td>\n",
       "    </tr>\n",
       "    <tr>\n",
       "      <th>53</th>\n",
       "      <td>Title: scosche 1993-up select subaru power 4-s...</td>\n",
       "      <td>Title: scosche su03rb 1993-up select subaru po...</td>\n",
       "      <td>not duplicate</td>\n",
       "      <td>duplicate</td>\n",
       "    </tr>\n",
       "    <tr>\n",
       "      <th>91</th>\n",
       "      <td>Title: optoma bl-fp230c replacement projector ...</td>\n",
       "      <td>Title: electrified bl-fp230c sp .85 r01gc01 re...</td>\n",
       "      <td>duplicate</td>\n",
       "      <td>not duplicate</td>\n",
       "    </tr>\n",
       "    <tr>\n",
       "      <th>117</th>\n",
       "      <td>Title: t-mobile samsung sgh-t249 prepaid slide...</td>\n",
       "      <td>Title: samsung t249 prepaid phone blue t-mobil...</td>\n",
       "      <td>duplicate</td>\n",
       "      <td>not duplicate</td>\n",
       "    </tr>\n",
       "    <tr>\n",
       "      <th>119</th>\n",
       "      <td>Title: cta mini battery chargers for nikon en-...</td>\n",
       "      <td>Title: cta mr-enel9 mini battery charger kit f...</td>\n",
       "      <td>duplicate</td>\n",
       "      <td>not duplicate</td>\n",
       "    </tr>\n",
       "  </tbody>\n",
       "</table>\n",
       "</div>"
      ],
      "text/plain": [
       "                                               entity1   \n",
       "7    Title: balt wheasel easel adjustable melamine ...  \\\n",
       "21   Title: samsung s2 640gb usb 3.0 portable exter...   \n",
       "22   Title: griffin ipod touch 4g formfit case pink...   \n",
       "53   Title: scosche 1993-up select subaru power 4-s...   \n",
       "91   Title: optoma bl-fp230c replacement projector ...   \n",
       "117  Title: t-mobile samsung sgh-t249 prepaid slide...   \n",
       "119  Title: cta mini battery chargers for nikon en-...   \n",
       "\n",
       "                                               entity2          label   \n",
       "7    Title: balt inc. wheasel easel adjustable mela...      duplicate  \\\n",
       "21   Title: samsung s2 portable hard drive 640 gb u...  not duplicate   \n",
       "22   Title: griffin technology formfit for ipod tou...      duplicate   \n",
       "53   Title: scosche su03rb 1993-up select subaru po...  not duplicate   \n",
       "91   Title: electrified bl-fp230c sp .85 r01gc01 re...      duplicate   \n",
       "117  Title: samsung t249 prepaid phone blue t-mobil...      duplicate   \n",
       "119  Title: cta mr-enel9 mini battery charger kit f...      duplicate   \n",
       "\n",
       "    ProductCatalogEntityMatch_llm_label  \n",
       "7                         not duplicate  \n",
       "21                            duplicate  \n",
       "22                        not duplicate  \n",
       "53                            duplicate  \n",
       "91                        not duplicate  \n",
       "117                       not duplicate  \n",
       "119                       not duplicate  "
      ]
     },
     "execution_count": 51,
     "metadata": {},
     "output_type": "execute_result"
    }
   ],
   "source": [
    "wrong_rows = df[df[\"label\"] != df[\"ProductCatalogEntityMatch_llm_label\"]][[\"entity1\", \"entity2\", \"label\", \"ProductCatalogEntityMatch_llm_label\"]]\n",
    "print(len(wrong_rows))\n",
    "wrong_rows"
   ]
  },
  {
   "cell_type": "code",
   "execution_count": 52,
   "metadata": {},
   "outputs": [],
   "source": [
    "squad_config = {\n",
    "    \"task_name\": \"OpenbookQAWikipedia\",\n",
    "    \"task_type\": \"question_answering\",\n",
    "    \"dataset\": {\"label_column\": \"answer\", \"delimiter\": \",\"},\n",
    "    \"model\": {\"provider\": \"google\", \"name\": \"text-bison@001\"},\n",
    "    \"prompt\": {\n",
    "        \"task_guidelines\": \"You are an expert at answering questions based on wikipedia articles. Your job is to answer the following questions using the context provided with the question. The answer is a continuous span of words from the context. Use the context to answer the question. If the question cannot be answered using the context, answer the question as unanswerable.\",\n",
    "        \"few_shot_examples\": \"../data/squad_v2_seed.csv\",\n",
    "        \"few_shot_selection\": \"semantic_similarity\",\n",
    "        \"few_shot_num\": 3,\n",
    "        \"example_template\": \"Context: {context}\\nQuestion: {question}\\nAnswer: {answer}\",\n",
    "    },\n",
    "}"
   ]
  },
  {
   "cell_type": "code",
   "execution_count": 53,
   "metadata": {},
   "outputs": [
    {
     "name": "stdout",
     "output_type": "stream",
     "text": [
      "PaLM model name: text-bison@001\n"
     ]
    },
    {
     "data": {
      "application/vnd.jupyter.widget-view+json": {
       "model_id": "e2bada0ec4ac4b42bd75674a7ae8b515",
       "version_major": 2,
       "version_minor": 0
      },
      "text/plain": [
       "Output()"
      ]
     },
     "metadata": {},
     "output_type": "display_data"
    },
    {
     "data": {
      "text/html": [
       "<pre style=\"white-space:pre;overflow-x:auto;line-height:normal;font-family:Menlo,'DejaVu Sans Mono',consolas,'Courier New',monospace\"></pre>\n"
      ],
      "text/plain": []
     },
     "metadata": {},
     "output_type": "display_data"
    },
    {
     "data": {
      "text/html": [
       "<pre style=\"white-space:pre;overflow-x:auto;line-height:normal;font-family:Menlo,'DejaVu Sans Mono',consolas,'Courier New',monospace\">\n",
       "</pre>\n"
      ],
      "text/plain": [
       "\n"
      ]
     },
     "metadata": {},
     "output_type": "display_data"
    },
    {
     "data": {
      "text/html": [
       "<pre style=\"white-space:pre;overflow-x:auto;line-height:normal;font-family:Menlo,'DejaVu Sans Mono',consolas,'Courier New',monospace\">┌──────────────────────────┬─────────┐\n",
       "│<span style=\"color: #008000; text-decoration-color: #008000; font-weight: bold\"> Total Estimated Cost     </span>│<span style=\"color: #800080; text-decoration-color: #800080; font-weight: bold\"> $8.29   </span>│\n",
       "│<span style=\"color: #008000; text-decoration-color: #008000; font-weight: bold\"> Number of Examples       </span>│<span style=\"color: #800080; text-decoration-color: #800080; font-weight: bold\"> 2000    </span>│\n",
       "│<span style=\"color: #008000; text-decoration-color: #008000; font-weight: bold\"> Average cost per example </span>│<span style=\"color: #800080; text-decoration-color: #800080; font-weight: bold\"> 0.00414 </span>│\n",
       "└──────────────────────────┴─────────┘\n",
       "</pre>\n"
      ],
      "text/plain": [
       "┌──────────────────────────┬─────────┐\n",
       "│\u001b[1;32m \u001b[0m\u001b[1;32mTotal Estimated Cost    \u001b[0m\u001b[1;32m \u001b[0m│\u001b[1;35m \u001b[0m\u001b[1;35m$8.29  \u001b[0m\u001b[1;35m \u001b[0m│\n",
       "│\u001b[1;32m \u001b[0m\u001b[1;32mNumber of Examples      \u001b[0m\u001b[1;32m \u001b[0m│\u001b[1;35m \u001b[0m\u001b[1;35m2000   \u001b[0m\u001b[1;35m \u001b[0m│\n",
       "│\u001b[1;32m \u001b[0m\u001b[1;32mAverage cost per example\u001b[0m\u001b[1;32m \u001b[0m│\u001b[1;35m \u001b[0m\u001b[1;35m0.00414\u001b[0m\u001b[1;35m \u001b[0m│\n",
       "└──────────────────────────┴─────────┘\n"
      ]
     },
     "metadata": {},
     "output_type": "display_data"
    },
    {
     "data": {
      "text/html": [
       "<pre style=\"white-space:pre;overflow-x:auto;line-height:normal;font-family:Menlo,'DejaVu Sans Mono',consolas,'Courier New',monospace\"><span style=\"color: #00ff00; text-decoration-color: #00ff00\">───────────────────────────────────────────────── </span>Prompt Example<span style=\"color: #00ff00; text-decoration-color: #00ff00\"> ──────────────────────────────────────────────────</span>\n",
       "</pre>\n"
      ],
      "text/plain": [
       "\u001b[92m───────────────────────────────────────────────── \u001b[0mPrompt Example\u001b[92m ──────────────────────────────────────────────────\u001b[0m\n"
      ]
     },
     "metadata": {},
     "output_type": "display_data"
    },
    {
     "name": "stdout",
     "output_type": "stream",
     "text": [
      "You are an expert at answering questions based on wikipedia articles. Your job is to answer the following questions using the context provided with the question. The answer is a continuous span of words from the context. Use the context to answer the question. If the question cannot be answered using the context, answer the question as unanswerable.\n",
      "\n",
      "You will return the answer one element: \"the correct label\"\n",
      "\n",
      "\n",
      "Some examples with their output answers are provided below:\n",
      "\n",
      "Context: The final major evolution of the steam engine design was the use of steam turbines starting in the late part of the 19th century. Steam turbines are generally more efficient than reciprocating piston type steam engines (for outputs above several hundred horsepower), have fewer moving parts, and provide rotary power directly instead of through a connecting rod system or similar means. Steam turbines virtually replaced reciprocating engines in electricity generating stations early in the 20th century, where their efficiency, higher speed appropriate to generator service, and smooth rotation were advantages. Today most electric power is provided by steam turbines. In the United States 90% of the electric power is produced in this way using a variety of heat sources. Steam turbines were extensively applied for propulsion of large ships throughout most of the 20th century.\n",
      "Question: Above what horsepower are steam turbines usually more efficient than steam engines that use reciprocating pistons?\n",
      "Answer: several hundred\n",
      "\n",
      "Context: Near the end of the 19th century compound engines came into widespread use. Compound engines exhausted steam in to successively larger cylinders to accommodate the higher volumes at reduced pressures, giving improved efficiency. These stages were called expansions, with double and triple expansion engines being common, especially in shipping where efficiency was important to reduce the weight of coal carried. Steam engines remained the dominant source of power until the early 20th century, when advances in the design of electric motors and internal combustion engines gradually resulted in the replacement of reciprocating (piston) steam engines, with shipping in the 20th-century relying upon the steam turbine.\n",
      "Question: In what field were double and triple expansion engines common?\n",
      "Answer: shipping\n",
      "\n",
      "Context: It is possible to use a mechanism based on a pistonless rotary engine such as the Wankel engine in place of the cylinders and valve gear of a conventional reciprocating steam engine. Many such engines have been designed, from the time of James Watt to the present day, but relatively few were actually built and even fewer went into quantity production; see link at bottom of article for more details. The major problem is the difficulty of sealing the rotors to make them steam-tight in the face of wear and thermal expansion; the resulting leakage made them very inefficient. Lack of expansive working, or any means of control of the cutoff is also a serious problem with many such designs.[citation needed]\n",
      "Question: What development, along with wear, makes it difficult to seal the rotors in an engine that lacks steam? \n",
      "Answer: unanswerable\n",
      "\n",
      "Now I want you to label the following example:\n",
      "Context: The final major evolution of the steam engine design was the use of steam turbines starting in the late part of the 19th century. Steam turbines are generally more efficient than reciprocating piston type steam engines (for outputs above several hundred horsepower), have fewer moving parts, and provide rotary power directly instead of through a connecting rod system or similar means. Steam turbines virtually replaced reciprocating engines in electricity generating stations early in the 20th century, where their efficiency, higher speed appropriate to generator service, and smooth rotation were advantages. Today most electric power is provided by steam turbines. In the United States 90% of the electric power is produced in this way using a variety of heat sources. Steam turbines were extensively applied for propulsion of large ships throughout most of the 20th century.\n",
      "Question: Most power of what sort is generated by steam turbines today?\n",
      "Answer: \n"
     ]
    },
    {
     "data": {
      "text/html": [
       "<pre style=\"white-space:pre;overflow-x:auto;line-height:normal;font-family:Menlo,'DejaVu Sans Mono',consolas,'Courier New',monospace\"><span style=\"color: #00ff00; text-decoration-color: #00ff00\">───────────────────────────────────────────────────────────────────────────────────────────────────────────────────</span>\n",
       "</pre>\n"
      ],
      "text/plain": [
       "\u001b[92m───────────────────────────────────────────────────────────────────────────────────────────────────────────────────\u001b[0m\n"
      ]
     },
     "metadata": {},
     "output_type": "display_data"
    }
   ],
   "source": [
    "l = LabelingAgent(config=squad_config, cache=False)\n",
    "l.plan(\"../data/squad_v2_test.csv\")"
   ]
  },
  {
   "cell_type": "code",
   "execution_count": 54,
   "metadata": {},
   "outputs": [
    {
     "name": "stdout",
     "output_type": "stream",
     "text": [
      "\u001b[32m2023-06-05 12:11:53.458\u001b[0m | \u001b[1mINFO    \u001b[0m | \u001b[36mautolabel.labeler\u001b[0m:\u001b[36mrun\u001b[0m:\u001b[36m145\u001b[0m - \u001b[1mTask run already exists.\u001b[0m\n"
     ]
    },
    {
     "data": {
      "text/html": [
       "<pre style=\"white-space:pre;overflow-x:auto;line-height:normal;font-family:Menlo,'DejaVu Sans Mono',consolas,'Courier New',monospace\">There is an existing task with following details: <span style=\"color: #808000; text-decoration-color: #808000\">id</span>=<span style=\"color: #008000; text-decoration-color: #008000\">'363978331'</span> <span style=\"color: #808000; text-decoration-color: #808000\">created_at</span>=<span style=\"color: #800080; text-decoration-color: #800080; font-weight: bold\">datetime</span><span style=\"color: #800080; text-decoration-color: #800080; font-weight: bold\">.datetime</span><span style=\"font-weight: bold\">(</span><span style=\"color: #008080; text-decoration-color: #008080; font-weight: bold\">2023</span>, <span style=\"color: #008080; text-decoration-color: #008080; font-weight: bold\">6</span>, <span style=\"color: #008080; text-decoration-color: #008080; font-weight: bold\">2</span>, <span style=\"color: #008080; text-decoration-color: #008080; font-weight: bold\">16</span>, <span style=\"color: #008080; text-decoration-color: #008080; font-weight: bold\">46</span>, \n",
       "<span style=\"color: #008080; text-decoration-color: #008080; font-weight: bold\">30</span>, <span style=\"color: #008080; text-decoration-color: #008080; font-weight: bold\">36289</span><span style=\"font-weight: bold\">)</span> <span style=\"color: #808000; text-decoration-color: #808000\">task_id</span>=<span style=\"color: #008000; text-decoration-color: #008000\">'e5c193717d97ce84916ea2b231a61d0a'</span> <span style=\"color: #808000; text-decoration-color: #808000\">dataset_id</span>=<span style=\"color: #008000; text-decoration-color: #008000\">'78bf0a6a6faae8cff14a5e36a12d0e2a'</span> \n",
       "<span style=\"color: #808000; text-decoration-color: #808000\">current_index</span>=<span style=\"color: #008080; text-decoration-color: #008080; font-weight: bold\">100</span> <span style=\"color: #808000; text-decoration-color: #808000\">output_file</span>=<span style=\"color: #008000; text-decoration-color: #008000\">'../data/squad_v2_test_labeled.csv'</span> <span style=\"color: #808000; text-decoration-color: #808000\">status</span>=<span style=\"font-weight: bold\">&lt;</span><span style=\"color: #ff00ff; text-decoration-color: #ff00ff; font-weight: bold\">TaskStatus.ACTIVE:</span><span style=\"color: #000000; text-decoration-color: #000000\"> </span><span style=\"color: #008000; text-decoration-color: #008000\">'active'</span><span style=\"font-weight: bold\">&gt;</span> <span style=\"color: #808000; text-decoration-color: #808000\">error</span>=<span style=\"color: #800080; text-decoration-color: #800080; font-style: italic\">None</span> \n",
       "<span style=\"color: #808000; text-decoration-color: #808000\">metrics</span>=<span style=\"color: #800080; text-decoration-color: #800080; font-style: italic\">None</span>\n",
       "</pre>\n"
      ],
      "text/plain": [
       "There is an existing task with following details: \u001b[33mid\u001b[0m=\u001b[32m'363978331'\u001b[0m \u001b[33mcreated_at\u001b[0m=\u001b[1;35mdatetime\u001b[0m\u001b[1;35m.datetime\u001b[0m\u001b[1m(\u001b[0m\u001b[1;36m2023\u001b[0m, \u001b[1;36m6\u001b[0m, \u001b[1;36m2\u001b[0m, \u001b[1;36m16\u001b[0m, \u001b[1;36m46\u001b[0m, \n",
       "\u001b[1;36m30\u001b[0m, \u001b[1;36m36289\u001b[0m\u001b[1m)\u001b[0m \u001b[33mtask_id\u001b[0m=\u001b[32m'e5c193717d97ce84916ea2b231a61d0a'\u001b[0m \u001b[33mdataset_id\u001b[0m=\u001b[32m'78bf0a6a6faae8cff14a5e36a12d0e2a'\u001b[0m \n",
       "\u001b[33mcurrent_index\u001b[0m=\u001b[1;36m100\u001b[0m \u001b[33moutput_file\u001b[0m=\u001b[32m'../data/squad_v2_test_labeled.csv'\u001b[0m \u001b[33mstatus\u001b[0m=\u001b[1m<\u001b[0m\u001b[1;95mTaskStatus.ACTIVE:\u001b[0m\u001b[39m \u001b[0m\u001b[32m'active'\u001b[0m\u001b[1m>\u001b[0m \u001b[33merror\u001b[0m=\u001b[3;35mNone\u001b[0m \n",
       "\u001b[33mmetrics\u001b[0m=\u001b[3;35mNone\u001b[0m\n"
      ]
     },
     "metadata": {},
     "output_type": "display_data"
    },
    {
     "data": {
      "text/html": [
       "<pre style=\"white-space:pre;overflow-x:auto;line-height:normal;font-family:Menlo,'DejaVu Sans Mono',consolas,'Courier New',monospace\">Evaluating the existing task<span style=\"color: #808000; text-decoration-color: #808000\">...</span>\n",
       "</pre>\n"
      ],
      "text/plain": [
       "Evaluating the existing task\u001b[33m...\u001b[0m\n"
      ]
     },
     "metadata": {},
     "output_type": "display_data"
    },
    {
     "data": {
      "text/html": [
       "<pre style=\"white-space:pre;overflow-x:auto;line-height:normal;font-family:Menlo,'DejaVu Sans Mono',consolas,'Courier New',monospace\">┏━━━━━━━━━━━━━━━━━┳━━━━━━━━━━━━━━━━━━━━┓\n",
       "┃<span style=\"font-weight: bold\"> Metric          </span>┃<span style=\"font-weight: bold\">              Value </span>┃\n",
       "┡━━━━━━━━━━━━━━━━━╇━━━━━━━━━━━━━━━━━━━━┩\n",
       "│<span style=\"color: #008080; text-decoration-color: #008080; font-weight: bold\"> f1              </span>│<span style=\"color: #800080; text-decoration-color: #800080; font-weight: bold\"> 0.7914473015519304 </span>│\n",
       "│<span style=\"color: #008080; text-decoration-color: #008080; font-weight: bold\"> support         </span>│<span style=\"color: #800080; text-decoration-color: #800080; font-weight: bold\">                 89 </span>│\n",
       "│<span style=\"color: #008080; text-decoration-color: #008080; font-weight: bold\"> threshold       </span>│<span style=\"color: #800080; text-decoration-color: #800080; font-weight: bold\">               -inf </span>│\n",
       "│<span style=\"color: #008080; text-decoration-color: #008080; font-weight: bold\"> accuracy        </span>│<span style=\"color: #800080; text-decoration-color: #800080; font-weight: bold\"> 0.7078651685393258 </span>│\n",
       "│<span style=\"color: #008080; text-decoration-color: #008080; font-weight: bold\"> completion_rate </span>│<span style=\"color: #800080; text-decoration-color: #800080; font-weight: bold\">               0.89 </span>│\n",
       "└─────────────────┴────────────────────┘\n",
       "</pre>\n"
      ],
      "text/plain": [
       "┏━━━━━━━━━━━━━━━━━┳━━━━━━━━━━━━━━━━━━━━┓\n",
       "┃\u001b[1m \u001b[0m\u001b[1mMetric         \u001b[0m\u001b[1m \u001b[0m┃\u001b[1m \u001b[0m\u001b[1m             Value\u001b[0m\u001b[1m \u001b[0m┃\n",
       "┡━━━━━━━━━━━━━━━━━╇━━━━━━━━━━━━━━━━━━━━┩\n",
       "│\u001b[1;36m \u001b[0m\u001b[1;36mf1             \u001b[0m\u001b[1;36m \u001b[0m│\u001b[1;35m \u001b[0m\u001b[1;35m0.7914473015519304\u001b[0m\u001b[1;35m \u001b[0m│\n",
       "│\u001b[1;36m \u001b[0m\u001b[1;36msupport        \u001b[0m\u001b[1;36m \u001b[0m│\u001b[1;35m \u001b[0m\u001b[1;35m                89\u001b[0m\u001b[1;35m \u001b[0m│\n",
       "│\u001b[1;36m \u001b[0m\u001b[1;36mthreshold      \u001b[0m\u001b[1;36m \u001b[0m│\u001b[1;35m \u001b[0m\u001b[1;35m              -inf\u001b[0m\u001b[1;35m \u001b[0m│\n",
       "│\u001b[1;36m \u001b[0m\u001b[1;36maccuracy       \u001b[0m\u001b[1;36m \u001b[0m│\u001b[1;35m \u001b[0m\u001b[1;35m0.7078651685393258\u001b[0m\u001b[1;35m \u001b[0m│\n",
       "│\u001b[1;36m \u001b[0m\u001b[1;36mcompletion_rate\u001b[0m\u001b[1;36m \u001b[0m│\u001b[1;35m \u001b[0m\u001b[1;35m              0.89\u001b[0m\u001b[1;35m \u001b[0m│\n",
       "└─────────────────┴────────────────────┘\n"
      ]
     },
     "metadata": {},
     "output_type": "display_data"
    },
    {
     "data": {
      "text/html": [
       "<pre style=\"white-space:pre;overflow-x:auto;line-height:normal;font-family:Menlo,'DejaVu Sans Mono',consolas,'Courier New',monospace\"><span style=\"color: #008080; text-decoration-color: #008080; font-weight: bold\">100</span> examples have been labeled so far.\n",
       "</pre>\n"
      ],
      "text/plain": [
       "\u001b[1;36m100\u001b[0m examples have been labeled so far.\n"
      ]
     },
     "metadata": {},
     "output_type": "display_data"
    },
    {
     "data": {
      "text/html": [
       "<pre style=\"white-space:pre;overflow-x:auto;line-height:normal;font-family:Menlo,'DejaVu Sans Mono',consolas,'Courier New',monospace\"><span style=\"color: #00ff00; text-decoration-color: #00ff00\">───────────────────────────────────────────── </span>Last Annotated Example<span style=\"color: #00ff00; text-decoration-color: #00ff00\"> ──────────────────────────────────────────────</span>\n",
       "</pre>\n"
      ],
      "text/plain": [
       "\u001b[92m───────────────────────────────────────────── \u001b[0mLast Annotated Example\u001b[92m ──────────────────────────────────────────────\u001b[0m\n"
      ]
     },
     "metadata": {},
     "output_type": "display_data"
    },
    {
     "data": {
      "text/html": [
       "<pre style=\"white-space:pre;overflow-x:auto;line-height:normal;font-family:Menlo,'DejaVu Sans Mono',consolas,'Courier New',monospace\"><span style=\"color: #000080; text-decoration-color: #000080; font-weight: bold\">Prompt</span>: </pre>\n"
      ],
      "text/plain": [
       "\u001b[1;34mPrompt\u001b[0m: "
      ]
     },
     "metadata": {},
     "output_type": "display_data"
    },
    {
     "name": "stdout",
     "output_type": "stream",
     "text": [
      "You are an expert at answering questions based on wikipedia articles. Your job is to answer the following questions using the context provided with the question. The answer is a continuous span of words from the context. Use the context to answer the question. If the question cannot be answered using the context, answer the question as unanswerable.\n",
      "\n",
      "You will return the answer one element: \"the correct label\"\n",
      "\n",
      "\n",
      "Some examples with their output answers are provided below:\n",
      "\n",
      "Context: Fourth, national courts have a duty to interpret domestic law \"as far as possible in the light of the wording and purpose of the directive\". Textbooks (though not the Court itself) often called this \"indirect effect\". In Marleasing SA v La Comercial SA the Court of Justice held that a Spanish Court had to interpret its general Civil Code provisions, on contracts lacking cause or defrauding creditors, to conform with the First Company Law Directive article 11, that required incorporations would only be nullified for a fixed list of reasons. The Court of Justice quickly acknowledged that the duty of interpretation cannot contradict plain words in a national statute. But, fifth, if a member state has failed to implement a Directive, a citizen may not be able to bring claims against other non-state parties, but can sue the member state itself for failure to implement the law. So, in Francovich v Italy, the Italian government had failed to set up an insurance fund for employees to claim unpaid wages if their employers had gone insolvent, as the Insolvency Protection Directive required. Francovich, the former employee of a bankrupt Venetian firm, was therefore allowed to claim 6 million Lira from the Italian government in damages for his loss. The Court of Justice held that if a Directive would confer identifiable rights on individuals, and there is a causal link between a member state's violation of EU and a claimant's loss, damages must be paid. The fact that the incompatible law is an Act of Parliament is no defence.\n",
      "Question: What did the Italian government fail to do in Francovich v Italy?\n",
      "Answer: failed to set up an insurance fund for employees to claim unpaid wages if their employers had gone insolvent\n",
      "\n",
      "Context: The \"freedom to provide services\" under TFEU article 56 applies to people who give services \"for remuneration\", especially commercial or professional activity. For example, in Van Binsbergen v Bestuur van de Bedrijfvereniging voor de Metaalnijverheid a Dutch lawyer moved to Belgium while advising a client in a social security case, and was told he could not continue because Dutch law said only people established in the Netherlands could give legal advice. The Court of Justice held that the freedom to provide services applied, it was directly effective, and the rule was probably unjustified: having an address in the member state would be enough to pursue the legitimate aim of good administration of justice. The Court of Justice has held that secondary education falls outside the scope of article 56, because usually the state funds it, though higher education does not. Health care generally counts as a service. In Geraets-Smits v Stichting Ziekenfonds Mrs Geraets-Smits claimed she should be reimbursed by Dutch social insurance for costs of receiving treatment in Germany. The Dutch health authorities regarded the treatment unnecessary, so she argued this restricted the freedom (of the German health clinic) to provide services. Several governments submitted that hospital services should not be regarded as economic, and should not fall within article 56. But the Court of Justice held health was a \"service\" even though the government (rather than the service recipient) paid for the service. National authorities could be justified in refusing to reimburse patients for medical services abroad if the health care received at home was without undue delay, and it followed \"international medical science\" on which treatments counted as normal and necessary. The Court requires that the individual circumstances of a patient justify waiting lists, and this is also true in the context of the UK's National Health Service. Aside from public services, another sensitive field of services are those classified as illegal. Josemans v Burgemeester van Maastricht held that the Netherlands' regulation of cannabis consumption, including the prohibitions by some municipalities on tourists (but not Dutch nationals) going to coffee shops, fell outside article 56 altogether. The Court of Justice reasoned that narcotic drugs were controlled in all member states, and so this differed from other cases where prostitution or other quasi-legal activity was subject to restriction. If an activity does fall within article 56, a restriction can be justified under article 52 or overriding requirements developed by the Court of Justice. In Alpine Investments BV v Minister van Financiën a business that sold commodities futures (with Merrill Lynch and another banking firms) attempted to challenge a Dutch law that prohibiting cold calling customers. The Court of Justice held the Dutch prohibition pursued a legitimate aim to prevent \"undesirable developments in securities trading\" including protecting the consumer from aggressive sales tactics, thus maintaining confidence in the Dutch markets. In Omega Spielhallen GmbH v Bonn a \"laserdrome\" business was banned by the Bonn council. It bought fake laser gun services from a UK firm called Pulsar Ltd, but residents had protested against \"playing at killing\" entertainment. The Court of Justice held that the German constitutional value of human dignity, which underpinned the ban, did count as a justified restriction on freedom to provide services. In Liga Portuguesa de Futebol v Santa Casa da Misericórdia de Lisboa the Court of Justice also held that the state monopoly on gambling, and a penalty for a Gibraltar firm that had sold internet gambling services, was justified to prevent fraud and gambling where people's views were highly divergent. The ban was proportionate as this was an appropriate and necessary way to tackle the serious problems of fraud that arise over the internet. In the Services Directive a group of justifications were codified in article 16 that the case law has developed.\n",
      "Question: Why could a Dutch lawyer who moved to Belgium give legal advice?\n",
      "Answer: unanswerable\n",
      "\n",
      "Context: The concept of legal certainty is recognised one of the general principles of European Union law by the European Court of Justice since the 1960s. It is an important general principle of international law and public law, which predates European Union law. As a general principle in European Union law it means that the law must be certain, in that it is clear and precise, and its legal implications foreseeable, specially when applied to financial obligations. The adoption of laws which will have legal effect in the European Union must have a proper legal basis. Legislation in member states which implements European Union law must be worded so that it is clearly understandable by those who are subject to the law. In European Union law the general principle of legal certainty prohibits Ex post facto laws, i.e. laws should not take effect before they are published. The doctrine of legitimate expectation, which has its roots in the principles of legal certainty and good faith, is also a central element of the general principle of legal certainty in European Union law. The legitimate expectation doctrine holds that and that \"those who act in good faith on the basis of law as it is or seems to be should not be frustrated in their expectations\".\n",
      "Question: What is not recognized as one of the general principles of European Union law?\n",
      "Answer: unanswerable\n",
      "\n",
      "Now I want you to label the following example:\n",
      "Context: Although it is generally accepted that EU law has primacy, not all EU laws give citizens standing to bring claims: that is, not all EU laws have \"direct effect\". In Van Gend en Loos v Nederlandse Administratie der Belastingen it was held that the provisions of the Treaties (and EU Regulations) are directly effective, if they are (1) clear and unambiguous (2) unconditional, and (3) did not require EU or national authorities to take further action to implement them. Van Gend en Loos, a postal company, claimed that what is now TFEU article 30 prevented the Dutch Customs Authorities charging tariffs, when it imported urea-formaldehyde plastics from Germany to the Netherlands. After a Dutch court made a reference, the Court of Justice held that even though the Treaties did not \"expressly\" confer a right on citizens or companies to bring claims, they could do so. Historically, international treaties had only allowed states to have legal claims for their enforcement, but the Court of Justice proclaimed \"the Community constitutes a new legal order of international law\". Because article 30 clearly, unconditionally and immediately stated that no quantitative restrictions could be placed on trade, without a good justification, Van Gend en Loos could recover the money it paid for the tariff. EU Regulations are the same as Treaty provisions in this sense, because as TFEU article 288 states, they are ‘directly applicable in all Member States’. Moreover, member states comes under a duty not to replicate Regulations in their own law, in order to prevent confusion. For instance, in Commission v Italy the Court of Justice held that Italy had breached a duty under the Treaties, both by failing to operate a scheme to pay farmers a premium to slaughter cows (to reduce dairy overproduction), and by reproducing the rules in a decree with various additions. \"Regulations,\" held the Court of Justice, \"come into force solely by virtue of their publication\" and implementation could have the effect of \"jeopardizing their simultaneous and uniform application in the whole of the Union.\" On the other hand, some Regulations may themselves expressly require implementing measures, in which case those specific rules should be followed.\n",
      "Question: In which case was it held that the provisions of the treaties are directly effective if they are clear, unconditional, and don't require further action by EU or national authorities?\n",
      "Answer: \n"
     ]
    },
    {
     "data": {
      "text/html": [
       "<pre style=\"white-space:pre;overflow-x:auto;line-height:normal;font-family:Menlo,'DejaVu Sans Mono',consolas,'Courier New',monospace\"><span style=\"color: #000080; text-decoration-color: #000080; font-weight: bold\">Annotation</span>: </pre>\n"
      ],
      "text/plain": [
       "\u001b[1;34mAnnotation\u001b[0m: "
      ]
     },
     "metadata": {},
     "output_type": "display_data"
    },
    {
     "name": "stdout",
     "output_type": "stream",
     "text": [
      "NO_LABEL\n"
     ]
    },
    {
     "data": {
      "text/html": [
       "<pre style=\"white-space:pre;overflow-x:auto;line-height:normal;font-family:Menlo,'DejaVu Sans Mono',consolas,'Courier New',monospace\"><span style=\"color: #00ff00; text-decoration-color: #00ff00\">───────────────────────────────────────────────────────────────────────────────────────────────────────────────────</span>\n",
       "</pre>\n"
      ],
      "text/plain": [
       "\u001b[92m───────────────────────────────────────────────────────────────────────────────────────────────────────────────────\u001b[0m\n"
      ]
     },
     "metadata": {},
     "output_type": "display_data"
    },
    {
     "data": {
      "text/html": [
       "<pre style=\"white-space:pre;overflow-x:auto;line-height:normal;font-family:Menlo,'DejaVu Sans Mono',consolas,'Courier New',monospace\">Do you want to resume the task? <span style=\"color: #800080; text-decoration-color: #800080; font-weight: bold\">[y/n]</span>: </pre>\n"
      ],
      "text/plain": [
       "Do you want to resume the task? \u001b[1;35m[y/n]\u001b[0m: "
      ]
     },
     "metadata": {},
     "output_type": "display_data"
    },
    {
     "data": {
      "text/html": [
       "<pre style=\"white-space:pre;overflow-x:auto;line-height:normal;font-family:Menlo,'DejaVu Sans Mono',consolas,'Courier New',monospace\">Deleted the existing task and starting a new one<span style=\"color: #808000; text-decoration-color: #808000\">...</span>\n",
       "</pre>\n"
      ],
      "text/plain": [
       "Deleted the existing task and starting a new one\u001b[33m...\u001b[0m\n"
      ]
     },
     "metadata": {},
     "output_type": "display_data"
    },
    {
     "data": {
      "application/vnd.jupyter.widget-view+json": {
       "model_id": "4959b8a810d6487cbd41062ed5bd9bd7",
       "version_major": 2,
       "version_minor": 0
      },
      "text/plain": [
       "Output()"
      ]
     },
     "metadata": {},
     "output_type": "display_data"
    },
    {
     "name": "stdout",
     "output_type": "stream",
     "text": [
      "\u001b[32m2023-06-05 12:14:41.204\u001b[0m | \u001b[31m\u001b[1mERROR   \u001b[0m | \u001b[36mautolabel.tasks.base\u001b[0m:\u001b[36mparse_llm_response\u001b[0m:\u001b[36m73\u001b[0m - \u001b[31m\u001b[1mError parsing LLM response: \u001b[0m\n"
     ]
    },
    {
     "name": "stdout",
     "output_type": "stream",
     "text": [
      "\u001b[32m2023-06-05 12:14:44.709\u001b[0m | \u001b[31m\u001b[1mERROR   \u001b[0m | \u001b[36mautolabel.tasks.base\u001b[0m:\u001b[36mparse_llm_response\u001b[0m:\u001b[36m73\u001b[0m - \u001b[31m\u001b[1mError parsing LLM response: \u001b[0m\n"
     ]
    },
    {
     "name": "stdout",
     "output_type": "stream",
     "text": [
      "\u001b[32m2023-06-05 12:14:59.911\u001b[0m | \u001b[31m\u001b[1mERROR   \u001b[0m | \u001b[36mautolabel.tasks.base\u001b[0m:\u001b[36mparse_llm_response\u001b[0m:\u001b[36m73\u001b[0m - \u001b[31m\u001b[1mError parsing LLM response: \u001b[0m\n"
     ]
    },
    {
     "name": "stdout",
     "output_type": "stream",
     "text": [
      "\u001b[32m2023-06-05 12:15:28.684\u001b[0m | \u001b[31m\u001b[1mERROR   \u001b[0m | \u001b[36mautolabel.tasks.base\u001b[0m:\u001b[36mparse_llm_response\u001b[0m:\u001b[36m73\u001b[0m - \u001b[31m\u001b[1mError parsing LLM response: \u001b[0m\n",
      "\u001b[32m2023-06-05 12:15:28.700\u001b[0m | \u001b[31m\u001b[1mERROR   \u001b[0m | \u001b[36mautolabel.tasks.base\u001b[0m:\u001b[36mparse_llm_response\u001b[0m:\u001b[36m73\u001b[0m - \u001b[31m\u001b[1mError parsing LLM response: \u001b[0m\n"
     ]
    },
    {
     "name": "stdout",
     "output_type": "stream",
     "text": [
      "\u001b[32m2023-06-05 12:15:32.095\u001b[0m | \u001b[31m\u001b[1mERROR   \u001b[0m | \u001b[36mautolabel.tasks.base\u001b[0m:\u001b[36mparse_llm_response\u001b[0m:\u001b[36m73\u001b[0m - \u001b[31m\u001b[1mError parsing LLM response: \u001b[0m\n"
     ]
    },
    {
     "name": "stdout",
     "output_type": "stream",
     "text": [
      "\u001b[32m2023-06-05 12:15:35.511\u001b[0m | \u001b[31m\u001b[1mERROR   \u001b[0m | \u001b[36mautolabel.tasks.base\u001b[0m:\u001b[36mparse_llm_response\u001b[0m:\u001b[36m73\u001b[0m - \u001b[31m\u001b[1mError parsing LLM response: \u001b[0m\n",
      "\u001b[32m2023-06-05 12:15:35.520\u001b[0m | \u001b[31m\u001b[1mERROR   \u001b[0m | \u001b[36mautolabel.tasks.base\u001b[0m:\u001b[36mparse_llm_response\u001b[0m:\u001b[36m73\u001b[0m - \u001b[31m\u001b[1mError parsing LLM response: \u001b[0m\n",
      "\u001b[32m2023-06-05 12:15:35.524\u001b[0m | \u001b[31m\u001b[1mERROR   \u001b[0m | \u001b[36mautolabel.tasks.base\u001b[0m:\u001b[36mparse_llm_response\u001b[0m:\u001b[36m73\u001b[0m - \u001b[31m\u001b[1mError parsing LLM response: \u001b[0m\n"
     ]
    },
    {
     "name": "stdout",
     "output_type": "stream",
     "text": [
      "\u001b[32m2023-06-05 12:15:43.128\u001b[0m | \u001b[31m\u001b[1mERROR   \u001b[0m | \u001b[36mautolabel.tasks.base\u001b[0m:\u001b[36mparse_llm_response\u001b[0m:\u001b[36m73\u001b[0m - \u001b[31m\u001b[1mError parsing LLM response: \u001b[0m\n"
     ]
    },
    {
     "name": "stdout",
     "output_type": "stream",
     "text": [
      "\u001b[32m2023-06-05 12:15:54.775\u001b[0m | \u001b[31m\u001b[1mERROR   \u001b[0m | \u001b[36mautolabel.tasks.base\u001b[0m:\u001b[36mparse_llm_response\u001b[0m:\u001b[36m73\u001b[0m - \u001b[31m\u001b[1mError parsing LLM response: \u001b[0m\n"
     ]
    },
    {
     "data": {
      "text/html": [
       "<pre style=\"white-space:pre;overflow-x:auto;line-height:normal;font-family:Menlo,'DejaVu Sans Mono',consolas,'Courier New',monospace\"></pre>\n"
      ],
      "text/plain": []
     },
     "metadata": {},
     "output_type": "display_data"
    },
    {
     "data": {
      "text/html": [
       "<pre style=\"white-space:pre;overflow-x:auto;line-height:normal;font-family:Menlo,'DejaVu Sans Mono',consolas,'Courier New',monospace\">┏━━━━━━━━━━━━━━━━━━━━┳━━━━━━━━━┳━━━━━━━━━━━┳━━━━━━━━━━━━━━━━━━━━┳━━━━━━━━━━━━━━━━━┳━━━━━━━━━━━━━━━━━━━━━┓\n",
       "┃<span style=\"font-weight: bold\"> f1                 </span>┃<span style=\"font-weight: bold\"> support </span>┃<span style=\"font-weight: bold\"> threshold </span>┃<span style=\"font-weight: bold\"> accuracy           </span>┃<span style=\"font-weight: bold\"> completion_rate </span>┃<span style=\"font-weight: bold\"> Actual Cost         </span>┃\n",
       "┡━━━━━━━━━━━━━━━━━━━━╇━━━━━━━━━╇━━━━━━━━━━━╇━━━━━━━━━━━━━━━━━━━━╇━━━━━━━━━━━━━━━━━╇━━━━━━━━━━━━━━━━━━━━━┩\n",
       "│<span style=\"color: #008080; text-decoration-color: #008080; font-weight: bold\"> 0.7914473015519304 </span>│<span style=\"color: #008080; text-decoration-color: #008080; font-weight: bold\"> 89      </span>│<span style=\"color: #008080; text-decoration-color: #008080; font-weight: bold\"> -inf      </span>│<span style=\"color: #008080; text-decoration-color: #008080; font-weight: bold\"> 0.7078651685393258 </span>│<span style=\"color: #008080; text-decoration-color: #008080; font-weight: bold\"> 0.89            </span>│<span style=\"color: #008080; text-decoration-color: #008080; font-weight: bold\"> 0.41449299999999994 </span>│\n",
       "└────────────────────┴─────────┴───────────┴────────────────────┴─────────────────┴─────────────────────┘\n",
       "</pre>\n"
      ],
      "text/plain": [
       "┏━━━━━━━━━━━━━━━━━━━━┳━━━━━━━━━┳━━━━━━━━━━━┳━━━━━━━━━━━━━━━━━━━━┳━━━━━━━━━━━━━━━━━┳━━━━━━━━━━━━━━━━━━━━━┓\n",
       "┃\u001b[1m \u001b[0m\u001b[1mf1                \u001b[0m\u001b[1m \u001b[0m┃\u001b[1m \u001b[0m\u001b[1msupport\u001b[0m\u001b[1m \u001b[0m┃\u001b[1m \u001b[0m\u001b[1mthreshold\u001b[0m\u001b[1m \u001b[0m┃\u001b[1m \u001b[0m\u001b[1maccuracy          \u001b[0m\u001b[1m \u001b[0m┃\u001b[1m \u001b[0m\u001b[1mcompletion_rate\u001b[0m\u001b[1m \u001b[0m┃\u001b[1m \u001b[0m\u001b[1mActual Cost        \u001b[0m\u001b[1m \u001b[0m┃\n",
       "┡━━━━━━━━━━━━━━━━━━━━╇━━━━━━━━━╇━━━━━━━━━━━╇━━━━━━━━━━━━━━━━━━━━╇━━━━━━━━━━━━━━━━━╇━━━━━━━━━━━━━━━━━━━━━┩\n",
       "│\u001b[1;36m \u001b[0m\u001b[1;36m0.7914473015519304\u001b[0m\u001b[1;36m \u001b[0m│\u001b[1;36m \u001b[0m\u001b[1;36m89     \u001b[0m\u001b[1;36m \u001b[0m│\u001b[1;36m \u001b[0m\u001b[1;36m-inf     \u001b[0m\u001b[1;36m \u001b[0m│\u001b[1;36m \u001b[0m\u001b[1;36m0.7078651685393258\u001b[0m\u001b[1;36m \u001b[0m│\u001b[1;36m \u001b[0m\u001b[1;36m0.89           \u001b[0m\u001b[1;36m \u001b[0m│\u001b[1;36m \u001b[0m\u001b[1;36m0.41449299999999994\u001b[0m\u001b[1;36m \u001b[0m│\n",
       "└────────────────────┴─────────┴───────────┴────────────────────┴─────────────────┴─────────────────────┘\n"
      ]
     },
     "metadata": {},
     "output_type": "display_data"
    },
    {
     "data": {
      "text/html": [
       "<pre style=\"white-space:pre;overflow-x:auto;line-height:normal;font-family:Menlo,'DejaVu Sans Mono',consolas,'Courier New',monospace\">Total number of failures: <span style=\"color: #008080; text-decoration-color: #008080; font-weight: bold\">0</span>\n",
       "</pre>\n"
      ],
      "text/plain": [
       "Total number of failures: \u001b[1;36m0\u001b[0m\n"
      ]
     },
     "metadata": {},
     "output_type": "display_data"
    }
   ],
   "source": [
    "labels, df, metric_list = l.run(\"../data/squad_v2_test.csv\", max_items=100)"
   ]
  },
  {
   "cell_type": "code",
   "execution_count": 55,
   "metadata": {},
   "outputs": [
    {
     "name": "stdout",
     "output_type": "stream",
     "text": [
      "11\n"
     ]
    },
    {
     "data": {
      "text/html": [
       "<div>\n",
       "<style scoped>\n",
       "    .dataframe tbody tr th:only-of-type {\n",
       "        vertical-align: middle;\n",
       "    }\n",
       "\n",
       "    .dataframe tbody tr th {\n",
       "        vertical-align: top;\n",
       "    }\n",
       "\n",
       "    .dataframe thead th {\n",
       "        text-align: right;\n",
       "    }\n",
       "</style>\n",
       "<table border=\"1\" class=\"dataframe\">\n",
       "  <thead>\n",
       "    <tr style=\"text-align: right;\">\n",
       "      <th></th>\n",
       "      <th>context</th>\n",
       "      <th>question</th>\n",
       "      <th>answer</th>\n",
       "      <th>OpenbookQAWikipedia_llm_label</th>\n",
       "    </tr>\n",
       "  </thead>\n",
       "  <tbody>\n",
       "    <tr>\n",
       "      <th>2</th>\n",
       "      <td>The weight of boilers and condensers generally...</td>\n",
       "      <td>Along with fuel sources, what concern has cont...</td>\n",
       "      <td>pollution</td>\n",
       "      <td>NO_LABEL</td>\n",
       "    </tr>\n",
       "    <tr>\n",
       "      <th>5</th>\n",
       "      <td>There are also many places commemorating the h...</td>\n",
       "      <td>What monument is in memory of the largest insu...</td>\n",
       "      <td>Warsaw Uprising Monument</td>\n",
       "      <td>NO_LABEL</td>\n",
       "    </tr>\n",
       "    <tr>\n",
       "      <th>28</th>\n",
       "      <td>Hypersensitivity is an immune response that da...</td>\n",
       "      <td>What is an immune response that heals the body...</td>\n",
       "      <td>unanswerable</td>\n",
       "      <td>NO_LABEL</td>\n",
       "    </tr>\n",
       "    <tr>\n",
       "      <th>60</th>\n",
       "      <td>Bolshevik leaders had effectively reestablishe...</td>\n",
       "      <td>When was the Russian Policy \"Indigenization\" ...</td>\n",
       "      <td>unanswerable</td>\n",
       "      <td>NO_LABEL</td>\n",
       "    </tr>\n",
       "    <tr>\n",
       "      <th>63</th>\n",
       "      <td>Warsaw remained the capital of the Polish–Lith...</td>\n",
       "      <td>What kingdom annexed Warsaw in 1796?</td>\n",
       "      <td>Prussia</td>\n",
       "      <td>NO_LABEL</td>\n",
       "    </tr>\n",
       "    <tr>\n",
       "      <th>68</th>\n",
       "      <td>Uptake of O\\n2 from the air is the essential p...</td>\n",
       "      <td>What medical treatment is used to benefit pati...</td>\n",
       "      <td>Oxygen therapy</td>\n",
       "      <td>NO_LABEL</td>\n",
       "    </tr>\n",
       "    <tr>\n",
       "      <th>70</th>\n",
       "      <td>Disorders of the immune system can result in a...</td>\n",
       "      <td>What is not caused by disorders of the immune ...</td>\n",
       "      <td>unanswerable</td>\n",
       "      <td>NO_LABEL</td>\n",
       "    </tr>\n",
       "    <tr>\n",
       "      <th>71</th>\n",
       "      <td>As northwest Europe slowly began to warm up fr...</td>\n",
       "      <td>What did the Rhine help to expand?</td>\n",
       "      <td>unanswerable</td>\n",
       "      <td>NO_LABEL</td>\n",
       "    </tr>\n",
       "    <tr>\n",
       "      <th>72</th>\n",
       "      <td>The mechanisms used to evade the adaptive immu...</td>\n",
       "      <td>What is a pathogen that does not use antigenic...</td>\n",
       "      <td>unanswerable</td>\n",
       "      <td>NO_LABEL</td>\n",
       "    </tr>\n",
       "    <tr>\n",
       "      <th>81</th>\n",
       "      <td>The capabilities approach – sometimes called t...</td>\n",
       "      <td>What is the goal of the incapabilities approach?</td>\n",
       "      <td>unanswerable</td>\n",
       "      <td>NO_LABEL</td>\n",
       "    </tr>\n",
       "    <tr>\n",
       "      <th>99</th>\n",
       "      <td>Although it is generally accepted that EU law ...</td>\n",
       "      <td>In which case was it held that the provisions ...</td>\n",
       "      <td>Van Gend en Loos v Nederlandse Administratie d...</td>\n",
       "      <td>NO_LABEL</td>\n",
       "    </tr>\n",
       "  </tbody>\n",
       "</table>\n",
       "</div>"
      ],
      "text/plain": [
       "                                              context   \n",
       "2   The weight of boilers and condensers generally...  \\\n",
       "5   There are also many places commemorating the h...   \n",
       "28  Hypersensitivity is an immune response that da...   \n",
       "60  Bolshevik leaders had effectively reestablishe...   \n",
       "63  Warsaw remained the capital of the Polish–Lith...   \n",
       "68  Uptake of O\\n2 from the air is the essential p...   \n",
       "70  Disorders of the immune system can result in a...   \n",
       "71  As northwest Europe slowly began to warm up fr...   \n",
       "72  The mechanisms used to evade the adaptive immu...   \n",
       "81  The capabilities approach – sometimes called t...   \n",
       "99  Although it is generally accepted that EU law ...   \n",
       "\n",
       "                                             question   \n",
       "2   Along with fuel sources, what concern has cont...  \\\n",
       "5   What monument is in memory of the largest insu...   \n",
       "28  What is an immune response that heals the body...   \n",
       "60   When was the Russian Policy \"Indigenization\" ...   \n",
       "63               What kingdom annexed Warsaw in 1796?   \n",
       "68  What medical treatment is used to benefit pati...   \n",
       "70  What is not caused by disorders of the immune ...   \n",
       "71                 What did the Rhine help to expand?   \n",
       "72  What is a pathogen that does not use antigenic...   \n",
       "81   What is the goal of the incapabilities approach?   \n",
       "99  In which case was it held that the provisions ...   \n",
       "\n",
       "                                               answer   \n",
       "2                                           pollution  \\\n",
       "5                            Warsaw Uprising Monument   \n",
       "28                                       unanswerable   \n",
       "60                                       unanswerable   \n",
       "63                                            Prussia   \n",
       "68                                     Oxygen therapy   \n",
       "70                                       unanswerable   \n",
       "71                                       unanswerable   \n",
       "72                                       unanswerable   \n",
       "81                                       unanswerable   \n",
       "99  Van Gend en Loos v Nederlandse Administratie d...   \n",
       "\n",
       "   OpenbookQAWikipedia_llm_label  \n",
       "2                       NO_LABEL  \n",
       "5                       NO_LABEL  \n",
       "28                      NO_LABEL  \n",
       "60                      NO_LABEL  \n",
       "63                      NO_LABEL  \n",
       "68                      NO_LABEL  \n",
       "70                      NO_LABEL  \n",
       "71                      NO_LABEL  \n",
       "72                      NO_LABEL  \n",
       "81                      NO_LABEL  \n",
       "99                      NO_LABEL  "
      ]
     },
     "execution_count": 55,
     "metadata": {},
     "output_type": "execute_result"
    }
   ],
   "source": [
    "failed_rows = df[df[\"OpenbookQAWikipedia_llm_labeled_successfully\"] == \"no\"][[\"context\", \"question\", \"answer\", \"OpenbookQAWikipedia_llm_label\"]]\n",
    "print(len(failed_rows))\n",
    "failed_rows"
   ]
  },
  {
   "cell_type": "code",
   "execution_count": 56,
   "metadata": {},
   "outputs": [
    {
     "name": "stdout",
     "output_type": "stream",
     "text": [
      "39\n"
     ]
    },
    {
     "data": {
      "text/html": [
       "<div>\n",
       "<style scoped>\n",
       "    .dataframe tbody tr th:only-of-type {\n",
       "        vertical-align: middle;\n",
       "    }\n",
       "\n",
       "    .dataframe tbody tr th {\n",
       "        vertical-align: top;\n",
       "    }\n",
       "\n",
       "    .dataframe thead th {\n",
       "        text-align: right;\n",
       "    }\n",
       "</style>\n",
       "<table border=\"1\" class=\"dataframe\">\n",
       "  <thead>\n",
       "    <tr style=\"text-align: right;\">\n",
       "      <th></th>\n",
       "      <th>context</th>\n",
       "      <th>question</th>\n",
       "      <th>answer</th>\n",
       "      <th>OpenbookQAWikipedia_llm_label</th>\n",
       "    </tr>\n",
       "  </thead>\n",
       "  <tbody>\n",
       "    <tr>\n",
       "      <th>2</th>\n",
       "      <td>The weight of boilers and condensers generally...</td>\n",
       "      <td>Along with fuel sources, what concern has cont...</td>\n",
       "      <td>pollution</td>\n",
       "      <td>NO_LABEL</td>\n",
       "    </tr>\n",
       "    <tr>\n",
       "      <th>3</th>\n",
       "      <td>Orange County is a rapidly developing business...</td>\n",
       "      <td>Which county is developing its business center?</td>\n",
       "      <td>Orange</td>\n",
       "      <td>Orange County</td>\n",
       "    </tr>\n",
       "    <tr>\n",
       "      <th>5</th>\n",
       "      <td>There are also many places commemorating the h...</td>\n",
       "      <td>What monument is in memory of the largest insu...</td>\n",
       "      <td>Warsaw Uprising Monument</td>\n",
       "      <td>NO_LABEL</td>\n",
       "    </tr>\n",
       "    <tr>\n",
       "      <th>7</th>\n",
       "      <td>Like much of the south Atlantic region of the ...</td>\n",
       "      <td>What type of climate does Jacksonville have?</td>\n",
       "      <td>subtropical</td>\n",
       "      <td>humid subtropical climate</td>\n",
       "    </tr>\n",
       "    <tr>\n",
       "      <th>10</th>\n",
       "      <td>Wealth concentration is a theoretical[accordin...</td>\n",
       "      <td>According to the wealth concentration theory, ...</td>\n",
       "      <td>means to invest</td>\n",
       "      <td>means to invest in new sources of creating wea...</td>\n",
       "    </tr>\n",
       "    <tr>\n",
       "      <th>12</th>\n",
       "      <td>can have infinitely many primes only when a an...</td>\n",
       "      <td>If q=9 and a=1,2,4,5,7, or 8, how many primes ...</td>\n",
       "      <td>infinitely many prime numbers</td>\n",
       "      <td>unanswerable</td>\n",
       "    </tr>\n",
       "    <tr>\n",
       "      <th>17</th>\n",
       "      <td>In most jurisdictions (such as the United Stat...</td>\n",
       "      <td>Who do most jurisdictions say can give schedul...</td>\n",
       "      <td>only pharmacists</td>\n",
       "      <td>pharmacists</td>\n",
       "    </tr>\n",
       "    <tr>\n",
       "      <th>19</th>\n",
       "      <td>In a purely capitalist mode of production (i.e...</td>\n",
       "      <td>Under what law is value of a worker determined?</td>\n",
       "      <td>supply and demand</td>\n",
       "      <td>the law of supply and demand</td>\n",
       "    </tr>\n",
       "    <tr>\n",
       "      <th>22</th>\n",
       "      <td>The most basic method of checking the primalit...</td>\n",
       "      <td>What must the integer m be less than or equal ...</td>\n",
       "      <td>less than or equal to the square root of n</td>\n",
       "      <td>the square root of n</td>\n",
       "    </tr>\n",
       "    <tr>\n",
       "      <th>23</th>\n",
       "      <td>The tallest building in Downtown Jacksonville'...</td>\n",
       "      <td>In the shortest building in downtown Jacksonvi...</td>\n",
       "      <td>unanswerable</td>\n",
       "      <td>28 floor Riverplace Tower</td>\n",
       "    </tr>\n",
       "    <tr>\n",
       "      <th>24</th>\n",
       "      <td>Some disagree with such double or triple non-F...</td>\n",
       "      <td>What is the theory that this King's name is th...</td>\n",
       "      <td>The \"Hugues hypothesis\"</td>\n",
       "      <td>Hugues hypothesis</td>\n",
       "    </tr>\n",
       "    <tr>\n",
       "      <th>28</th>\n",
       "      <td>Hypersensitivity is an immune response that da...</td>\n",
       "      <td>What is an immune response that heals the body...</td>\n",
       "      <td>unanswerable</td>\n",
       "      <td>NO_LABEL</td>\n",
       "    </tr>\n",
       "    <tr>\n",
       "      <th>30</th>\n",
       "      <td>Highly concentrated sources of oxygen promote ...</td>\n",
       "      <td>Although not a fuel  ___ is the chemical compo...</td>\n",
       "      <td>Oxygen</td>\n",
       "      <td>unanswerable</td>\n",
       "    </tr>\n",
       "    <tr>\n",
       "      <th>33</th>\n",
       "      <td>The Very high-speed Backbone Network Service (...</td>\n",
       "      <td>What did the network install in 1999</td>\n",
       "      <td>vBNS installed one of the first ever productio...</td>\n",
       "      <td>one of the first ever production OC-48c (2.5 G...</td>\n",
       "    </tr>\n",
       "    <tr>\n",
       "      <th>38</th>\n",
       "      <td>Oxygen was discovered independently by Carl Wi...</td>\n",
       "      <td>When did Carl Priestly discover oxygen?</td>\n",
       "      <td>unanswerable</td>\n",
       "      <td>1774</td>\n",
       "    </tr>\n",
       "    <tr>\n",
       "      <th>43</th>\n",
       "      <td>Merit Network, Inc., an independent non-profit...</td>\n",
       "      <td>Why was the Michigan Educational Research Info...</td>\n",
       "      <td>unanswerable</td>\n",
       "      <td>explore computer networking between three of M...</td>\n",
       "    </tr>\n",
       "    <tr>\n",
       "      <th>45</th>\n",
       "      <td>In 1872, the Central Pacific Railroad establis...</td>\n",
       "      <td>When did the Fresno Traction Company come to F...</td>\n",
       "      <td>unanswerable</td>\n",
       "      <td>1931</td>\n",
       "    </tr>\n",
       "    <tr>\n",
       "      <th>48</th>\n",
       "      <td>For many geologic applications, isotope ratios...</td>\n",
       "      <td>What techniques can be used to determine paleo...</td>\n",
       "      <td>Thermochemical techniques</td>\n",
       "      <td>thermochemical</td>\n",
       "    </tr>\n",
       "    <tr>\n",
       "      <th>55</th>\n",
       "      <td>In the fall quarter of 2014, the University of...</td>\n",
       "      <td>The University enrolled 5,984 students in the ...</td>\n",
       "      <td>unanswerable</td>\n",
       "      <td>5,984</td>\n",
       "    </tr>\n",
       "    <tr>\n",
       "      <th>60</th>\n",
       "      <td>Bolshevik leaders had effectively reestablishe...</td>\n",
       "      <td>When was the Russian Policy \"Indigenization\" ...</td>\n",
       "      <td>unanswerable</td>\n",
       "      <td>NO_LABEL</td>\n",
       "    </tr>\n",
       "    <tr>\n",
       "      <th>63</th>\n",
       "      <td>Warsaw remained the capital of the Polish–Lith...</td>\n",
       "      <td>What kingdom annexed Warsaw in 1796?</td>\n",
       "      <td>Prussia</td>\n",
       "      <td>NO_LABEL</td>\n",
       "    </tr>\n",
       "    <tr>\n",
       "      <th>65</th>\n",
       "      <td>The clinical pharmacist's role involves creati...</td>\n",
       "      <td>What are some other factors a pharmacist must ...</td>\n",
       "      <td>potential drug interactions, adverse drug reac...</td>\n",
       "      <td>unanswerable</td>\n",
       "    </tr>\n",
       "    <tr>\n",
       "      <th>66</th>\n",
       "      <td>Many machine models different from the standar...</td>\n",
       "      <td>What commonality do alternate machine models, ...</td>\n",
       "      <td>the machines operate deterministically</td>\n",
       "      <td>deterministically</td>\n",
       "    </tr>\n",
       "    <tr>\n",
       "      <th>68</th>\n",
       "      <td>Uptake of O\\n2 from the air is the essential p...</td>\n",
       "      <td>What medical treatment is used to benefit pati...</td>\n",
       "      <td>Oxygen therapy</td>\n",
       "      <td>NO_LABEL</td>\n",
       "    </tr>\n",
       "    <tr>\n",
       "      <th>70</th>\n",
       "      <td>Disorders of the immune system can result in a...</td>\n",
       "      <td>What is not caused by disorders of the immune ...</td>\n",
       "      <td>unanswerable</td>\n",
       "      <td>NO_LABEL</td>\n",
       "    </tr>\n",
       "    <tr>\n",
       "      <th>71</th>\n",
       "      <td>As northwest Europe slowly began to warm up fr...</td>\n",
       "      <td>What did the Rhine help to expand?</td>\n",
       "      <td>unanswerable</td>\n",
       "      <td>NO_LABEL</td>\n",
       "    </tr>\n",
       "    <tr>\n",
       "      <th>72</th>\n",
       "      <td>The mechanisms used to evade the adaptive immu...</td>\n",
       "      <td>What is a pathogen that does not use antigenic...</td>\n",
       "      <td>unanswerable</td>\n",
       "      <td>NO_LABEL</td>\n",
       "    </tr>\n",
       "    <tr>\n",
       "      <th>73</th>\n",
       "      <td>Where CHP is not used, steam turbines in power...</td>\n",
       "      <td>In what sort of places are dry cooling towers ...</td>\n",
       "      <td>where water is costly</td>\n",
       "      <td>locations where water is costly</td>\n",
       "    </tr>\n",
       "    <tr>\n",
       "      <th>77</th>\n",
       "      <td>From their original homelands in Scandinavia a...</td>\n",
       "      <td>Germany referred to which area more so than an...</td>\n",
       "      <td>central Europe</td>\n",
       "      <td>amorphous area of central Europe</td>\n",
       "    </tr>\n",
       "    <tr>\n",
       "      <th>78</th>\n",
       "      <td>The plague struck various countries in the Mid...</td>\n",
       "      <td>Where did the residents of Antioch flee to?</td>\n",
       "      <td>The city's residents fled to the north</td>\n",
       "      <td>the north</td>\n",
       "    </tr>\n",
       "    <tr>\n",
       "      <th>81</th>\n",
       "      <td>The capabilities approach – sometimes called t...</td>\n",
       "      <td>What is the goal of the incapabilities approach?</td>\n",
       "      <td>unanswerable</td>\n",
       "      <td>NO_LABEL</td>\n",
       "    </tr>\n",
       "    <tr>\n",
       "      <th>83</th>\n",
       "      <td>The outer surface bears usually eight comb row...</td>\n",
       "      <td>To what length can flagella grow to?</td>\n",
       "      <td>unanswerable</td>\n",
       "      <td>2 millimeters (0.079 in)</td>\n",
       "    </tr>\n",
       "    <tr>\n",
       "      <th>86</th>\n",
       "      <td>NASA's CALIPSO satellite has measured the amou...</td>\n",
       "      <td>How many tons of dust are blown from the Sahar...</td>\n",
       "      <td>182 million tons</td>\n",
       "      <td>182 million</td>\n",
       "    </tr>\n",
       "    <tr>\n",
       "      <th>89</th>\n",
       "      <td>Along with giving the offender his \"just deser...</td>\n",
       "      <td>What should be the main goal of not using puni...</td>\n",
       "      <td>would do more harm than good</td>\n",
       "      <td>unanswerable</td>\n",
       "    </tr>\n",
       "    <tr>\n",
       "      <th>91</th>\n",
       "      <td>Hamas has continued to be a major player in Pa...</td>\n",
       "      <td>What did Hamas win in the January 2006 legisla...</td>\n",
       "      <td>majority of the seats,</td>\n",
       "      <td>the majority of the seats</td>\n",
       "    </tr>\n",
       "    <tr>\n",
       "      <th>95</th>\n",
       "      <td>Following a referendum in 1997, in which the S...</td>\n",
       "      <td>The Scottish Parliament may legislate as it pl...</td>\n",
       "      <td>Westminster</td>\n",
       "      <td>Parliament of the United Kingdom</td>\n",
       "    </tr>\n",
       "    <tr>\n",
       "      <th>97</th>\n",
       "      <td>Starting in the late 1950s, American computer ...</td>\n",
       "      <td>What fortified this concept?</td>\n",
       "      <td>unanswerable</td>\n",
       "      <td>the development of telecommunications in the B...</td>\n",
       "    </tr>\n",
       "    <tr>\n",
       "      <th>98</th>\n",
       "      <td>Non-revolutionary civil disobedience is a simp...</td>\n",
       "      <td>What type of civil disobedience is larger scale?</td>\n",
       "      <td>Revolutionary civil disobedience</td>\n",
       "      <td>unanswerable</td>\n",
       "    </tr>\n",
       "    <tr>\n",
       "      <th>99</th>\n",
       "      <td>Although it is generally accepted that EU law ...</td>\n",
       "      <td>In which case was it held that the provisions ...</td>\n",
       "      <td>Van Gend en Loos v Nederlandse Administratie d...</td>\n",
       "      <td>NO_LABEL</td>\n",
       "    </tr>\n",
       "  </tbody>\n",
       "</table>\n",
       "</div>"
      ],
      "text/plain": [
       "                                              context   \n",
       "2   The weight of boilers and condensers generally...  \\\n",
       "3   Orange County is a rapidly developing business...   \n",
       "5   There are also many places commemorating the h...   \n",
       "7   Like much of the south Atlantic region of the ...   \n",
       "10  Wealth concentration is a theoretical[accordin...   \n",
       "12  can have infinitely many primes only when a an...   \n",
       "17  In most jurisdictions (such as the United Stat...   \n",
       "19  In a purely capitalist mode of production (i.e...   \n",
       "22  The most basic method of checking the primalit...   \n",
       "23  The tallest building in Downtown Jacksonville'...   \n",
       "24  Some disagree with such double or triple non-F...   \n",
       "28  Hypersensitivity is an immune response that da...   \n",
       "30  Highly concentrated sources of oxygen promote ...   \n",
       "33  The Very high-speed Backbone Network Service (...   \n",
       "38  Oxygen was discovered independently by Carl Wi...   \n",
       "43  Merit Network, Inc., an independent non-profit...   \n",
       "45  In 1872, the Central Pacific Railroad establis...   \n",
       "48  For many geologic applications, isotope ratios...   \n",
       "55  In the fall quarter of 2014, the University of...   \n",
       "60  Bolshevik leaders had effectively reestablishe...   \n",
       "63  Warsaw remained the capital of the Polish–Lith...   \n",
       "65  The clinical pharmacist's role involves creati...   \n",
       "66  Many machine models different from the standar...   \n",
       "68  Uptake of O\\n2 from the air is the essential p...   \n",
       "70  Disorders of the immune system can result in a...   \n",
       "71  As northwest Europe slowly began to warm up fr...   \n",
       "72  The mechanisms used to evade the adaptive immu...   \n",
       "73  Where CHP is not used, steam turbines in power...   \n",
       "77  From their original homelands in Scandinavia a...   \n",
       "78  The plague struck various countries in the Mid...   \n",
       "81  The capabilities approach – sometimes called t...   \n",
       "83  The outer surface bears usually eight comb row...   \n",
       "86  NASA's CALIPSO satellite has measured the amou...   \n",
       "89  Along with giving the offender his \"just deser...   \n",
       "91  Hamas has continued to be a major player in Pa...   \n",
       "95  Following a referendum in 1997, in which the S...   \n",
       "97  Starting in the late 1950s, American computer ...   \n",
       "98  Non-revolutionary civil disobedience is a simp...   \n",
       "99  Although it is generally accepted that EU law ...   \n",
       "\n",
       "                                             question   \n",
       "2   Along with fuel sources, what concern has cont...  \\\n",
       "3     Which county is developing its business center?   \n",
       "5   What monument is in memory of the largest insu...   \n",
       "7        What type of climate does Jacksonville have?   \n",
       "10  According to the wealth concentration theory, ...   \n",
       "12  If q=9 and a=1,2,4,5,7, or 8, how many primes ...   \n",
       "17  Who do most jurisdictions say can give schedul...   \n",
       "19    Under what law is value of a worker determined?   \n",
       "22  What must the integer m be less than or equal ...   \n",
       "23  In the shortest building in downtown Jacksonvi...   \n",
       "24  What is the theory that this King's name is th...   \n",
       "28  What is an immune response that heals the body...   \n",
       "30  Although not a fuel  ___ is the chemical compo...   \n",
       "33               What did the network install in 1999   \n",
       "38            When did Carl Priestly discover oxygen?   \n",
       "43  Why was the Michigan Educational Research Info...   \n",
       "45  When did the Fresno Traction Company come to F...   \n",
       "48  What techniques can be used to determine paleo...   \n",
       "55  The University enrolled 5,984 students in the ...   \n",
       "60   When was the Russian Policy \"Indigenization\" ...   \n",
       "63               What kingdom annexed Warsaw in 1796?   \n",
       "65  What are some other factors a pharmacist must ...   \n",
       "66  What commonality do alternate machine models, ...   \n",
       "68  What medical treatment is used to benefit pati...   \n",
       "70  What is not caused by disorders of the immune ...   \n",
       "71                 What did the Rhine help to expand?   \n",
       "72  What is a pathogen that does not use antigenic...   \n",
       "73  In what sort of places are dry cooling towers ...   \n",
       "77  Germany referred to which area more so than an...   \n",
       "78        Where did the residents of Antioch flee to?   \n",
       "81   What is the goal of the incapabilities approach?   \n",
       "83               To what length can flagella grow to?   \n",
       "86  How many tons of dust are blown from the Sahar...   \n",
       "89  What should be the main goal of not using puni...   \n",
       "91  What did Hamas win in the January 2006 legisla...   \n",
       "95  The Scottish Parliament may legislate as it pl...   \n",
       "97                       What fortified this concept?   \n",
       "98   What type of civil disobedience is larger scale?   \n",
       "99  In which case was it held that the provisions ...   \n",
       "\n",
       "                                               answer   \n",
       "2                                           pollution  \\\n",
       "3                                              Orange   \n",
       "5                            Warsaw Uprising Monument   \n",
       "7                                         subtropical   \n",
       "10                                    means to invest   \n",
       "12                      infinitely many prime numbers   \n",
       "17                                   only pharmacists   \n",
       "19                                  supply and demand   \n",
       "22         less than or equal to the square root of n   \n",
       "23                                       unanswerable   \n",
       "24                            The \"Hugues hypothesis\"   \n",
       "28                                       unanswerable   \n",
       "30                                             Oxygen   \n",
       "33  vBNS installed one of the first ever productio...   \n",
       "38                                       unanswerable   \n",
       "43                                       unanswerable   \n",
       "45                                       unanswerable   \n",
       "48                          Thermochemical techniques   \n",
       "55                                       unanswerable   \n",
       "60                                       unanswerable   \n",
       "63                                            Prussia   \n",
       "65  potential drug interactions, adverse drug reac...   \n",
       "66             the machines operate deterministically   \n",
       "68                                     Oxygen therapy   \n",
       "70                                       unanswerable   \n",
       "71                                       unanswerable   \n",
       "72                                       unanswerable   \n",
       "73                              where water is costly   \n",
       "77                                     central Europe   \n",
       "78             The city's residents fled to the north   \n",
       "81                                       unanswerable   \n",
       "83                                       unanswerable   \n",
       "86                                   182 million tons   \n",
       "89                       would do more harm than good   \n",
       "91                             majority of the seats,   \n",
       "95                                        Westminster   \n",
       "97                                       unanswerable   \n",
       "98                   Revolutionary civil disobedience   \n",
       "99  Van Gend en Loos v Nederlandse Administratie d...   \n",
       "\n",
       "                        OpenbookQAWikipedia_llm_label  \n",
       "2                                            NO_LABEL  \n",
       "3                                       Orange County  \n",
       "5                                            NO_LABEL  \n",
       "7                           humid subtropical climate  \n",
       "10  means to invest in new sources of creating wea...  \n",
       "12                                       unanswerable  \n",
       "17                                        pharmacists  \n",
       "19                       the law of supply and demand  \n",
       "22                               the square root of n  \n",
       "23                          28 floor Riverplace Tower  \n",
       "24                                  Hugues hypothesis  \n",
       "28                                           NO_LABEL  \n",
       "30                                       unanswerable  \n",
       "33  one of the first ever production OC-48c (2.5 G...  \n",
       "38                                               1774  \n",
       "43  explore computer networking between three of M...  \n",
       "45                                               1931  \n",
       "48                                     thermochemical  \n",
       "55                                              5,984  \n",
       "60                                           NO_LABEL  \n",
       "63                                           NO_LABEL  \n",
       "65                                       unanswerable  \n",
       "66                                  deterministically  \n",
       "68                                           NO_LABEL  \n",
       "70                                           NO_LABEL  \n",
       "71                                           NO_LABEL  \n",
       "72                                           NO_LABEL  \n",
       "73                    locations where water is costly  \n",
       "77                   amorphous area of central Europe  \n",
       "78                                          the north  \n",
       "81                                           NO_LABEL  \n",
       "83                           2 millimeters (0.079 in)  \n",
       "86                                        182 million  \n",
       "89                                       unanswerable  \n",
       "91                          the majority of the seats  \n",
       "95                   Parliament of the United Kingdom  \n",
       "97  the development of telecommunications in the B...  \n",
       "98                                       unanswerable  \n",
       "99                                           NO_LABEL  "
      ]
     },
     "execution_count": 56,
     "metadata": {},
     "output_type": "execute_result"
    }
   ],
   "source": [
    "wrong_rows = df[df[\"answer\"] != df[\"OpenbookQAWikipedia_llm_label\"]][[\"context\", \"question\", \"answer\", \"OpenbookQAWikipedia_llm_label\"]]\n",
    "print(len(wrong_rows))\n",
    "wrong_rows"
   ]
  },
  {
   "cell_type": "code",
   "execution_count": 57,
   "metadata": {},
   "outputs": [
    {
     "data": {
      "text/html": [
       "<div>\n",
       "<style scoped>\n",
       "    .dataframe tbody tr th:only-of-type {\n",
       "        vertical-align: middle;\n",
       "    }\n",
       "\n",
       "    .dataframe tbody tr th {\n",
       "        vertical-align: top;\n",
       "    }\n",
       "\n",
       "    .dataframe thead th {\n",
       "        text-align: right;\n",
       "    }\n",
       "</style>\n",
       "<table border=\"1\" class=\"dataframe\">\n",
       "  <thead>\n",
       "    <tr style=\"text-align: right;\">\n",
       "      <th></th>\n",
       "      <th>context</th>\n",
       "      <th>question</th>\n",
       "      <th>answer</th>\n",
       "      <th>OpenbookQAWikipedia_llm_label</th>\n",
       "    </tr>\n",
       "  </thead>\n",
       "  <tbody>\n",
       "    <tr>\n",
       "      <th>23</th>\n",
       "      <td>The tallest building in Downtown Jacksonville'...</td>\n",
       "      <td>In the shortest building in downtown Jacksonvi...</td>\n",
       "      <td>unanswerable</td>\n",
       "      <td>28 floor Riverplace Tower</td>\n",
       "    </tr>\n",
       "    <tr>\n",
       "      <th>28</th>\n",
       "      <td>Hypersensitivity is an immune response that da...</td>\n",
       "      <td>What is an immune response that heals the body...</td>\n",
       "      <td>unanswerable</td>\n",
       "      <td>NO_LABEL</td>\n",
       "    </tr>\n",
       "    <tr>\n",
       "      <th>38</th>\n",
       "      <td>Oxygen was discovered independently by Carl Wi...</td>\n",
       "      <td>When did Carl Priestly discover oxygen?</td>\n",
       "      <td>unanswerable</td>\n",
       "      <td>1774</td>\n",
       "    </tr>\n",
       "    <tr>\n",
       "      <th>43</th>\n",
       "      <td>Merit Network, Inc., an independent non-profit...</td>\n",
       "      <td>Why was the Michigan Educational Research Info...</td>\n",
       "      <td>unanswerable</td>\n",
       "      <td>explore computer networking between three of M...</td>\n",
       "    </tr>\n",
       "    <tr>\n",
       "      <th>45</th>\n",
       "      <td>In 1872, the Central Pacific Railroad establis...</td>\n",
       "      <td>When did the Fresno Traction Company come to F...</td>\n",
       "      <td>unanswerable</td>\n",
       "      <td>1931</td>\n",
       "    </tr>\n",
       "    <tr>\n",
       "      <th>55</th>\n",
       "      <td>In the fall quarter of 2014, the University of...</td>\n",
       "      <td>The University enrolled 5,984 students in the ...</td>\n",
       "      <td>unanswerable</td>\n",
       "      <td>5,984</td>\n",
       "    </tr>\n",
       "    <tr>\n",
       "      <th>60</th>\n",
       "      <td>Bolshevik leaders had effectively reestablishe...</td>\n",
       "      <td>When was the Russian Policy \"Indigenization\" ...</td>\n",
       "      <td>unanswerable</td>\n",
       "      <td>NO_LABEL</td>\n",
       "    </tr>\n",
       "    <tr>\n",
       "      <th>70</th>\n",
       "      <td>Disorders of the immune system can result in a...</td>\n",
       "      <td>What is not caused by disorders of the immune ...</td>\n",
       "      <td>unanswerable</td>\n",
       "      <td>NO_LABEL</td>\n",
       "    </tr>\n",
       "    <tr>\n",
       "      <th>71</th>\n",
       "      <td>As northwest Europe slowly began to warm up fr...</td>\n",
       "      <td>What did the Rhine help to expand?</td>\n",
       "      <td>unanswerable</td>\n",
       "      <td>NO_LABEL</td>\n",
       "    </tr>\n",
       "    <tr>\n",
       "      <th>72</th>\n",
       "      <td>The mechanisms used to evade the adaptive immu...</td>\n",
       "      <td>What is a pathogen that does not use antigenic...</td>\n",
       "      <td>unanswerable</td>\n",
       "      <td>NO_LABEL</td>\n",
       "    </tr>\n",
       "    <tr>\n",
       "      <th>81</th>\n",
       "      <td>The capabilities approach – sometimes called t...</td>\n",
       "      <td>What is the goal of the incapabilities approach?</td>\n",
       "      <td>unanswerable</td>\n",
       "      <td>NO_LABEL</td>\n",
       "    </tr>\n",
       "    <tr>\n",
       "      <th>83</th>\n",
       "      <td>The outer surface bears usually eight comb row...</td>\n",
       "      <td>To what length can flagella grow to?</td>\n",
       "      <td>unanswerable</td>\n",
       "      <td>2 millimeters (0.079 in)</td>\n",
       "    </tr>\n",
       "    <tr>\n",
       "      <th>97</th>\n",
       "      <td>Starting in the late 1950s, American computer ...</td>\n",
       "      <td>What fortified this concept?</td>\n",
       "      <td>unanswerable</td>\n",
       "      <td>the development of telecommunications in the B...</td>\n",
       "    </tr>\n",
       "  </tbody>\n",
       "</table>\n",
       "</div>"
      ],
      "text/plain": [
       "                                              context   \n",
       "23  The tallest building in Downtown Jacksonville'...  \\\n",
       "28  Hypersensitivity is an immune response that da...   \n",
       "38  Oxygen was discovered independently by Carl Wi...   \n",
       "43  Merit Network, Inc., an independent non-profit...   \n",
       "45  In 1872, the Central Pacific Railroad establis...   \n",
       "55  In the fall quarter of 2014, the University of...   \n",
       "60  Bolshevik leaders had effectively reestablishe...   \n",
       "70  Disorders of the immune system can result in a...   \n",
       "71  As northwest Europe slowly began to warm up fr...   \n",
       "72  The mechanisms used to evade the adaptive immu...   \n",
       "81  The capabilities approach – sometimes called t...   \n",
       "83  The outer surface bears usually eight comb row...   \n",
       "97  Starting in the late 1950s, American computer ...   \n",
       "\n",
       "                                             question        answer   \n",
       "23  In the shortest building in downtown Jacksonvi...  unanswerable  \\\n",
       "28  What is an immune response that heals the body...  unanswerable   \n",
       "38            When did Carl Priestly discover oxygen?  unanswerable   \n",
       "43  Why was the Michigan Educational Research Info...  unanswerable   \n",
       "45  When did the Fresno Traction Company come to F...  unanswerable   \n",
       "55  The University enrolled 5,984 students in the ...  unanswerable   \n",
       "60   When was the Russian Policy \"Indigenization\" ...  unanswerable   \n",
       "70  What is not caused by disorders of the immune ...  unanswerable   \n",
       "71                 What did the Rhine help to expand?  unanswerable   \n",
       "72  What is a pathogen that does not use antigenic...  unanswerable   \n",
       "81   What is the goal of the incapabilities approach?  unanswerable   \n",
       "83               To what length can flagella grow to?  unanswerable   \n",
       "97                       What fortified this concept?  unanswerable   \n",
       "\n",
       "                        OpenbookQAWikipedia_llm_label  \n",
       "23                          28 floor Riverplace Tower  \n",
       "28                                           NO_LABEL  \n",
       "38                                               1774  \n",
       "43  explore computer networking between three of M...  \n",
       "45                                               1931  \n",
       "55                                              5,984  \n",
       "60                                           NO_LABEL  \n",
       "70                                           NO_LABEL  \n",
       "71                                           NO_LABEL  \n",
       "72                                           NO_LABEL  \n",
       "81                                           NO_LABEL  \n",
       "83                           2 millimeters (0.079 in)  \n",
       "97  the development of telecommunications in the B...  "
      ]
     },
     "execution_count": 57,
     "metadata": {},
     "output_type": "execute_result"
    }
   ],
   "source": [
    "wrong_rows[wrong_rows[\"answer\"] == \"unanswerable\"]"
   ]
  },
  {
   "cell_type": "code",
   "execution_count": 58,
   "metadata": {},
   "outputs": [
    {
     "data": {
      "text/html": [
       "<div>\n",
       "<style scoped>\n",
       "    .dataframe tbody tr th:only-of-type {\n",
       "        vertical-align: middle;\n",
       "    }\n",
       "\n",
       "    .dataframe tbody tr th {\n",
       "        vertical-align: top;\n",
       "    }\n",
       "\n",
       "    .dataframe thead th {\n",
       "        text-align: right;\n",
       "    }\n",
       "</style>\n",
       "<table border=\"1\" class=\"dataframe\">\n",
       "  <thead>\n",
       "    <tr style=\"text-align: right;\">\n",
       "      <th></th>\n",
       "      <th>context</th>\n",
       "      <th>question</th>\n",
       "      <th>answer</th>\n",
       "      <th>OpenbookQAWikipedia_llm_label</th>\n",
       "    </tr>\n",
       "  </thead>\n",
       "  <tbody>\n",
       "    <tr>\n",
       "      <th>12</th>\n",
       "      <td>can have infinitely many primes only when a an...</td>\n",
       "      <td>If q=9 and a=1,2,4,5,7, or 8, how many primes ...</td>\n",
       "      <td>infinitely many prime numbers</td>\n",
       "      <td>unanswerable</td>\n",
       "    </tr>\n",
       "    <tr>\n",
       "      <th>30</th>\n",
       "      <td>Highly concentrated sources of oxygen promote ...</td>\n",
       "      <td>Although not a fuel  ___ is the chemical compo...</td>\n",
       "      <td>Oxygen</td>\n",
       "      <td>unanswerable</td>\n",
       "    </tr>\n",
       "    <tr>\n",
       "      <th>65</th>\n",
       "      <td>The clinical pharmacist's role involves creati...</td>\n",
       "      <td>What are some other factors a pharmacist must ...</td>\n",
       "      <td>potential drug interactions, adverse drug reac...</td>\n",
       "      <td>unanswerable</td>\n",
       "    </tr>\n",
       "    <tr>\n",
       "      <th>89</th>\n",
       "      <td>Along with giving the offender his \"just deser...</td>\n",
       "      <td>What should be the main goal of not using puni...</td>\n",
       "      <td>would do more harm than good</td>\n",
       "      <td>unanswerable</td>\n",
       "    </tr>\n",
       "    <tr>\n",
       "      <th>98</th>\n",
       "      <td>Non-revolutionary civil disobedience is a simp...</td>\n",
       "      <td>What type of civil disobedience is larger scale?</td>\n",
       "      <td>Revolutionary civil disobedience</td>\n",
       "      <td>unanswerable</td>\n",
       "    </tr>\n",
       "  </tbody>\n",
       "</table>\n",
       "</div>"
      ],
      "text/plain": [
       "                                              context   \n",
       "12  can have infinitely many primes only when a an...  \\\n",
       "30  Highly concentrated sources of oxygen promote ...   \n",
       "65  The clinical pharmacist's role involves creati...   \n",
       "89  Along with giving the offender his \"just deser...   \n",
       "98  Non-revolutionary civil disobedience is a simp...   \n",
       "\n",
       "                                             question   \n",
       "12  If q=9 and a=1,2,4,5,7, or 8, how many primes ...  \\\n",
       "30  Although not a fuel  ___ is the chemical compo...   \n",
       "65  What are some other factors a pharmacist must ...   \n",
       "89  What should be the main goal of not using puni...   \n",
       "98   What type of civil disobedience is larger scale?   \n",
       "\n",
       "                                               answer   \n",
       "12                      infinitely many prime numbers  \\\n",
       "30                                             Oxygen   \n",
       "65  potential drug interactions, adverse drug reac...   \n",
       "89                       would do more harm than good   \n",
       "98                   Revolutionary civil disobedience   \n",
       "\n",
       "   OpenbookQAWikipedia_llm_label  \n",
       "12                  unanswerable  \n",
       "30                  unanswerable  \n",
       "65                  unanswerable  \n",
       "89                  unanswerable  \n",
       "98                  unanswerable  "
      ]
     },
     "execution_count": 58,
     "metadata": {},
     "output_type": "execute_result"
    }
   ],
   "source": [
    "wrong_rows[wrong_rows[\"OpenbookQAWikipedia_llm_label\"] == \"unanswerable\"]"
   ]
  },
  {
   "cell_type": "code",
   "execution_count": 59,
   "metadata": {},
   "outputs": [
    {
     "data": {
      "text/plain": [
       "context                                         Following a referendum in 1997, in which the S...\n",
       "question                                        The Scottish Parliament may legislate as it pl...\n",
       "answer                                                                                Westminster\n",
       "OpenbookQAWikipedia_llm_labeled_successfully                                                  yes\n",
       "OpenbookQAWikipedia_llm_label                                    Parliament of the United Kingdom\n",
       "Name: 95, dtype: object"
      ]
     },
     "execution_count": 59,
     "metadata": {},
     "output_type": "execute_result"
    }
   ],
   "source": [
    "df.iloc[95]"
   ]
  },
  {
   "cell_type": "code",
   "execution_count": 60,
   "metadata": {},
   "outputs": [],
   "source": [
    "sciq_config = {\n",
    "    \"task_name\": \"ScienceQuestion\",\n",
    "    \"task_type\": \"question_answering\",\n",
    "    \"dataset\": {\"label_column\": \"answer\", \"delimiter\": \",\"},\n",
    "    \"model\": {\"provider\": \"google\", \"name\": \"text-bison@001\"},\n",
    "    \"json_empty_response\": '{\"label\": \"\"}',\n",
    "    \"empty_response\": \"\",\n",
    "    \"prompt\": {\n",
    "        \"task_guidelines\": \"You are an expert at answer science questions.\",\n",
    "        \"few_shot_examples\": \"../data/sciq_seed.csv\",\n",
    "        \"few_shot_selection\": \"fixed\",\n",
    "        \"few_shot_num\": 5,\n",
    "        \"example_template\": \"Question: {question}\\nOptions: {options}\\nAnswer:{answer}\\n\",\n",
    "    },\n",
    "}"
   ]
  },
  {
   "cell_type": "code",
   "execution_count": 61,
   "metadata": {},
   "outputs": [
    {
     "name": "stdout",
     "output_type": "stream",
     "text": [
      "PaLM model name: text-bison@001\n"
     ]
    },
    {
     "data": {
      "application/vnd.jupyter.widget-view+json": {
       "model_id": "2b85901a35ec457bab63c55df8bbc9b4",
       "version_major": 2,
       "version_minor": 0
      },
      "text/plain": [
       "Output()"
      ]
     },
     "metadata": {},
     "output_type": "display_data"
    },
    {
     "data": {
      "text/html": [
       "<pre style=\"white-space:pre;overflow-x:auto;line-height:normal;font-family:Menlo,'DejaVu Sans Mono',consolas,'Courier New',monospace\"></pre>\n"
      ],
      "text/plain": []
     },
     "metadata": {},
     "output_type": "display_data"
    },
    {
     "data": {
      "text/html": [
       "<pre style=\"white-space:pre;overflow-x:auto;line-height:normal;font-family:Menlo,'DejaVu Sans Mono',consolas,'Courier New',monospace\">\n",
       "</pre>\n"
      ],
      "text/plain": [
       "\n"
      ]
     },
     "metadata": {},
     "output_type": "display_data"
    },
    {
     "data": {
      "text/html": [
       "<pre style=\"white-space:pre;overflow-x:auto;line-height:normal;font-family:Menlo,'DejaVu Sans Mono',consolas,'Courier New',monospace\">┌──────────────────────────┬────────┐\n",
       "│<span style=\"color: #008000; text-decoration-color: #008000; font-weight: bold\"> Total Estimated Cost     </span>│<span style=\"color: #800080; text-decoration-color: #800080; font-weight: bold\"> $0.166 </span>│\n",
       "│<span style=\"color: #008000; text-decoration-color: #008000; font-weight: bold\"> Number of Examples       </span>│<span style=\"color: #800080; text-decoration-color: #800080; font-weight: bold\"> 128    </span>│\n",
       "│<span style=\"color: #008000; text-decoration-color: #008000; font-weight: bold\"> Average cost per example </span>│<span style=\"color: #800080; text-decoration-color: #800080; font-weight: bold\"> 0.0013 </span>│\n",
       "└──────────────────────────┴────────┘\n",
       "</pre>\n"
      ],
      "text/plain": [
       "┌──────────────────────────┬────────┐\n",
       "│\u001b[1;32m \u001b[0m\u001b[1;32mTotal Estimated Cost    \u001b[0m\u001b[1;32m \u001b[0m│\u001b[1;35m \u001b[0m\u001b[1;35m$0.166\u001b[0m\u001b[1;35m \u001b[0m│\n",
       "│\u001b[1;32m \u001b[0m\u001b[1;32mNumber of Examples      \u001b[0m\u001b[1;32m \u001b[0m│\u001b[1;35m \u001b[0m\u001b[1;35m128   \u001b[0m\u001b[1;35m \u001b[0m│\n",
       "│\u001b[1;32m \u001b[0m\u001b[1;32mAverage cost per example\u001b[0m\u001b[1;32m \u001b[0m│\u001b[1;35m \u001b[0m\u001b[1;35m0.0013\u001b[0m\u001b[1;35m \u001b[0m│\n",
       "└──────────────────────────┴────────┘\n"
      ]
     },
     "metadata": {},
     "output_type": "display_data"
    },
    {
     "data": {
      "text/html": [
       "<pre style=\"white-space:pre;overflow-x:auto;line-height:normal;font-family:Menlo,'DejaVu Sans Mono',consolas,'Courier New',monospace\"><span style=\"color: #00ff00; text-decoration-color: #00ff00\">───────────────────────────────────────────────── </span>Prompt Example<span style=\"color: #00ff00; text-decoration-color: #00ff00\"> ──────────────────────────────────────────────────</span>\n",
       "</pre>\n"
      ],
      "text/plain": [
       "\u001b[92m───────────────────────────────────────────────── \u001b[0mPrompt Example\u001b[92m ──────────────────────────────────────────────────\u001b[0m\n"
      ]
     },
     "metadata": {},
     "output_type": "display_data"
    },
    {
     "name": "stdout",
     "output_type": "stream",
     "text": [
      "You are an expert at answer science questions.\n",
      "\n",
      "You will return the answer one element: \"the correct label\"\n",
      "\n",
      "\n",
      "Some examples with their output answers are provided below:\n",
      "\n",
      "Question: What is the most important function of enzymes in animals?\n",
      "Options: ['help digest food', 'carry oxygen', 'excrete waste', 'transport messages']\n",
      "Answer:help digest food\n",
      "\n",
      "\n",
      "Question: After coming apart from the crystal, the individual ions are then surrounded by solvent particles in a process called what?\n",
      "Options: ['osmosis', 'ionization', 'solvation', 'hydrolysis']\n",
      "Answer:solvation\n",
      "\n",
      "\n",
      "Question: A battery is a multiple connection of what kind of cells?\n",
      "Options: ['voltaic cells', 'localweather cells', 'organic cells', 'cabri cells']\n",
      "Answer:voltaic cells\n",
      "\n",
      "\n",
      "Question: What is needed for a person to be affected by an autosomal dominant disorder?\n",
      "Options: ['one mutated allele', 'one less chromosome', 'extra alleles', 'one isolated allele']\n",
      "Answer:one mutated allele\n",
      "\n",
      "\n",
      "Question: The rocks athe mid-ocean ridge are nearly free of what?\n",
      "Options: ['scratches', 'minerals', 'metals', 'sediment']\n",
      "Answer:sediment\n",
      "\n",
      "\n",
      "Now I want you to label the following example:\n",
      "Question: Compounds that are capable of accepting electrons, such as o 2 or f2, are called what?\n",
      "Options: ['Oxygen', 'antioxidants', 'residues', 'oxidants']\n",
      "Answer:\n",
      "\n"
     ]
    },
    {
     "data": {
      "text/html": [
       "<pre style=\"white-space:pre;overflow-x:auto;line-height:normal;font-family:Menlo,'DejaVu Sans Mono',consolas,'Courier New',monospace\"><span style=\"color: #00ff00; text-decoration-color: #00ff00\">───────────────────────────────────────────────────────────────────────────────────────────────────────────────────</span>\n",
       "</pre>\n"
      ],
      "text/plain": [
       "\u001b[92m───────────────────────────────────────────────────────────────────────────────────────────────────────────────────\u001b[0m\n"
      ]
     },
     "metadata": {},
     "output_type": "display_data"
    }
   ],
   "source": [
    "l = LabelingAgent(config=sciq_config, cache=False)\n",
    "l.plan(\"../data/sciq_test.csv\", max_items=MAX_ITEMS)"
   ]
  },
  {
   "cell_type": "code",
   "execution_count": 62,
   "metadata": {},
   "outputs": [
    {
     "data": {
      "application/vnd.jupyter.widget-view+json": {
       "model_id": "e6f970d4ba804f63a61382d43f3f1a3c",
       "version_major": 2,
       "version_minor": 0
      },
      "text/plain": [
       "Output()"
      ]
     },
     "metadata": {},
     "output_type": "display_data"
    },
    {
     "name": "stdout",
     "output_type": "stream",
     "text": [
      "\u001b[32m2023-06-05 12:16:04.454\u001b[0m | \u001b[31m\u001b[1mERROR   \u001b[0m | \u001b[36mautolabel.tasks.base\u001b[0m:\u001b[36mparse_llm_response\u001b[0m:\u001b[36m73\u001b[0m - \u001b[31m\u001b[1mError parsing LLM response: \u001b[0m\n"
     ]
    },
    {
     "name": "stdout",
     "output_type": "stream",
     "text": [
      "\u001b[32m2023-06-05 12:16:40.353\u001b[0m | \u001b[31m\u001b[1mERROR   \u001b[0m | \u001b[36mautolabel.tasks.base\u001b[0m:\u001b[36mparse_llm_response\u001b[0m:\u001b[36m73\u001b[0m - \u001b[31m\u001b[1mError parsing LLM response: \u001b[0m\n"
     ]
    },
    {
     "data": {
      "text/html": [
       "<pre style=\"white-space:pre;overflow-x:auto;line-height:normal;font-family:Menlo,'DejaVu Sans Mono',consolas,'Courier New',monospace\"></pre>\n"
      ],
      "text/plain": []
     },
     "metadata": {},
     "output_type": "display_data"
    },
    {
     "data": {
      "text/html": [
       "<pre style=\"white-space:pre;overflow-x:auto;line-height:normal;font-family:Menlo,'DejaVu Sans Mono',consolas,'Courier New',monospace\">┏━━━━━━━━━━━━━━━━━━━━┳━━━━━━━━━┳━━━━━━━━━━━┳━━━━━━━━━━━━━━━━━━━━┳━━━━━━━━━━━━━━━━━┳━━━━━━━━━━━━━┓\n",
       "┃<span style=\"font-weight: bold\"> f1                 </span>┃<span style=\"font-weight: bold\"> support </span>┃<span style=\"font-weight: bold\"> threshold </span>┃<span style=\"font-weight: bold\"> accuracy           </span>┃<span style=\"font-weight: bold\"> completion_rate </span>┃<span style=\"font-weight: bold\"> Actual Cost </span>┃\n",
       "┡━━━━━━━━━━━━━━━━━━━━╇━━━━━━━━━╇━━━━━━━━━━━╇━━━━━━━━━━━━━━━━━━━━╇━━━━━━━━━━━━━━━━━╇━━━━━━━━━━━━━┩\n",
       "│<span style=\"color: #008080; text-decoration-color: #008080; font-weight: bold\"> 0.9563491304484817 </span>│<span style=\"color: #008080; text-decoration-color: #008080; font-weight: bold\"> 126     </span>│<span style=\"color: #008080; text-decoration-color: #008080; font-weight: bold\"> -inf      </span>│<span style=\"color: #008080; text-decoration-color: #008080; font-weight: bold\"> 0.9444444444444444 </span>│<span style=\"color: #008080; text-decoration-color: #008080; font-weight: bold\"> 0.984375        </span>│<span style=\"color: #008080; text-decoration-color: #008080; font-weight: bold\"> 0.165999    </span>│\n",
       "└────────────────────┴─────────┴───────────┴────────────────────┴─────────────────┴─────────────┘\n",
       "</pre>\n"
      ],
      "text/plain": [
       "┏━━━━━━━━━━━━━━━━━━━━┳━━━━━━━━━┳━━━━━━━━━━━┳━━━━━━━━━━━━━━━━━━━━┳━━━━━━━━━━━━━━━━━┳━━━━━━━━━━━━━┓\n",
       "┃\u001b[1m \u001b[0m\u001b[1mf1                \u001b[0m\u001b[1m \u001b[0m┃\u001b[1m \u001b[0m\u001b[1msupport\u001b[0m\u001b[1m \u001b[0m┃\u001b[1m \u001b[0m\u001b[1mthreshold\u001b[0m\u001b[1m \u001b[0m┃\u001b[1m \u001b[0m\u001b[1maccuracy          \u001b[0m\u001b[1m \u001b[0m┃\u001b[1m \u001b[0m\u001b[1mcompletion_rate\u001b[0m\u001b[1m \u001b[0m┃\u001b[1m \u001b[0m\u001b[1mActual Cost\u001b[0m\u001b[1m \u001b[0m┃\n",
       "┡━━━━━━━━━━━━━━━━━━━━╇━━━━━━━━━╇━━━━━━━━━━━╇━━━━━━━━━━━━━━━━━━━━╇━━━━━━━━━━━━━━━━━╇━━━━━━━━━━━━━┩\n",
       "│\u001b[1;36m \u001b[0m\u001b[1;36m0.9563491304484817\u001b[0m\u001b[1;36m \u001b[0m│\u001b[1;36m \u001b[0m\u001b[1;36m126    \u001b[0m\u001b[1;36m \u001b[0m│\u001b[1;36m \u001b[0m\u001b[1;36m-inf     \u001b[0m\u001b[1;36m \u001b[0m│\u001b[1;36m \u001b[0m\u001b[1;36m0.9444444444444444\u001b[0m\u001b[1;36m \u001b[0m│\u001b[1;36m \u001b[0m\u001b[1;36m0.984375       \u001b[0m\u001b[1;36m \u001b[0m│\u001b[1;36m \u001b[0m\u001b[1;36m0.165999   \u001b[0m\u001b[1;36m \u001b[0m│\n",
       "└────────────────────┴─────────┴───────────┴────────────────────┴─────────────────┴─────────────┘\n"
      ]
     },
     "metadata": {},
     "output_type": "display_data"
    },
    {
     "data": {
      "text/html": [
       "<pre style=\"white-space:pre;overflow-x:auto;line-height:normal;font-family:Menlo,'DejaVu Sans Mono',consolas,'Courier New',monospace\">Total number of failures: <span style=\"color: #008080; text-decoration-color: #008080; font-weight: bold\">0</span>\n",
       "</pre>\n"
      ],
      "text/plain": [
       "Total number of failures: \u001b[1;36m0\u001b[0m\n"
      ]
     },
     "metadata": {},
     "output_type": "display_data"
    }
   ],
   "source": [
    "labels, df, metric_list = l.run(\"../data/sciq_test.csv\", max_items=MAX_ITEMS)"
   ]
  },
  {
   "cell_type": "code",
   "execution_count": 63,
   "metadata": {},
   "outputs": [
    {
     "name": "stdout",
     "output_type": "stream",
     "text": [
      "2\n"
     ]
    },
    {
     "data": {
      "text/html": [
       "<div>\n",
       "<style scoped>\n",
       "    .dataframe tbody tr th:only-of-type {\n",
       "        vertical-align: middle;\n",
       "    }\n",
       "\n",
       "    .dataframe tbody tr th {\n",
       "        vertical-align: top;\n",
       "    }\n",
       "\n",
       "    .dataframe thead th {\n",
       "        text-align: right;\n",
       "    }\n",
       "</style>\n",
       "<table border=\"1\" class=\"dataframe\">\n",
       "  <thead>\n",
       "    <tr style=\"text-align: right;\">\n",
       "      <th></th>\n",
       "      <th>question</th>\n",
       "      <th>options</th>\n",
       "      <th>answer</th>\n",
       "      <th>ScienceQuestion_llm_label</th>\n",
       "    </tr>\n",
       "  </thead>\n",
       "  <tbody>\n",
       "    <tr>\n",
       "      <th>13</th>\n",
       "      <td>Penis, testes, and epididymis are organs in wh...</td>\n",
       "      <td>['female reproductive system\\u200b', 'virus re...</td>\n",
       "      <td>male reproductive system</td>\n",
       "      <td>NO_LABEL</td>\n",
       "    </tr>\n",
       "    <tr>\n",
       "      <th>99</th>\n",
       "      <td>In humans, the only haploid cells are what rep...</td>\n",
       "      <td>['dna and egg', 'sperm and dna', 'sperm and eg...</td>\n",
       "      <td>sperm and egg</td>\n",
       "      <td>NO_LABEL</td>\n",
       "    </tr>\n",
       "  </tbody>\n",
       "</table>\n",
       "</div>"
      ],
      "text/plain": [
       "                                             question   \n",
       "13  Penis, testes, and epididymis are organs in wh...  \\\n",
       "99  In humans, the only haploid cells are what rep...   \n",
       "\n",
       "                                              options   \n",
       "13  ['female reproductive system\\u200b', 'virus re...  \\\n",
       "99  ['dna and egg', 'sperm and dna', 'sperm and eg...   \n",
       "\n",
       "                      answer ScienceQuestion_llm_label  \n",
       "13  male reproductive system                  NO_LABEL  \n",
       "99             sperm and egg                  NO_LABEL  "
      ]
     },
     "execution_count": 63,
     "metadata": {},
     "output_type": "execute_result"
    }
   ],
   "source": [
    "failed_rows = df[df[\"ScienceQuestion_llm_labeled_successfully\"] == \"no\"][[\"question\", \"options\", \"answer\", \"ScienceQuestion_llm_label\"]]\n",
    "print(len(failed_rows))\n",
    "failed_rows"
   ]
  },
  {
   "cell_type": "code",
   "execution_count": 64,
   "metadata": {},
   "outputs": [
    {
     "name": "stdout",
     "output_type": "stream",
     "text": [
      "9\n"
     ]
    }
   ],
   "source": [
    "wrong_rows = df[df[\"answer\"] != df[\"ScienceQuestion_llm_label\"]][[\"question\", \"options\", \"answer\", \"ScienceQuestion_llm_label\"]]\n",
    "print(len(wrong_rows))\n",
    "wrong_rows.to_csv(\"wrong_rows.csv\")"
   ]
  },
  {
   "cell_type": "code",
   "execution_count": 65,
   "metadata": {},
   "outputs": [],
   "source": [
    "conll_config = {\n",
    "    \"task_name\": \"PersonLocationOrgMiscNER\",\n",
    "    \"task_type\": \"named_entity_recognition\",\n",
    "    \"dataset\": {\n",
    "        \"label_column\": \"CategorizedLabels\",\n",
    "        \"text_column\": \"example\",\n",
    "        \"delimiter\": \",\",\n",
    "    },\n",
    "    \"model\": {\"provider\": \"google\", \"name\": \"text-bison@001\"},\n",
    "    \"prompt\": {\n",
    "        \"task_guidelines\": \"You are an expert at extracting Person, Organization, Location, and Miscellaneous entities from text. Your job is to extract named entities mentioned in text, and classify them into one of the following categories.\\nCategories:\\n{labels}\\n \",\n",
    "        \"labels\": [\"Location\", \"Organization\", \"Person\", \"Miscellaneous\"],\n",
    "        \"example_template\": \"Example: {example}\\nOutput: {CategorizedLabels}\",\n",
    "        \"few_shot_examples\": \"../data/conll2003_seed.csv\",\n",
    "        \"few_shot_selection\": \"semantic_similarity\",\n",
    "        \"few_shot_num\": 5,\n",
    "    },\n",
    "}"
   ]
  },
  {
   "cell_type": "code",
   "execution_count": 66,
   "metadata": {},
   "outputs": [
    {
     "name": "stdout",
     "output_type": "stream",
     "text": [
      "PaLM model name: text-bison@001\n"
     ]
    },
    {
     "data": {
      "application/vnd.jupyter.widget-view+json": {
       "model_id": "73879ef2fb0947179303df848568cb3f",
       "version_major": 2,
       "version_minor": 0
      },
      "text/plain": [
       "Output()"
      ]
     },
     "metadata": {},
     "output_type": "display_data"
    },
    {
     "data": {
      "text/html": [
       "<pre style=\"white-space:pre;overflow-x:auto;line-height:normal;font-family:Menlo,'DejaVu Sans Mono',consolas,'Courier New',monospace\"></pre>\n"
      ],
      "text/plain": []
     },
     "metadata": {},
     "output_type": "display_data"
    },
    {
     "data": {
      "text/html": [
       "<pre style=\"white-space:pre;overflow-x:auto;line-height:normal;font-family:Menlo,'DejaVu Sans Mono',consolas,'Courier New',monospace\">\n",
       "</pre>\n"
      ],
      "text/plain": [
       "\n"
      ]
     },
     "metadata": {},
     "output_type": "display_data"
    },
    {
     "data": {
      "text/html": [
       "<pre style=\"white-space:pre;overflow-x:auto;line-height:normal;font-family:Menlo,'DejaVu Sans Mono',consolas,'Courier New',monospace\">┌──────────────────────────┬────────┐\n",
       "│<span style=\"color: #008000; text-decoration-color: #008000; font-weight: bold\"> Total Estimated Cost     </span>│<span style=\"color: #800080; text-decoration-color: #800080; font-weight: bold\"> $0.167 </span>│\n",
       "│<span style=\"color: #008000; text-decoration-color: #008000; font-weight: bold\"> Number of Examples       </span>│<span style=\"color: #800080; text-decoration-color: #800080; font-weight: bold\"> 128    </span>│\n",
       "│<span style=\"color: #008000; text-decoration-color: #008000; font-weight: bold\"> Average cost per example </span>│<span style=\"color: #800080; text-decoration-color: #800080; font-weight: bold\"> 0.0013 </span>│\n",
       "└──────────────────────────┴────────┘\n",
       "</pre>\n"
      ],
      "text/plain": [
       "┌──────────────────────────┬────────┐\n",
       "│\u001b[1;32m \u001b[0m\u001b[1;32mTotal Estimated Cost    \u001b[0m\u001b[1;32m \u001b[0m│\u001b[1;35m \u001b[0m\u001b[1;35m$0.167\u001b[0m\u001b[1;35m \u001b[0m│\n",
       "│\u001b[1;32m \u001b[0m\u001b[1;32mNumber of Examples      \u001b[0m\u001b[1;32m \u001b[0m│\u001b[1;35m \u001b[0m\u001b[1;35m128   \u001b[0m\u001b[1;35m \u001b[0m│\n",
       "│\u001b[1;32m \u001b[0m\u001b[1;32mAverage cost per example\u001b[0m\u001b[1;32m \u001b[0m│\u001b[1;35m \u001b[0m\u001b[1;35m0.0013\u001b[0m\u001b[1;35m \u001b[0m│\n",
       "└──────────────────────────┴────────┘\n"
      ]
     },
     "metadata": {},
     "output_type": "display_data"
    },
    {
     "data": {
      "text/html": [
       "<pre style=\"white-space:pre;overflow-x:auto;line-height:normal;font-family:Menlo,'DejaVu Sans Mono',consolas,'Courier New',monospace\"><span style=\"color: #00ff00; text-decoration-color: #00ff00\">───────────────────────────────────────────────── </span>Prompt Example<span style=\"color: #00ff00; text-decoration-color: #00ff00\"> ──────────────────────────────────────────────────</span>\n",
       "</pre>\n"
      ],
      "text/plain": [
       "\u001b[92m───────────────────────────────────────────────── \u001b[0mPrompt Example\u001b[92m ──────────────────────────────────────────────────\u001b[0m\n"
      ]
     },
     "metadata": {},
     "output_type": "display_data"
    },
    {
     "name": "stdout",
     "output_type": "stream",
     "text": [
      "You are an expert at extracting Person, Organization, Location, and Miscellaneous entities from text. Your job is to extract named entities mentioned in text, and classify them into one of the following categories.\n",
      "Categories:\n",
      "Location\n",
      "Organization\n",
      "Person\n",
      "Miscellaneous\n",
      " \n",
      "\n",
      "You will return the answer in CSV format, with two columns seperated by the % character. First column is the extracted entity and second column is the category. Rows in the CSV are separated by new line character.\n",
      "\n",
      "Some examples with their output answers are provided below:\n",
      "\n",
      "Example: MUNICH , Germany 1996-12-06\n",
      "Output: MUNICH%Location\n",
      "Germany%Location\n",
      "\n",
      "Example: PARIS 1996-12-06\n",
      "Output: PARIS%Location\n",
      "\n",
      "Example: PARIS 1996-12-06\n",
      "Output: PARIS%Location\n",
      "\n",
      "Example: COPENHAGEN 1996-12-06\n",
      "Output: COPENHAGEN%Location\n",
      "\n",
      "Example: MANTUA , Italy 1996-12-06\n",
      "Output: Italy%Location\n",
      "\n",
      "Now I want you to label the following example:\n",
      "Example: SOCCER - JAPAN GET LUCKY WIN , CHINA IN SURPRISE DEFEAT .\n",
      "Output: \n"
     ]
    },
    {
     "data": {
      "text/html": [
       "<pre style=\"white-space:pre;overflow-x:auto;line-height:normal;font-family:Menlo,'DejaVu Sans Mono',consolas,'Courier New',monospace\"><span style=\"color: #00ff00; text-decoration-color: #00ff00\">───────────────────────────────────────────────────────────────────────────────────────────────────────────────────</span>\n",
       "</pre>\n"
      ],
      "text/plain": [
       "\u001b[92m───────────────────────────────────────────────────────────────────────────────────────────────────────────────────\u001b[0m\n"
      ]
     },
     "metadata": {},
     "output_type": "display_data"
    }
   ],
   "source": [
    "l = LabelingAgent(config=conll_config, cache=False)\n",
    "l.plan(\"../data/conll2003_test.csv\", max_items=MAX_ITEMS)"
   ]
  },
  {
   "cell_type": "code",
   "execution_count": 67,
   "metadata": {},
   "outputs": [
    {
     "data": {
      "application/vnd.jupyter.widget-view+json": {
       "model_id": "6ff0d4408abf4f6cbf06715c98eaa0bf",
       "version_major": 2,
       "version_minor": 0
      },
      "text/plain": [
       "Output()"
      ]
     },
     "metadata": {},
     "output_type": "display_data"
    },
    {
     "data": {
      "text/html": [
       "<pre style=\"white-space:pre;overflow-x:auto;line-height:normal;font-family:Menlo,'DejaVu Sans Mono',consolas,'Courier New',monospace\">Error generating from LLM: 429 Quota exceeded for \n",
       "aiplatform.googleapis.com/online_prediction_requests_per_base_model with base model: text-bison. Please submit a \n",
       "quota increase request., retrying...\n",
       "</pre>\n"
      ],
      "text/plain": [
       "Error generating from LLM: 429 Quota exceeded for \n",
       "aiplatform.googleapis.com/online_prediction_requests_per_base_model with base model: text-bison. Please submit a \n",
       "quota increase request., retrying...\n"
      ]
     },
     "metadata": {},
     "output_type": "display_data"
    },
    {
     "data": {
      "text/html": [
       "<pre style=\"white-space:pre;overflow-x:auto;line-height:normal;font-family:Menlo,'DejaVu Sans Mono',consolas,'Courier New',monospace\">Error generating from LLM: 429 Quota exceeded for \n",
       "aiplatform.googleapis.com/online_prediction_requests_per_base_model with base model: text-bison. Please submit a \n",
       "quota increase request., retrying...\n",
       "</pre>\n"
      ],
      "text/plain": [
       "Error generating from LLM: 429 Quota exceeded for \n",
       "aiplatform.googleapis.com/online_prediction_requests_per_base_model with base model: text-bison. Please submit a \n",
       "quota increase request., retrying...\n"
      ]
     },
     "metadata": {},
     "output_type": "display_data"
    },
    {
     "data": {
      "text/html": [
       "<pre style=\"white-space:pre;overflow-x:auto;line-height:normal;font-family:Menlo,'DejaVu Sans Mono',consolas,'Courier New',monospace\"></pre>\n"
      ],
      "text/plain": []
     },
     "metadata": {},
     "output_type": "display_data"
    },
    {
     "data": {
      "text/html": [
       "<pre style=\"white-space:pre;overflow-x:auto;line-height:normal;font-family:Menlo,'DejaVu Sans Mono',consolas,'Courier New',monospace\">┏━━━━━━━━━━━━━━━━━━━━┳━━━━━━━━━┳━━━━━━━━━━━┳━━━━━━━━━━━━━━━━━━━━┳━━━━━━━━━━━━━━━━━┳━━━━━━━━━━━━━┓\n",
       "┃<span style=\"font-weight: bold\"> f1                 </span>┃<span style=\"font-weight: bold\"> support </span>┃<span style=\"font-weight: bold\"> threshold </span>┃<span style=\"font-weight: bold\"> accuracy           </span>┃<span style=\"font-weight: bold\"> completion_rate </span>┃<span style=\"font-weight: bold\"> Actual Cost </span>┃\n",
       "┡━━━━━━━━━━━━━━━━━━━━╇━━━━━━━━━╇━━━━━━━━━━━╇━━━━━━━━━━━━━━━━━━━━╇━━━━━━━━━━━━━━━━━╇━━━━━━━━━━━━━┩\n",
       "│<span style=\"color: #008080; text-decoration-color: #008080; font-weight: bold\"> 0.6886446886446888 </span>│<span style=\"color: #008080; text-decoration-color: #008080; font-weight: bold\"> 128     </span>│<span style=\"color: #008080; text-decoration-color: #008080; font-weight: bold\"> -inf      </span>│<span style=\"color: #008080; text-decoration-color: #008080; font-weight: bold\"> 0.6568265440285409 </span>│<span style=\"color: #008080; text-decoration-color: #008080; font-weight: bold\"> 1.0             </span>│<span style=\"color: #008080; text-decoration-color: #008080; font-weight: bold\"> 0.164089    </span>│\n",
       "└────────────────────┴─────────┴───────────┴────────────────────┴─────────────────┴─────────────┘\n",
       "</pre>\n"
      ],
      "text/plain": [
       "┏━━━━━━━━━━━━━━━━━━━━┳━━━━━━━━━┳━━━━━━━━━━━┳━━━━━━━━━━━━━━━━━━━━┳━━━━━━━━━━━━━━━━━┳━━━━━━━━━━━━━┓\n",
       "┃\u001b[1m \u001b[0m\u001b[1mf1                \u001b[0m\u001b[1m \u001b[0m┃\u001b[1m \u001b[0m\u001b[1msupport\u001b[0m\u001b[1m \u001b[0m┃\u001b[1m \u001b[0m\u001b[1mthreshold\u001b[0m\u001b[1m \u001b[0m┃\u001b[1m \u001b[0m\u001b[1maccuracy          \u001b[0m\u001b[1m \u001b[0m┃\u001b[1m \u001b[0m\u001b[1mcompletion_rate\u001b[0m\u001b[1m \u001b[0m┃\u001b[1m \u001b[0m\u001b[1mActual Cost\u001b[0m\u001b[1m \u001b[0m┃\n",
       "┡━━━━━━━━━━━━━━━━━━━━╇━━━━━━━━━╇━━━━━━━━━━━╇━━━━━━━━━━━━━━━━━━━━╇━━━━━━━━━━━━━━━━━╇━━━━━━━━━━━━━┩\n",
       "│\u001b[1;36m \u001b[0m\u001b[1;36m0.6886446886446888\u001b[0m\u001b[1;36m \u001b[0m│\u001b[1;36m \u001b[0m\u001b[1;36m128    \u001b[0m\u001b[1;36m \u001b[0m│\u001b[1;36m \u001b[0m\u001b[1;36m-inf     \u001b[0m\u001b[1;36m \u001b[0m│\u001b[1;36m \u001b[0m\u001b[1;36m0.6568265440285409\u001b[0m\u001b[1;36m \u001b[0m│\u001b[1;36m \u001b[0m\u001b[1;36m1.0            \u001b[0m\u001b[1;36m \u001b[0m│\u001b[1;36m \u001b[0m\u001b[1;36m0.164089   \u001b[0m\u001b[1;36m \u001b[0m│\n",
       "└────────────────────┴─────────┴───────────┴────────────────────┴─────────────────┴─────────────┘\n"
      ]
     },
     "metadata": {},
     "output_type": "display_data"
    },
    {
     "data": {
      "text/html": [
       "<pre style=\"white-space:pre;overflow-x:auto;line-height:normal;font-family:Menlo,'DejaVu Sans Mono',consolas,'Courier New',monospace\">Total number of failures: <span style=\"color: #008080; text-decoration-color: #008080; font-weight: bold\">0</span>\n",
       "</pre>\n"
      ],
      "text/plain": [
       "Total number of failures: \u001b[1;36m0\u001b[0m\n"
      ]
     },
     "metadata": {},
     "output_type": "display_data"
    }
   ],
   "source": [
    "labels, df, metric_list = l.run(\"../data/conll2003_test.csv\", max_items=MAX_ITEMS)"
   ]
  }
 ],
 "metadata": {
  "kernelspec": {
   "display_name": "refuel",
   "language": "python",
   "name": "python3"
  },
  "language_info": {
   "codemirror_mode": {
    "name": "ipython",
    "version": 3
   },
   "file_extension": ".py",
   "mimetype": "text/x-python",
   "name": "python",
   "nbconvert_exporter": "python",
   "pygments_lexer": "ipython3",
   "version": "3.8.16"
  },
  "orig_nbformat": 4
 },
 "nbformat": 4,
 "nbformat_minor": 2
}
