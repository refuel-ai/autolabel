{
 "cells": [
  {
   "cell_type": "code",
   "execution_count": 1,
   "metadata": {},
   "outputs": [],
   "source": [
    "!pip install ../../ -qqq"
   ]
  },
  {
   "cell_type": "code",
   "execution_count": 2,
   "metadata": {},
   "outputs": [],
   "source": [
    "from autolabel import LabelingAgent\n",
    "from autolabel.dataset import AutolabelDataset\n",
    "from autolabel.configs import AutolabelConfig\n",
    "\n",
    "import json\n",
    "import pandas as pd"
   ]
  },
  {
   "cell_type": "code",
   "execution_count": 3,
   "metadata": {},
   "outputs": [],
   "source": [
    "# df = pd.read_csv(\"train.csv\")\n",
    "# df = df[[\"text\", \"subject_matter\", \"decision_direction\", \"respondent_type\"]]\n",
    "# df.to_csv(\"train.csv\", index=False)"
   ]
  },
  {
   "cell_type": "code",
   "execution_count": 4,
   "metadata": {},
   "outputs": [],
   "source": [
    "# df = pd.read_csv(\"train.csv\")\n",
    "# non_text_columns = df.columns.tolist()\n",
    "# non_text_columns.remove(\"text\")\n",
    "# if \"output_dict\" in non_text_columns:\n",
    "#     non_text_columns.remove(\"output_dict\")\n",
    "# df[\"output_dict\"] = df[non_text_columns].apply(lambda x: json.dumps(x.to_dict()), axis=1)\n",
    "# df.head()"
   ]
  },
  {
   "cell_type": "code",
   "execution_count": 5,
   "metadata": {},
   "outputs": [],
   "source": [
    "# df.to_csv(\"train.csv\", index=False)"
   ]
  },
  {
   "cell_type": "code",
   "execution_count": 6,
   "metadata": {},
   "outputs": [],
   "source": [
    "# df = pd.read_csv('train.csv')\n",
    "# df = df.sort_values(by='text', key=lambda x: x.str.len())\n",
    "# df = df.to_csv('train.csv', index=False)"
   ]
  },
  {
   "cell_type": "code",
   "execution_count": 7,
   "metadata": {},
   "outputs": [],
   "source": [
    "with open(\"config_supreme_court.json\") as json_file:\n",
    "    config = json.load(json_file)"
   ]
  },
  {
   "cell_type": "code",
   "execution_count": 8,
   "metadata": {},
   "outputs": [
    {
     "data": {
      "text/plain": [
       "{'task_name': 'SupremeCourtAttributeExtraction',\n",
       " 'task_type': 'attribute_extraction',\n",
       " 'dataset': {'label_column': 'output_dict',\n",
       "  'text_column': 'text',\n",
       "  'delimiter': ','},\n",
       " 'model': {'provider': 'openai', 'name': 'gpt-3.5-turbo'},\n",
       " 'prompt': {'task_guidelines': 'You are an expert at reading supreme court opinions. Given a supreme court decision, extract the {num_output_attributes} required attributes. The attributes you need to extract are listed below:\\n\\n{output_attributes}',\n",
       "  'output_guidelines': 'You will return the answer as a json in the following format:\\n{{\\n\\t\"decision_direction\": \"whether the decision was liberal or conservative, i.e one label from the following options: {decision_direction_options}\",\\n\\t\"subject_matter\": \"the subject matter of the decision, i.e one label from the following options: {subject_matter_options}\",\\n\\t\"respondent_type\": \"the type of respondent i.e one label from the following options: {respondent_type_options}\"\\n}}',\n",
       "  'output_attributes': [{'name': 'decision_direction',\n",
       "    'type': 'multi_class',\n",
       "    'options': ['liberal', 'conservative']},\n",
       "   {'name': 'subject_matter',\n",
       "    'type': 'multi_class',\n",
       "    'options': ['Criminal Procedure',\n",
       "     'Civil Rights',\n",
       "     'First Amendment',\n",
       "     'Due Process',\n",
       "     'Privacy',\n",
       "     'Attorneys',\n",
       "     'Unions',\n",
       "     'Economic Activity',\n",
       "     'Judicial Power',\n",
       "     'Federalism',\n",
       "     'Federal Taxation']},\n",
       "   {'name': 'respondent_type',\n",
       "    'type': 'multi_class',\n",
       "    'options': ['other',\n",
       "     'person',\n",
       "     'organization',\n",
       "     'public entity',\n",
       "     'facility']}],\n",
       "  'few_shot_examples': 'seed.csv',\n",
       "  'few_shot_selection': 'fixed',\n",
       "  'few_shot_num': 5,\n",
       "  'example_template': 'Text: {text}\\nOutput: {output_dict}'}}"
      ]
     },
     "execution_count": 8,
     "metadata": {},
     "output_type": "execute_result"
    }
   ],
   "source": [
    "config"
   ]
  },
  {
   "cell_type": "code",
   "execution_count": 9,
   "metadata": {},
   "outputs": [
    {
     "data": {
      "application/vnd.jupyter.widget-view+json": {
       "model_id": "88f2c2f5392d480d9e3784153b1ee93e",
       "version_major": 2,
       "version_minor": 0
      },
      "text/plain": [
       "Output()"
      ]
     },
     "metadata": {},
     "output_type": "display_data"
    },
    {
     "data": {
      "text/html": [
       "<pre style=\"white-space:pre;overflow-x:auto;line-height:normal;font-family:Menlo,'DejaVu Sans Mono',consolas,'Courier New',monospace\"></pre>\n"
      ],
      "text/plain": []
     },
     "metadata": {},
     "output_type": "display_data"
    },
    {
     "data": {
      "text/html": [
       "<pre style=\"white-space:pre;overflow-x:auto;line-height:normal;font-family:Menlo,'DejaVu Sans Mono',consolas,'Courier New',monospace\">\n",
       "</pre>\n"
      ],
      "text/plain": [
       "\n"
      ]
     },
     "metadata": {},
     "output_type": "display_data"
    },
    {
     "data": {
      "text/html": [
       "<pre style=\"white-space:pre;overflow-x:auto;line-height:normal;font-family:Menlo,'DejaVu Sans Mono',consolas,'Courier New',monospace\">┌──────────────────────────┬──────────┐\n",
       "│<span style=\"color: #800080; text-decoration-color: #800080; font-weight: bold\"> Total Estimated Cost     </span>│<span style=\"color: #008000; text-decoration-color: #008000; font-weight: bold\"> $14.1375 </span>│\n",
       "│<span style=\"color: #800080; text-decoration-color: #800080; font-weight: bold\"> Number of Examples       </span>│<span style=\"color: #008000; text-decoration-color: #008000; font-weight: bold\"> 4073     </span>│\n",
       "│<span style=\"color: #800080; text-decoration-color: #800080; font-weight: bold\"> Average cost per example </span>│<span style=\"color: #008000; text-decoration-color: #008000; font-weight: bold\"> $0.0035  </span>│\n",
       "└──────────────────────────┴──────────┘\n",
       "</pre>\n"
      ],
      "text/plain": [
       "┌──────────────────────────┬──────────┐\n",
       "│\u001b[1;35m \u001b[0m\u001b[1;35mTotal Estimated Cost    \u001b[0m\u001b[1;35m \u001b[0m│\u001b[1;32m \u001b[0m\u001b[1;32m$14.1375\u001b[0m\u001b[1;32m \u001b[0m│\n",
       "│\u001b[1;35m \u001b[0m\u001b[1;35mNumber of Examples      \u001b[0m\u001b[1;35m \u001b[0m│\u001b[1;32m \u001b[0m\u001b[1;32m4073    \u001b[0m\u001b[1;32m \u001b[0m│\n",
       "│\u001b[1;35m \u001b[0m\u001b[1;35mAverage cost per example\u001b[0m\u001b[1;35m \u001b[0m│\u001b[1;32m \u001b[0m\u001b[1;32m$0.0035 \u001b[0m\u001b[1;32m \u001b[0m│\n",
       "└──────────────────────────┴──────────┘\n"
      ]
     },
     "metadata": {},
     "output_type": "display_data"
    },
    {
     "data": {
      "text/html": [
       "<pre style=\"white-space:pre;overflow-x:auto;line-height:normal;font-family:Menlo,'DejaVu Sans Mono',consolas,'Courier New',monospace\"><span style=\"color: #00ff00; text-decoration-color: #00ff00\">───────────────────────────────────────────────── </span>Prompt Example<span style=\"color: #00ff00; text-decoration-color: #00ff00\"> ──────────────────────────────────────────────────</span>\n",
       "</pre>\n"
      ],
      "text/plain": [
       "\u001b[92m───────────────────────────────────────────────── \u001b[0mPrompt Example\u001b[92m ──────────────────────────────────────────────────\u001b[0m\n"
      ]
     },
     "metadata": {},
     "output_type": "display_data"
    },
    {
     "name": "stdout",
     "output_type": "stream",
     "text": [
      "You are an expert at reading supreme court opinions. Given a supreme court decision, extract the 3 required attributes. The attributes you need to extract are listed below:\n",
      "\n",
      "Attribute Name: decision_direction\n",
      "Type: multi_class\n",
      "Options:\n",
      "liberal\n",
      "conservative\n",
      "\n",
      "Attribute Name: subject_matter\n",
      "Type: multi_class\n",
      "Options:\n",
      "Criminal Procedure\n",
      "Civil Rights\n",
      "First Amendment\n",
      "Due Process\n",
      "Privacy\n",
      "Attorneys\n",
      "Unions\n",
      "Economic Activity\n",
      "Judicial Power\n",
      "Federalism\n",
      "Federal Taxation\n",
      "\n",
      "Attribute Name: respondent_type\n",
      "Type: multi_class\n",
      "Options:\n",
      "other\n",
      "person\n",
      "organization\n",
      "public entity\n",
      "facility\n",
      "\n",
      "\n",
      "You will return the answer as a json in the following format:\n",
      "{\n",
      "\t\"decision_direction\": \"whether the decision was liberal or conservative, i.e one label from the following options: ['liberal', 'conservative']\",\n",
      "\t\"subject_matter\": \"the subject matter of the decision, i.e one label from the following options: ['Criminal Procedure', 'Civil Rights', 'First Amendment', 'Due Process', 'Privacy', 'Attorneys', 'Unions', 'Economic Activity', 'Judicial Power', 'Federalism', 'Federal Taxation']\",\n",
      "\t\"respondent_type\": \"the type of respondent i.e one label from the following options: ['other', 'person', 'organization', 'public entity', 'facility']\"\n",
      "}\n",
      "\n",
      "Some examples with their output answers are provided below:\n",
      "\n",
      "Text: United States Supreme Court GEORGE W. BUSH v. PALM BEACH COUNTY CANVASSING BOARD, et al.(2000) No. 00-836 Argued: Decided: December 4, 2000\n",
      "Output: {\"decision_direction\": \"conservative\", \"subject_matter\": \"Judicial Power\", \"respondent_type\": \"public entity\"}\n",
      "\n",
      "Text: United States Supreme Court No. 97-501(1998) No. 97-501 Argued: Decided: May 4, 1998 </s>         Per Curiam. </s> The writ of certiorari is dismissed as improvidently granted.\n",
      "Output: {\"decision_direction\": \"conservative\", \"subject_matter\": \"Judicial Power\", \"respondent_type\": \"public entity\"}\n",
      "\n",
      "Text: United States Supreme Court CAVANAUGH v. ROLLER(1993) No. 92-1510 Argued: Decided: November 30, 1993 </s>  PER CURIAM. </s> The writ of certiorari is dismissed as improvidently granted. Page I\n",
      "Output: {\"decision_direction\": \"conservative\", \"subject_matter\": \"Judicial Power\", \"respondent_type\": \"person\"}\n",
      "\n",
      "Text: United States Supreme Court TENNESSEE v. MIDDLEBROOKS(1993) No. 92-989 Argued: Decided: December 13, 1993 </s> PER CURIAM. </s> The writ of certiorari is dismissed as improvidently granted. </s> Justice BLACKMUN dissents. Page I\n",
      "Output: {\"decision_direction\": \"conservative\", \"subject_matter\": \"Judicial Power\", \"respondent_type\": \"person\"}\n",
      "\n",
      "Text: United States Supreme Court REYMUNDO TOLEDO-FLORES, PETITIONER v. UNITED STATES(2006) No. 05-7664 Argued: Decided: December 5, 2006 </s> Per Curiam. </s> The writ of certiorari is dismissed as improvidently granted. It is so ordered.\n",
      "Output: {\"decision_direction\": \"conservative\", \"subject_matter\": \"Judicial Power\", \"respondent_type\": \"public entity\"}\n",
      "\n",
      "Now I want you to label the following example:\n",
      "Text: United States Supreme Court TOM GRIMMETT, trustee for the bankruptcy estate of VINCENT(1997) No. 95-1723 Argued: Decided: January 14, 1997 </s> Per Curiam. </s>  The writ of certiorari in this case is dismissed as improvidently granted.\n",
      "Output: \n"
     ]
    },
    {
     "data": {
      "text/html": [
       "<pre style=\"white-space:pre;overflow-x:auto;line-height:normal;font-family:Menlo,'DejaVu Sans Mono',consolas,'Courier New',monospace\"><span style=\"color: #00ff00; text-decoration-color: #00ff00\">───────────────────────────────────────────────────────────────────────────────────────────────────────────────────</span>\n",
       "</pre>\n"
      ],
      "text/plain": [
       "\u001b[92m───────────────────────────────────────────────────────────────────────────────────────────────────────────────────\u001b[0m\n"
      ]
     },
     "metadata": {},
     "output_type": "display_data"
    }
   ],
   "source": [
    "agent = LabelingAgent(config)\n",
    "\n",
    "df = pd.read_csv(\"train.csv\")\n",
    "config = AutolabelConfig(config)\n",
    "dataset = AutolabelDataset(df, config)\n",
    "agent.plan(dataset)"
   ]
  },
  {
   "cell_type": "code",
   "execution_count": 10,
   "metadata": {},
   "outputs": [
    {
     "data": {
      "application/vnd.jupyter.widget-view+json": {
       "model_id": "509b757aca114a59a9649344e81aa4b5",
       "version_major": 2,
       "version_minor": 0
      },
      "text/plain": [
       "Output()"
      ]
     },
     "metadata": {},
     "output_type": "display_data"
    },
    {
     "data": {
      "text/html": [
       "<pre style=\"white-space:pre;overflow-x:auto;line-height:normal;font-family:Menlo,'DejaVu Sans Mono',consolas,'Courier New',monospace\"></pre>\n"
      ],
      "text/plain": []
     },
     "metadata": {},
     "output_type": "display_data"
    },
    {
     "name": "stdout",
     "output_type": "stream",
     "text": [
      "METRICSVSIFJ:OSDIJF:OISJF:OISEJF\n",
      "Actual Cost: 0.0123\n"
     ]
    },
    {
     "data": {
      "text/html": [
       "<pre style=\"white-space:pre;overflow-x:auto;line-height:normal;font-family:Menlo,'DejaVu Sans Mono',consolas,'Courier New',monospace\">┏━━━━━━━━━━━━━━┳━━━━━━━━━━━━━━┳━━━━━━━━━━━━━━┳━━━━━━━━━┳━━━━━━━━━━━━━━┳━━━━━━━━━━━━━━┳━━━━━━━━━━━━━┳━━━━━━━━━━━━━━┓\n",
       "┃<span style=\"font-weight: bold\"> accuracy     </span>┃<span style=\"font-weight: bold\"> accuracy     </span>┃<span style=\"font-weight: bold\"> accuracy     </span>┃<span style=\"font-weight: bold\">         </span>┃<span style=\"font-weight: bold\">              </span>┃<span style=\"font-weight: bold\"> f1           </span>┃<span style=\"font-weight: bold\"> f1          </span>┃<span style=\"font-weight: bold\"> f1           </span>┃\n",
       "┃<span style=\"font-weight: bold\"> (decision_d… </span>┃<span style=\"font-weight: bold\"> (subject_ma… </span>┃<span style=\"font-weight: bold\"> (respondent… </span>┃<span style=\"font-weight: bold\"> support </span>┃<span style=\"font-weight: bold\"> completion_… </span>┃<span style=\"font-weight: bold\"> (subject_ma… </span>┃<span style=\"font-weight: bold\"> (decision_… </span>┃<span style=\"font-weight: bold\"> (respondent… </span>┃\n",
       "┡━━━━━━━━━━━━━━╇━━━━━━━━━━━━━━╇━━━━━━━━━━━━━━╇━━━━━━━━━╇━━━━━━━━━━━━━━╇━━━━━━━━━━━━━━╇━━━━━━━━━━━━━╇━━━━━━━━━━━━━━┩\n",
       "│<span style=\"color: #008080; text-decoration-color: #008080; font-weight: bold\"> 0.7          </span>│<span style=\"color: #008080; text-decoration-color: #008080; font-weight: bold\"> 0.9          </span>│<span style=\"color: #008080; text-decoration-color: #008080; font-weight: bold\"> 0.7          </span>│<span style=\"color: #008080; text-decoration-color: #008080; font-weight: bold\"> 10      </span>│<span style=\"color: #008080; text-decoration-color: #008080; font-weight: bold\"> 1.0          </span>│<span style=\"color: #008080; text-decoration-color: #008080; font-weight: bold\"> 0.9          </span>│<span style=\"color: #008080; text-decoration-color: #008080; font-weight: bold\"> 0.7         </span>│<span style=\"color: #008080; text-decoration-color: #008080; font-weight: bold\"> 0.7          </span>│\n",
       "└──────────────┴──────────────┴──────────────┴─────────┴──────────────┴──────────────┴─────────────┴──────────────┘\n",
       "</pre>\n"
      ],
      "text/plain": [
       "┏━━━━━━━━━━━━━━┳━━━━━━━━━━━━━━┳━━━━━━━━━━━━━━┳━━━━━━━━━┳━━━━━━━━━━━━━━┳━━━━━━━━━━━━━━┳━━━━━━━━━━━━━┳━━━━━━━━━━━━━━┓\n",
       "┃\u001b[1m \u001b[0m\u001b[1maccuracy    \u001b[0m\u001b[1m \u001b[0m┃\u001b[1m \u001b[0m\u001b[1maccuracy    \u001b[0m\u001b[1m \u001b[0m┃\u001b[1m \u001b[0m\u001b[1maccuracy    \u001b[0m\u001b[1m \u001b[0m┃\u001b[1m         \u001b[0m┃\u001b[1m              \u001b[0m┃\u001b[1m \u001b[0m\u001b[1mf1          \u001b[0m\u001b[1m \u001b[0m┃\u001b[1m \u001b[0m\u001b[1mf1         \u001b[0m\u001b[1m \u001b[0m┃\u001b[1m \u001b[0m\u001b[1mf1          \u001b[0m\u001b[1m \u001b[0m┃\n",
       "┃\u001b[1m \u001b[0m\u001b[1m(decision_d…\u001b[0m\u001b[1m \u001b[0m┃\u001b[1m \u001b[0m\u001b[1m(subject_ma…\u001b[0m\u001b[1m \u001b[0m┃\u001b[1m \u001b[0m\u001b[1m(respondent…\u001b[0m\u001b[1m \u001b[0m┃\u001b[1m \u001b[0m\u001b[1msupport\u001b[0m\u001b[1m \u001b[0m┃\u001b[1m \u001b[0m\u001b[1mcompletion_…\u001b[0m\u001b[1m \u001b[0m┃\u001b[1m \u001b[0m\u001b[1m(subject_ma…\u001b[0m\u001b[1m \u001b[0m┃\u001b[1m \u001b[0m\u001b[1m(decision_…\u001b[0m\u001b[1m \u001b[0m┃\u001b[1m \u001b[0m\u001b[1m(respondent…\u001b[0m\u001b[1m \u001b[0m┃\n",
       "┡━━━━━━━━━━━━━━╇━━━━━━━━━━━━━━╇━━━━━━━━━━━━━━╇━━━━━━━━━╇━━━━━━━━━━━━━━╇━━━━━━━━━━━━━━╇━━━━━━━━━━━━━╇━━━━━━━━━━━━━━┩\n",
       "│\u001b[1;36m \u001b[0m\u001b[1;36m0.7         \u001b[0m\u001b[1;36m \u001b[0m│\u001b[1;36m \u001b[0m\u001b[1;36m0.9         \u001b[0m\u001b[1;36m \u001b[0m│\u001b[1;36m \u001b[0m\u001b[1;36m0.7         \u001b[0m\u001b[1;36m \u001b[0m│\u001b[1;36m \u001b[0m\u001b[1;36m10     \u001b[0m\u001b[1;36m \u001b[0m│\u001b[1;36m \u001b[0m\u001b[1;36m1.0         \u001b[0m\u001b[1;36m \u001b[0m│\u001b[1;36m \u001b[0m\u001b[1;36m0.9         \u001b[0m\u001b[1;36m \u001b[0m│\u001b[1;36m \u001b[0m\u001b[1;36m0.7        \u001b[0m\u001b[1;36m \u001b[0m│\u001b[1;36m \u001b[0m\u001b[1;36m0.7         \u001b[0m\u001b[1;36m \u001b[0m│\n",
       "└──────────────┴──────────────┴──────────────┴─────────┴──────────────┴──────────────┴─────────────┴──────────────┘\n"
      ]
     },
     "metadata": {},
     "output_type": "display_data"
    }
   ],
   "source": [
    "df = agent.run(dataset, max_items=10)"
   ]
  },
  {
   "cell_type": "code",
   "execution_count": 11,
   "metadata": {},
   "outputs": [
    {
     "name": "stdout",
     "output_type": "stream",
     "text": [
      "{'decision_direction': 'conservative', 'subject_matter': 'Judicial Power', 'respondent_type': 'person'}\n",
      "\n",
      "{'decision_direction': 'conservative', 'subject_matter': 'Judicial Power', 'respondent_type': 'organization'}\n",
      "\n",
      "{'decision_direction': 'conservative', 'subject_matter': 'Judicial Power', 'respondent_type': 'organization'}\n",
      "\n",
      "{'decision_direction': 'conservative', 'subject_matter': 'Judicial Power', 'respondent_type': 'person'}\n",
      "\n",
      "{'decision_direction': 'conservative', 'subject_matter': 'Judicial Power', 'respondent_type': 'person'}\n",
      "\n",
      "{'decision_direction': 'conservative', 'subject_matter': 'Judicial Power', 'respondent_type': 'person'}\n",
      "\n",
      "{'decision_direction': 'conservative', 'subject_matter': 'Judicial Power', 'respondent_type': 'organization'}\n",
      "\n",
      "{'decision_direction': 'conservative', 'subject_matter': 'Judicial Power', 'respondent_type': 'organization'}\n",
      "\n",
      "{'decision_direction': 'conservative', 'subject_matter': 'Civil Rights', 'respondent_type': 'person'}\n",
      "\n",
      "{'decision_direction': 'conservative', 'subject_matter': 'Judicial Power', 'respondent_type': 'organization'}\n",
      "\n"
     ]
    }
   ],
   "source": [
    "for row in df.df['SupremeCourtAttributeExtraction_label']:\n",
    "    print(row)\n",
    "    print()"
   ]
  },
  {
   "cell_type": "code",
   "execution_count": 12,
   "metadata": {},
   "outputs": [
    {
     "data": {
      "text/plain": [
       "                                                text     subject_matter   \n",
       "0  United States Supreme Court TOM GRIMMETT, trus...     Judicial Power  \\\n",
       "1  United States Supreme Court DISTRICT OF COLUMB...     Judicial Power   \n",
       "2  United States Supreme Court WANDA ADAMS, et al...     Judicial Power   \n",
       "3  United States Supreme Court FORD MOTOR COMPANY...     Judicial Power   \n",
       "4  United States Supreme Court PHILIP MORRIS USA ...     Judicial Power   \n",
       "5  United States Supreme Court KIMBERLIN v. QUINL...     Judicial Power   \n",
       "6  United States Supreme Court UNITED STATES v. C...     Judicial Power   \n",
       "7  United States Supreme Court UNITED STATES v. C...     Judicial Power   \n",
       "8  United States Supreme Court BOARD OF EDUCATION...       Civil Rights   \n",
       "9  United States Supreme Court LOTUS DEVELOPMENT ...  Economic Activity   \n",
       "\n",
       "  decision_direction respondent_type   \n",
       "0       conservative          person  \\\n",
       "1       conservative    organization   \n",
       "2       conservative    organization   \n",
       "3       conservative           other   \n",
       "4       conservative          person   \n",
       "5            liberal          person   \n",
       "6       conservative    organization   \n",
       "7       conservative    organization   \n",
       "8            liberal           other   \n",
       "9            liberal           other   \n",
       "\n",
       "                                         output_dict   \n",
       "0  {\"subject_matter\": \"Judicial Power\", \"decision...  \\\n",
       "1  {\"subject_matter\": \"Judicial Power\", \"decision...   \n",
       "2  {\"subject_matter\": \"Judicial Power\", \"decision...   \n",
       "3  {\"subject_matter\": \"Judicial Power\", \"decision...   \n",
       "4  {\"subject_matter\": \"Judicial Power\", \"decision...   \n",
       "5  {\"subject_matter\": \"Judicial Power\", \"decision...   \n",
       "6  {\"subject_matter\": \"Judicial Power\", \"decision...   \n",
       "7  {\"subject_matter\": \"Judicial Power\", \"decision...   \n",
       "8  {\"subject_matter\": \"Civil Rights\", \"decision_d...   \n",
       "9  {\"subject_matter\": \"Economic Activity\", \"decis...   \n",
       "\n",
       "               SupremeCourtAttributeExtraction_label   \n",
       "0  {'decision_direction': 'conservative', 'subjec...  \\\n",
       "1  {'decision_direction': 'conservative', 'subjec...   \n",
       "2  {'decision_direction': 'conservative', 'subjec...   \n",
       "3  {'decision_direction': 'conservative', 'subjec...   \n",
       "4  {'decision_direction': 'conservative', 'subjec...   \n",
       "5  {'decision_direction': 'conservative', 'subjec...   \n",
       "6  {'decision_direction': 'conservative', 'subjec...   \n",
       "7  {'decision_direction': 'conservative', 'subjec...   \n",
       "8  {'decision_direction': 'conservative', 'subjec...   \n",
       "9  {'decision_direction': 'conservative', 'subjec...   \n",
       "\n",
       "  SupremeCourtAttributeExtraction_error   \n",
       "0                                  None  \\\n",
       "1                                  None   \n",
       "2                                  None   \n",
       "3                                  None   \n",
       "4                                  None   \n",
       "5                                  None   \n",
       "6                                  None   \n",
       "7                                  None   \n",
       "8                                  None   \n",
       "9                                  None   \n",
       "\n",
       "   SupremeCourtAttributeExtraction_successfully_labeled   \n",
       "0                                               True     \\\n",
       "1                                               True      \n",
       "2                                               True      \n",
       "3                                               True      \n",
       "4                                               True      \n",
       "5                                               True      \n",
       "6                                               True      \n",
       "7                                               True      \n",
       "8                                               True      \n",
       "9                                               True      \n",
       "\n",
       "          SupremeCourtAttributeExtraction_annotation  \n",
       "0  {\"successfully_labeled\": true, \"label\": {\"deci...  \n",
       "1  {\"successfully_labeled\": true, \"label\": {\"deci...  \n",
       "2  {\"successfully_labeled\": true, \"label\": {\"deci...  \n",
       "3  {\"successfully_labeled\": true, \"label\": {\"deci...  \n",
       "4  {\"successfully_labeled\": true, \"label\": {\"deci...  \n",
       "5  {\"successfully_labeled\": true, \"label\": {\"deci...  \n",
       "6  {\"successfully_labeled\": true, \"label\": {\"deci...  \n",
       "7  {\"successfully_labeled\": true, \"label\": {\"deci...  \n",
       "8  {\"successfully_labeled\": true, \"label\": {\"deci...  \n",
       "9  {\"successfully_labeled\": true, \"label\": {\"deci...  "
      ]
     },
     "execution_count": 12,
     "metadata": {},
     "output_type": "execute_result"
    }
   ],
   "source": [
    "df"
   ]
  },
  {
   "attachments": {},
   "cell_type": "markdown",
   "metadata": {},
   "source": []
  },
  {
   "cell_type": "code",
   "execution_count": 13,
   "metadata": {},
   "outputs": [],
   "source": [
    "from pathlib import Path\n",
    "\n",
    "db_file = Path(\".autolabel.db\")\n",
    "if db_file.exists():\n",
    "    db_file.unlink()"
   ]
  }
 ],
 "metadata": {
  "kernelspec": {
   "display_name": "refuel",
   "language": "python",
   "name": "python3"
  },
  "language_info": {
   "codemirror_mode": {
    "name": "ipython",
    "version": 3
   },
   "file_extension": ".py",
   "mimetype": "text/x-python",
   "name": "python",
   "nbconvert_exporter": "python",
   "pygments_lexer": "ipython3",
   "version": "3.8.16"
  },
  "orig_nbformat": 4
 },
 "nbformat": 4,
 "nbformat_minor": 2
}
